{
  "nbformat": 4,
  "nbformat_minor": 0,
  "metadata": {
    "colab": {
      "name": "phri_eval.ipynb",
      "provenance": [],
      "collapsed_sections": [],
      "toc_visible": true
    },
    "kernelspec": {
      "name": "python3",
      "display_name": "Python 3"
    }
  },
  "cells": [
    {
      "cell_type": "markdown",
      "metadata": {
        "id": "IH43rRpryN2y",
        "colab_type": "text"
      },
      "source": [
        "This notebook provides an analysis of the relationship between:\n",
        "- the amount of allocated cubes and the robot type (A or B) \n",
        "- the amount of allocated cubes and NVC feature (NVC-robot or non-NVC robot)\n",
        "\n",
        "Steps:\n",
        "- descriptive statistics (to understand data better, to find patterns)\n",
        "- correlation analysis.\n",
        "- dependent t-test, because you would not expect that allocation of cubes to one robot is not related to the allocation of cubes to the other robot. Here we assume normality and conduct normality test\n",
        "- If the data is skewed we conduct Wilcoxon paired test, because the data is dependent\n"
      ]
    },
    {
      "cell_type": "code",
      "metadata": {
        "id": "XNqbuIt8Bfxz",
        "colab_type": "code",
        "colab": {}
      },
      "source": [
        "# Global constants\n",
        "invalid_participant = [1,4,18]  # Participants whose data is invalid data\n",
        "head_switch_participant = 27 # The last participant where the left robot had red face expressions\n",
        "BEFORE_SWITCH = True\n",
        "DATA_PATH='/content/PHRIExpData/'"
      ],
      "execution_count": 0,
      "outputs": []
    },
    {
      "cell_type": "markdown",
      "metadata": {
        "id": "_hy5YaKnZ1Jg",
        "colab_type": "text"
      },
      "source": [
        "**Imports/Google Auth/G-Drive mounting**\n",
        "---"
      ]
    },
    {
      "cell_type": "code",
      "metadata": {
        "id": "dH4_CeIOov0b",
        "colab_type": "code",
        "colab": {}
      },
      "source": [
        "import pandas as pd\n",
        "import scipy.stats as stat\n",
        "import numpy as np\n",
        "import matplotlib.pyplot as plt\n",
        "import seaborn as sns\n",
        "import xml.etree.ElementTree as et\n",
        "import os\n",
        "import re\n",
        "from pathlib import Path\n",
        "from scipy import stats\n",
        "import pylab as pl\n",
        "\n",
        "\n",
        "plt.style.use(['fast'])\n",
        "plt.style.use(['seaborn-poster'])"
      ],
      "execution_count": 0,
      "outputs": []
    },
    {
      "cell_type": "code",
      "metadata": {
        "id": "dGGhjc5doydg",
        "colab_type": "code",
        "colab": {}
      },
      "source": [
        "# Upload files from shared GDrive folder to Google Colab Workbook\n",
        "\n",
        "!pip install -U -q PyDrive\n",
        "\n",
        "from pydrive.auth import GoogleAuth\n",
        "from pydrive.drive import GoogleDrive\n",
        "from google.colab import auth\n",
        "from oauth2client.client import GoogleCredentials\n",
        "from sklearn.preprocessing import StandardScaler\n",
        "\n",
        "# 1. Authenticate and create the PyDrive client.\n",
        "auth.authenticate_user()\n",
        "gauth = GoogleAuth()\n",
        "gauth.credentials = GoogleCredentials.get_application_default()\n",
        "drive = GoogleDrive(gauth)\n",
        "\n",
        "# Reading Questionnaire file\n",
        "json_import = drive.CreateFile({'id':'1KHB1moJSzc-iCWqWI0uh3BPAwVIG7QW9'})\n",
        "json_import.GetContentFile('results-survey128918.csv')\n",
        "df = pd.read_csv('results-survey128918.csv')"
      ],
      "execution_count": 0,
      "outputs": []
    },
    {
      "cell_type": "code",
      "metadata": {
        "id": "Gts2JghEVFU5",
        "colab_type": "code",
        "outputId": "e8d5563b-9176-4fd9-a6b5-aa786d6b39c4",
        "colab": {
          "base_uri": "https://localhost:8080/",
          "height": 901
        }
      },
      "source": [
        "LOCAL_FOLDER_NAME = 'PHRIExpData'\n",
        "if LOCAL_FOLDER_NAME not in os.listdir():\n",
        "  os.mkdir(LOCAL_FOLDER_NAME)\n",
        "if len(os.listdir(LOCAL_FOLDER_NAME)) <=0:\n",
        "  file_list = drive.ListFile({'q': \"'1LS1ueCxeR7UWjfbsJzm3yHmFpkoyvuRY' in parents\"}).GetList()\n",
        "\n",
        "  for f in file_list:\n",
        "    if f['title'].startswith('participant_'):\n",
        "      print('title: %s, id: %s' % (f['title'], f['id']))\n",
        "      fname = os.path.join(LOCAL_FOLDER_NAME, f['title'])\n",
        "      f_ = drive.CreateFile({'id': f['id']})\n",
        "      f_.GetContentFile(fname)"
      ],
      "execution_count": 0,
      "outputs": [
        {
          "output_type": "stream",
          "text": [
            "title: participant_7.csv, id: 1CMeV4UqFoYE0MgDUFySaks96LN3H2kPc\n",
            "title: participant_42.csv, id: 1ndknNvd22XvtozQ4AVLoeLEkgNUurxdy\n",
            "title: participant_15.csv, id: 1UlUvEtvaDsJX3g8tooq6I-QWPTnYwJp2\n",
            "title: participant_23.csv, id: 14wleNhqYvBMi_iTANsxVjmdz1KCGG8cU\n",
            "title: participant_49.csv, id: 1H_8JMtyzxFQysWaGfUR3WhrTXqGB4JSi\n",
            "title: participant_44.csv, id: 1kRU1AQTOBDrgtzW_TxWtoD-a8e6ma30o\n",
            "title: participant_22.csv, id: 1zk5z9FqK8fTMykqP_1GD97RmlwYVMpMM\n",
            "title: participant_10.csv, id: 1qaGuuyTnfBFDN4kahHcXvlu837djRoBc\n",
            "title: participant_25.csv, id: 1O4O6q4ho_pScTbOoDgp7kcZEjnY5ksII\n",
            "title: participant_2.csv, id: 1jMj4KvVbFBtwm0HyLcYXe5rrYjGN8HnV\n",
            "title: participant_52.csv, id: 1bkjd2v78KWvLGjlSPb_xS-cGq4CoMZ7U\n",
            "title: participant_53.csv, id: 1KmpnI0dhbYFTgjABLdi-pzwq79zZr_pQ\n",
            "title: participant_37.csv, id: 1sqdk7mkaoweNFs8PByrSLuJlBE2JpA_P\n",
            "title: participant_51.csv, id: 1zFSmImT2iAH9jN6QTxSMTc1ryMZMV3-6\n",
            "title: participant_29.csv, id: 1e1AkYlRm93LI0N2LuIYtmRJwwynoRe7a\n",
            "title: participant_43.csv, id: 1ccWAacLafUiXaB8RyZo6Z3QBRA5eTeGd\n",
            "title: participant_12.csv, id: 1uwLhtPO_suBlwd5WJmGZb6VtnLOcIPge\n",
            "title: participant_21.csv, id: 1PuW-FgEg3xSs0AVdVoWtkcK-fqmuKNEL\n",
            "title: participant_20.csv, id: 1rXRzH23VLN7C9rvkLSVOp-mfQ2VN9yXm\n",
            "title: participant_6.csv, id: 1UNtK-xGP8pvfLfhMweULLE6ECTTG3bu7\n",
            "title: participant_50.csv, id: 1hLpxMtF81dKp4pux0DmgQcrYvL6LOJ-s\n",
            "title: participant_34.csv, id: 1bmin58PCHA1a08IvllL1iS7tEzCawD-C\n",
            "title: participant_32.csv, id: 1IgiTa9o0EDIczMr57gyjDfeFBa2Mt2fN\n",
            "title: participant_33.csv, id: 1vGExDPyBcasWpnapTQuI40J-rFH8vTJt\n",
            "title: participant_27.csv, id: 1VJJ_Mw6DuMpCb_LUQPLerqs7kmswASQ-\n",
            "title: participant_26.csv, id: 1ErgHxJsZDrdBljdv3STwdCciQcoS_KL8\n",
            "title: participant_19.csv, id: 1FkKfFMtXwALgK-evBqPJRg_7VeqzTs-5\n",
            "title: participant_41.csv, id: 1c2iAl8Q835hAMoijrXlNcOV_JJflJhgO\n",
            "title: participant_5.csv, id: 1lKo_mj3Ln-A7dWgu6_21kll27nbvSD9x\n",
            "title: participant_1.csv, id: 1D8coOwHoB_lz0OB9RtzgUjYWnoNKbjTp\n",
            "title: participant_40.csv, id: 1D441N4Kw6gzl_TVLdHsrI_kO8WQXJMp4\n",
            "title: participant_28.csv, id: 1a0tYHuA8lHhpOFHyYRG_eEKzQjSyopFh\n",
            "title: participant_9.csv, id: 1hL9128Si7QcnMw_xvmtJndIV7YpjGlve\n",
            "title: participant_47.csv, id: 1bI9-VueLcTJlYIzZ0vKWEf76fcmE681b\n",
            "title: participant_38.csv, id: 1EQ1KekZJvyAXvDdpd1Yp_XodUmAAh4XN\n",
            "title: participant_16.csv, id: 1wFH9SKCAiSm5TBcL0_cbIlDZavy6ffFr\n",
            "title: participant_24.csv, id: 15HGN5XaP3agKzm2L_l1pZHJj-pSt6iwI\n",
            "title: participant_30.csv, id: 1zR_0hHf9hk2GQPdBBV-5ncumNIRbPYlK\n",
            "title: participant_31.csv, id: 1bWZd2nGRSCpj-4R7Jnb3f33LVVa0ugoS\n",
            "title: participant_45.csv, id: 1uR8de0UiF74NfS4H4p8eKjr9-UNrXStd\n",
            "title: participant_17.csv, id: 1Zkc64_QJgMUvJgs47IW9ZYHuCASGKo-2\n",
            "title: participant_3.csv, id: 1ihhXdfzmvbwixTzLslXCSWLlADe1cXOw\n",
            "title: participant_36.csv, id: 1gnGbv56SAXga1LP_wbFN1kXno1eliG2M\n",
            "title: participant_48.csv, id: 1SIS3G8eaVREGIb20MUKYNJ78jqTFkStv\n",
            "title: participant_35.csv, id: 1omh2ifOAIQjU_FG9pbMdzwy8P6lOkD32\n",
            "title: participant_4.csv, id: 1XokVW_5OBmBj6ah-Jf6_LoNQ_6TXRvAL\n",
            "title: participant_8.csv, id: 1Ho3tvgExvAf1M9oVBlnAJCgo5qY0Eqvb\n",
            "title: participant_13.csv, id: 1eq0M2nxf31pqzUU9QtAx6Py_dADf1LE3\n",
            "title: participant_11.csv, id: 1Jv1P_3__59d31n05LDmEo1Eb39RyzS9Z\n",
            "title: participant_46.csv, id: 14s1J8UO4aquyVQ3ghDp-n3mXEFNOPRpS\n",
            "title: participant_14.csv, id: 1zK1r6I1Hrragl30UfHePnBEpgKJA4E2o\n",
            "title: participant_18.csv, id: 1Nu3_yl17orY095a8C8zKPjyxSl94tTtR\n"
          ],
          "name": "stdout"
        }
      ]
    },
    {
      "cell_type": "markdown",
      "metadata": {
        "id": "sxFRZYSqaNKw",
        "colab_type": "text"
      },
      "source": [
        "**Reading Cube Allocation CSV**\n",
        "---"
      ]
    },
    {
      "cell_type": "code",
      "metadata": {
        "id": "HjDc8nqdo0vK",
        "colab_type": "code",
        "outputId": "55684378-7669-4e62-f226-f7a15cc86cb7",
        "colab": {
          "base_uri": "https://localhost:8080/",
          "height": 204
        }
      },
      "source": [
        "# Iterate over files and find csv files that have allocation of cubes for each participant\n",
        "dfs = []\n",
        "\n",
        "for path in Path(DATA_PATH).rglob('participant_*.csv'): \n",
        "      participant_id = int(re.search(r'\\d+', path.name).group())\n",
        "      if participant_id in invalid_participant:\n",
        "          continue\n",
        "      temp = pd.read_csv(path)\n",
        "      temp[\"scene\"] = temp[\"scene\"].str[-1:]\n",
        "      temp[\"scene\"] = temp[\"scene\"].astype('int')\n",
        "      temp[\"participant\"] = participant_id\n",
        "      temp[\"NVC_A\"] = False\n",
        "      temp[\"NVC_B\"] = False\n",
        "      \n",
        "      if int(participant_id) % 2 == 0:\n",
        "          nvc = \"A\"\n",
        "          temp[\"NVC_A\"] = True\n",
        "      else:\n",
        "          nvc = \"B\"\n",
        "          temp[\"NVC_B\"] = True\n",
        "\n",
        "      temp[\"NVC\"] = nvc\n",
        "      temp[\"allocation_metric\"] = (temp[\"robot_b\"] - temp[\"robot_a\"]) / (temp[\"robot_a\"] + temp[\"robot_b\"])\n",
        "\n",
        "      \n",
        "      if participant_id < head_switch_participant: \n",
        "        temp[\"head_group\"] = 0 \n",
        "      else:\n",
        "        temp[\"head_group\"] = 1\n",
        "        \n",
        "      dfs.append(temp)\n",
        "\n",
        "\n",
        "raw_data = pd.concat(dfs, axis=0, ignore_index=True)\n",
        "raw_data[\"allocation_metric\"].fillna(0.0, inplace=True) # handle 0/0\n",
        "raw_data.head()"
      ],
      "execution_count": 0,
      "outputs": [
        {
          "output_type": "execute_result",
          "data": {
            "text/html": [
              "<div>\n",
              "<style scoped>\n",
              "    .dataframe tbody tr th:only-of-type {\n",
              "        vertical-align: middle;\n",
              "    }\n",
              "\n",
              "    .dataframe tbody tr th {\n",
              "        vertical-align: top;\n",
              "    }\n",
              "\n",
              "    .dataframe thead th {\n",
              "        text-align: right;\n",
              "    }\n",
              "</style>\n",
              "<table border=\"1\" class=\"dataframe\">\n",
              "  <thead>\n",
              "    <tr style=\"text-align: right;\">\n",
              "      <th></th>\n",
              "      <th>scene</th>\n",
              "      <th>robot_a</th>\n",
              "      <th>robot_b</th>\n",
              "      <th>participant</th>\n",
              "      <th>NVC_A</th>\n",
              "      <th>NVC_B</th>\n",
              "      <th>NVC</th>\n",
              "      <th>allocation_metric</th>\n",
              "      <th>head_group</th>\n",
              "    </tr>\n",
              "  </thead>\n",
              "  <tbody>\n",
              "    <tr>\n",
              "      <th>0</th>\n",
              "      <td>0</td>\n",
              "      <td>1</td>\n",
              "      <td>1</td>\n",
              "      <td>53</td>\n",
              "      <td>False</td>\n",
              "      <td>True</td>\n",
              "      <td>B</td>\n",
              "      <td>0.000000</td>\n",
              "      <td>1</td>\n",
              "    </tr>\n",
              "    <tr>\n",
              "      <th>1</th>\n",
              "      <td>1</td>\n",
              "      <td>0</td>\n",
              "      <td>1</td>\n",
              "      <td>53</td>\n",
              "      <td>False</td>\n",
              "      <td>True</td>\n",
              "      <td>B</td>\n",
              "      <td>1.000000</td>\n",
              "      <td>1</td>\n",
              "    </tr>\n",
              "    <tr>\n",
              "      <th>2</th>\n",
              "      <td>2</td>\n",
              "      <td>1</td>\n",
              "      <td>1</td>\n",
              "      <td>53</td>\n",
              "      <td>False</td>\n",
              "      <td>True</td>\n",
              "      <td>B</td>\n",
              "      <td>0.000000</td>\n",
              "      <td>1</td>\n",
              "    </tr>\n",
              "    <tr>\n",
              "      <th>3</th>\n",
              "      <td>3</td>\n",
              "      <td>0</td>\n",
              "      <td>7</td>\n",
              "      <td>53</td>\n",
              "      <td>False</td>\n",
              "      <td>True</td>\n",
              "      <td>B</td>\n",
              "      <td>1.000000</td>\n",
              "      <td>1</td>\n",
              "    </tr>\n",
              "    <tr>\n",
              "      <th>4</th>\n",
              "      <td>4</td>\n",
              "      <td>3</td>\n",
              "      <td>4</td>\n",
              "      <td>53</td>\n",
              "      <td>False</td>\n",
              "      <td>True</td>\n",
              "      <td>B</td>\n",
              "      <td>0.142857</td>\n",
              "      <td>1</td>\n",
              "    </tr>\n",
              "  </tbody>\n",
              "</table>\n",
              "</div>"
            ],
            "text/plain": [
              "   scene  robot_a  robot_b  ...  NVC  allocation_metric  head_group\n",
              "0      0        1        1  ...    B           0.000000           1\n",
              "1      1        0        1  ...    B           1.000000           1\n",
              "2      2        1        1  ...    B           0.000000           1\n",
              "3      3        0        7  ...    B           1.000000           1\n",
              "4      4        3        4  ...    B           0.142857           1\n",
              "\n",
              "[5 rows x 9 columns]"
            ]
          },
          "metadata": {
            "tags": []
          },
          "execution_count": 5
        }
      ]
    },
    {
      "cell_type": "code",
      "metadata": {
        "id": "sdGg_MeTo-tD",
        "colab_type": "code",
        "colab": {}
      },
      "source": [
        "\"\" # Find the total amount of cubes that participants allocated\n",
        "cubes_per_participant = raw_data.groupby(\"participant\").sum()\n",
        "cubes_per_participant = cubes_per_participant.drop(columns=['scene'])\n",
        "cubes_per_participant['total_cubes'] = cubes_per_participant['robot_a'] + cubes_per_participant['robot_b'] "
      ],
      "execution_count": 0,
      "outputs": []
    },
    {
      "cell_type": "markdown",
      "metadata": {
        "id": "MpxvQFFoGLX6",
        "colab_type": "text"
      },
      "source": [
        "## **Descriptive statistics: plots**\n",
        "\n",
        "\n"
      ]
    },
    {
      "cell_type": "code",
      "metadata": {
        "id": "sDL_-hHvpVJR",
        "colab_type": "code",
        "outputId": "cc259747-3155-48e6-8807-f325e96ac3d4",
        "colab": {
          "base_uri": "https://localhost:8080/",
          "height": 690
        }
      },
      "source": [
        "cubes_per_participant[['robot_a', 'robot_b']].plot(kind = 'bar', yticks=range(0, 30, 5), figsize=(25,10), title=\"The distribution of cubes for each participant\")"
      ],
      "execution_count": 0,
      "outputs": [
        {
          "output_type": "execute_result",
          "data": {
            "text/plain": [
              "<matplotlib.axes._subplots.AxesSubplot at 0x7f04f17e6048>"
            ]
          },
          "metadata": {
            "tags": []
          },
          "execution_count": 7
        },
        {
          "output_type": "display_data",
          "data": {
            "image/png": "[encoded data removed]",
            "text/plain": [
              "<Figure size 1800x720 with 1 Axes>"
            ]
          },
          "metadata": {
            "tags": []
          }
        }
      ]
    },
    {
      "cell_type": "markdown",
      "metadata": {
        "id": "rzgmJA9UBhEx",
        "colab_type": "text"
      },
      "source": [
        "Box plots for robot A and robot B:"
      ]
    },
    {
      "cell_type": "code",
      "metadata": {
        "id": "lZ5jUdVvGFis",
        "colab_type": "code",
        "outputId": "7ce19878-a879-4b7b-f606-84ec5fb19088",
        "colab": {
          "base_uri": "https://localhost:8080/",
          "height": 573
        }
      },
      "source": [
        "axes = raw_data.boxplot(column=['robot_a', 'robot_b'], figsize=(15,8), fontsize=18, grid=False)\n",
        "fig = axes.get_figure()\n",
        "fig.suptitle('Box plots for robot A and robot B')"
      ],
      "execution_count": 0,
      "outputs": [
        {
          "output_type": "execute_result",
          "data": {
            "text/plain": [
              "Text(0.5, 0.98, 'Box plots for robot A and robot B')"
            ]
          },
          "metadata": {
            "tags": []
          },
          "execution_count": 8
        },
        {
          "output_type": "display_data",
          "data": {
            "image/png": "[encoded data removed]",
            "text/plain": [
              "<Figure size 1080x576 with 1 Axes>"
            ]
          },
          "metadata": {
            "tags": []
          }
        }
      ]
    },
    {
      "cell_type": "markdown",
      "metadata": {
        "id": "UxRkrHe3BmoV",
        "colab_type": "text"
      },
      "source": [
        "Boxplots for robot A and robot B grouped by NVC, e.g. the left plot means that \n",
        "A is an NVC-robot:"
      ]
    },
    {
      "cell_type": "code",
      "metadata": {
        "id": "fIoH5UPo50_F",
        "colab_type": "code",
        "outputId": "09a1a648-2e9a-4243-c2c1-833ab0f9c919",
        "colab": {
          "base_uri": "https://localhost:8080/",
          "height": 584
        }
      },
      "source": [
        "axes = raw_data[['robot_a', 'robot_b', 'NVC']].boxplot(by='NVC', figsize=(20,8), fontsize=18, grid=False)"
      ],
      "execution_count": 0,
      "outputs": [
        {
          "output_type": "display_data",
          "data": {
            "image/png": "[encoded data removed]",
            "text/plain": [
              "<Figure size 1440x576 with 2 Axes>"
            ]
          },
          "metadata": {
            "tags": []
          }
        }
      ]
    },
    {
      "cell_type": "markdown",
      "metadata": {
        "id": "Gdo3YmbIB1VF",
        "colab_type": "text"
      },
      "source": [
        "Boxplots for robot A and robot B grouped by scene:\n"
      ]
    },
    {
      "cell_type": "code",
      "metadata": {
        "id": "gHsl2-2ACESx",
        "colab_type": "code",
        "outputId": "7a6e99dd-3089-4acc-8eac-b43d7967ddbf",
        "colab": {
          "base_uri": "https://localhost:8080/",
          "height": 584
        }
      },
      "source": [
        "axes = raw_data[['robot_a', 'robot_b', 'scene']].boxplot(by='scene', figsize=(20,8), fontsize=18, grid=False)"
      ],
      "execution_count": 0,
      "outputs": [
        {
          "output_type": "display_data",
          "data": {
            "image/png": "[encoded data removed]",
            "text/plain": [
              "<Figure size 1440x576 with 2 Axes>"
            ]
          },
          "metadata": {
            "tags": []
          }
        }
      ]
    },
    {
      "cell_type": "markdown",
      "metadata": {
        "id": "FbEtTBQ0AWU6",
        "colab_type": "text"
      },
      "source": [
        "Histogram of allocated cubes for robot A and robot B:"
      ]
    },
    {
      "cell_type": "code",
      "metadata": {
        "id": "0OrMznsR7TCO",
        "colab_type": "code",
        "outputId": "9422178a-5bdd-45e0-a09f-b4c9440b9d71",
        "colab": {
          "base_uri": "https://localhost:8080/",
          "height": 560
        }
      },
      "source": [
        "hist = raw_data[['robot_a', 'robot_b']].hist(bins=7)"
      ],
      "execution_count": 0,
      "outputs": [
        {
          "output_type": "display_data",
          "data": {
            "image/png": "[encoded data removed]",
            "text/plain": [
              "<Figure size 921.6x633.6 with 2 Axes>"
            ]
          },
          "metadata": {
            "tags": []
          }
        }
      ]
    },
    {
      "cell_type": "markdown",
      "metadata": {
        "id": "KwZaJ0m89sPO",
        "colab_type": "text"
      },
      "source": [
        "Histogram of allocated cubes for robot A and robot B grouped by NVC. The plot on the left means taht A is NVC-robot. Plot on the right means that B is non-NVC robot:"
      ]
    },
    {
      "cell_type": "code",
      "metadata": {
        "id": "Fs1rcQAn79UR",
        "colab_type": "code",
        "outputId": "9f2acff7-582d-45c4-f449-47107751864e",
        "colab": {
          "base_uri": "https://localhost:8080/",
          "height": 552
        }
      },
      "source": [
        "hist = raw_data[['robot_a', 'robot_b', 'NVC']].hist(bins=7, by='NVC')"
      ],
      "execution_count": 0,
      "outputs": [
        {
          "output_type": "display_data",
          "data": {
            "image/png": "[encoded data removed]",
            "text/plain": [
              "<Figure size 921.6x633.6 with 2 Axes>"
            ]
          },
          "metadata": {
            "tags": []
          }
        }
      ]
    },
    {
      "cell_type": "markdown",
      "metadata": {
        "id": "_VcINsk69qI0",
        "colab_type": "text"
      },
      "source": [
        "Density plot considering the number of allocated cubes for robot A and robot B:"
      ]
    },
    {
      "cell_type": "code",
      "metadata": {
        "id": "ddwAsQZS-ZKf",
        "colab_type": "code",
        "outputId": "0a13e2e8-ffa7-4564-fdad-656a965b8055",
        "colab": {
          "base_uri": "https://localhost:8080/",
          "height": 556
        }
      },
      "source": [
        "raw_data[['robot_a', 'robot_b']].plot.kde()"
      ],
      "execution_count": 0,
      "outputs": [
        {
          "output_type": "execute_result",
          "data": {
            "text/plain": [
              "<matplotlib.axes._subplots.AxesSubplot at 0x7f04eddb9588>"
            ]
          },
          "metadata": {
            "tags": []
          },
          "execution_count": 13
        },
        {
          "output_type": "display_data",
          "data": {
            "image/png": "[encoded data removed]",
            "text/plain": [
              "<Figure size 921.6x633.6 with 1 Axes>"
            ]
          },
          "metadata": {
            "tags": []
          }
        }
      ]
    },
    {
      "cell_type": "markdown",
      "metadata": {
        "id": "rKRJ05ifTAnv",
        "colab_type": "text"
      },
      "source": [
        "The number of allocated cubes of selected participants for each scene (Robot A):"
      ]
    },
    {
      "cell_type": "code",
      "metadata": {
        "id": "Kh6IGECOKKfc",
        "colab_type": "code",
        "outputId": "5734b5cc-7c7d-410b-863b-4607680e0ec1",
        "colab": {
          "base_uri": "https://localhost:8080/",
          "height": 646
        }
      },
      "source": [
        "import random\n",
        "random_participants = random.sample(range(10, 30), 3)\n",
        "participants_data = raw_data[raw_data['participant'].isin(random_participants)]\n",
        "ax = sns.lineplot(x=\"scene\", y=\"robot_a\", hue=\"participant\", data=participants_data, legend=False)\n",
        "ax.set(xticks=[0, 1, 2, 3, 4])"
      ],
      "execution_count": 0,
      "outputs": [
        {
          "output_type": "execute_result",
          "data": {
            "text/plain": [
              "[[<matplotlib.axis.XTick at 0x7f04edd4d320>,\n",
              "  <matplotlib.axis.XTick at 0x7f04edd9b080>,\n",
              "  <matplotlib.axis.XTick at 0x7f04edcf4f60>,\n",
              "  <matplotlib.axis.XTick at 0x7f04edd05390>,\n",
              "  <matplotlib.axis.XTick at 0x7f04edd05d68>]]"
            ]
          },
          "metadata": {
            "tags": []
          },
          "execution_count": 14
        },
        {
          "output_type": "display_data",
          "data": {
            "image/png": "[encoded data removed]",
            "text/plain": [
              "<Figure size 921.6x633.6 with 1 Axes>"
            ]
          },
          "metadata": {
            "tags": []
          }
        }
      ]
    },
    {
      "cell_type": "markdown",
      "metadata": {
        "id": "YjHy0JE-UAgz",
        "colab_type": "text"
      },
      "source": [
        "The number of allocated cubes of selected participants for each scene (Robot B):"
      ]
    },
    {
      "cell_type": "code",
      "metadata": {
        "id": "swy5iYIfT130",
        "colab_type": "code",
        "outputId": "e6a0bd11-e563-437b-92a8-4d88a19c9653",
        "colab": {
          "base_uri": "https://localhost:8080/",
          "height": 646
        }
      },
      "source": [
        "import random\n",
        "random_participants = random.sample(range(10, 30), 3)\n",
        "participants_data = raw_data[raw_data['participant'].isin(random_participants)]\n",
        "ax = sns.lineplot(x=\"scene\", y=\"robot_b\", hue=\"participant\", data=participants_data, legend=False)\n",
        "ax.set(xticks=[0, 1, 2, 3, 4])"
      ],
      "execution_count": 0,
      "outputs": [
        {
          "output_type": "execute_result",
          "data": {
            "text/plain": [
              "[[<matplotlib.axis.XTick at 0x7f04edcbe3c8>,\n",
              "  <matplotlib.axis.XTick at 0x7f04edd8f8d0>,\n",
              "  <matplotlib.axis.XTick at 0x7f04edcddeb8>,\n",
              "  <matplotlib.axis.XTick at 0x7f04edc775c0>,\n",
              "  <matplotlib.axis.XTick at 0x7f04edc77a58>]]"
            ]
          },
          "metadata": {
            "tags": []
          },
          "execution_count": 15
        },
        {
          "output_type": "display_data",
          "data": {
            "image/png": "[encoded data removed]",
            "text/plain": [
              "<Figure size 921.6x633.6 with 1 Axes>"
            ]
          },
          "metadata": {
            "tags": []
          }
        }
      ]
    },
    {
      "cell_type": "markdown",
      "metadata": {
        "id": "HJwy0mOfOaQP",
        "colab_type": "text"
      },
      "source": [
        "### **Distribution of cubes allocation for each scene**\n",
        "---"
      ]
    },
    {
      "cell_type": "code",
      "metadata": {
        "id": "i5dc83g8NPW6",
        "colab_type": "code",
        "outputId": "a8684f51-dff9-45b4-bfac-721e52fcf569",
        "colab": {
          "base_uri": "https://localhost:8080/",
          "height": 643
        }
      },
      "source": [
        "df_scene_1 = raw_data[(raw_data[\"scene\"] == 1)]\n",
        "df_scene_2 = raw_data[(raw_data[\"scene\"] == 2)]\n",
        "df_scene_3 = raw_data[(raw_data[\"scene\"] == 3)]\n",
        "df_scene_4 = raw_data[(raw_data[\"scene\"] == 4)]\n",
        "# df_scene_1[[\"robot_a\",\"robot_b\"]].hist(bins=5,alpha=0.3)\n",
        "\n",
        "fig, ax = plt.subplots(nrows=4, ncols=2, figsize=(10,10))\n",
        "\n",
        "ax[0][0].set_ylabel(\"scene_1\")\n",
        "ax[1][0].set_ylabel(\"scene_2\")\n",
        "ax[2][0].set_ylabel(\"scene_3\")\n",
        "ax[3][0].set_ylabel(\"scene_4\")\n",
        "sns.distplot(df_scene_1[\"robot_a\"], bins=5, ax=ax[0][0])\n",
        "sns.distplot(df_scene_1[\"robot_b\"], bins=5, ax=ax[0][1])\n",
        "sns.distplot(df_scene_2[\"robot_a\"], bins=5, ax=ax[1][0])\n",
        "sns.distplot(df_scene_2[\"robot_b\"], bins=5, ax=ax[1][1])\n",
        "sns.distplot(df_scene_3[\"robot_a\"], bins=5, ax=ax[2][0])\n",
        "sns.distplot(df_scene_3[\"robot_b\"], bins=5, ax=ax[2][1])\n",
        "sns.distplot(df_scene_4[\"robot_a\"], bins=5, ax=ax[3][0])\n",
        "sns.distplot(df_scene_4[\"robot_b\"], bins=5, ax=ax[3][1])"
      ],
      "execution_count": 0,
      "outputs": [
        {
          "output_type": "execute_result",
          "data": {
            "text/plain": [
              "<matplotlib.axes._subplots.AxesSubplot at 0x7f04edb1d358>"
            ]
          },
          "metadata": {
            "tags": []
          },
          "execution_count": 16
        },
        {
          "output_type": "display_data",
          "data": {
            "image/png": "[encoded data removed]",
            "text/plain": [
              "<Figure size 720x720 with 8 Axes>"
            ]
          },
          "metadata": {
            "tags": []
          }
        }
      ]
    },
    {
      "cell_type": "code",
      "metadata": {
        "id": "0aRxhynFKlWW",
        "colab_type": "code",
        "colab": {}
      },
      "source": [
        ""
      ],
      "execution_count": 0,
      "outputs": []
    },
    {
      "cell_type": "markdown",
      "metadata": {
        "id": "4kgXl64ZRV0f",
        "colab_type": "text"
      },
      "source": [
        "### Cubes allocation distribution for each scene"
      ]
    },
    {
      "cell_type": "code",
      "metadata": {
        "id": "xdqqVsaXRKOf",
        "colab_type": "code",
        "outputId": "94f88589-6160-41a4-85d2-a2f4e8984fb1",
        "colab": {
          "base_uri": "https://localhost:8080/",
          "height": 472
        }
      },
      "source": [
        "scene = 1\n",
        "temp = raw_data[raw_data[\"scene\"] == scene]\n",
        "cubes_by_participant_scenes_1 = temp.groupby([\"participant\"]).sum()\n",
        "cubes_by_participant_scenes_1[[\"robot_a\",\"robot_b\"]].plot(kind = 'bar', yticks=range(0, 10, 2), figsize=(30,6), title=\"Cube allocation scene {}\".format(scene))"
      ],
      "execution_count": 0,
      "outputs": [
        {
          "output_type": "execute_result",
          "data": {
            "text/plain": [
              "<matplotlib.axes._subplots.AxesSubplot at 0x7f04ed98cc88>"
            ]
          },
          "metadata": {
            "tags": []
          },
          "execution_count": 17
        },
        {
          "output_type": "display_data",
          "data": {
            "image/png": "[encoded data removed]",
            "text/plain": [
              "<Figure size 2160x432 with 1 Axes>"
            ]
          },
          "metadata": {
            "tags": []
          }
        }
      ]
    },
    {
      "cell_type": "code",
      "metadata": {
        "id": "_BQT2NrbQ2Hl",
        "colab_type": "code",
        "outputId": "d88d4bcb-f11a-4e20-aaca-e49e49ad1404",
        "colab": {
          "base_uri": "https://localhost:8080/",
          "height": 472
        }
      },
      "source": [
        "scene = 2\n",
        "temp = raw_data[raw_data[\"scene\"] == scene]\n",
        "cubes_by_participant_scenes_1 = temp.groupby([\"participant\"]).sum()\n",
        "cubes_by_participant_scenes_1[[\"robot_a\",\"robot_b\"]].plot(kind = 'bar', yticks=range(0, 10, 2), figsize=(30,6), title=\"Cube allocation scene {}\".format(scene))"
      ],
      "execution_count": 0,
      "outputs": [
        {
          "output_type": "execute_result",
          "data": {
            "text/plain": [
              "<matplotlib.axes._subplots.AxesSubplot at 0x7f04edf4ea90>"
            ]
          },
          "metadata": {
            "tags": []
          },
          "execution_count": 18
        },
        {
          "output_type": "display_data",
          "data": {
            "image/png": "[encoded data removed]",
            "text/plain": [
              "<Figure size 2160x432 with 1 Axes>"
            ]
          },
          "metadata": {
            "tags": []
          }
        }
      ]
    },
    {
      "cell_type": "code",
      "metadata": {
        "id": "TMaXOklqRN6e",
        "colab_type": "code",
        "outputId": "97080dc9-2c66-47e5-9505-9d5969d8f1a2",
        "colab": {
          "base_uri": "https://localhost:8080/",
          "height": 472
        }
      },
      "source": [
        "scene = 3\n",
        "temp = raw_data[raw_data[\"scene\"] == scene]\n",
        "cubes_by_participant_scenes_1 = temp.groupby([\"participant\"]).sum()\n",
        "cubes_by_participant_scenes_1[[\"robot_a\",\"robot_b\"]].plot(kind = 'bar', yticks=range(0, 10, 2), figsize=(30,6), title=\"Cube allocation scene {}\".format(scene))"
      ],
      "execution_count": 0,
      "outputs": [
        {
          "output_type": "execute_result",
          "data": {
            "text/plain": [
              "<matplotlib.axes._subplots.AxesSubplot at 0x7f04ee1a3128>"
            ]
          },
          "metadata": {
            "tags": []
          },
          "execution_count": 19
        },
        {
          "output_type": "display_data",
          "data": {
            "image/png": "[encoded data removed]",
            "text/plain": [
              "<Figure size 2160x432 with 1 Axes>"
            ]
          },
          "metadata": {
            "tags": []
          }
        }
      ]
    },
    {
      "cell_type": "code",
      "metadata": {
        "id": "VRvVpbbcROF2",
        "colab_type": "code",
        "outputId": "2d7339b6-a7a5-486b-a2a9-907e723c2995",
        "colab": {
          "base_uri": "https://localhost:8080/",
          "height": 472
        }
      },
      "source": [
        "scene = 4\n",
        "temp = raw_data[raw_data[\"scene\"] == scene]\n",
        "cubes_by_participant_scenes_1 = temp.groupby([\"participant\"]).sum()\n",
        "cubes_by_participant_scenes_1[[\"robot_a\",\"robot_b\"]].plot(kind = 'bar', yticks=range(0, 10, 2), figsize=(30,6), title=\"Cube allocation scene {}\".format(scene))"
      ],
      "execution_count": 0,
      "outputs": [
        {
          "output_type": "execute_result",
          "data": {
            "text/plain": [
              "<matplotlib.axes._subplots.AxesSubplot at 0x7f04ebf447b8>"
            ]
          },
          "metadata": {
            "tags": []
          },
          "execution_count": 20
        },
        {
          "output_type": "display_data",
          "data": {
            "image/png": "[encoded data removed]",
            "text/plain": [
              "<Figure size 2160x432 with 1 Axes>"
            ]
          },
          "metadata": {
            "tags": []
          }
        }
      ]
    },
    {
      "cell_type": "markdown",
      "metadata": {
        "id": "HY0sbFiHR717",
        "colab_type": "text"
      },
      "source": [
        "# **Statistical Test H1: \"NVC impacts cubes allocation\"**\n",
        "---"
      ]
    },
    {
      "cell_type": "markdown",
      "metadata": {
        "id": "ctmiRMaVCPPe",
        "colab_type": "text"
      },
      "source": [
        "# Trend Checking for alternate cube allocation behavior"
      ]
    },
    {
      "cell_type": "code",
      "metadata": {
        "id": "dpgfaxtlCRz_",
        "colab_type": "code",
        "outputId": "93aee9d6-162e-4d87-c17b-35c71d881a36",
        "colab": {
          "base_uri": "https://localhost:8080/",
          "height": 1000
        }
      },
      "source": [
        "# Only from scene 1 to 4\n",
        "filtered_data = raw_data[raw_data[\"scene\"] > 0]\n",
        "\n",
        "fabricated_data = pd.melt(filtered_data, id_vars=['scene', 'participant'], value_vars=['robot_a', 'robot_b'],\n",
        "        var_name='Robot Name', value_name='Cubes count')\n",
        "sns.catplot(x='scene', y='Cubes count', hue='Robot Name', col='participant', kind='bar', data=fabricated_data, col_wrap=5, height=3, aspect=0.9, sharex=False)"
      ],
      "execution_count": 0,
      "outputs": [
        {
          "output_type": "execute_result",
          "data": {
            "text/plain": [
              "<seaborn.axisgrid.FacetGrid at 0x7f04ebc70048>"
            ]
          },
          "metadata": {
            "tags": []
          },
          "execution_count": 21
        },
        {
          "output_type": "display_data",
          "data": {
            "image/png": "[encoded data removed]",
            "text/plain": [
              "<Figure size 1090.72x2160 with 49 Axes>"
            ]
          },
          "metadata": {
            "tags": []
          }
        }
      ]
    },
    {
      "cell_type": "code",
      "metadata": {
        "id": "IkjV-nO_Cx6g",
        "colab_type": "code",
        "colab": {}
      },
      "source": [
        "participant_preferred_B = filtered_data.query('scene==2 and robot_b > robot_a')['participant']\n",
        "participant_preferred_A = filtered_data.query('scene==2 and robot_a > robot_b')['participant']\n",
        "participant_preferred_both = filtered_data.query('scene==2 and robot_a == robot_b and robot_a>0')['participant']\n",
        "participant_preferred_none = filtered_data.query('scene==2 and robot_a == robot_b and robot_a==0')['participant']\n",
        "\n",
        "def get_allocation_count_in_next_scene(scene_no, prev_scene_allocation):\n",
        "  preferred_A = filtered_data.query('scene==@scene_no and robot_a > robot_b and participant in @prev_scene_allocation')['participant']\n",
        "  preferred_B = filtered_data.query('scene==@scene_no and robot_b > robot_a and participant in @prev_scene_allocation')['participant']\n",
        "  preferred_Both = filtered_data.query('scene==@scene_no and robot_a == robot_b and robot_b>0 and participant in @prev_scene_allocation')['participant']\n",
        "  preferred_None = filtered_data.query('scene==@scene_no and robot_a == robot_b and robot_b==0 and participant in @prev_scene_allocation')['participant']\n",
        "  return [preferred_A.count(), preferred_B.count(), preferred_Both.count(), preferred_None.count()]"
      ],
      "execution_count": 0,
      "outputs": []
    },
    {
      "cell_type": "code",
      "metadata": {
        "id": "sp07cNWzCduz",
        "colab_type": "code",
        "outputId": "76967635-c6a1-4396-e449-dac5f350b6bd",
        "colab": {
          "base_uri": "https://localhost:8080/",
          "height": 618
        }
      },
      "source": [
        "def make_autopct(values):\n",
        "    def autopct(pct):\n",
        "        total = sum(values)\n",
        "        val = int(round(pct*total/100.0))\n",
        "        return '{p:.1f}% ({v:d})'.format(p=pct,v=val)\n",
        "    return autopct\n",
        "\n",
        "vals = np.array([get_allocation_count_in_next_scene(3, participant_preferred_A),\n",
        "                 get_allocation_count_in_next_scene(3, participant_preferred_B),\n",
        "                 get_allocation_count_in_next_scene(3, participant_preferred_both),\n",
        "                 get_allocation_count_in_next_scene(3, participant_preferred_none)\n",
        "                 ])\n",
        "labels = ['Robot A', 'Robot B', 'Equally', 'None']\n",
        "fig, ax = plt.subplots(2,2, figsize=(20,10))\n",
        "ax[0][0].pie(vals.sum(axis=1), radius=1, labels=labels, autopct=make_autopct(vals.sum(axis=1)))\n",
        "ax[0][0].set(aspect=\"equal\")\n",
        "ax[0][0].set_title(\"Scene 2 Total Allocation\\n(out of \"+str(vals.sum())+\")\")\n",
        "ax[0][1].pie(vals[0], radius=1, labels=labels, autopct=make_autopct(vals[0]))\n",
        "ax[0][1].set(aspect=\"equal\")\n",
        "ax[0][1].set_title(\"Scene 3 Allocation for people\\n who allocated to A in scene 2 (\"+str(vals[0].sum())+\")\")\n",
        "ax[1][0].pie(vals[1], radius=1, labels=labels, autopct=make_autopct(vals[1]))\n",
        "ax[1][0].set(aspect=\"equal\")\n",
        "ax[1][0].set_title(\"Scene 3 Allocation for people\\n who allocated to B in scene 2 (\"+str(vals[1].sum())+\")\")\n",
        "ax[1][1].pie(vals[2], radius=1, labels=labels, autopct=make_autopct(vals[2]))\n",
        "ax[1][1].set(aspect=\"equal\")\n",
        "ax[1][1].set_title(\"Scene 3 Allocation for people\\n who allocated Equally in scene 2 (\"+str(vals[2].sum())+\")\")\n",
        "plt.show()"
      ],
      "execution_count": 0,
      "outputs": [
        {
          "output_type": "display_data",
          "data": {
            "image/png": "[encoded data removed]",
            "text/plain": [
              "<Figure size 1440x720 with 4 Axes>"
            ]
          },
          "metadata": {
            "tags": []
          }
        }
      ]
    },
    {
      "cell_type": "markdown",
      "metadata": {
        "id": "nIu38H5oHdGt",
        "colab_type": "text"
      },
      "source": [
        "**From this section, following conclusions can be drawn**\n",
        "1. In scene 2, robot B is preferred(25/49) and out of those 25 people, 16 either switched to robot A or gave them equally in scene 3(5 gave them equally).\n",
        "2. In scene 2, out of people who preferred robot A(12/35), 8 either switched to robot B or gave them equally in scene 3(2 gave them equally)."
      ]
    },
    {
      "cell_type": "markdown",
      "metadata": {
        "id": "C5Txb6rOhw2Q",
        "colab_type": "text"
      },
      "source": [
        "## Sub hypothesis: Set of questions asked by participant does not influence cubes allocation"
      ]
    },
    {
      "cell_type": "markdown",
      "metadata": {
        "id": "kt_-FgNAhwmC",
        "colab_type": "text"
      },
      "source": [
        "## Sub hypothesis: Speech content does not influence cubes allocation"
      ]
    },
    {
      "cell_type": "markdown",
      "metadata": {
        "id": "9giX6jK0PVro",
        "colab_type": "text"
      },
      "source": [
        ""
      ]
    },
    {
      "cell_type": "markdown",
      "metadata": {
        "id": "WPQ-LZtNJA7l",
        "colab_type": "text"
      },
      "source": [
        "One Sample Wilcoxon Sign Test\n",
        "___"
      ]
    },
    {
      "cell_type": "markdown",
      "metadata": {
        "id": "YfT13VbCLy0X",
        "colab_type": "text"
      },
      "source": [
        "H0: There is no different between content A and B <br>\n",
        "H1: There is different"
      ]
    },
    {
      "cell_type": "code",
      "metadata": {
        "id": "Ps0-CFaCI9iB",
        "colab_type": "code",
        "outputId": "7304a88c-9710-4244-e356-f3f4faed56a8",
        "colab": {
          "base_uri": "https://localhost:8080/",
          "height": 68
        }
      },
      "source": [
        "print(f'Two-sided: {stats.wilcoxon(raw_data[\"allocation_metric\"])}')\n",
        "print(f'One-tailed Greater: {stats.wilcoxon(raw_data[\"allocation_metric\"], alternative=\"greater\")}')\n",
        "print(f'One-tailed Less: {stats.wilcoxon(raw_data[\"allocation_metric\"], alternative=\"less\")}')"
      ],
      "execution_count": 0,
      "outputs": [
        {
          "output_type": "stream",
          "text": [
            "Two-sided: WilcoxonResult(statistic=5027.0, pvalue=0.02085133119860404)\n",
            "One-tailed Greater: WilcoxonResult(statistic=7693.0, pvalue=0.01042566559930202)\n",
            "One-tailed Less: WilcoxonResult(statistic=7693.0, pvalue=0.989574334400698)\n"
          ],
          "name": "stdout"
        }
      ]
    },
    {
      "cell_type": "code",
      "metadata": {
        "id": "RjdXiPodRmyU",
        "colab_type": "code",
        "outputId": "08f78f4c-7132-4d76-9364-80caef3e65c3",
        "colab": {
          "base_uri": "https://localhost:8080/",
          "height": 68
        }
      },
      "source": [
        "df_scene = raw_data[raw_data['scene']==1]\n",
        "print(f'Two-sided: {stats.wilcoxon(raw_data[\"allocation_metric\"])}')\n",
        "print(f'One-tailed Greater: {stats.wilcoxon(raw_data[\"allocation_metric\"], alternative=\"greater\")}')\n",
        "print(f'One-tailed Less: {stats.wilcoxon(raw_data[\"allocation_metric\"], alternative=\"less\")}')"
      ],
      "execution_count": 0,
      "outputs": [
        {
          "output_type": "stream",
          "text": [
            "Two-sided: WilcoxonResult(statistic=5027.0, pvalue=0.02085133119860404)\n",
            "One-tailed Greater: WilcoxonResult(statistic=7693.0, pvalue=0.01042566559930202)\n",
            "One-tailed Less: WilcoxonResult(statistic=7693.0, pvalue=0.989574334400698)\n"
          ],
          "name": "stdout"
        }
      ]
    },
    {
      "cell_type": "code",
      "metadata": {
        "id": "Fx1TTX7YOLB8",
        "colab_type": "code",
        "outputId": "df3d5810-0fe7-4de2-b34f-df8003b1d7cc",
        "colab": {
          "base_uri": "https://localhost:8080/",
          "height": 68
        }
      },
      "source": [
        "df_scene = raw_data[\"allocation_metric\"]\n",
        "print(f'Two-sided: {stats.wilcoxon(raw_data[\"allocation_metric\"])}')\n",
        "print(f'One-tailed Greater: {stats.wilcoxon(raw_data[\"allocation_metric\"], alternative=\"greater\")}')\n",
        "print(f'One-tailed Less: {stats.wilcoxon(raw_data[\"allocation_metric\"], alternative=\"less\")}')"
      ],
      "execution_count": 0,
      "outputs": [
        {
          "output_type": "stream",
          "text": [
            "Two-sided: WilcoxonResult(statistic=5027.0, pvalue=0.02085133119860404)\n",
            "One-tailed Greater: WilcoxonResult(statistic=7693.0, pvalue=0.01042566559930202)\n",
            "One-tailed Less: WilcoxonResult(statistic=7693.0, pvalue=0.989574334400698)\n"
          ],
          "name": "stdout"
        }
      ]
    },
    {
      "cell_type": "code",
      "metadata": {
        "id": "Pu1SrT7OOLbD",
        "colab_type": "code",
        "outputId": "bf85c886-892d-4283-a5a5-1de3d73b1e8f",
        "colab": {
          "base_uri": "https://localhost:8080/",
          "height": 68
        }
      },
      "source": [
        "print(f'Two-sided: {stats.wilcoxon(raw_data[\"allocation_metric\"])}')\n",
        "print(f'One-tailed Greater: {stats.wilcoxon(raw_data[\"allocation_metric\"], alternative=\"greater\")}')\n",
        "print(f'One-tailed Less: {stats.wilcoxon(raw_data[\"allocation_metric\"], alternative=\"less\")}')"
      ],
      "execution_count": 0,
      "outputs": [
        {
          "output_type": "stream",
          "text": [
            "Two-sided: WilcoxonResult(statistic=5027.0, pvalue=0.02085133119860404)\n",
            "One-tailed Greater: WilcoxonResult(statistic=7693.0, pvalue=0.01042566559930202)\n",
            "One-tailed Less: WilcoxonResult(statistic=7693.0, pvalue=0.989574334400698)\n"
          ],
          "name": "stdout"
        }
      ]
    },
    {
      "cell_type": "markdown",
      "metadata": {
        "colab_type": "text",
        "id": "9jYjNUQYPK-M"
      },
      "source": [
        "Wilcoxon Ranked Sum Test\n",
        "___"
      ]
    },
    {
      "cell_type": "markdown",
      "metadata": {
        "colab_type": "text",
        "id": "RKkHMh9kPK-O"
      },
      "source": [
        "***h0: there is no different between content A and content B***\n",
        "\n",
        "***h1: there is different***"
      ]
    },
    {
      "cell_type": "code",
      "metadata": {
        "colab_type": "code",
        "id": "QtyM8h4wPK-P",
        "colab": {}
      },
      "source": [
        "def get_speech_content_groups(scene=None):\n",
        "  \n",
        "  # if scene not mentioned, take the aggregation of mean of allocation metric\n",
        "  if not scene:\n",
        "    df_mean = raw_data.groupby(\"participant\")[\"allocation_metric\"].mean()\n",
        "    group_a = df_mean < 0\n",
        "    group_a = np.abs(group_a) # take out the negative value\n",
        "    group_b = df_mean > 0\n",
        "    return group_a, group_b\n",
        "\n",
        "  df_scene = raw_data[raw_data[\"scene\"] == scene]\n",
        "  group_a = df_scene[df_scene[\"allocation_metric\"] < 0][\"allocation_metric\"]\n",
        "  group_a = np.abs(group_a) # take out the negative value\n",
        "\n",
        "  group_b = df_scene[df_scene[\"allocation_metric\"] < 0][\"allocation_metric\"]\n",
        "  return group_a, group_b"
      ],
      "execution_count": 0,
      "outputs": []
    },
    {
      "cell_type": "code",
      "metadata": {
        "colab_type": "code",
        "id": "Ex-8y1HsPK-U",
        "outputId": "76b5777f-82db-4856-9355-f51a3a67eca5",
        "colab": {
          "base_uri": "https://localhost:8080/",
          "height": 102
        }
      },
      "source": [
        "print(\"Scene 1: \", stats.ranksums(*get_speech_content_groups(scene=1)))\n",
        "print(\"Scene 2: \", stats.ranksums(*get_speech_content_groups(scene=2)))\n",
        "print(\"Scene 3: \", stats.ranksums(*get_speech_content_groups(scene=3)))\n",
        "print(\"Scene 4: \", stats.ranksums(*get_speech_content_groups(scene=4)))\n",
        "print(\"Mean by Participant: \", stats.ranksums(*get_speech_content_groups()))"
      ],
      "execution_count": 0,
      "outputs": [
        {
          "output_type": "stream",
          "text": [
            "Scene 1:  RanksumsResult(statistic=5.269651864139676, pvalue=1.366827462388243e-07)\n",
            "Scene 2:  RanksumsResult(statistic=4.156921938165305, pvalue=3.225641456243767e-05)\n",
            "Scene 3:  RanksumsResult(statistic=5.269651864139676, pvalue=1.366827462388243e-07)\n",
            "Scene 4:  RanksumsResult(statistic=4.666282626286914, pvalue=3.0669777654622667e-06)\n",
            "Mean by Participant:  RanksumsResult(statistic=-2.785242495291165, pvalue=0.005348770520482036)\n"
          ],
          "name": "stdout"
        }
      ]
    },
    {
      "cell_type": "markdown",
      "metadata": {
        "id": "zoEIt--3hxHg",
        "colab_type": "text"
      },
      "source": [
        "## Sub hypothesis: Robot's face color does not influence cube allocation"
      ]
    },
    {
      "cell_type": "markdown",
      "metadata": {
        "id": "yVOm6WyYoYZZ",
        "colab_type": "text"
      },
      "source": [
        "###Separating the data for eye color"
      ]
    },
    {
      "cell_type": "code",
      "metadata": {
        "id": "jHq6LqnQoiOI",
        "colab_type": "code",
        "colab": {}
      },
      "source": [
        "swap_heads_id = 26\n",
        "\n",
        "def separate_red_yellow_eyes_data(data, swap_heads_id):\n",
        "    red_eye_on_A = data[data['participant'] <= swap_heads_id]\n",
        "    yellow_eye_on_A = data[data['participant'] > swap_heads_id]\n",
        "    \n",
        "    return red_eye_on_A, yellow_eye_on_A"
      ],
      "execution_count": 0,
      "outputs": []
    },
    {
      "cell_type": "markdown",
      "metadata": {
        "id": "vrl12WHPo2ZJ",
        "colab_type": "text"
      },
      "source": [
        "### Separating data for NVC and non NVCs"
      ]
    },
    {
      "cell_type": "code",
      "metadata": {
        "id": "GLYPhvFYoz8y",
        "colab_type": "code",
        "colab": {}
      },
      "source": [
        "## separates nv and non nvc data with scene number > scene_num\n",
        "def separate_NVC_nonNVC(data, scene_num):\n",
        "    odd_participants_data = data[data[\"participant\"] % 2 != 0]\n",
        "    odd_participants_data = odd_participants_data[odd_participants_data[\"scene\"] > scene_num]\n",
        "    \n",
        "    even_participants_data = data[data[\"participant\"] % 2 == 0]\n",
        "    even_participants_data = even_participants_data[even_participants_data[\"scene\"] > scene_num]\n",
        "    \n",
        "    return even_participants_data, odd_participants_data"
      ],
      "execution_count": 0,
      "outputs": []
    },
    {
      "cell_type": "code",
      "metadata": {
        "id": "to_Cu9sVo6Vg",
        "colab_type": "code",
        "colab": {}
      },
      "source": [
        "## takes a list of colums to be dropped and return clean data\n",
        "def drop_colums(data, column_list):\n",
        "    clean_data = data.drop(columns=column_list)\n",
        "    return clean_data"
      ],
      "execution_count": 0,
      "outputs": []
    },
    {
      "cell_type": "code",
      "metadata": {
        "id": "83A6gd11o6Z8",
        "colab_type": "code",
        "colab": {}
      },
      "source": [
        "## takes a list of column names and group them\n",
        "def group_data(data, group_list):\n",
        "    groupped_data = data.groupby(group_list).sum()\n",
        "    return groupped_data"
      ],
      "execution_count": 0,
      "outputs": []
    },
    {
      "cell_type": "markdown",
      "metadata": {
        "id": "ExrAUSL5o-Xd",
        "colab_type": "text"
      },
      "source": [
        "### Separating data scene wise"
      ]
    },
    {
      "cell_type": "code",
      "metadata": {
        "id": "rwn4B43spBiM",
        "colab_type": "code",
        "colab": {}
      },
      "source": [
        "def separate_data_scene_wise(data):\n",
        "    data_1 = data[(data[\"scene\"] == 1)]\n",
        "    data_2 = data[(data[\"scene\"] == 2)]\n",
        "    data_3 = data[(data[\"scene\"] == 3)]\n",
        "    data_4 = data[(data[\"scene\"] == 4)]\n",
        "    \n",
        "    return data_1, data_2, data_3, data_4"
      ],
      "execution_count": 0,
      "outputs": []
    },
    {
      "cell_type": "code",
      "metadata": {
        "id": "G0cSS4D5poxs",
        "colab_type": "code",
        "colab": {}
      },
      "source": [
        "red_on_A, red_on_B = separate_red_yellow_eyes_data(raw_data, swap_heads_id)"
      ],
      "execution_count": 0,
      "outputs": []
    },
    {
      "cell_type": "code",
      "metadata": {
        "id": "ICGCVxR_pplJ",
        "colab_type": "code",
        "colab": {}
      },
      "source": [
        "red_on_B_s1, red_on_B_s2, red_on_B_s3, red_on_B_s4 = separate_data_scene_wise(red_on_B)"
      ],
      "execution_count": 0,
      "outputs": []
    },
    {
      "cell_type": "code",
      "metadata": {
        "id": "CNSSimtRppwP",
        "colab_type": "code",
        "colab": {}
      },
      "source": [
        "red_on_A_s1, red_on_A_s2, red_on_A_s3, red_on_A_s4 = separate_data_scene_wise(red_on_A)"
      ],
      "execution_count": 0,
      "outputs": []
    },
    {
      "cell_type": "code",
      "metadata": {
        "id": "YW3JGKY-ppyz",
        "colab_type": "code",
        "outputId": "83abd433-563d-46fa-9834-836a129a6925",
        "colab": {
          "base_uri": "https://localhost:8080/",
          "height": 235
        }
      },
      "source": [
        "red_on_A = drop_colums(red_on_A, ['NVC_A','NVC_B', 'NVC'])\n",
        "red_on_A = red_on_A[red_on_A['scene'] > 0]\n",
        "red_on_A = group_data(red_on_A,['participant'])\n",
        "red_on_A = drop_colums(red_on_A, ['scene'])\n",
        "red_on_A['allocation_metric'] = red_on_A['allocation_metric'] / 4\n",
        "red_on_A.head()"
      ],
      "execution_count": 0,
      "outputs": [
        {
          "output_type": "execute_result",
          "data": {
            "text/html": [
              "<div>\n",
              "<style scoped>\n",
              "    .dataframe tbody tr th:only-of-type {\n",
              "        vertical-align: middle;\n",
              "    }\n",
              "\n",
              "    .dataframe tbody tr th {\n",
              "        vertical-align: top;\n",
              "    }\n",
              "\n",
              "    .dataframe thead th {\n",
              "        text-align: right;\n",
              "    }\n",
              "</style>\n",
              "<table border=\"1\" class=\"dataframe\">\n",
              "  <thead>\n",
              "    <tr style=\"text-align: right;\">\n",
              "      <th></th>\n",
              "      <th>robot_a</th>\n",
              "      <th>robot_b</th>\n",
              "      <th>allocation_metric</th>\n",
              "      <th>head_group</th>\n",
              "    </tr>\n",
              "    <tr>\n",
              "      <th>participant</th>\n",
              "      <th></th>\n",
              "      <th></th>\n",
              "      <th></th>\n",
              "      <th></th>\n",
              "    </tr>\n",
              "  </thead>\n",
              "  <tbody>\n",
              "    <tr>\n",
              "      <th>2</th>\n",
              "      <td>8</td>\n",
              "      <td>8</td>\n",
              "      <td>0.083333</td>\n",
              "      <td>0</td>\n",
              "    </tr>\n",
              "    <tr>\n",
              "      <th>3</th>\n",
              "      <td>12</td>\n",
              "      <td>11</td>\n",
              "      <td>0.011905</td>\n",
              "      <td>0</td>\n",
              "    </tr>\n",
              "    <tr>\n",
              "      <th>5</th>\n",
              "      <td>10</td>\n",
              "      <td>13</td>\n",
              "      <td>0.146429</td>\n",
              "      <td>0</td>\n",
              "    </tr>\n",
              "    <tr>\n",
              "      <th>6</th>\n",
              "      <td>1</td>\n",
              "      <td>17</td>\n",
              "      <td>0.625000</td>\n",
              "      <td>0</td>\n",
              "    </tr>\n",
              "    <tr>\n",
              "      <th>7</th>\n",
              "      <td>7</td>\n",
              "      <td>17</td>\n",
              "      <td>0.422619</td>\n",
              "      <td>0</td>\n",
              "    </tr>\n",
              "  </tbody>\n",
              "</table>\n",
              "</div>"
            ],
            "text/plain": [
              "             robot_a  robot_b  allocation_metric  head_group\n",
              "participant                                                 \n",
              "2                  8        8           0.083333           0\n",
              "3                 12       11           0.011905           0\n",
              "5                 10       13           0.146429           0\n",
              "6                  1       17           0.625000           0\n",
              "7                  7       17           0.422619           0"
            ]
          },
          "metadata": {
            "tags": []
          },
          "execution_count": 38
        }
      ]
    },
    {
      "cell_type": "code",
      "metadata": {
        "id": "z-XooSVypp1P",
        "colab_type": "code",
        "outputId": "9212dbeb-e60c-456f-f014-e2d941603f8e",
        "colab": {
          "base_uri": "https://localhost:8080/",
          "height": 235
        }
      },
      "source": [
        "red_on_B = drop_colums(red_on_B, ['NVC_A','NVC_B', 'NVC'])\n",
        "red_on_B = red_on_B[red_on_B['scene'] > 0]\n",
        "red_on_B = group_data(red_on_B,['participant'])\n",
        "red_on_B = drop_colums(red_on_B, ['scene'])\n",
        "red_on_B['allocation_metric'] = red_on_B['allocation_metric'] / 4\n",
        "red_on_B.head()"
      ],
      "execution_count": 0,
      "outputs": [
        {
          "output_type": "execute_result",
          "data": {
            "text/html": [
              "<div>\n",
              "<style scoped>\n",
              "    .dataframe tbody tr th:only-of-type {\n",
              "        vertical-align: middle;\n",
              "    }\n",
              "\n",
              "    .dataframe tbody tr th {\n",
              "        vertical-align: top;\n",
              "    }\n",
              "\n",
              "    .dataframe thead th {\n",
              "        text-align: right;\n",
              "    }\n",
              "</style>\n",
              "<table border=\"1\" class=\"dataframe\">\n",
              "  <thead>\n",
              "    <tr style=\"text-align: right;\">\n",
              "      <th></th>\n",
              "      <th>robot_a</th>\n",
              "      <th>robot_b</th>\n",
              "      <th>allocation_metric</th>\n",
              "      <th>head_group</th>\n",
              "    </tr>\n",
              "    <tr>\n",
              "      <th>participant</th>\n",
              "      <th></th>\n",
              "      <th></th>\n",
              "      <th></th>\n",
              "      <th></th>\n",
              "    </tr>\n",
              "  </thead>\n",
              "  <tbody>\n",
              "    <tr>\n",
              "      <th>27</th>\n",
              "      <td>10</td>\n",
              "      <td>13</td>\n",
              "      <td>0.285714</td>\n",
              "      <td>4</td>\n",
              "    </tr>\n",
              "    <tr>\n",
              "      <th>28</th>\n",
              "      <td>1</td>\n",
              "      <td>8</td>\n",
              "      <td>0.833333</td>\n",
              "      <td>4</td>\n",
              "    </tr>\n",
              "    <tr>\n",
              "      <th>29</th>\n",
              "      <td>10</td>\n",
              "      <td>8</td>\n",
              "      <td>0.035714</td>\n",
              "      <td>4</td>\n",
              "    </tr>\n",
              "    <tr>\n",
              "      <th>30</th>\n",
              "      <td>14</td>\n",
              "      <td>8</td>\n",
              "      <td>-0.289286</td>\n",
              "      <td>4</td>\n",
              "    </tr>\n",
              "    <tr>\n",
              "      <th>31</th>\n",
              "      <td>8</td>\n",
              "      <td>9</td>\n",
              "      <td>0.175000</td>\n",
              "      <td>4</td>\n",
              "    </tr>\n",
              "  </tbody>\n",
              "</table>\n",
              "</div>"
            ],
            "text/plain": [
              "             robot_a  robot_b  allocation_metric  head_group\n",
              "participant                                                 \n",
              "27                10       13           0.285714           4\n",
              "28                 1        8           0.833333           4\n",
              "29                10        8           0.035714           4\n",
              "30                14        8          -0.289286           4\n",
              "31                 8        9           0.175000           4"
            ]
          },
          "metadata": {
            "tags": []
          },
          "execution_count": 39
        }
      ]
    },
    {
      "cell_type": "code",
      "metadata": {
        "id": "Kk8Z3-KWqgXi",
        "colab_type": "code",
        "outputId": "c8e482e7-0251-4063-eccf-19c41905e792",
        "colab": {
          "base_uri": "https://localhost:8080/",
          "height": 886
        }
      },
      "source": [
        "red_on_B"
      ],
      "execution_count": 0,
      "outputs": [
        {
          "output_type": "execute_result",
          "data": {
            "text/html": [
              "<div>\n",
              "<style scoped>\n",
              "    .dataframe tbody tr th:only-of-type {\n",
              "        vertical-align: middle;\n",
              "    }\n",
              "\n",
              "    .dataframe tbody tr th {\n",
              "        vertical-align: top;\n",
              "    }\n",
              "\n",
              "    .dataframe thead th {\n",
              "        text-align: right;\n",
              "    }\n",
              "</style>\n",
              "<table border=\"1\" class=\"dataframe\">\n",
              "  <thead>\n",
              "    <tr style=\"text-align: right;\">\n",
              "      <th></th>\n",
              "      <th>robot_a</th>\n",
              "      <th>robot_b</th>\n",
              "      <th>allocation_metric</th>\n",
              "      <th>head_group</th>\n",
              "    </tr>\n",
              "    <tr>\n",
              "      <th>participant</th>\n",
              "      <th></th>\n",
              "      <th></th>\n",
              "      <th></th>\n",
              "      <th></th>\n",
              "    </tr>\n",
              "  </thead>\n",
              "  <tbody>\n",
              "    <tr>\n",
              "      <th>27</th>\n",
              "      <td>10</td>\n",
              "      <td>13</td>\n",
              "      <td>0.285714</td>\n",
              "      <td>4</td>\n",
              "    </tr>\n",
              "    <tr>\n",
              "      <th>28</th>\n",
              "      <td>1</td>\n",
              "      <td>8</td>\n",
              "      <td>0.833333</td>\n",
              "      <td>4</td>\n",
              "    </tr>\n",
              "    <tr>\n",
              "      <th>29</th>\n",
              "      <td>10</td>\n",
              "      <td>8</td>\n",
              "      <td>0.035714</td>\n",
              "      <td>4</td>\n",
              "    </tr>\n",
              "    <tr>\n",
              "      <th>30</th>\n",
              "      <td>14</td>\n",
              "      <td>8</td>\n",
              "      <td>-0.289286</td>\n",
              "      <td>4</td>\n",
              "    </tr>\n",
              "    <tr>\n",
              "      <th>31</th>\n",
              "      <td>8</td>\n",
              "      <td>9</td>\n",
              "      <td>0.175000</td>\n",
              "      <td>4</td>\n",
              "    </tr>\n",
              "    <tr>\n",
              "      <th>32</th>\n",
              "      <td>7</td>\n",
              "      <td>13</td>\n",
              "      <td>0.119048</td>\n",
              "      <td>4</td>\n",
              "    </tr>\n",
              "    <tr>\n",
              "      <th>33</th>\n",
              "      <td>8</td>\n",
              "      <td>12</td>\n",
              "      <td>0.000000</td>\n",
              "      <td>4</td>\n",
              "    </tr>\n",
              "    <tr>\n",
              "      <th>34</th>\n",
              "      <td>6</td>\n",
              "      <td>9</td>\n",
              "      <td>0.208333</td>\n",
              "      <td>4</td>\n",
              "    </tr>\n",
              "    <tr>\n",
              "      <th>35</th>\n",
              "      <td>7</td>\n",
              "      <td>14</td>\n",
              "      <td>0.258333</td>\n",
              "      <td>4</td>\n",
              "    </tr>\n",
              "    <tr>\n",
              "      <th>36</th>\n",
              "      <td>12</td>\n",
              "      <td>9</td>\n",
              "      <td>-0.175000</td>\n",
              "      <td>4</td>\n",
              "    </tr>\n",
              "    <tr>\n",
              "      <th>37</th>\n",
              "      <td>6</td>\n",
              "      <td>9</td>\n",
              "      <td>0.208333</td>\n",
              "      <td>4</td>\n",
              "    </tr>\n",
              "    <tr>\n",
              "      <th>38</th>\n",
              "      <td>11</td>\n",
              "      <td>12</td>\n",
              "      <td>0.035714</td>\n",
              "      <td>4</td>\n",
              "    </tr>\n",
              "    <tr>\n",
              "      <th>40</th>\n",
              "      <td>10</td>\n",
              "      <td>13</td>\n",
              "      <td>0.121429</td>\n",
              "      <td>4</td>\n",
              "    </tr>\n",
              "    <tr>\n",
              "      <th>41</th>\n",
              "      <td>9</td>\n",
              "      <td>14</td>\n",
              "      <td>0.246429</td>\n",
              "      <td>4</td>\n",
              "    </tr>\n",
              "    <tr>\n",
              "      <th>42</th>\n",
              "      <td>17</td>\n",
              "      <td>11</td>\n",
              "      <td>-0.214286</td>\n",
              "      <td>4</td>\n",
              "    </tr>\n",
              "    <tr>\n",
              "      <th>43</th>\n",
              "      <td>7</td>\n",
              "      <td>11</td>\n",
              "      <td>0.200000</td>\n",
              "      <td>4</td>\n",
              "    </tr>\n",
              "    <tr>\n",
              "      <th>44</th>\n",
              "      <td>14</td>\n",
              "      <td>14</td>\n",
              "      <td>0.000000</td>\n",
              "      <td>4</td>\n",
              "    </tr>\n",
              "    <tr>\n",
              "      <th>45</th>\n",
              "      <td>11</td>\n",
              "      <td>16</td>\n",
              "      <td>0.154762</td>\n",
              "      <td>4</td>\n",
              "    </tr>\n",
              "    <tr>\n",
              "      <th>46</th>\n",
              "      <td>9</td>\n",
              "      <td>7</td>\n",
              "      <td>-0.166667</td>\n",
              "      <td>4</td>\n",
              "    </tr>\n",
              "    <tr>\n",
              "      <th>47</th>\n",
              "      <td>13</td>\n",
              "      <td>7</td>\n",
              "      <td>-0.214286</td>\n",
              "      <td>4</td>\n",
              "    </tr>\n",
              "    <tr>\n",
              "      <th>48</th>\n",
              "      <td>9</td>\n",
              "      <td>14</td>\n",
              "      <td>0.226190</td>\n",
              "      <td>4</td>\n",
              "    </tr>\n",
              "    <tr>\n",
              "      <th>49</th>\n",
              "      <td>2</td>\n",
              "      <td>2</td>\n",
              "      <td>0.000000</td>\n",
              "      <td>4</td>\n",
              "    </tr>\n",
              "    <tr>\n",
              "      <th>50</th>\n",
              "      <td>11</td>\n",
              "      <td>15</td>\n",
              "      <td>0.214286</td>\n",
              "      <td>4</td>\n",
              "    </tr>\n",
              "    <tr>\n",
              "      <th>51</th>\n",
              "      <td>11</td>\n",
              "      <td>14</td>\n",
              "      <td>0.161905</td>\n",
              "      <td>4</td>\n",
              "    </tr>\n",
              "    <tr>\n",
              "      <th>52</th>\n",
              "      <td>7</td>\n",
              "      <td>11</td>\n",
              "      <td>0.000000</td>\n",
              "      <td>4</td>\n",
              "    </tr>\n",
              "    <tr>\n",
              "      <th>53</th>\n",
              "      <td>4</td>\n",
              "      <td>13</td>\n",
              "      <td>0.535714</td>\n",
              "      <td>4</td>\n",
              "    </tr>\n",
              "  </tbody>\n",
              "</table>\n",
              "</div>"
            ],
            "text/plain": [
              "             robot_a  robot_b  allocation_metric  head_group\n",
              "participant                                                 \n",
              "27                10       13           0.285714           4\n",
              "28                 1        8           0.833333           4\n",
              "29                10        8           0.035714           4\n",
              "30                14        8          -0.289286           4\n",
              "31                 8        9           0.175000           4\n",
              "32                 7       13           0.119048           4\n",
              "33                 8       12           0.000000           4\n",
              "34                 6        9           0.208333           4\n",
              "35                 7       14           0.258333           4\n",
              "36                12        9          -0.175000           4\n",
              "37                 6        9           0.208333           4\n",
              "38                11       12           0.035714           4\n",
              "40                10       13           0.121429           4\n",
              "41                 9       14           0.246429           4\n",
              "42                17       11          -0.214286           4\n",
              "43                 7       11           0.200000           4\n",
              "44                14       14           0.000000           4\n",
              "45                11       16           0.154762           4\n",
              "46                 9        7          -0.166667           4\n",
              "47                13        7          -0.214286           4\n",
              "48                 9       14           0.226190           4\n",
              "49                 2        2           0.000000           4\n",
              "50                11       15           0.214286           4\n",
              "51                11       14           0.161905           4\n",
              "52                 7       11           0.000000           4\n",
              "53                 4       13           0.535714           4"
            ]
          },
          "metadata": {
            "tags": []
          },
          "execution_count": 40
        }
      ]
    },
    {
      "cell_type": "code",
      "metadata": {
        "id": "4EWoC_QG8JeT",
        "colab_type": "code",
        "outputId": "39481347-dc0e-4350-8a68-54b779f0bc90",
        "colab": {
          "base_uri": "https://localhost:8080/",
          "height": 232
        }
      },
      "source": [
        "ranksum_colum = 'allocation_metric'\n",
        "print(\"Scene 1: \", wilcoxon_ranksum_test(red_on_A_s1, red_on_B_s1, ranksum_colum))\n",
        "print(\"Scene 2: \", wilcoxon_ranksum_test(red_on_A_s2, red_on_B_s2, ranksum_colum))\n",
        "print(\"Scene 3: \", wilcoxon_ranksum_test(red_on_A_s3, red_on_B_s3, ranksum_colum))\n",
        "print(\"Scene 4: \", wilcoxon_ranksum_test(red_on_A_s4, red_on_B_s4, ranksum_colum))\n",
        "print(\"Mean by Participant: \", wilcoxon_ranksum_test(red_on_A, red_on_B, ranksum_colum))"
      ],
      "execution_count": 0,
      "outputs": [
        {
          "output_type": "error",
          "ename": "NameError",
          "evalue": "ignored",
          "traceback": [
            "\u001b[0;31m---------------------------------------------------------------------------\u001b[0m",
            "\u001b[0;31mNameError\u001b[0m                                 Traceback (most recent call last)",
            "\u001b[0;32m<ipython-input-41-ffb78609ad83>\u001b[0m in \u001b[0;36m<module>\u001b[0;34m()\u001b[0m\n\u001b[1;32m      1\u001b[0m \u001b[0mranksum_colum\u001b[0m \u001b[0;34m=\u001b[0m \u001b[0;34m'allocation_metric'\u001b[0m\u001b[0;34m\u001b[0m\u001b[0;34m\u001b[0m\u001b[0m\n\u001b[0;32m----> 2\u001b[0;31m \u001b[0mprint\u001b[0m\u001b[0;34m(\u001b[0m\u001b[0;34m\"Scene 1: \"\u001b[0m\u001b[0;34m,\u001b[0m \u001b[0mwilcoxon_ranksum_test\u001b[0m\u001b[0;34m(\u001b[0m\u001b[0mred_on_A_s1\u001b[0m\u001b[0;34m,\u001b[0m \u001b[0mred_on_B_s1\u001b[0m\u001b[0;34m,\u001b[0m \u001b[0mranksum_colum\u001b[0m\u001b[0;34m)\u001b[0m\u001b[0;34m)\u001b[0m\u001b[0;34m\u001b[0m\u001b[0;34m\u001b[0m\u001b[0m\n\u001b[0m\u001b[1;32m      3\u001b[0m \u001b[0mprint\u001b[0m\u001b[0;34m(\u001b[0m\u001b[0;34m\"Scene 2: \"\u001b[0m\u001b[0;34m,\u001b[0m \u001b[0mwilcoxon_ranksum_test\u001b[0m\u001b[0;34m(\u001b[0m\u001b[0mred_on_A_s2\u001b[0m\u001b[0;34m,\u001b[0m \u001b[0mred_on_B_s2\u001b[0m\u001b[0;34m,\u001b[0m \u001b[0mranksum_colum\u001b[0m\u001b[0;34m)\u001b[0m\u001b[0;34m)\u001b[0m\u001b[0;34m\u001b[0m\u001b[0;34m\u001b[0m\u001b[0m\n\u001b[1;32m      4\u001b[0m \u001b[0mprint\u001b[0m\u001b[0;34m(\u001b[0m\u001b[0;34m\"Scene 3: \"\u001b[0m\u001b[0;34m,\u001b[0m \u001b[0mwilcoxon_ranksum_test\u001b[0m\u001b[0;34m(\u001b[0m\u001b[0mred_on_A_s3\u001b[0m\u001b[0;34m,\u001b[0m \u001b[0mred_on_B_s3\u001b[0m\u001b[0;34m,\u001b[0m \u001b[0mranksum_colum\u001b[0m\u001b[0;34m)\u001b[0m\u001b[0;34m)\u001b[0m\u001b[0;34m\u001b[0m\u001b[0;34m\u001b[0m\u001b[0m\n\u001b[1;32m      5\u001b[0m \u001b[0mprint\u001b[0m\u001b[0;34m(\u001b[0m\u001b[0;34m\"Scene 4: \"\u001b[0m\u001b[0;34m,\u001b[0m \u001b[0mwilcoxon_ranksum_test\u001b[0m\u001b[0;34m(\u001b[0m\u001b[0mred_on_A_s4\u001b[0m\u001b[0;34m,\u001b[0m \u001b[0mred_on_B_s4\u001b[0m\u001b[0;34m,\u001b[0m \u001b[0mranksum_colum\u001b[0m\u001b[0;34m)\u001b[0m\u001b[0;34m)\u001b[0m\u001b[0;34m\u001b[0m\u001b[0;34m\u001b[0m\u001b[0m\n",
            "\u001b[0;31mNameError\u001b[0m: name 'wilcoxon_ranksum_test' is not defined"
          ]
        }
      ]
    },
    {
      "cell_type": "markdown",
      "metadata": {
        "id": "D2i1YI77vF44",
        "colab_type": "text"
      },
      "source": [
        "## Multivariate Speech Content + Face Color (Head Group)"
      ]
    },
    {
      "cell_type": "code",
      "metadata": {
        "id": "i-gJRJYu2h37",
        "colab_type": "code",
        "colab": {}
      },
      "source": [
        "import statsmodels.formula.api as smf"
      ],
      "execution_count": 0,
      "outputs": []
    },
    {
      "cell_type": "code",
      "metadata": {
        "id": "VxEoxfLh3AcG",
        "colab_type": "code",
        "colab": {}
      },
      "source": [
        "model = smf.ols(formula=\"allocation_metric ~ C(head_group)\", data=raw_data).fit()\n",
        "model.summary()"
      ],
      "execution_count": 0,
      "outputs": []
    },
    {
      "cell_type": "markdown",
      "metadata": {
        "id": "cb7PgNocpPjo",
        "colab_type": "text"
      },
      "source": [
        "## Main Hypothesis: \"NVC cube allocation > NNVC\""
      ]
    },
    {
      "cell_type": "markdown",
      "metadata": {
        "id": "6_SZGz9XQNSE",
        "colab_type": "text"
      },
      "source": [
        "One Sample Wilcoxon (When A is NVC)\n",
        "___"
      ]
    },
    {
      "cell_type": "code",
      "metadata": {
        "id": "a8qGHfOaRrCp",
        "colab_type": "code",
        "colab": {}
      },
      "source": [
        "df_nvc_a = raw_data[(raw_data[\"NVC_A\"] == True) & (raw_data[\"scene\"] != 0)]\n",
        "df_nvc_a_mean = df_nvc_b.groupby([\"participant\"]).mean()[\"allocation_metric\"]\n",
        "\n",
        "print(f'One-tailed Greater: {stats.wilcoxon(df_nvc_a_mean, alternative=\"greater\")}')"
      ],
      "execution_count": 0,
      "outputs": []
    },
    {
      "cell_type": "markdown",
      "metadata": {
        "id": "odMAAB8T9Yrb",
        "colab_type": "text"
      },
      "source": [
        "**Explaination**: When A is NVC, we expect people give more cubes to Robot A. We evaluate this by using one sample wilcoxon with <br>\n",
        "h0: the mean of allocation metric >= 0 <br>\n",
        "h1: the mean of allocation metric < 0 (because full trust on A, allocation metric will be is -1)"
      ]
    },
    {
      "cell_type": "code",
      "metadata": {
        "id": "xyuE3lcyFNXY",
        "colab_type": "code",
        "colab": {}
      },
      "source": [
        "df_nvc_a_scene_1, df_nvc_a_scene_2, df_nvc_a_scene_3, df_nvc_a_scene_4 = separate_data_scene_wise(df_nvc_a)\n",
        "print(f'Scene 1 One-tailed Greater: {stats.wilcoxon(df_nvc_a_scene_1[\"allocation_metric\"], alternative=\"less\")}')\n",
        "print(f'Scene 2 One-tailed Greater: {stats.wilcoxon(df_nvc_a_scene_2[\"allocation_metric\"], alternative=\"less\")}')\n",
        "print(f'Scene 3 One-tailed Greater: {stats.wilcoxon(df_nvc_a_scene_3[\"allocation_metric\"], alternative=\"less\")}')\n",
        "print(f'Scene 4 One-tailed Greater: {stats.wilcoxon(df_nvc_a_scene_4[\"allocation_metric\"], alternative=\"less\")}')"
      ],
      "execution_count": 0,
      "outputs": []
    },
    {
      "cell_type": "markdown",
      "metadata": {
        "id": "Wf0DKF2kRbwr",
        "colab_type": "text"
      },
      "source": [
        "One Sample Wilcoxon (When B is NVC)\n",
        "___"
      ]
    },
    {
      "cell_type": "code",
      "metadata": {
        "id": "nwpTUwV7SQJF",
        "colab_type": "code",
        "colab": {}
      },
      "source": [
        "df_nvc_b = raw_data[(raw_data[\"NVC_B\"] == True) & (raw_data[\"scene\"] != 0)]\n",
        "df_nvc_b_mean = df_nvc_b.groupby([\"participant\"]).mean()[\"allocation_metric\"]\n",
        "\n",
        "print(f'One-tailed Greater: {stats.wilcoxon(df_nvc_b_mean, alternative=\"greater\")}')"
      ],
      "execution_count": 0,
      "outputs": []
    },
    {
      "cell_type": "markdown",
      "metadata": {
        "id": "HURtgeApHr2V",
        "colab_type": "text"
      },
      "source": [
        "**Explaination**: When B is NVC, we expect people give more cubes to Robot B. We evaluate this by using one sample wilcoxon with <br>\n",
        "h0: the mean of allocation metric <= 0 <br>\n",
        "h1: the mean of allocation metric > 0 (because full trust on B, allocation metric will be is 1)"
      ]
    },
    {
      "cell_type": "code",
      "metadata": {
        "id": "Ar7JtlTADVEZ",
        "colab_type": "code",
        "colab": {}
      },
      "source": [
        "df_nvc_b_scene_1, df_nvc_b_scene_2, df_nvc_b_scene_3, df_nvc_b_scene_4 = separate_data_scene_wise(df_nvc_b)\n",
        "print(f'Scene 1 One-tailed Greater: {stats.wilcoxon(df_nvc_b_scene_1[\"allocation_metric\"], alternative=\"greater\")}')\n",
        "print(f'Scene 2 One-tailed Greater: {stats.wilcoxon(df_nvc_b_scene_2[\"allocation_metric\"], alternative=\"greater\")}')\n",
        "print(f'Scene 3 One-tailed Greater: {stats.wilcoxon(df_nvc_b_scene_3[\"allocation_metric\"], alternative=\"greater\")}')\n",
        "print(f'Scene 4 One-tailed Greater: {stats.wilcoxon(df_nvc_b_scene_4[\"allocation_metric\"], alternative=\"greater\")}')"
      ],
      "execution_count": 0,
      "outputs": []
    },
    {
      "cell_type": "markdown",
      "metadata": {
        "id": "g8gVPF7W9ysZ",
        "colab_type": "text"
      },
      "source": [
        "Clearly we see that people tend to trust B on scene 2"
      ]
    },
    {
      "cell_type": "markdown",
      "metadata": {
        "colab_type": "text",
        "id": "F--DlVaWL80R"
      },
      "source": [
        "H0: There is no different NVC and NNVC <br>\n",
        "H1: NVC > NNVC"
      ]
    },
    {
      "cell_type": "markdown",
      "metadata": {
        "id": "RgM5ziqVRQ1A",
        "colab_type": "text"
      },
      "source": [
        "*Pair t-test*\n",
        "---\n",
        "___"
      ]
    },
    {
      "cell_type": "code",
      "metadata": {
        "id": "kAqdq9JWOhMl",
        "colab_type": "code",
        "colab": {}
      },
      "source": [
        ""
      ],
      "execution_count": 0,
      "outputs": []
    },
    {
      "cell_type": "markdown",
      "metadata": {
        "id": "ZyKyka9IRnLw",
        "colab_type": "text"
      },
      "source": [
        "*Scene 1*"
      ]
    },
    {
      "cell_type": "code",
      "metadata": {
        "id": "MVF-XdBlQhhK",
        "colab_type": "code",
        "colab": {}
      },
      "source": [
        "stat.ttest_rel(df_scene_1[\"robot_a\"], df_scene_1[\"robot_b\"])"
      ],
      "execution_count": 0,
      "outputs": []
    },
    {
      "cell_type": "markdown",
      "metadata": {
        "id": "lb7R4uGlRo95",
        "colab_type": "text"
      },
      "source": [
        "*Scene 2*"
      ]
    },
    {
      "cell_type": "code",
      "metadata": {
        "id": "Gre8x2UsRegj",
        "colab_type": "code",
        "colab": {}
      },
      "source": [
        " stat.ttest_rel(df_scene_2[\"robot_a\"], df_scene_2[\"robot_b\"])"
      ],
      "execution_count": 0,
      "outputs": []
    },
    {
      "cell_type": "markdown",
      "metadata": {
        "id": "qRebq0FdFngk",
        "colab_type": "text"
      },
      "source": [
        "Scene 3"
      ]
    },
    {
      "cell_type": "code",
      "metadata": {
        "colab_type": "code",
        "id": "aWVU7JxLFoq_",
        "colab": {}
      },
      "source": [
        "stat.ttest_rel(df_scene_3[\"robot_a\"], df_scene_3[\"robot_b\"])"
      ],
      "execution_count": 0,
      "outputs": []
    },
    {
      "cell_type": "markdown",
      "metadata": {
        "id": "JayHgFZ0Fm9y",
        "colab_type": "text"
      },
      "source": [
        "Scene 4"
      ]
    },
    {
      "cell_type": "code",
      "metadata": {
        "colab_type": "code",
        "id": "Bo1AOrbdFqHb",
        "colab": {}
      },
      "source": [
        "stat.ttest_rel(df_scene_4[\"robot_a\"], df_scene_4[\"robot_b\"])"
      ],
      "execution_count": 0,
      "outputs": []
    },
    {
      "cell_type": "markdown",
      "metadata": {
        "id": "DpKGvbQ3RvIE",
        "colab_type": "text"
      },
      "source": [
        "***Conclusion***\n",
        "\n",
        "*p-value >= 0.05, **accept h0:** There is no different between Robot A and Robot B in Scene 1,3,4*\n",
        "\n",
        "*p-value < 0.05 t < 0, **accept h1:** robot a < robot b in scene 2*"
      ]
    },
    {
      "cell_type": "markdown",
      "metadata": {
        "id": "I7Req5D5OqoN",
        "colab_type": "text"
      },
      "source": [
        ""
      ]
    },
    {
      "cell_type": "markdown",
      "metadata": {
        "id": "x4y6NIsDT8Ce",
        "colab_type": "text"
      },
      "source": [
        "### **Paired t-test to test the difference between NVC and non-NVC robots per scene**"
      ]
    },
    {
      "cell_type": "code",
      "metadata": {
        "id": "4512m2akTgoB",
        "colab_type": "code",
        "colab": {}
      },
      "source": [
        "data_nvc_a = raw_data[raw_data['NVC_A'] == True]\n",
        "data_nvc_a = data_nvc_a[['scene', 'robot_a', 'robot_b']]\n",
        "data_nvc_a.head()"
      ],
      "execution_count": 0,
      "outputs": []
    },
    {
      "cell_type": "code",
      "metadata": {
        "id": "WwOnpRZvTjEm",
        "colab_type": "code",
        "colab": {}
      },
      "source": [
        "data_nvc_b = raw_data[raw_data['NVC_B'] == True]\n",
        "data_nvc_b = data_nvc_b[['scene', 'robot_a', 'robot_b']]\n",
        "data_nvc_b.head()"
      ],
      "execution_count": 0,
      "outputs": []
    },
    {
      "cell_type": "code",
      "metadata": {
        "id": "g6sojRuhTnMc",
        "colab_type": "code",
        "colab": {}
      },
      "source": [
        "scene = 1\n",
        "res_a_nvc = stats.ttest_rel(data_nvc_a[data_nvc_a['scene'] == scene][\"robot_a\"], data_nvc_a[data_nvc_a['scene'] == scene][\"robot_b\"])\n",
        "res_b_nvc = stats.ttest_rel(data_nvc_b[data_nvc_b['scene'] == scene][\"robot_a\"], data_nvc_b[data_nvc_b['scene'] == scene][\"robot_b\"])\n",
        "print(res_a_nvc)\n",
        "print(res_b_nvc)"
      ],
      "execution_count": 0,
      "outputs": []
    },
    {
      "cell_type": "code",
      "metadata": {
        "id": "ojmuKVteTl5b",
        "colab_type": "code",
        "colab": {}
      },
      "source": [
        "scene = 2\n",
        "res_a_nvc = stats.ttest_rel(data_nvc_a[data_nvc_a['scene'] == scene][\"robot_a\"], data_nvc_a[data_nvc_a['scene'] == scene][\"robot_b\"])\n",
        "res_b_nvc = stats.ttest_rel(data_nvc_b[data_nvc_b['scene'] == scene][\"robot_a\"], data_nvc_b[data_nvc_b['scene'] == scene][\"robot_b\"])\n",
        "print(res_a_nvc)\n",
        "print(res_b_nvc)"
      ],
      "execution_count": 0,
      "outputs": []
    },
    {
      "cell_type": "code",
      "metadata": {
        "id": "vRjT_qrAVJGn",
        "colab_type": "code",
        "colab": {}
      },
      "source": [
        "scene = 3\n",
        "res_a_nvc = stats.ttest_rel(data_nvc_a[data_nvc_a['scene'] == scene][\"robot_a\"], data_nvc_a[data_nvc_a['scene'] == scene][\"robot_b\"])\n",
        "res_b_nvc = stats.ttest_rel(data_nvc_b[data_nvc_b['scene'] == scene][\"robot_a\"], data_nvc_b[data_nvc_b['scene'] == scene][\"robot_b\"])\n",
        "print(res_a_nvc)\n",
        "print(res_b_nvc)"
      ],
      "execution_count": 0,
      "outputs": []
    },
    {
      "cell_type": "code",
      "metadata": {
        "id": "HOVPvW2zVJqc",
        "colab_type": "code",
        "colab": {}
      },
      "source": [
        "scene = 4\n",
        "res_a_nvc = stats.ttest_rel(data_nvc_a[data_nvc_a['scene'] == scene][\"robot_a\"], data_nvc_a[data_nvc_a['scene'] == scene][\"robot_b\"])\n",
        "res_b_nvc = stats.ttest_rel(data_nvc_b[data_nvc_b['scene'] == scene][\"robot_a\"], data_nvc_b[data_nvc_b['scene'] == scene][\"robot_b\"])\n",
        "print(res_a_nvc)\n",
        "print(res_b_nvc)"
      ],
      "execution_count": 0,
      "outputs": []
    },
    {
      "cell_type": "markdown",
      "metadata": {
        "id": "_IykQVLUT20O",
        "colab_type": "text"
      },
      "source": [
        "## Conclusion: when the robot A is an NVC-robot in scene 2 there is a difference between expected values of A and B. B is preferred."
      ]
    },
    {
      "cell_type": "markdown",
      "metadata": {
        "id": "KkMx_74rpLl6",
        "colab_type": "text"
      },
      "source": [
        "###Wilcoxon, pair t test and wilcoxon rank sum test functions"
      ]
    },
    {
      "cell_type": "code",
      "metadata": {
        "id": "YF9F981rpSvt",
        "colab_type": "code",
        "colab": {}
      },
      "source": [
        "#takes data and list of column names\n",
        "#wilcoxon_test(red_eye, ['robot_a', 'robot_b'])\n",
        "def wilcoxon_test(data, column_names):\n",
        "    return stats.wilcoxon(data[column_names[0]], data[column_names[1]])"
      ],
      "execution_count": 0,
      "outputs": []
    },
    {
      "cell_type": "code",
      "metadata": {
        "id": "KuTXpxcTpSzN",
        "colab_type": "code",
        "colab": {}
      },
      "source": [
        "#takes data and list of column names\n",
        "#pair_t_test(red_eye, ['robot_a', 'robot_b'])\n",
        "def pair_t_test(data, column_names):\n",
        "    return stats.ttest_rel(data[column_names[0]], data[column_names[1]])"
      ],
      "execution_count": 0,
      "outputs": []
    },
    {
      "cell_type": "code",
      "metadata": {
        "id": "e1Elk0pDpS1y",
        "colab_type": "code",
        "colab": {}
      },
      "source": [
        "##takes two data and compare their same colum  \n",
        "def wilcoxon_ranksum_test(data1, data2, column):\n",
        "    return stats.ranksums(data1[column], data2[column])"
      ],
      "execution_count": 0,
      "outputs": []
    },
    {
      "cell_type": "code",
      "metadata": {
        "id": "XcAjUfVNxpj7",
        "colab_type": "code",
        "colab": {}
      },
      "source": [
        "ranksum_colum = 'allocation_metric'\n",
        "print(wilcoxon_ranksum_test(red_on_A_s1, red_on_B_s1, ranksum_colum))\n",
        "print(wilcoxon_ranksum_test(red_on_A_s2, red_on_B_s2, ranksum_colum))\n",
        "print(wilcoxon_ranksum_test(red_on_A_s3, red_on_B_s3, ranksum_colum))\n",
        "print(wilcoxon_ranksum_test(red_on_A_s4, red_on_B_s4, ranksum_colum))\n",
        "print(wilcoxon_ranksum_test(red_on_A, red_on_B, ranksum_colum))"
      ],
      "execution_count": 0,
      "outputs": []
    },
    {
      "cell_type": "markdown",
      "metadata": {
        "id": "QeJ9q32iu1kN",
        "colab_type": "text"
      },
      "source": [
        "# **Correlation of cubes allocation between 2 robots**"
      ]
    },
    {
      "cell_type": "code",
      "metadata": {
        "id": "NqnYTCfkGgYf",
        "colab_type": "code",
        "colab": {}
      },
      "source": [
        "raw_data[[\"robot_a\",\"robot_b\"]].corr()"
      ],
      "execution_count": 0,
      "outputs": []
    },
    {
      "cell_type": "markdown",
      "metadata": {
        "id": "Vg23h9PESh71",
        "colab_type": "text"
      },
      "source": [
        "# **Calculating the significance of allocated cubes as:**\n",
        "---\n",
        "*the number of allocated cubes to one robot divided by the sum of allocated cubes to both robots*"
      ]
    },
    {
      "cell_type": "code",
      "metadata": {
        "id": "bccSjId5RjG2",
        "colab_type": "code",
        "colab": {}
      },
      "source": [
        "approach1 = raw_data.copy()\n",
        "approach1[\"sum_cubes_a_and_b\"] = approach1[\"robot_a\"] + approach1[\"robot_b\"]\n",
        "approach1[\"significance_A\"] = approach1[\"robot_a\"] / approach1[\"sum_cubes_a_and_b\"]\n",
        "approach1[\"significance_B\"] = approach1[\"robot_b\"] / approach1[\"sum_cubes_a_and_b\"]\n",
        "approach1.head()"
      ],
      "execution_count": 0,
      "outputs": []
    },
    {
      "cell_type": "code",
      "metadata": {
        "id": "TGLk1-XkIcCj",
        "colab_type": "code",
        "colab": {}
      },
      "source": [
        "data_nvc_a = raw_data[raw_data['NVC'] == 'A']\n",
        "data_nvc_a = data_nvc_a[['scene', 'robot_a', 'robot_b']]\n",
        "data_nvc_a.head()"
      ],
      "execution_count": 0,
      "outputs": []
    },
    {
      "cell_type": "markdown",
      "metadata": {
        "id": "n57L-LscbTrq",
        "colab_type": "text"
      },
      "source": [
        "*Significance of robots in each scene*\n",
        "---\n",
        "___"
      ]
    },
    {
      "cell_type": "code",
      "metadata": {
        "id": "vgwfoKcqSvkp",
        "colab_type": "code",
        "colab": {}
      },
      "source": [
        "approach1_plot_data = approach1.groupby(['scene']).mean()\n",
        "approach1_plot_data = approach1_plot_data[['significance_A', 'significance_B']]\n",
        "approach1_plot_data"
      ],
      "execution_count": 0,
      "outputs": []
    },
    {
      "cell_type": "code",
      "metadata": {
        "id": "d7usTmM9S0Rt",
        "colab_type": "code",
        "colab": {}
      },
      "source": [
        " approach1_plot_data.plot(kind='bar', figsize=(20,10), title='The significance of robots considering a scene')"
      ],
      "execution_count": 0,
      "outputs": []
    },
    {
      "cell_type": "markdown",
      "metadata": {
        "id": "_uq5lGaCcAcN",
        "colab_type": "text"
      },
      "source": [
        "*Significance of robots with & without NVC in each scene*\n",
        "---\n",
        "___"
      ]
    },
    {
      "cell_type": "code",
      "metadata": {
        "id": "bY6EknNRS3xW",
        "colab_type": "code",
        "colab": {}
      },
      "source": [
        "approach1_plot_data = approach1.groupby(['scene', 'NVC']).mean()\n",
        "approach1_plot_data = approach1_plot_data[['significance_A', 'significance_B']]\n",
        "approach1_plot_data"
      ],
      "execution_count": 0,
      "outputs": []
    },
    {
      "cell_type": "code",
      "metadata": {
        "id": "vCEV2pb0TOGJ",
        "colab_type": "code",
        "colab": {}
      },
      "source": [
        " approach1_plot_data.plot(kind='bar', figsize=(20,10), title='The significance of robots considering a scene and if a robot NVC or not')"
      ],
      "execution_count": 0,
      "outputs": []
    },
    {
      "cell_type": "code",
      "metadata": {
        "id": "Y1ZKwwilZ75z",
        "colab_type": "code",
        "colab": {}
      },
      "source": [
        "def get_significance(row):\n",
        "   if row['NVC'] == 'A' :\n",
        "      return row['significance_A']\n",
        "   if row['NVC'] == 'B' :\n",
        "      return row['significance_B']\n",
        "   return 0.0\n",
        "approach1['significance'] = approach1.apply(lambda row: get_significance(row), axis=1)"
      ],
      "execution_count": 0,
      "outputs": []
    },
    {
      "cell_type": "code",
      "metadata": {
        "id": "BzHcPxxgaACX",
        "colab_type": "code",
        "colab": {}
      },
      "source": [
        "data_corr = approach1[approach1['scene']==2]\n",
        "data_corr = data_corr[['NVC','significance']]\n",
        "data_corr.NVC = pd.Categorical(data_corr.NVC)\n",
        "data_corr['NVC_encoded'] = data_corr.NVC.cat.codes\n",
        "data_corr.corr()"
      ],
      "execution_count": 0,
      "outputs": []
    },
    {
      "cell_type": "markdown",
      "metadata": {
        "id": "zRSP7rrLXgg6",
        "colab_type": "text"
      },
      "source": [
        "# **Personality type and NVC**"
      ]
    },
    {
      "cell_type": "code",
      "metadata": {
        "id": "y9UgOkX_XnBE",
        "colab_type": "code",
        "colab": {}
      },
      "source": [
        "questionnaire_data = df.copy()\n",
        "questionnaire_data = questionnaire_data[questionnaire_data.iloc[:,6] < 54]\n",
        "personality_data = questionnaire_data.iloc[:,6:30]\n",
        "personality_data = personality_data.drop(personality_data.columns[[1,2,3,4,5,6,7,8]], axis=1)\n",
        "personality_data.columns = ['participant', 'Q1', 'Q2', 'Q3', 'Q4', 'Q5', 'Q6', 'Q7', 'Q8', 'Q9', 'Q10', 'Q11', 'Q12', 'Q13', 'Q14', 'Q15']\n",
        "cols_to_check = ['Q1', 'Q2', 'Q3', 'Q4', 'Q5', 'Q6', 'Q7', 'Q8', 'Q9', 'Q10', 'Q11', 'Q12', 'Q13', 'Q14', 'Q15']\n",
        "personality_data[cols_to_check] = personality_data[cols_to_check].replace({'A':''}, regex=True)\n",
        "personality_data = personality_data.apply(pd.to_numeric)\n",
        "\n",
        "personality_data['Q3'] = 8 - personality_data['Q3']\n",
        "personality_data['Q6'] = 8 - personality_data['Q6']\n",
        "personality_data['Q10'] = 8 - personality_data['Q10']\n",
        "personality_data['Q14'] = 8 - personality_data['Q14']\n",
        "\n",
        "neuroticism_cols_to_check = ['Q1', 'Q2', 'Q3']\n",
        "extraversion_cols_to_check = ['Q4', 'Q5', 'Q6']\n",
        "openness_cols_to_check = ['Q7', 'Q8', 'Q9']\n",
        "agreeableness_cols_to_check = ['Q10', 'Q11', 'Q12']\n",
        "conscientiousness_cols_to_check = ['Q13', 'Q14', 'Q15']\n",
        "\n",
        "# See https://www.oecd.org/skills/piaac/Annex-A-Measures-of-the-big-five-dimensions.pdf\n",
        "personality_data['neuroticism'] = personality_data[neuroticism_cols_to_check].sum(axis=1)\n",
        "personality_data['extraversion'] = personality_data[extraversion_cols_to_check].sum(axis=1)\n",
        "personality_data['openness'] = personality_data[openness_cols_to_check].sum(axis=1)\n",
        "personality_data['agreeableness'] = personality_data[agreeableness_cols_to_check].sum(axis=1)\n",
        "personality_data['conscientiousness'] = personality_data[conscientiousness_cols_to_check].sum(axis=1)\n",
        "\n",
        "pd.set_option('display.max_columns', None)\n",
        "personality_data = personality_data.set_index(\"participant\")\n",
        "personality_data = personality_data.iloc[:,15:]\n",
        "personality_data.tail()\n",
        "personality_data.tail()"
      ],
      "execution_count": 0,
      "outputs": []
    },
    {
      "cell_type": "code",
      "metadata": {
        "id": "z-epVgrTCy2F",
        "colab_type": "code",
        "colab": {}
      },
      "source": [
        "risk_propensity_data = questionnaire_data.iloc[:, [6, 30, 32, 33, 34, 34]]\n",
        "risk_propensity_data.columns = ['participant', 'Q1', 'Q2', 'Q3', 'Q4', 'Q5']\n",
        "cols_to_check = ['Q1', 'Q2', 'Q3', 'Q4', 'Q5']\n",
        "risk_propensity_data = risk_propensity_data.replace({'A':''}, regex=True)\n",
        "risk_propensity_data = risk_propensity_data.apply(pd.to_numeric)\n",
        "\n",
        "risk_propensity_data['Q1'] = 8 - risk_propensity_data['Q1']\n",
        "risk_propensity_data['Q2'] = 8 - risk_propensity_data['Q2']\n",
        "risk_propensity_data['Q3'] = 8 - risk_propensity_data['Q3']\n",
        "\n",
        "risk_propensity_data['risk_propensity'] = risk_propensity_data[cols_to_check].mean(axis=1)\n",
        "\n",
        "pd.set_option('display.max_columns', None)\n",
        "risk_propensity_data = risk_propensity_data.set_index(\"participant\")\n",
        "risk_propensity_data = risk_propensity_data[[\"risk_propensity\"]]\n",
        "risk_propensity_data.head()"
      ],
      "execution_count": 0,
      "outputs": []
    },
    {
      "cell_type": "code",
      "metadata": {
        "id": "KsBfi9Y-AkZQ",
        "colab_type": "code",
        "colab": {}
      },
      "source": [
        "trust_propensity_data = questionnaire_data.iloc[:, [6, 35, 36, 37, 38]]\n",
        "trust_propensity_data.columns = ['participant', 'Q1', 'Q2', 'Q3', 'Q4']\n",
        "cols_to_check = ['Q1', 'Q2', 'Q3', 'Q4']\n",
        "trust_propensity_data = trust_propensity_data.replace({'A':''}, regex=True)\n",
        "trust_propensity_data = trust_propensity_data.apply(pd.to_numeric)\n",
        "\n",
        "trust_propensity_data['trust_propensity'] = trust_propensity_data[cols_to_check].mean(axis=1)\n",
        "\n",
        "pd.set_option('display.max_columns', None)\n",
        "trust_propensity_data = trust_propensity_data.set_index(\"participant\")\n",
        "trust_propensity_data = trust_propensity_data.iloc[:,4:]\n",
        "trust_propensity_data.head()"
      ],
      "execution_count": 0,
      "outputs": []
    },
    {
      "cell_type": "markdown",
      "metadata": {
        "id": "dbKq3ITCNJgz",
        "colab_type": "text"
      },
      "source": [
        "Correlation between personality types and allocation of cubes for both robots when robot A is an NVC robot"
      ]
    },
    {
      "cell_type": "code",
      "metadata": {
        "id": "M_cHx6V9IIE9",
        "colab_type": "code",
        "colab": {}
      },
      "source": [
        "merged_data = pd.merge(personality_data, risk_propensity_data, how='inner', on='participant')\n",
        "merged_data = pd.merge(merged_data, trust_propensity_data, how='inner', on='participant')\n",
        "merged_data = merged_data.reset_index()\n",
        "merged_data.tail()"
      ],
      "execution_count": 0,
      "outputs": []
    },
    {
      "cell_type": "code",
      "metadata": {
        "id": "n6t0HkA5EulO",
        "colab_type": "code",
        "colab": {}
      },
      "source": [
        "def run_wilcoxon_test(data, alternative, withScenes=False):\n",
        "  '''\n",
        "  Tests if a group A and a group B differ using one sample Wilcoxon test. \n",
        "  Do not confuse A and B with robot names.\n",
        "  Note: we use allocation metric calculated as (B-A)/(B+A) and it means that\n",
        "  when allocation metric is less than zero participants tend to select\n",
        "  a robot A\n",
        "  H0: no difference between two groups\n",
        "  H1: there is a difference\n",
        "  '''\n",
        "  if withScenes:\n",
        "    for scene in data[\"scene\"].unique().tolist():\n",
        "        if scene == 0:\n",
        "            continue\n",
        "        data = data[data[\"scene\"] == scene]\n",
        "        print(f'Scene: {scene}')\n",
        "        print(f'Two-sided: {stats.wilcoxon(data[\"allocation_metric\"])}')\n",
        "        print(f'Alternative is {alternative}')\n",
        "        print(f'One-tailed: {stats.wilcoxon(data[\"allocation_metric\"], alternative=alternative)}')\n",
        "  else:\n",
        "    print(f'Two-sided: {stats.wilcoxon(data[\"allocation_metric\"])}')\n",
        "    print(f'Alternative is {alternative}')        \n",
        "    print(f'One-tailed: {stats.wilcoxon(data[\"allocation_metric\"], alternative=alternative)}')\n",
        "              \n",
        "def run_friedman_test(data):\n",
        "  '''\n",
        "  '''\n",
        "  output = stats.friedmanchisquare(data[data[\"scene\"]==0][\"allocation_metric\"],\n",
        "                                             data[data[\"scene\"]==1][\"allocation_metric\"],\n",
        "                                             data[data[\"scene\"]==2][\"allocation_metric\"],\n",
        "                                             data[data[\"scene\"]==3][\"allocation_metric\"],\n",
        "                                             data[data[\"scene\"]==4][\"allocation_metric\"])\n",
        "  print(output)\n",
        "  return output\n",
        "    \n",
        "def get_relevant_participants(data, column, top_k=20, largest=True):\n",
        "    w_data = data.copy()\n",
        "    if largest:\n",
        "        w_data = w_data.nlargest(top_k, column)\n",
        "    else: \n",
        "        w_data = w_data.nsmallest(top_k, column)\n",
        "    w_data = w_data[\"participant\"].tolist()   \n",
        "    return w_data\n",
        "        \n",
        "def select_data(data, participants, nvc_robot='NVC_A'):\n",
        "    w_data = data.copy()\n",
        "    w_data = w_data[w_data[nvc_robot] == True]\n",
        "    w_data = w_data.loc[w_data['participant'].isin(participants)]\n",
        "    print(f'Participants: {w_data[\"participant\"].unique().tolist()}')\n",
        "    return w_data\n",
        "        \n",
        "def evaluate_personalities(raw_data, merged_data, nvc_robot, head_switch_info='No info provided'):\n",
        "    personalities = [\"openness\", \"extraversion\", \"agreeableness\", \"conscientiousness\", \"neuroticism\"]\n",
        "    for personality_type in personalities:\n",
        "        data = select_data(raw_data, get_relevant_participants(merged_data, personality_type), nvc_robot=nvc_robot)\n",
        "        alternative = \"less\"\n",
        "        if nvc_robot == \"NVC_B\":\n",
        "            alternative = \"greater\"\n",
        "        print(f'Evaluation for {personality_type}')\n",
        "        print(f'Head switch info: {head_switch_info}')\n",
        "        run_wilcoxon_test(data, alternative)\n",
        "        print('\\n')\n",
        "        axes = data[[\"allocation_metric\"]].hist(bins=20, figsize=(10,5))\n",
        "        pl.suptitle(\"The frequency distribution for personality {}\".format(personality_type))\n",
        "\n",
        "def evaluate_personalities_over_repeated_measures(raw_data, merged_data, nvc_robot):\n",
        "    personalities = [\"openness\", \"extraversion\", \"agreeableness\", \"conscientiousness\", \"neuroticism\"]\n",
        "    for personality_type in personalities:\n",
        "        data = select_data(raw_data, get_relevant_participants(merged_data, personality_type), nvc_robot=nvc_robot)\n",
        "        alternative = \"less\"\n",
        "        scene = None\n",
        "        if nvc_robot == \"NVC_B\":\n",
        "            alternative = \"greater\"\n",
        "        print(f'Evaluation for {personality_type}')\n",
        "        run_friedman_test(data)\n",
        "        print('\\n')\n",
        "\n",
        "def evaluate_risk_propensity(raw_data, merged_data, nvc_robot, largest_values=True, top_k=20):\n",
        "    data = select_data(raw_data, get_relevant_participants(merged_data, \"risk_propensity\", largest=largest_values, top_k=top_k), nvc_robot=nvc_robot)\n",
        "    alternative = \"less\"\n",
        "    if nvc_robot == \"NVC_B\":\n",
        "        alternative = \"greater\"\n",
        "    print(f'Evaluation for risk propensity')\n",
        "    run_wilcoxon_test(data, alternative)\n",
        "    print('\\n')\n",
        "    axes = data[[\"allocation_metric\"]].hist(bins=20, figsize=(10,5))\n",
        "    pl.suptitle(\"The frequency distribution for risk propensity\")\n",
        "          \n",
        "def evaluate_risk_propensity_over_repeated_measures(raw_data, merged_data, nvc_robot, largest_values=True, top_k=20):\n",
        "    data = select_data(raw_data, get_relevant_participants(merged_data, \"risk_propensity\", largest=largest_values, top_k=top_k), nvc_robot=nvc_robot)\n",
        "    alternative = \"less\"\n",
        "    if nvc_robot == \"NVC_B\":\n",
        "        alternative = \"greater\"\n",
        "    print(f'Evaluation for risk propensity')\n",
        "    run_friedman_test(data)\n",
        "    print('\\n')\n",
        "\n",
        "def evaluate_trust_propensity(raw_data, merged_data, nvc_robot, largest_values=True, top_k=20):\n",
        "    data = select_data(raw_data, get_relevant_participants(merged_data, \"trust_propensity\", largest=largest_values, top_k=top_k), nvc_robot=nvc_robot)\n",
        "    alternative = \"less\"\n",
        "    if nvc_robot == \"NVC_B\":\n",
        "        alternative = \"greater\"\n",
        "    print(f'Evaluation for trust propensity')\n",
        "    run_wilcoxon_test(data, alternative)\n",
        "    print('\\n')\n",
        "    axes = data[[\"allocation_metric\"]].hist(bins=20, figsize=(10,5))\n",
        "    pl.suptitle(\"The frequency distribution for trust propensity\")\n"
      ],
      "execution_count": 0,
      "outputs": []
    },
    {
      "cell_type": "markdown",
      "metadata": {
        "id": "JrOM63SpiM8x",
        "colab_type": "text"
      },
      "source": [
        "### Evaluate if there is a difference between between NVC and non-NVC robots taking into consideration personality types. "
      ]
    },
    {
      "cell_type": "code",
      "metadata": {
        "id": "uBy2Jg2qiNdg",
        "colab_type": "code",
        "colab": {}
      },
      "source": [
        "evaluate_personalities(raw_data[raw_data[\"head_group\"]==0], merged_data, \"NVC_A\", head_switch_info=\"till Participant 27\")\n",
        "evaluate_personalities(raw_data[raw_data[\"head_group\"]==1], merged_data, \"NVC_A\", head_switch_info=\"after Participant 27\")\n",
        "evaluate_personalities(raw_data, merged_data, \"NVC_A\", head_switch_info=\"all data\")"
      ],
      "execution_count": 0,
      "outputs": []
    },
    {
      "cell_type": "markdown",
      "metadata": {
        "id": "qaVxwX_sFwBK",
        "colab_type": "text"
      },
      "source": [
        "#### Conclucion for personality types: there is no significant difference between NVC-Robot A and non-NVC robot B for all personality types"
      ]
    },
    {
      "cell_type": "code",
      "metadata": {
        "id": "CfBwrx72qSo5",
        "colab_type": "code",
        "colab": {}
      },
      "source": [
        "evaluate_personalities(raw_data, merged_data, \"NVC_B\")"
      ],
      "execution_count": 0,
      "outputs": []
    },
    {
      "cell_type": "markdown",
      "metadata": {
        "id": "3mZZ5JuDm1vK",
        "colab_type": "text"
      },
      "source": [
        "#### Conclucion for personality types: there is a significant difference between NVC-Robot B and non-NVC robot A for all personality types except conscientiousness, where B is preferred by participants."
      ]
    },
    {
      "cell_type": "markdown",
      "metadata": {
        "id": "mwsXa6Jonti0",
        "colab_type": "text"
      },
      "source": [
        "## Evaluate personalities over repeated measures (scenes)"
      ]
    },
    {
      "cell_type": "code",
      "metadata": {
        "id": "GjoIFJk2n3NZ",
        "colab_type": "code",
        "colab": {}
      },
      "source": [
        "data = evaluate_personalities_over_repeated_measures(raw_data, merged_data, \"NVC_A\")\n"
      ],
      "execution_count": 0,
      "outputs": []
    },
    {
      "cell_type": "markdown",
      "metadata": {
        "id": "KIZrME3cm-Hu",
        "colab_type": "text"
      },
      "source": [
        "# Evaluate if there is a difference between between NVC and non-NVC robots taking into consideration risk propensity. "
      ]
    },
    {
      "cell_type": "code",
      "metadata": {
        "id": "fhVNk2OBm7hZ",
        "colab_type": "code",
        "colab": {}
      },
      "source": [
        "evaluate_risk_propensity(raw_data, merged_data, \"NVC_A\")"
      ],
      "execution_count": 0,
      "outputs": []
    },
    {
      "cell_type": "code",
      "metadata": {
        "id": "mtQHGBfenLfJ",
        "colab_type": "code",
        "colab": {}
      },
      "source": [
        "evaluate_risk_propensity(raw_data, merged_data, \"NVC_B\")"
      ],
      "execution_count": 0,
      "outputs": []
    },
    {
      "cell_type": "code",
      "metadata": {
        "id": "DU7P_DIknOC0",
        "colab_type": "code",
        "colab": {}
      },
      "source": [
        "evaluate_risk_propensity(raw_data, merged_data, \"NVC_A\", largest_values=False)"
      ],
      "execution_count": 0,
      "outputs": []
    },
    {
      "cell_type": "code",
      "metadata": {
        "id": "Y80h2Lh1nQFA",
        "colab_type": "code",
        "colab": {}
      },
      "source": [
        "evaluate_risk_propensity(raw_data[raw_data[\"head_group\"]==False], merged_data, \"NVC_B\", largest_values=False)\n",
        "evaluate_risk_propensity(raw_data[raw_data[\"head_group\"]==True], merged_data, \"NVC_B\", largest_values=False)\n",
        "evaluate_risk_propensity(raw_data, merged_data, \"NVC_B\", largest_values=False)"
      ],
      "execution_count": 0,
      "outputs": []
    },
    {
      "cell_type": "markdown",
      "metadata": {
        "id": "ErfJ2SNFnSq7",
        "colab_type": "text"
      },
      "source": [
        "#### Conclusion for risk propensity: there is a significant difference between NVC-Robot B and non-NVC robot A for participants with low risk propensity and where B is preferred."
      ]
    },
    {
      "cell_type": "markdown",
      "metadata": {
        "id": "HhtsQcKloA4y",
        "colab_type": "text"
      },
      "source": [
        "## Evaluate risk propensity over repeated measure (scenes)"
      ]
    },
    {
      "cell_type": "code",
      "metadata": {
        "id": "Xm5Rn9gsoH1_",
        "colab_type": "code",
        "colab": {}
      },
      "source": [
        "evaluate_risk_propensity_over_repeated_measures(raw_data, merged_data, \"NVC_A\", largest_values=True)"
      ],
      "execution_count": 0,
      "outputs": []
    },
    {
      "cell_type": "markdown",
      "metadata": {
        "id": "sJusSH-lnVO7",
        "colab_type": "text"
      },
      "source": [
        "# Evaluate if there is a difference between between NVC and non-NVC robots taking into consideration trust propensity. "
      ]
    },
    {
      "cell_type": "code",
      "metadata": {
        "id": "IV6PnoNwnX_k",
        "colab_type": "code",
        "colab": {}
      },
      "source": [
        "evaluate_trust_propensity(raw_data, merged_data, \"NVC_A\")"
      ],
      "execution_count": 0,
      "outputs": []
    },
    {
      "cell_type": "code",
      "metadata": {
        "id": "2ATg6R3Ync7l",
        "colab_type": "code",
        "colab": {}
      },
      "source": [
        "evaluate_trust_propensity(raw_data, merged_data, \"NVC_B\")"
      ],
      "execution_count": 0,
      "outputs": []
    },
    {
      "cell_type": "code",
      "metadata": {
        "id": "uvrWFvxxngtn",
        "colab_type": "code",
        "colab": {}
      },
      "source": [
        "evaluate_trust_propensity(raw_data, merged_data, \"NVC_A\", largest_values=False)"
      ],
      "execution_count": 0,
      "outputs": []
    },
    {
      "cell_type": "code",
      "metadata": {
        "id": "ithCUu4Bni1s",
        "colab_type": "code",
        "colab": {}
      },
      "source": [
        "evaluate_trust_propensity(raw_data, merged_data, \"NVC_B\", largest_values=False)"
      ],
      "execution_count": 0,
      "outputs": []
    },
    {
      "cell_type": "markdown",
      "metadata": {
        "id": "mstiMtofnlHo",
        "colab_type": "text"
      },
      "source": [
        "#### Conclusion for trust propensity: there is no significant difference between robots."
      ]
    },
    {
      "cell_type": "markdown",
      "metadata": {
        "id": "aIYhfr0BnpRF",
        "colab_type": "text"
      },
      "source": [
        ""
      ]
    },
    {
      "cell_type": "markdown",
      "metadata": {
        "colab_type": "text",
        "id": "ybRv3laJLt-e"
      },
      "source": [
        "# **Questtionnaire Evaluation**\n",
        "---"
      ]
    },
    {
      "cell_type": "markdown",
      "metadata": {
        "id": "ilWwflIn-E4x",
        "colab_type": "text"
      },
      "source": [
        "# Data Segments Preparation"
      ]
    },
    {
      "cell_type": "code",
      "metadata": {
        "id": "o3JY0jipTSM-",
        "colab_type": "code",
        "colab": {}
      },
      "source": [
        "#df = df.drop(columns=['Response ID', 'Date submitted', 'Last page', 'Start language'])\n",
        "basics = df.loc[ : , ['What is your sex?','How old are you?']]\n",
        "robot_interaction  = df.loc[ : , [\n",
        "                      'How familiar are you with computers?', \n",
        "                      'Have you ever interacted with a robot before? [Never]',\n",
        "                      'Have you ever interacted with a robot before? [In an entertainment setting (i.e. drones)]',\n",
        "                      'Have you ever interacted with a robot before? [In a commercial/utility setting (i.e. vacuums, industry)]',\n",
        "                      'Have you ever interacted with a robot before? [At work (i.e. robotics research)]',\n",
        "                      'Do you like robots?'\n",
        "                      ]\n",
        "                  ]\n",
        "bfis = df.loc[ : , [\n",
        "                      'Do you agree or disagree with the following statements? [Do you worry a lot?]',\n",
        "                      'Do you agree or disagree with the following statements? [Do you get nervous easily?]',\n",
        "                      'Do you agree or disagree with the following statements? [Do you remain calm in tense situations?]',\n",
        "                      'Do you agree or disagree with the following statements? [Are you talkative?]',\n",
        "                      'Do you agree or disagree with the following statements? [Are you outgoing, sociable?]',\n",
        "                      'Do you agree or disagree with the following statements? [Are you reserved?]',\n",
        "                      'Do you agree or disagree with the following statements? [Are you original? / Do you come up with new ideas?]',\n",
        "                      'Do you agree or disagree with the following statements? [Do you value artistic, aesthetic experiences?]',\n",
        "                      'Do you agree or disagree with the following statements? [Do you have an active imagination?]',\n",
        "                      'Do you agree or disagree with the following statements? [Are you sometimes rude to others?]',\n",
        "                      'Do you agree or disagree with the following statements? [Do you have a forgiving nature?]',\n",
        "                      'Do you agree or disagree with the following statements? [Are you considerate and kind to almost everyone?]',\n",
        "                      'Do you agree or disagree with the following statements? [Do you do a thorough job?]',\n",
        "                      'Do you agree or disagree with the following statements? [Do you tend to be lazy?]',\n",
        "                      'Do you agree or disagree with the following statements? [Do you do things efficiently?]',\n",
        "                      ]\n",
        "                ]\n",
        "risk_propensity = df.loc[ : , [\n",
        "                      'Do you agree or disagree with the following statements? [Safety first]', \n",
        "                      'Do you agree or disagree with the following statements? [I do not take risks with my health]',\n",
        "                      'Do you agree or disagree with the following statements? [I prefer to avoid risks]',\n",
        "                      'Do you agree or disagree with the following statements? [I take risks regularly]',\n",
        "                      'Do you agree or disagree with the following statements? [I really dislike not knowing what is going to happen]',\n",
        "                      ]\n",
        "                  ]\n",
        "trust_propensity = df.loc[ : , [\n",
        "                      'Do you agree or disagree with the following statements? [One should be very cautious with strangers.]',\n",
        "                      'Do you agree or disagree with the following statements? [Most experts tell the truth about the limits of their knowledge.]',\n",
        "                      'Do you agree or disagree with the following statements? [Most people can be counted on to do what they say they will do.]',\n",
        "                      'Do you agree or disagree with the following statements? [Most people answer public opinion polls honestly.]',\n",
        "                      ]\n",
        "                  ]\n",
        "# post questionaire\n",
        "godspeed = df.iloc[:,36:76]\n",
        "ownQ = df.iloc[:,76:110]\n",
        "openQ = df.iloc[:,110:113]"
      ],
      "execution_count": 0,
      "outputs": []
    },
    {
      "cell_type": "markdown",
      "metadata": {
        "id": "u3TIleYC-MPX",
        "colab_type": "text"
      },
      "source": [
        "# Data Preprocessing"
      ]
    },
    {
      "cell_type": "code",
      "metadata": {
        "id": "BRWmKgZT9cS0",
        "colab_type": "code",
        "colab": {}
      },
      "source": [
        "# risk propensity\n",
        "# paper says 1-4 are inverted, but 1-3 and 5 makes more sense...\n",
        "inverted_keys = [\n",
        "                   \"Do you agree or disagree with the following statements? [Safety first]\",\n",
        "                   \"Do you agree or disagree with the following statements? [I do not take risks with my health]\",\n",
        "                   \"Do you agree or disagree with the following statements? [I prefer to avoid risks]\",\n",
        "                   \"Do you agree or disagree with the following statements? [I really dislike not knowing what is going to happen]\"\n",
        "]\n",
        "for key, values in risk_propensity.items():\n",
        "  print(key)\n",
        "  if key not in inverted_keys:\n",
        "    # normal scale\n",
        "    converted_values = [int(value[1:]) for value in values]\n",
        "  else:\n",
        "    # inverted scales\n",
        "    converted_values = [8-int(value[1:]) for value in values]\n",
        "  print(converted_values)\n",
        "  risk_propensity[key] = converted_values\n",
        "risk_propensity_scores = np.sum(risk_propensity.values, axis=1) / 5.0"
      ],
      "execution_count": 0,
      "outputs": []
    },
    {
      "cell_type": "code",
      "metadata": {
        "id": "K0drRTDg-U7i",
        "colab_type": "code",
        "colab": {}
      },
      "source": [
        "rps_mean = np.mean(risk_propensity_scores)\n",
        "rps_std = np.std(risk_propensity_scores)\n",
        "print(\"rps mean {} (scaled: {})\".format(rps_mean, rps_mean / 7.0 * 9.0,))\n",
        "print(\"rps std {} (scaled: {})\".format(rps_std, rps_std / 7.0 * 9.0,))"
      ],
      "execution_count": 0,
      "outputs": []
    },
    {
      "cell_type": "code",
      "metadata": {
        "id": "r39m5kaW-YGj",
        "colab_type": "code",
        "colab": {}
      },
      "source": [
        "trust_propensity.replace(to_replace=\"A1\", value=1, inplace=True)\n",
        "trust_propensity.replace(to_replace=\"A2\", value=2, inplace=True)\n",
        "trust_propensity.replace(to_replace=\"A3\", value=3, inplace=True)\n",
        "trust_propensity.replace(to_replace=\"A4\", value=4, inplace=True)\n",
        "trust_propensity.replace(to_replace=\"A5\", value=5, inplace=True)"
      ],
      "execution_count": 0,
      "outputs": []
    },
    {
      "cell_type": "markdown",
      "metadata": {
        "id": "raabA_da-lPa",
        "colab_type": "text"
      },
      "source": [
        "# Basics"
      ]
    },
    {
      "cell_type": "markdown",
      "metadata": {
        "id": "58gv7UHzen5h",
        "colab_type": "text"
      },
      "source": [
        "Basic info (age and gender) keys are replaced. (A1 - A4) Same for robot interaction questions keys (A1 - A3) and one new column was added {rob_inbt} to accumulate the response for interaction with robots. (0:Never, 1: any interaction) Responses to the question 'Do you like robots?' has been categorized into like, dislike and idk."
      ]
    },
    {
      "cell_type": "code",
      "metadata": {
        "id": "91U-yuvVeqCD",
        "colab_type": "code",
        "colab": {}
      },
      "source": [
        "basics['What is your sex?'].replace('A1','F',True)\n",
        "basics['What is your sex?'].replace('A2','M',True)\n",
        "basics['What is your sex?'].replace('A3','I',True)\n",
        "basics['What is your sex?'].replace('A4','N',True)\n",
        "robot_interaction['rob_int'] = 1\n",
        "robot_interaction.loc[robot_interaction['Have you ever interacted with a robot before? [Never]'] == 0, 'rob_int'] = 0\n",
        "robot_interaction = robot_interaction.drop(columns=[\"Have you ever interacted with a robot before? [Never]\",\n",
        "                                                    \"Have you ever interacted with a robot before? [In an entertainment setting (i.e. drones)]\", \t\n",
        "                                                    \"Have you ever interacted with a robot before? [In a commercial/utility setting (i.e. vacuums, industry)]\", \t\n",
        "                                                    \"Have you ever interacted with a robot before? [At work (i.e. robotics research)]\",\n",
        "                                                    ])\n",
        "robot_interaction['Do you like robots?'].replace('A1','Like',True)\n",
        "robot_interaction['Do you like robots?'].replace('A2','Dislike',True)\n",
        "robot_interaction['Do you like robots?'].replace('A3','IDK',True)"
      ],
      "execution_count": 0,
      "outputs": []
    },
    {
      "cell_type": "markdown",
      "metadata": {
        "id": "H2QtBG-2e4Xc",
        "colab_type": "text"
      },
      "source": [
        "# Trust Propensity"
      ]
    },
    {
      "cell_type": "code",
      "metadata": {
        "id": "dDyFNqAJe9q9",
        "colab_type": "code",
        "colab": {}
      },
      "source": [
        "trust_propensity.replace(to_replace=\"A1\", value=1, inplace=True)\n",
        "trust_propensity.replace(to_replace=\"A2\", value=2, inplace=True)\n",
        "trust_propensity.replace(to_replace=\"A3\", value=3, inplace=True)\n",
        "trust_propensity.replace(to_replace=\"A4\", value=4, inplace=True)\n",
        "trust_propensity.replace(to_replace=\"A5\", value=5, inplace=True)\n",
        "trust_propensity['Do you agree or disagree with the following statements? [One should be very cautious with strangers.]'] = abs(\n",
        "    6 - trust_propensity['Do you agree or disagree with the following statements? [One should be very cautious with strangers.]'])\n",
        "trust_propensity['trust_mean'] = trust_propensity.mean(axis=1)\n",
        "trust_propensity['trust_mean'] = trust_propensity['trust_mean'] / 7.0"
      ],
      "execution_count": 0,
      "outputs": []
    },
    {
      "cell_type": "markdown",
      "metadata": {
        "id": "LfEhwhwmfA0m",
        "colab_type": "text"
      },
      "source": [
        "# BFIS"
      ]
    },
    {
      "cell_type": "markdown",
      "metadata": {
        "id": "QjMc9GqgfGo7",
        "colab_type": "text"
      },
      "source": [
        "BFI-S personality questionare keys are replaced. (A1 - A7) For negative questions the responses are inverted. New columns were added and calculated as each category of the bfis questionaire. (averaged and nomalized)"
      ]
    },
    {
      "cell_type": "code",
      "metadata": {
        "id": "R4T1Gs7xfDTx",
        "colab_type": "code",
        "colab": {}
      },
      "source": [
        "bfis.replace(to_replace=\"A1\", value=1, inplace=True)\n",
        "bfis.replace(to_replace=\"A2\", value=2, inplace=True)\n",
        "bfis.replace(to_replace=\"A3\", value=3, inplace=True)\n",
        "bfis.replace(to_replace=\"A4\", value=4, inplace=True)\n",
        "bfis.replace(to_replace=\"A5\", value=5, inplace=True)\n",
        "bfis.replace(to_replace=\"A6\", value=6, inplace=True)\n",
        "bfis.replace(to_replace=\"A7\", value=7, inplace=True)\n",
        "\n",
        "bfis['Do you agree or disagree with the following statements? [Do you remain calm in tense situations?]'] = abs(\n",
        "    8 - bfis['Do you agree or disagree with the following statements? [Do you remain calm in tense situations?]'])\n",
        "\n",
        "bfis['neurot'] = (bfis['Do you agree or disagree with the following statements? [Do you worry a lot?]'] + \n",
        "                   bfis['Do you agree or disagree with the following statements? [Do you get nervous easily?]'] +\n",
        "                   bfis['Do you agree or disagree with the following statements? [Do you remain calm in tense situations?]'])/3\n",
        "bfis['neurot'] = bfis['neurot'] #/ 7.0\n",
        "\n",
        "bfis['Do you agree or disagree with the following statements? [Are you reserved?]'] = abs(\n",
        "    8 - bfis['Do you agree or disagree with the following statements? [Are you reserved?]'])\n",
        "\n",
        "bfis['extro'] = (bfis['Do you agree or disagree with the following statements? [Are you talkative?]'] + \n",
        "                   bfis['Do you agree or disagree with the following statements? [Are you outgoing, sociable?]'] +\n",
        "                   bfis['Do you agree or disagree with the following statements? [Are you reserved?]'])/3\n",
        "bfis['extro'] = bfis['extro'] #/ 7.0\n",
        "\n",
        "bfis['openn'] = (bfis['Do you agree or disagree with the following statements? [Are you original? / Do you come up with new ideas?]'] + \n",
        "                   bfis['Do you agree or disagree with the following statements? [Do you value artistic, aesthetic experiences?]'] +\n",
        "                   bfis['Do you agree or disagree with the following statements? [Do you have an active imagination?]'])/3\n",
        "bfis['openn'] = bfis['openn'] #/ 7.0\n",
        "\n",
        "bfis['Do you agree or disagree with the following statements? [Are you sometimes rude to others?]'] = abs(\n",
        "    8 - bfis['Do you agree or disagree with the following statements? [Are you sometimes rude to others?]'])\n",
        "\n",
        "bfis['agree'] = (bfis['Do you agree or disagree with the following statements? [Are you sometimes rude to others?]'] + \n",
        "                   bfis['Do you agree or disagree with the following statements? [Do you have a forgiving nature?]'] +\n",
        "                   bfis['Do you agree or disagree with the following statements? [Are you considerate and kind to almost everyone?]'])/3\n",
        "bfis['agree'] = bfis['agree'] #/ 7.0\n",
        "\n",
        "bfis['Do you agree or disagree with the following statements? [Do you tend to be lazy?]'] = abs(\n",
        "    8 - bfis['Do you agree or disagree with the following statements? [Do you tend to be lazy?]'])\n",
        "\n",
        "bfis['consc'] = (bfis['Do you agree or disagree with the following statements? [Do you do a thorough job?]'] + \n",
        "                   bfis['Do you agree or disagree with the following statements? [Do you tend to be lazy?]'] +\n",
        "                   bfis['Do you agree or disagree with the following statements? [Do you do things efficiently?]'])/3\n",
        "bfis['consc'] = bfis['consc'] #/ 7.0"
      ],
      "execution_count": 0,
      "outputs": []
    },
    {
      "cell_type": "markdown",
      "metadata": {
        "id": "HG7BKtGHfKSL",
        "colab_type": "text"
      },
      "source": [
        "# Godspeed"
      ]
    },
    {
      "cell_type": "markdown",
      "metadata": {
        "id": "Au5NFkLFfRO7",
        "colab_type": "text"
      },
      "source": [
        "GODSPEED questionare keys are replaced. (A1 - A9) For negative questions the responses are inverted. New columns were added and calculated as each category of the GODSPEED questionaire for each robot. (averaged and normalized)"
      ]
    },
    {
      "cell_type": "code",
      "metadata": {
        "id": "4MgRomZbfPCg",
        "colab_type": "code",
        "outputId": "3455fd85-6247-4f71-bf64-656e5355ae3f",
        "colab": {
          "base_uri": "https://localhost:8080/",
          "height": 438
        }
      },
      "source": [
        "godspeed.replace(to_replace=\"A1\", value=1, inplace=True)\n",
        "godspeed.replace(to_replace=\"A2\", value=2, inplace=True)\n",
        "godspeed.replace(to_replace=\"A3\", value=3, inplace=True)\n",
        "godspeed.replace(to_replace=\"A4\", value=4, inplace=True)\n",
        "godspeed.replace(to_replace=\"A5\", value=5, inplace=True)\n",
        "godspeed.replace(to_replace=\"A6\", value=6, inplace=True)\n",
        "godspeed.replace(to_replace=\"A7\", value=7, inplace=True)\n",
        "godspeed.replace(to_replace=\"A8\", value=8, inplace=True)\n",
        "godspeed.replace(to_replace=\"A9\", value=9, inplace=True)\n",
        "# A\n",
        "godspeed[\"A_antro\"] = (godspeed.iloc[:,0]\n",
        "                       + godspeed.iloc[:,1]\n",
        "                       + godspeed.iloc[:,2]\n",
        "                       + godspeed.iloc[:,3]\n",
        "                       + godspeed.iloc[:,4])/5\n",
        "godspeed[\"A_antro\"] = godspeed[\"A_antro\"] / 9\n",
        "\n",
        "godspeed[\"A_anima\"] = (godspeed.iloc[:,5]\n",
        "                       + godspeed.iloc[:,6]\n",
        "                       + godspeed.iloc[:,7]\n",
        "                       + godspeed.iloc[:,8]\n",
        "                       + godspeed.iloc[:,9])/5\n",
        "godspeed[\"A_anima\"] = godspeed[\"A_anima\"] / 9\n",
        "\n",
        "godspeed[\"A_likab\"] = (godspeed.iloc[:,10]\n",
        "                       + godspeed.iloc[:,11]\n",
        "                       + godspeed.iloc[:,12]\n",
        "                       + godspeed.iloc[:,13]\n",
        "                       + godspeed.iloc[:,14])/5\n",
        "godspeed[\"A_likab\"] = godspeed[\"A_likab\"] / 9\n",
        "\n",
        "godspeed[\"A_intel\"] = (godspeed.iloc[:,15]\n",
        "                       + godspeed.iloc[:,16]\n",
        "                       + godspeed.iloc[:,17]\n",
        "                       + godspeed.iloc[:,18]\n",
        "                       + godspeed.iloc[:,19])/5\n",
        "godspeed[\"A_intel\"] = godspeed[\"A_intel\"] / 9\n",
        "# B\n",
        "godspeed[\"B_antro\"] = (godspeed.iloc[:,20]\n",
        "                       + godspeed.iloc[:,21]\n",
        "                       + godspeed.iloc[:,22]\n",
        "                       + godspeed.iloc[:,23]\n",
        "                       + godspeed.iloc[:,24])/5\n",
        "godspeed[\"B_antro\"] = godspeed[\"B_antro\"] / 9\n",
        "\n",
        "godspeed[\"B_anima\"] = (godspeed.iloc[:,25]\n",
        "                       + godspeed.iloc[:,26]\n",
        "                       + godspeed.iloc[:,27]\n",
        "                       + godspeed.iloc[:,28]\n",
        "                       + godspeed.iloc[:,29])/5\n",
        "godspeed[\"B_anima\"] = godspeed[\"B_anima\"] / 9\n",
        "\n",
        "godspeed[\"B_likab\"] = (godspeed.iloc[:,30]\n",
        "                       + godspeed.iloc[:,31]\n",
        "                       + godspeed.iloc[:,32]\n",
        "                       + godspeed.iloc[:,33]\n",
        "                       + godspeed.iloc[:,34])/5\n",
        "godspeed[\"B_likab\"] = godspeed[\"B_likab\"] / 9\n",
        "\n",
        "godspeed[\"B_intel\"] = (godspeed.iloc[:,35]\n",
        "                       + godspeed.iloc[:,36]\n",
        "                       + godspeed.iloc[:,37]\n",
        "                       + godspeed.iloc[:,38]\n",
        "                       + godspeed.iloc[:,39])/5\n",
        "godspeed[\"B_intel\"] = godspeed[\"B_intel\"] / 9"
      ],
      "execution_count": 0,
      "outputs": [
        {
          "output_type": "error",
          "ename": "TypeError",
          "evalue": "ignored",
          "traceback": [
            "\u001b[0;31m---------------------------------------------------------------------------\u001b[0m",
            "\u001b[0;31mTypeError\u001b[0m                                 Traceback (most recent call last)",
            "\u001b[0;32m/usr/local/lib/python3.6/dist-packages/pandas/core/ops/__init__.py\u001b[0m in \u001b[0;36mna_op\u001b[0;34m(x, y)\u001b[0m\n\u001b[1;32m    967\u001b[0m         \u001b[0;32mtry\u001b[0m\u001b[0;34m:\u001b[0m\u001b[0;34m\u001b[0m\u001b[0;34m\u001b[0m\u001b[0m\n\u001b[0;32m--> 968\u001b[0;31m             \u001b[0mresult\u001b[0m \u001b[0;34m=\u001b[0m \u001b[0mexpressions\u001b[0m\u001b[0;34m.\u001b[0m\u001b[0mevaluate\u001b[0m\u001b[0;34m(\u001b[0m\u001b[0mop\u001b[0m\u001b[0;34m,\u001b[0m \u001b[0mstr_rep\u001b[0m\u001b[0;34m,\u001b[0m \u001b[0mx\u001b[0m\u001b[0;34m,\u001b[0m \u001b[0my\u001b[0m\u001b[0;34m,\u001b[0m \u001b[0;34m**\u001b[0m\u001b[0meval_kwargs\u001b[0m\u001b[0;34m)\u001b[0m\u001b[0;34m\u001b[0m\u001b[0;34m\u001b[0m\u001b[0m\n\u001b[0m\u001b[1;32m    969\u001b[0m         \u001b[0;32mexcept\u001b[0m \u001b[0mTypeError\u001b[0m\u001b[0;34m:\u001b[0m\u001b[0;34m\u001b[0m\u001b[0;34m\u001b[0m\u001b[0m\n",
            "\u001b[0;32m/usr/local/lib/python3.6/dist-packages/pandas/core/computation/expressions.py\u001b[0m in \u001b[0;36mevaluate\u001b[0;34m(op, op_str, a, b, use_numexpr, **eval_kwargs)\u001b[0m\n\u001b[1;32m    220\u001b[0m     \u001b[0;32mif\u001b[0m \u001b[0muse_numexpr\u001b[0m\u001b[0;34m:\u001b[0m\u001b[0;34m\u001b[0m\u001b[0;34m\u001b[0m\u001b[0m\n\u001b[0;32m--> 221\u001b[0;31m         \u001b[0;32mreturn\u001b[0m \u001b[0m_evaluate\u001b[0m\u001b[0;34m(\u001b[0m\u001b[0mop\u001b[0m\u001b[0;34m,\u001b[0m \u001b[0mop_str\u001b[0m\u001b[0;34m,\u001b[0m \u001b[0ma\u001b[0m\u001b[0;34m,\u001b[0m \u001b[0mb\u001b[0m\u001b[0;34m,\u001b[0m \u001b[0;34m**\u001b[0m\u001b[0meval_kwargs\u001b[0m\u001b[0;34m)\u001b[0m\u001b[0;34m\u001b[0m\u001b[0;34m\u001b[0m\u001b[0m\n\u001b[0m\u001b[1;32m    222\u001b[0m     \u001b[0;32mreturn\u001b[0m \u001b[0m_evaluate_standard\u001b[0m\u001b[0;34m(\u001b[0m\u001b[0mop\u001b[0m\u001b[0;34m,\u001b[0m \u001b[0mop_str\u001b[0m\u001b[0;34m,\u001b[0m \u001b[0ma\u001b[0m\u001b[0;34m,\u001b[0m \u001b[0mb\u001b[0m\u001b[0;34m)\u001b[0m\u001b[0;34m\u001b[0m\u001b[0;34m\u001b[0m\u001b[0m\n",
            "\u001b[0;32m/usr/local/lib/python3.6/dist-packages/pandas/core/computation/expressions.py\u001b[0m in \u001b[0;36m_evaluate_numexpr\u001b[0;34m(op, op_str, a, b, truediv, reversed, **eval_kwargs)\u001b[0m\n\u001b[1;32m    126\u001b[0m     \u001b[0;32mif\u001b[0m \u001b[0mresult\u001b[0m \u001b[0;32mis\u001b[0m \u001b[0;32mNone\u001b[0m\u001b[0;34m:\u001b[0m\u001b[0;34m\u001b[0m\u001b[0;34m\u001b[0m\u001b[0m\n\u001b[0;32m--> 127\u001b[0;31m         \u001b[0mresult\u001b[0m \u001b[0;34m=\u001b[0m \u001b[0m_evaluate_standard\u001b[0m\u001b[0;34m(\u001b[0m\u001b[0mop\u001b[0m\u001b[0;34m,\u001b[0m \u001b[0mop_str\u001b[0m\u001b[0;34m,\u001b[0m \u001b[0ma\u001b[0m\u001b[0;34m,\u001b[0m \u001b[0mb\u001b[0m\u001b[0;34m)\u001b[0m\u001b[0;34m\u001b[0m\u001b[0;34m\u001b[0m\u001b[0m\n\u001b[0m\u001b[1;32m    128\u001b[0m \u001b[0;34m\u001b[0m\u001b[0m\n",
            "\u001b[0;32m/usr/local/lib/python3.6/dist-packages/pandas/core/computation/expressions.py\u001b[0m in \u001b[0;36m_evaluate_standard\u001b[0;34m(op, op_str, a, b, **eval_kwargs)\u001b[0m\n\u001b[1;32m     69\u001b[0m     \u001b[0;32mwith\u001b[0m \u001b[0mnp\u001b[0m\u001b[0;34m.\u001b[0m\u001b[0merrstate\u001b[0m\u001b[0;34m(\u001b[0m\u001b[0mall\u001b[0m\u001b[0;34m=\u001b[0m\u001b[0;34m\"ignore\"\u001b[0m\u001b[0;34m)\u001b[0m\u001b[0;34m:\u001b[0m\u001b[0;34m\u001b[0m\u001b[0;34m\u001b[0m\u001b[0m\n\u001b[0;32m---> 70\u001b[0;31m         \u001b[0;32mreturn\u001b[0m \u001b[0mop\u001b[0m\u001b[0;34m(\u001b[0m\u001b[0ma\u001b[0m\u001b[0;34m,\u001b[0m \u001b[0mb\u001b[0m\u001b[0;34m)\u001b[0m\u001b[0;34m\u001b[0m\u001b[0;34m\u001b[0m\u001b[0m\n\u001b[0m\u001b[1;32m     71\u001b[0m \u001b[0;34m\u001b[0m\u001b[0m\n",
            "\u001b[0;31mTypeError\u001b[0m: unsupported operand type(s) for +: 'int' and 'str'",
            "\nDuring handling of the above exception, another exception occurred:\n",
            "\u001b[0;31mTypeError\u001b[0m                                 Traceback (most recent call last)",
            "\u001b[0;32m<ipython-input-5-c64099c2489e>\u001b[0m in \u001b[0;36m<module>\u001b[0;34m()\u001b[0m\n\u001b[1;32m     13\u001b[0m                        \u001b[0;34m+\u001b[0m \u001b[0mgodspeed\u001b[0m\u001b[0;34m.\u001b[0m\u001b[0miloc\u001b[0m\u001b[0;34m[\u001b[0m\u001b[0;34m:\u001b[0m\u001b[0;34m,\u001b[0m\u001b[0;36m2\u001b[0m\u001b[0;34m]\u001b[0m\u001b[0;34m\u001b[0m\u001b[0;34m\u001b[0m\u001b[0m\n\u001b[1;32m     14\u001b[0m                        \u001b[0;34m+\u001b[0m \u001b[0mgodspeed\u001b[0m\u001b[0;34m.\u001b[0m\u001b[0miloc\u001b[0m\u001b[0;34m[\u001b[0m\u001b[0;34m:\u001b[0m\u001b[0;34m,\u001b[0m\u001b[0;36m3\u001b[0m\u001b[0;34m]\u001b[0m\u001b[0;34m\u001b[0m\u001b[0;34m\u001b[0m\u001b[0m\n\u001b[0;32m---> 15\u001b[0;31m                        + godspeed.iloc[:,4])/5\n\u001b[0m\u001b[1;32m     16\u001b[0m \u001b[0mgodspeed\u001b[0m\u001b[0;34m[\u001b[0m\u001b[0;34m\"A_antro\"\u001b[0m\u001b[0;34m]\u001b[0m \u001b[0;34m=\u001b[0m \u001b[0mgodspeed\u001b[0m\u001b[0;34m[\u001b[0m\u001b[0;34m\"A_antro\"\u001b[0m\u001b[0;34m]\u001b[0m \u001b[0;34m/\u001b[0m \u001b[0;36m9\u001b[0m\u001b[0;34m\u001b[0m\u001b[0;34m\u001b[0m\u001b[0m\n\u001b[1;32m     17\u001b[0m \u001b[0;34m\u001b[0m\u001b[0m\n",
            "\u001b[0;32m/usr/local/lib/python3.6/dist-packages/pandas/core/ops/__init__.py\u001b[0m in \u001b[0;36mwrapper\u001b[0;34m(left, right)\u001b[0m\n\u001b[1;32m   1046\u001b[0m \u001b[0;34m\u001b[0m\u001b[0m\n\u001b[1;32m   1047\u001b[0m         \u001b[0;32mwith\u001b[0m \u001b[0mnp\u001b[0m\u001b[0;34m.\u001b[0m\u001b[0merrstate\u001b[0m\u001b[0;34m(\u001b[0m\u001b[0mall\u001b[0m\u001b[0;34m=\u001b[0m\u001b[0;34m\"ignore\"\u001b[0m\u001b[0;34m)\u001b[0m\u001b[0;34m:\u001b[0m\u001b[0;34m\u001b[0m\u001b[0;34m\u001b[0m\u001b[0m\n\u001b[0;32m-> 1048\u001b[0;31m             \u001b[0mresult\u001b[0m \u001b[0;34m=\u001b[0m \u001b[0mna_op\u001b[0m\u001b[0;34m(\u001b[0m\u001b[0mlvalues\u001b[0m\u001b[0;34m,\u001b[0m \u001b[0mrvalues\u001b[0m\u001b[0;34m)\u001b[0m\u001b[0;34m\u001b[0m\u001b[0;34m\u001b[0m\u001b[0m\n\u001b[0m\u001b[1;32m   1049\u001b[0m         return construct_result(\n\u001b[1;32m   1050\u001b[0m             \u001b[0mleft\u001b[0m\u001b[0;34m,\u001b[0m \u001b[0mresult\u001b[0m\u001b[0;34m,\u001b[0m \u001b[0mindex\u001b[0m\u001b[0;34m=\u001b[0m\u001b[0mleft\u001b[0m\u001b[0;34m.\u001b[0m\u001b[0mindex\u001b[0m\u001b[0;34m,\u001b[0m \u001b[0mname\u001b[0m\u001b[0;34m=\u001b[0m\u001b[0mres_name\u001b[0m\u001b[0;34m,\u001b[0m \u001b[0mdtype\u001b[0m\u001b[0;34m=\u001b[0m\u001b[0;32mNone\u001b[0m\u001b[0;34m\u001b[0m\u001b[0;34m\u001b[0m\u001b[0m\n",
            "\u001b[0;32m/usr/local/lib/python3.6/dist-packages/pandas/core/ops/__init__.py\u001b[0m in \u001b[0;36mna_op\u001b[0;34m(x, y)\u001b[0m\n\u001b[1;32m    968\u001b[0m             \u001b[0mresult\u001b[0m \u001b[0;34m=\u001b[0m \u001b[0mexpressions\u001b[0m\u001b[0;34m.\u001b[0m\u001b[0mevaluate\u001b[0m\u001b[0;34m(\u001b[0m\u001b[0mop\u001b[0m\u001b[0;34m,\u001b[0m \u001b[0mstr_rep\u001b[0m\u001b[0;34m,\u001b[0m \u001b[0mx\u001b[0m\u001b[0;34m,\u001b[0m \u001b[0my\u001b[0m\u001b[0;34m,\u001b[0m \u001b[0;34m**\u001b[0m\u001b[0meval_kwargs\u001b[0m\u001b[0;34m)\u001b[0m\u001b[0;34m\u001b[0m\u001b[0;34m\u001b[0m\u001b[0m\n\u001b[1;32m    969\u001b[0m         \u001b[0;32mexcept\u001b[0m \u001b[0mTypeError\u001b[0m\u001b[0;34m:\u001b[0m\u001b[0;34m\u001b[0m\u001b[0;34m\u001b[0m\u001b[0m\n\u001b[0;32m--> 970\u001b[0;31m             \u001b[0mresult\u001b[0m \u001b[0;34m=\u001b[0m \u001b[0mmasked_arith_op\u001b[0m\u001b[0;34m(\u001b[0m\u001b[0mx\u001b[0m\u001b[0;34m,\u001b[0m \u001b[0my\u001b[0m\u001b[0;34m,\u001b[0m \u001b[0mop\u001b[0m\u001b[0;34m)\u001b[0m\u001b[0;34m\u001b[0m\u001b[0;34m\u001b[0m\u001b[0m\n\u001b[0m\u001b[1;32m    971\u001b[0m \u001b[0;34m\u001b[0m\u001b[0m\n\u001b[1;32m    972\u001b[0m         \u001b[0;32mreturn\u001b[0m \u001b[0mmissing\u001b[0m\u001b[0;34m.\u001b[0m\u001b[0mdispatch_fill_zeros\u001b[0m\u001b[0;34m(\u001b[0m\u001b[0mop\u001b[0m\u001b[0;34m,\u001b[0m \u001b[0mx\u001b[0m\u001b[0;34m,\u001b[0m \u001b[0my\u001b[0m\u001b[0;34m,\u001b[0m \u001b[0mresult\u001b[0m\u001b[0;34m)\u001b[0m\u001b[0;34m\u001b[0m\u001b[0;34m\u001b[0m\u001b[0m\n",
            "\u001b[0;32m/usr/local/lib/python3.6/dist-packages/pandas/core/ops/__init__.py\u001b[0m in \u001b[0;36mmasked_arith_op\u001b[0;34m(x, y, op)\u001b[0m\n\u001b[1;32m    445\u001b[0m         \u001b[0;32mif\u001b[0m \u001b[0mmask\u001b[0m\u001b[0;34m.\u001b[0m\u001b[0many\u001b[0m\u001b[0;34m(\u001b[0m\u001b[0;34m)\u001b[0m\u001b[0;34m:\u001b[0m\u001b[0;34m\u001b[0m\u001b[0;34m\u001b[0m\u001b[0m\n\u001b[1;32m    446\u001b[0m             \u001b[0;32mwith\u001b[0m \u001b[0mnp\u001b[0m\u001b[0;34m.\u001b[0m\u001b[0merrstate\u001b[0m\u001b[0;34m(\u001b[0m\u001b[0mall\u001b[0m\u001b[0;34m=\u001b[0m\u001b[0;34m\"ignore\"\u001b[0m\u001b[0;34m)\u001b[0m\u001b[0;34m:\u001b[0m\u001b[0;34m\u001b[0m\u001b[0;34m\u001b[0m\u001b[0m\n\u001b[0;32m--> 447\u001b[0;31m                 \u001b[0mresult\u001b[0m\u001b[0;34m[\u001b[0m\u001b[0mmask\u001b[0m\u001b[0;34m]\u001b[0m \u001b[0;34m=\u001b[0m \u001b[0mop\u001b[0m\u001b[0;34m(\u001b[0m\u001b[0mxrav\u001b[0m\u001b[0;34m[\u001b[0m\u001b[0mmask\u001b[0m\u001b[0;34m]\u001b[0m\u001b[0;34m,\u001b[0m \u001b[0mcom\u001b[0m\u001b[0;34m.\u001b[0m\u001b[0mvalues_from_object\u001b[0m\u001b[0;34m(\u001b[0m\u001b[0myrav\u001b[0m\u001b[0;34m[\u001b[0m\u001b[0mmask\u001b[0m\u001b[0;34m]\u001b[0m\u001b[0;34m)\u001b[0m\u001b[0;34m)\u001b[0m\u001b[0;34m\u001b[0m\u001b[0;34m\u001b[0m\u001b[0m\n\u001b[0m\u001b[1;32m    448\u001b[0m \u001b[0;34m\u001b[0m\u001b[0m\n\u001b[1;32m    449\u001b[0m     \u001b[0;32melse\u001b[0m\u001b[0;34m:\u001b[0m\u001b[0;34m\u001b[0m\u001b[0;34m\u001b[0m\u001b[0m\n",
            "\u001b[0;31mTypeError\u001b[0m: unsupported operand type(s) for +: 'int' and 'str'"
          ]
        }
      ]
    },
    {
      "cell_type": "code",
      "metadata": {
        "id": "txXaZyGPPZy8",
        "colab_type": "code",
        "outputId": "c6d9bd6a-1382-4a24-ce68-73f3f12c6459",
        "colab": {
          "base_uri": "https://localhost:8080/",
          "height": 698
        }
      },
      "source": [
        "godspeed[\"B_intel\"]"
      ],
      "execution_count": 0,
      "outputs": [
        {
          "output_type": "error",
          "ename": "KeyError",
          "evalue": "ignored",
          "traceback": [
            "\u001b[0;31m---------------------------------------------------------------------------\u001b[0m",
            "\u001b[0;31mKeyError\u001b[0m                                  Traceback (most recent call last)",
            "\u001b[0;32m/usr/local/lib/python3.6/dist-packages/pandas/core/indexes/base.py\u001b[0m in \u001b[0;36mget_loc\u001b[0;34m(self, key, method, tolerance)\u001b[0m\n\u001b[1;32m   2896\u001b[0m             \u001b[0;32mtry\u001b[0m\u001b[0;34m:\u001b[0m\u001b[0;34m\u001b[0m\u001b[0;34m\u001b[0m\u001b[0m\n\u001b[0;32m-> 2897\u001b[0;31m                 \u001b[0;32mreturn\u001b[0m \u001b[0mself\u001b[0m\u001b[0;34m.\u001b[0m\u001b[0m_engine\u001b[0m\u001b[0;34m.\u001b[0m\u001b[0mget_loc\u001b[0m\u001b[0;34m(\u001b[0m\u001b[0mkey\u001b[0m\u001b[0;34m)\u001b[0m\u001b[0;34m\u001b[0m\u001b[0;34m\u001b[0m\u001b[0m\n\u001b[0m\u001b[1;32m   2898\u001b[0m             \u001b[0;32mexcept\u001b[0m \u001b[0mKeyError\u001b[0m\u001b[0;34m:\u001b[0m\u001b[0;34m\u001b[0m\u001b[0;34m\u001b[0m\u001b[0m\n",
            "\u001b[0;32mpandas/_libs/index.pyx\u001b[0m in \u001b[0;36mpandas._libs.index.IndexEngine.get_loc\u001b[0;34m()\u001b[0m\n",
            "\u001b[0;32mpandas/_libs/index.pyx\u001b[0m in \u001b[0;36mpandas._libs.index.IndexEngine.get_loc\u001b[0;34m()\u001b[0m\n",
            "\u001b[0;32mpandas/_libs/hashtable_class_helper.pxi\u001b[0m in \u001b[0;36mpandas._libs.hashtable.PyObjectHashTable.get_item\u001b[0;34m()\u001b[0m\n",
            "\u001b[0;32mpandas/_libs/hashtable_class_helper.pxi\u001b[0m in \u001b[0;36mpandas._libs.hashtable.PyObjectHashTable.get_item\u001b[0;34m()\u001b[0m\n",
            "\u001b[0;31mKeyError\u001b[0m: 'B_intel'",
            "\nDuring handling of the above exception, another exception occurred:\n",
            "\u001b[0;31mKeyError\u001b[0m                                  Traceback (most recent call last)",
            "\u001b[0;32m<ipython-input-138-fa8a95ba47f1>\u001b[0m in \u001b[0;36m<module>\u001b[0;34m()\u001b[0m\n\u001b[0;32m----> 1\u001b[0;31m \u001b[0mgodspeed\u001b[0m\u001b[0;34m[\u001b[0m\u001b[0;34m\"B_intel\"\u001b[0m\u001b[0;34m]\u001b[0m\u001b[0;34m\u001b[0m\u001b[0;34m\u001b[0m\u001b[0m\n\u001b[0m",
            "\u001b[0;32m/usr/local/lib/python3.6/dist-packages/pandas/core/frame.py\u001b[0m in \u001b[0;36m__getitem__\u001b[0;34m(self, key)\u001b[0m\n\u001b[1;32m   2993\u001b[0m             \u001b[0;32mif\u001b[0m \u001b[0mself\u001b[0m\u001b[0;34m.\u001b[0m\u001b[0mcolumns\u001b[0m\u001b[0;34m.\u001b[0m\u001b[0mnlevels\u001b[0m \u001b[0;34m>\u001b[0m \u001b[0;36m1\u001b[0m\u001b[0;34m:\u001b[0m\u001b[0;34m\u001b[0m\u001b[0;34m\u001b[0m\u001b[0m\n\u001b[1;32m   2994\u001b[0m                 \u001b[0;32mreturn\u001b[0m \u001b[0mself\u001b[0m\u001b[0;34m.\u001b[0m\u001b[0m_getitem_multilevel\u001b[0m\u001b[0;34m(\u001b[0m\u001b[0mkey\u001b[0m\u001b[0;34m)\u001b[0m\u001b[0;34m\u001b[0m\u001b[0;34m\u001b[0m\u001b[0m\n\u001b[0;32m-> 2995\u001b[0;31m             \u001b[0mindexer\u001b[0m \u001b[0;34m=\u001b[0m \u001b[0mself\u001b[0m\u001b[0;34m.\u001b[0m\u001b[0mcolumns\u001b[0m\u001b[0;34m.\u001b[0m\u001b[0mget_loc\u001b[0m\u001b[0;34m(\u001b[0m\u001b[0mkey\u001b[0m\u001b[0;34m)\u001b[0m\u001b[0;34m\u001b[0m\u001b[0;34m\u001b[0m\u001b[0m\n\u001b[0m\u001b[1;32m   2996\u001b[0m             \u001b[0;32mif\u001b[0m \u001b[0mis_integer\u001b[0m\u001b[0;34m(\u001b[0m\u001b[0mindexer\u001b[0m\u001b[0;34m)\u001b[0m\u001b[0;34m:\u001b[0m\u001b[0;34m\u001b[0m\u001b[0;34m\u001b[0m\u001b[0m\n\u001b[1;32m   2997\u001b[0m                 \u001b[0mindexer\u001b[0m \u001b[0;34m=\u001b[0m \u001b[0;34m[\u001b[0m\u001b[0mindexer\u001b[0m\u001b[0;34m]\u001b[0m\u001b[0;34m\u001b[0m\u001b[0;34m\u001b[0m\u001b[0m\n",
            "\u001b[0;32m/usr/local/lib/python3.6/dist-packages/pandas/core/indexes/base.py\u001b[0m in \u001b[0;36mget_loc\u001b[0;34m(self, key, method, tolerance)\u001b[0m\n\u001b[1;32m   2897\u001b[0m                 \u001b[0;32mreturn\u001b[0m \u001b[0mself\u001b[0m\u001b[0;34m.\u001b[0m\u001b[0m_engine\u001b[0m\u001b[0;34m.\u001b[0m\u001b[0mget_loc\u001b[0m\u001b[0;34m(\u001b[0m\u001b[0mkey\u001b[0m\u001b[0;34m)\u001b[0m\u001b[0;34m\u001b[0m\u001b[0;34m\u001b[0m\u001b[0m\n\u001b[1;32m   2898\u001b[0m             \u001b[0;32mexcept\u001b[0m \u001b[0mKeyError\u001b[0m\u001b[0;34m:\u001b[0m\u001b[0;34m\u001b[0m\u001b[0;34m\u001b[0m\u001b[0m\n\u001b[0;32m-> 2899\u001b[0;31m                 \u001b[0;32mreturn\u001b[0m \u001b[0mself\u001b[0m\u001b[0;34m.\u001b[0m\u001b[0m_engine\u001b[0m\u001b[0;34m.\u001b[0m\u001b[0mget_loc\u001b[0m\u001b[0;34m(\u001b[0m\u001b[0mself\u001b[0m\u001b[0;34m.\u001b[0m\u001b[0m_maybe_cast_indexer\u001b[0m\u001b[0;34m(\u001b[0m\u001b[0mkey\u001b[0m\u001b[0;34m)\u001b[0m\u001b[0;34m)\u001b[0m\u001b[0;34m\u001b[0m\u001b[0;34m\u001b[0m\u001b[0m\n\u001b[0m\u001b[1;32m   2900\u001b[0m         \u001b[0mindexer\u001b[0m \u001b[0;34m=\u001b[0m \u001b[0mself\u001b[0m\u001b[0;34m.\u001b[0m\u001b[0mget_indexer\u001b[0m\u001b[0;34m(\u001b[0m\u001b[0;34m[\u001b[0m\u001b[0mkey\u001b[0m\u001b[0;34m]\u001b[0m\u001b[0;34m,\u001b[0m \u001b[0mmethod\u001b[0m\u001b[0;34m=\u001b[0m\u001b[0mmethod\u001b[0m\u001b[0;34m,\u001b[0m \u001b[0mtolerance\u001b[0m\u001b[0;34m=\u001b[0m\u001b[0mtolerance\u001b[0m\u001b[0;34m)\u001b[0m\u001b[0;34m\u001b[0m\u001b[0;34m\u001b[0m\u001b[0m\n\u001b[1;32m   2901\u001b[0m         \u001b[0;32mif\u001b[0m \u001b[0mindexer\u001b[0m\u001b[0;34m.\u001b[0m\u001b[0mndim\u001b[0m \u001b[0;34m>\u001b[0m \u001b[0;36m1\u001b[0m \u001b[0;32mor\u001b[0m \u001b[0mindexer\u001b[0m\u001b[0;34m.\u001b[0m\u001b[0msize\u001b[0m \u001b[0;34m>\u001b[0m \u001b[0;36m1\u001b[0m\u001b[0;34m:\u001b[0m\u001b[0;34m\u001b[0m\u001b[0;34m\u001b[0m\u001b[0m\n",
            "\u001b[0;32mpandas/_libs/index.pyx\u001b[0m in \u001b[0;36mpandas._libs.index.IndexEngine.get_loc\u001b[0;34m()\u001b[0m\n",
            "\u001b[0;32mpandas/_libs/index.pyx\u001b[0m in \u001b[0;36mpandas._libs.index.IndexEngine.get_loc\u001b[0;34m()\u001b[0m\n",
            "\u001b[0;32mpandas/_libs/hashtable_class_helper.pxi\u001b[0m in \u001b[0;36mpandas._libs.hashtable.PyObjectHashTable.get_item\u001b[0;34m()\u001b[0m\n",
            "\u001b[0;32mpandas/_libs/hashtable_class_helper.pxi\u001b[0m in \u001b[0;36mpandas._libs.hashtable.PyObjectHashTable.get_item\u001b[0;34m()\u001b[0m\n",
            "\u001b[0;31mKeyError\u001b[0m: 'B_intel'"
          ]
        }
      ]
    },
    {
      "cell_type": "markdown",
      "metadata": {
        "id": "A856A4a_RD1W",
        "colab_type": "text"
      },
      "source": [
        "In the original Investment Game, people who allocated money were told, that the receiving counterpart has certain character attributes(such as trustworthiness, capability, intelligence,..).\n",
        "\n",
        "We will now check, whether Godspeed answers are congruent with the "
      ]
    },
    {
      "cell_type": "markdown",
      "metadata": {
        "id": "78yGMz6Vff7C",
        "colab_type": "text"
      },
      "source": [
        "# Our own questionnaire"
      ]
    },
    {
      "cell_type": "markdown",
      "metadata": {
        "id": "LOMuiB5ffhXq",
        "colab_type": "text"
      },
      "source": [
        "Our own added questions, the keys were replaced. New columns are added for each robot to calculate for content, speech, cooperation and sociability of the robot. {A_conte, A_speec, A_coope ,A_socia and respectively for B} Another pair of columns relate to perceived trust for A and B for each participant. {A_trust, B_trust} the columns are all normalized."
      ]
    },
    {
      "cell_type": "code",
      "metadata": {
        "id": "bQYb5NK4fjwC",
        "colab_type": "code",
        "colab": {}
      },
      "source": [
        "ownQ.replace(to_replace=\"A1\", value=1, inplace=True)\n",
        "ownQ.replace(to_replace=\"A2\", value=2, inplace=True)\n",
        "ownQ.replace(to_replace=\"A3\", value=3, inplace=True)\n",
        "ownQ.replace(to_replace=\"A4\", value=4, inplace=True)\n",
        "ownQ.replace(to_replace=\"A5\", value=5, inplace=True)\n",
        "ownQ.replace(to_replace=\"A6\", value=6, inplace=True)\n",
        "ownQ.replace(to_replace=\"A7\", value=7, inplace=True)\n",
        "ownQ.replace(to_replace=\"A8\", value=8, inplace=True)\n",
        "ownQ.replace(to_replace=\"A9\", value=9, inplace=True)\n",
        "ownQ.replace(to_replace=\"A02\", value=1, inplace=True)\n",
        "ownQ.replace(to_replace=\"A03\", value=2, inplace=True)\n",
        "ownQ.replace(to_replace=\"A04\", value=3, inplace=True)\n",
        "ownQ.replace(to_replace=\"A05\", value=4, inplace=True)\n",
        "ownQ.replace(to_replace=\"A06\", value=5, inplace=True)\n",
        "ownQ.replace(to_replace=\"A07\", value=6, inplace=True)\n",
        "ownQ.replace(to_replace=\"A08\", value=7, inplace=True)\n",
        "ownQ.replace(to_replace=\"A09\", value=8, inplace=True)\n",
        "ownQ.replace(to_replace=\"A10\", value=9, inplace=True)\n",
        "\n",
        "ownQ[\"A_conte\"] = (ownQ.iloc[:,0] + ownQ.iloc[:,2] + ownQ.iloc[:,6] + ownQ.iloc[:,7]) / 4\n",
        "ownQ[\"A_speec\"] = (ownQ.iloc[:,3] + ownQ.iloc[:,9] + ownQ.iloc[:,10]) / 3\n",
        "ownQ[\"A_coope\"] = (ownQ.iloc[:,4] + ownQ.iloc[:,11] ) / 2\n",
        "ownQ[\"A_socia\"] = (ownQ.iloc[:,1] + ownQ.iloc[:,5] + ownQ.iloc[:,8] + ownQ.iloc[:,12]) / 4\n",
        "\n",
        "ownQ[\"A_conte\"] = ownQ[\"A_conte\"] / 9\n",
        "ownQ[\"A_speec\"] = ownQ[\"A_speec\"] / 9\n",
        "ownQ[\"A_coope\"] = ownQ[\"A_coope\"] / 9\n",
        "ownQ[\"A_socia\"] = ownQ[\"A_socia\"] / 9\n",
        "\n",
        "ownQ[\"B_conte\"] = (ownQ.iloc[:,13] + ownQ.iloc[:,15] + ownQ.iloc[:,19] + ownQ.iloc[:,20]) / 4\n",
        "ownQ[\"B_speec\"] = (ownQ.iloc[:,16] + ownQ.iloc[:,22] + ownQ.iloc[:,23]) / 3\n",
        "ownQ[\"B_coope\"] = (ownQ.iloc[:,17] + ownQ.iloc[:,24] ) / 2\n",
        "ownQ[\"B_socia\"] = (ownQ.iloc[:,14] + ownQ.iloc[:,18] + ownQ.iloc[:,21] + ownQ.iloc[:,25]) / 4\n",
        "\n",
        "ownQ[\"B_conte\"] = ownQ[\"B_conte\"] / 9\n",
        "ownQ[\"B_speec\"] = ownQ[\"B_speec\"] / 9\n",
        "ownQ[\"B_coope\"] = ownQ[\"B_coope\"] / 9\n",
        "ownQ[\"B_socia\"] = ownQ[\"B_socia\"] / 9\n",
        "\n",
        "ownQ[\"A_trust\"] = (ownQ.iloc[:,26] + ownQ.iloc[:,27] + ownQ.iloc[:,28] + ownQ.iloc[:,29]) / 4\n",
        "ownQ[\"A_trust\"] = ownQ[\"A_trust\"] / 9\n",
        "ownQ[\"B_trust\"] = (ownQ.iloc[:,30] + ownQ.iloc[:,31] + ownQ.iloc[:,32] + ownQ.iloc[:,33]) / 4\n",
        "ownQ[\"B_trust\"] = ownQ[\"B_trust\"] / 9"
      ],
      "execution_count": 0,
      "outputs": []
    },
    {
      "cell_type": "markdown",
      "metadata": {
        "id": "96hmGd-wgt16",
        "colab_type": "text"
      },
      "source": [
        "##Participant DataFrame"
      ]
    },
    {
      "cell_type": "code",
      "metadata": {
        "id": "vJ_d18T-gxXm",
        "colab_type": "code",
        "colab": {}
      },
      "source": [
        "pf = pd.DataFrame(columns=[\"s0a\",\"s0b\",\"s1a\",\"s1b\",\"s2a\",\"s2b\",\"s3a\",\"s3b\",\"s4a\",\"s4b\"])\n",
        "for path in Path(DATA_PATH).rglob('participant_*.csv'): \n",
        "  participant_id = int(re.search(r'\\d+', path.name).group())\n",
        "  if participant_id in invalid_participant:\n",
        "    continue\n",
        "  f = pd.read_csv(path)\n",
        "  pf = pf.append({ \n",
        "      \"s0a\" : f[\"robot_a\"][0]\n",
        "      ,\"s0b\" : f[\"robot_b\"][0]\n",
        "      ,\"s1a\" : f[\"robot_a\"][1]\n",
        "      ,\"s1b\" : f[\"robot_b\"][1]\n",
        "      ,\"s2a\" : f[\"robot_a\"][2]\n",
        "      ,\"s2b\" : f[\"robot_b\"][2]\n",
        "      ,\"s3a\" : f[\"robot_a\"][3]\n",
        "      ,\"s3b\" : f[\"robot_b\"][3]\n",
        "      ,\"s4a\" : f[\"robot_a\"][4]\n",
        "      ,\"s4b\" : f[\"robot_b\"][4]\n",
        "      }, ignore_index=True)\n",
        "\n",
        "A = pf.loc[:, [\"s0a\",\"s1a\",\"s2a\",\"s3a\",\"s4a\"]]\n",
        "B = pf.loc[:, [\"s0b\",\"s1b\",\"s2b\",\"s3b\",\"s4b\"]]\n",
        "pf[\"A/B\"] = \"N\"\n",
        "pf[\"id\"] = 0\n",
        "for i in range(0,pf.shape[0]):\n",
        "  pf.loc[i, \"id\"] = i+1\n",
        "  if i%2==0:\n",
        "    pf.loc[i,\"A/B\"] = \"B\" \n",
        "  else:\n",
        "    pf.loc[i, \"A/B\"] = \"A\"\n",
        "\n",
        "pf[\"s2_wrt_nvc\"] = 0\n",
        "for i in range(0,pf.shape[0]):\n",
        "  if (pf.loc[i, \"A/B\"] == 'B'):\n",
        "    pf.loc[i,\"s2_wrt_nvc\"] = pf.loc[i,\"s2b\"] - pf.loc[i,\"s2a\"]\n",
        "  else:\n",
        "    pf.loc[i,\"s2_wrt_nvc\"] = pf.loc[i,\"s2a\"] - pf.loc[i,\"s2b\"]\n",
        "\n",
        "pf[\"s1_wrt_nvc\"] = 0\n",
        "for i in range(0,pf.shape[0]):\n",
        "  if (pf.loc[i,\"A/B\"] == 'B'):\n",
        "    pf.loc[i,\"s1_wrt_nvc\"] = pf.loc[i,\"s1b\"] - pf.loc[i,\"s1a\"]\n",
        "  else:\n",
        "    pf.loc[i,\"s1_wrt_nvc\"] = pf.loc[i,\"s1a\"] - pf.loc[i,\"s1b\"]"
      ],
      "execution_count": 0,
      "outputs": []
    },
    {
      "cell_type": "code",
      "metadata": {
        "id": "nAxrafkHgtI-",
        "colab_type": "code",
        "colab": {}
      },
      "source": [
        "pf['total_cube'] = 0\n",
        "pf['cubes_s1'] = 0\n",
        "pf['cubes_s2'] = 0\n",
        "pf['cubes_s3'] = 0\n",
        "pf['cubes_s4'] = 0\n",
        "\n",
        "for i in range(0,pf.shape[0]):\n",
        "    pf.loc[i,'total_cube'] = pf.loc[i,'s1a'] + pf.loc[i,'s1b'] + pf.loc[i,'s2a'] + pf.loc[i,'s2b'] + pf.loc[i,'s3a'] + pf.loc[i,'s3b'] + pf.loc[i,'s4a'] + pf.loc[i,'s4b']\n",
        "    pf.loc[i,'cubes_s1'] = pf.loc[i,'s1a'] + pf.loc[i,'s1b']\n",
        "    pf.loc[i,'cubes_s2'] = pf.loc[i,'s2a'] + pf.loc[i,'s2b']\n",
        "    pf.loc[i,'cubes_s3'] = pf.loc[i,'s3a'] + pf.loc[i,'s3b']\n",
        "    pf.loc[i,'cubes_s4'] = pf.loc[i,'s4a'] + pf.loc[i,'s4b']\n",
        "\n",
        "df2 = bfis.iloc[:38,15:20]\n",
        "df3 = pf.iloc[:38,16:23]\n",
        "pc = pd.concat([df2, df3], axis=1)"
      ],
      "execution_count": 0,
      "outputs": []
    },
    {
      "cell_type": "code",
      "metadata": {
        "id": "jXGKlXRXkuGd",
        "colab_type": "code",
        "colab": {}
      },
      "source": [
        "pf['s2_catd'] = \"neither\"\n",
        "pf.loc[pf['s2_wrt_nvc'] > 0, 's2_catd'] = \"trusted nvc\"\n",
        "pf.loc[pf['s2_wrt_nvc'] < 0, 's2_catd'] = \"did not trust nvc\"\n",
        "pf['s1_catd'] = \"neither\"\n",
        "pf.loc[pf['s1_wrt_nvc'] > 0, 's1_catd'] = \"trusted nvc\"\n",
        "pf.loc[pf['s1_wrt_nvc'] < 0, 's1_catd'] = \"did not trust nvc\""
      ],
      "execution_count": 0,
      "outputs": []
    },
    {
      "cell_type": "markdown",
      "metadata": {
        "id": "OYHRF8ZSgDjp",
        "colab_type": "text"
      },
      "source": [
        "# Personality types Graph"
      ]
    },
    {
      "cell_type": "code",
      "metadata": {
        "id": "--9xvqiyADAx",
        "colab_type": "code",
        "colab": {}
      },
      "source": [
        "fig, axs = plt.subplots(nrows=2,ncols=3, figsize=(20,5), constrained_layout=True)\n",
        "fig.suptitle(\"bfis\")\n",
        "axs[0,0].title.set_text('Neuroticism')\n",
        "bfis['neurot'].plot(kind='density', ax=axs[0,0])\n",
        "axs[0,1].title.set_text('Extrovertedness')\n",
        "bfis['extro'].plot(kind='density', ax=axs[0,1])\n",
        "axs[0,2].title.set_text('Openness')\n",
        "bfis['openn'].plot(kind='density', ax=axs[0,2])\n",
        "axs[1,0].title.set_text('Agreeability')\n",
        "bfis['agree'].plot(kind='density', ax=axs[1,0])\n",
        "axs[1,1].title.set_text('Conscientiousness')\n",
        "bfis['consc'].plot(kind='density', ax=axs[1,1])\n",
        "plt.show()"
      ],
      "execution_count": 0,
      "outputs": []
    },
    {
      "cell_type": "markdown",
      "metadata": {
        "id": "XaSBZa06ghMB",
        "colab_type": "text"
      },
      "source": [
        "# NVC choices for scene 1 and 2 categorized"
      ]
    },
    {
      "cell_type": "code",
      "metadata": {
        "id": "cDUTLY0ggiIH",
        "colab_type": "code",
        "colab": {}
      },
      "source": [
        "fig, axs = plt.subplots(nrows=1,ncols=2, figsize=(20,5), sharey=True)\n",
        "sns.countplot(x=pf['s1_catd'], ax=axs[0], order = [\"did not trust nvc\", \"neither\", \"trusted nvc\"], palette=\"Set2\")\n",
        "sns.countplot(x=pf['s2_catd'], ax=axs[1], order = [\"did not trust nvc\", \"neither\", \"trusted nvc\"], palette=\"Set2\")\n",
        "plt.show()"
      ],
      "execution_count": 0,
      "outputs": []
    },
    {
      "cell_type": "markdown",
      "metadata": {
        "id": "7ziw0SM1k0hh",
        "colab_type": "text"
      },
      "source": [
        "# PC pairplot: Regression"
      ]
    },
    {
      "cell_type": "code",
      "metadata": {
        "id": "mGJviWpnk2_C",
        "colab_type": "code",
        "colab": {}
      },
      "source": [
        "sns.pairplot(data=pc, palette=\"Set1\", corner=True,  kind=\"reg\")\n",
        "plt.show()"
      ],
      "execution_count": 0,
      "outputs": []
    },
    {
      "cell_type": "markdown",
      "metadata": {
        "id": "9cygE7dfVBls",
        "colab_type": "text"
      },
      "source": [
        "# Does the choice of questions impact relative cube allocation? (aka 'The Big Monster')\n",
        "\n",
        "To see whether the cube allocation was influenced by the questions asked, \\\n",
        "we first look at the distribution among the choices."
      ]
    },
    {
      "cell_type": "markdown",
      "metadata": {
        "id": "fwMpsNgN1ie4",
        "colab_type": "text"
      },
      "source": [
        "## Code"
      ]
    },
    {
      "cell_type": "markdown",
      "metadata": {
        "id": "Q-74Eq8LVbKD",
        "colab_type": "text"
      },
      "source": [
        "**Load the 'choices' spreadsheet file:**\n",
        "https://docs.google.com/spreadsheets/d/11zjy8hF3IMXfVf6AxXH6_j-js-QbjyW19q5l8v_25iY/edit#gid=0\n",
        "\n",
        "*   Which robot first makes its statement: `s<scene_id> -> A | B`\n",
        "*   Questions the participant chose: `q<scene_id> -> [0-3] for scene0, [0-2] for scene1-4`   \n",
        "*   Which robot first answered: `a<scene_id> -> A | B`\n",
        "\n"
      ]
    },
    {
      "cell_type": "code",
      "metadata": {
        "id": "JVozwKa4Pmox",
        "colab_type": "code",
        "colab": {}
      },
      "source": [
        "# Imports\n",
        "import numpy as np\n",
        "import pandas as pd\n",
        "import matplotlib.pyplot as plt"
      ],
      "execution_count": 0,
      "outputs": []
    },
    {
      "cell_type": "code",
      "metadata": {
        "id": "G-ZOnAmY214N",
        "colab_type": "code",
        "colab": {}
      },
      "source": [
        "# Install Google Drive Connector\n",
        "!pip install --upgrade --quiet gspread\n",
        "from google.colab import auth\n",
        "from oauth2client.client import GoogleCredentials\n",
        "import gspread\n",
        "\n",
        "# Google Drive Authentication for access to shared GDrive Folder\n",
        "auth.authenticate_user()\n",
        "gc = gspread.authorize(GoogleCredentials.get_application_default())"
      ],
      "execution_count": 0,
      "outputs": []
    },
    {
      "cell_type": "code",
      "metadata": {
        "id": "29EEFE0c28Gy",
        "colab_type": "code",
        "colab": {}
      },
      "source": [
        "# Load the Data from the GDocs Spreadsheet\n",
        "choices_data = gc.open('choices').sheet1\n",
        "rows = choices_data.get_all_values()\n",
        "\n",
        "# Drop the incomplete entries\n",
        "incomplete = [\"0\", # Annika\n",
        "              \"1\", # did not understand the game mechanics\n",
        "              \"13\"]# recording started too late -> maybe can the fetched from logs\n",
        "\n",
        "# Convert the object into a Pandas dataframe\n",
        "choices = pd.DataFrame.from_records(rows[1:], columns=rows[0], \n",
        "                                    index=\"participant_id\").drop(incomplete)\n",
        "choices.head()"
      ],
      "execution_count": 0,
      "outputs": []
    },
    {
      "cell_type": "code",
      "metadata": {
        "id": "UjL2BTK_B_8L",
        "colab_type": "code",
        "colab": {}
      },
      "source": [
        "## Plot the frequencies of questions asked for scene0.\n",
        "def plot_preflight_counts():\n",
        "  q0_title = \"Which questions did participants choose in the Pre-Flight check?\"\n",
        "  q0_labels =[\"#1 - Can you tell me more about our mission?\", \"#2 - Have you been to Xantonia before?\", \"#3 - What type of ship is this?\", \"#4 - What is the crews function on the ship?\"]\n",
        "  # Remove annoying ylabels\n",
        "  plt.axis('off')\n",
        "  # Plot the distribution of the choices among the pre-flight check.\n",
        "  q0_counts = choices[\"q0\"].value_counts()\n",
        "  q0_counts.plot.pie(title=q0_title, labels=q0_labels, shadow=True, autopct='%.0f%%', figsize=(16,4), counterclock=False, startangle=180)\n",
        "  plt.tight_layout()\n",
        "  plt.show()"
      ],
      "execution_count": 0,
      "outputs": []
    },
    {
      "cell_type": "code",
      "metadata": {
        "id": "8Pnr2rSo38aV",
        "colab_type": "code",
        "colab": {}
      },
      "source": [
        "# Filter for the questions columns (q1-q4) \n",
        "questions = choices[[\"q1\",\"q2\",\"q3\",\"q4\"]].astype(int)\n",
        "# Calculate the # of occurences for every scene individually\n",
        "occurences = questions.apply(pd.value_counts)"
      ],
      "execution_count": 0,
      "outputs": []
    },
    {
      "cell_type": "code",
      "metadata": {
        "id": "D790O6ffL953",
        "colab_type": "code",
        "colab": {}
      },
      "source": [
        "## Plot the frequencies of questions asked for scene1 to scene4.\n",
        "q1_labels = [\"#1 - Can you tell me more about your suggestions?\", \"#2 - How confident are you in your solutions?\", \"#3 - What do you think about each others ideas?\"]\n",
        "def plot_experiment_counts():\n",
        "  # Plot the distributions for each scene next to each other\n",
        "  q1_title = \"Which questions did participants choose on their journey?\"\n",
        "\n",
        "  fig, axs = plt.subplots(1, 4, figsize=(16,4),constrained_layout=True)\n",
        "  for i in range(4):\n",
        "    axs[i].pie(occurences[\"q\"+ str(i+1)], shadow=True, autopct='%.0f%%', counterclock=False, startangle=180)\n",
        "    axs[i].set_title(\"Scene \" + str(i+1))\n",
        "\n",
        "  fig.suptitle(q1_title)\n",
        "  fig.legend(q1_labels, loc='lower center')\n",
        "  plt.show()"
      ],
      "execution_count": 0,
      "outputs": []
    },
    {
      "cell_type": "code",
      "metadata": {
        "id": "lOYnp0efhS0P",
        "colab_type": "code",
        "colab": {}
      },
      "source": [
        "# Aggregate the count of choices on all different levels\n",
        "level1 = questions.groupby(['q1']).size()\n",
        "level2 = questions.groupby(['q1', 'q2']).size()\n",
        "level3 = questions.groupby(['q1', 'q2', 'q3']).size()\n",
        "level4 = questions.groupby(['q1', 'q2', 'q3', 'q4']).size()\n",
        "\n",
        "levels = [level1, level2, level3, level4]\n",
        "levels[3]"
      ],
      "execution_count": 0,
      "outputs": []
    },
    {
      "cell_type": "code",
      "metadata": {
        "id": "yaWkW3IOryTJ",
        "colab_type": "code",
        "colab": {}
      },
      "source": [
        "# As groupBy does not include zero occurences, the colors would be shifted.\n",
        "# Therefore we need to recreate the indices including all three index values.\n",
        "for i in range(1, 4): # skip the first level, as it is no matrix\n",
        "  indices = np.tile(range(3), (i+1,1)) # [[0,1,2], [0,1,2],..]\n",
        "  new_index = pd.MultiIndex.from_product(indices, names=levels[i].index.names)\n",
        "  # Reindex the array and fill empty values with zero (NaN by default)\n",
        "  levels[i] = levels[i].reindex(new_index, fill_value=0)"
      ],
      "execution_count": 0,
      "outputs": []
    },
    {
      "cell_type": "code",
      "metadata": {
        "id": "jxXJuWUJcG0a",
        "colab_type": "code",
        "colab": {}
      },
      "source": [
        "## Plot the proportions among the trails of questions asked for scene1 to scene4.\n",
        "def plot_question_trail():\n",
        "  fig, ax = plt.subplots(figsize=(12,12), constrained_layout=True)\n",
        "  # Use a fixed set of three color codes ('blue', 'orange', 'green') to help recognizability\n",
        "  color_codes = plt.rcParams['axes.prop_cycle'].by_key()['color'][:3]\n",
        "  # every ring has a size of 20% of the full radius\n",
        "  size = 0.2 \n",
        "\n",
        "  # draw a ring for every scene\n",
        "  for i in range(4):\n",
        "    ax.pie(levels[i], radius=1 - i*size, colors=color_codes,\n",
        "        wedgeprops=dict(width=size, edgecolor='w'), autopct='%.0f%%', textprops={'fontsize': 14}, pctdistance=0.88, counterclock=False, startangle=180)\n",
        "\n",
        "  ax.set(aspect=\"equal\", title='Trail of questions chosen in each scene (read from outer to inner)')\n",
        "  fig.legend(q1_labels, loc='right')\n",
        "  plt.show()"
      ],
      "execution_count": 0,
      "outputs": []
    },
    {
      "cell_type": "markdown",
      "metadata": {
        "id": "GAVmmN6MC8vG",
        "colab_type": "text"
      },
      "source": [
        "## How often did people choose which question in the pre-flight check?"
      ]
    },
    {
      "cell_type": "code",
      "metadata": {
        "id": "VntuAUT711Uh",
        "colab_type": "code",
        "colab": {}
      },
      "source": [
        "plot_preflight_counts()"
      ],
      "execution_count": 0,
      "outputs": []
    },
    {
      "cell_type": "markdown",
      "metadata": {
        "id": "VozpLLGNZKEL",
        "colab_type": "text"
      },
      "source": [
        "## Which questions did people ask during the experiment?"
      ]
    },
    {
      "cell_type": "code",
      "metadata": {
        "id": "g1X9P7gz2GPu",
        "colab_type": "code",
        "colab": {}
      },
      "source": [
        "plot_experiment_counts()"
      ],
      "execution_count": 0,
      "outputs": []
    },
    {
      "cell_type": "markdown",
      "metadata": {
        "id": "AMWCB9lYcBeG",
        "colab_type": "text"
      },
      "source": [
        "## Which trail of questions was asked how often?\n",
        "\n",
        "The most outer ring corresponds to scene1, the most inner ring to scene4.\n",
        "\n",
        "**Note**: The percentage numbers are always calculated from the **total** number of participants. \\\n",
        "This means they always read as \"x percent of ***ALL*** participants\"..."
      ]
    },
    {
      "cell_type": "code",
      "metadata": {
        "id": "VCEY_Cw89FL2",
        "colab_type": "code",
        "colab": {}
      },
      "source": [
        "plot_question_trail()"
      ],
      "execution_count": 0,
      "outputs": []
    },
    {
      "cell_type": "markdown",
      "metadata": {
        "id": "C56qaJkuVpIS",
        "colab_type": "text"
      },
      "source": [
        "## Conclusion\n",
        "\"Wie Sie sehen, sehen Sie nichts...\"\n",
        "\n",
        "There is no striking combination of questions being asked significantly more often than any other."
      ]
    }
  ]
}