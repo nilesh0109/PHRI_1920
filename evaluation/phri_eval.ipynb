{
  "nbformat": 4,
  "nbformat_minor": 0,
  "metadata": {
    "colab": {
      "name": "phri_eval.ipynb",
      "provenance": [],
      "collapsed_sections": [
        "HJwy0mOfOaQP",
        "4kgXl64ZRV0f",
        "HY0sbFiHR717",
        "pC2KiTeuPdDs",
        "HHyofPkP_Hrl",
        "6_SZGz9XQNSE",
        "RgM5ziqVRQ1A",
        "x4y6NIsDT8Ce"
      ],
      "toc_visible": true
    },
    "kernelspec": {
      "name": "python3",
      "display_name": "Python 3"
    }
  },
  "cells": [
    {
      "cell_type": "markdown",
      "metadata": {
        "id": "IH43rRpryN2y",
        "colab_type": "text"
      },
      "source": [
        "This notebook provides an analysis of the relationship between:\n",
        "- the amount of allocated cubes and the robot type (A or B) \n",
        "- the amount of allocated cubes and NVC feature (NVC-robot or non-NVC robot)\n",
        "\n",
        "Steps:\n",
        "- descriptive statistics (to understand data better, to find patterns)\n",
        "- correlation analysis.\n",
        "- dependent t-test, because you would not expect that allocation of cubes to one robot is not related to the allocation of cubes to the other robot. Here we assume normality and conduct normality test\n",
        "- If the data is skewed we conduct Wilcoxon paired test, because the data is dependent\n"
      ]
    },
    {
      "cell_type": "markdown",
      "metadata": {
        "id": "_hy5YaKnZ1Jg",
        "colab_type": "text"
      },
      "source": [
        "**Imports/Google Auth/G-Drive mounting**\n",
        "---"
      ]
    },
    {
      "cell_type": "code",
      "metadata": {
        "id": "dH4_CeIOov0b",
        "colab_type": "code",
        "colab": {}
      },
      "source": [
        "import pandas as pd\n",
        "import scipy.stats as stat\n",
        "import numpy as np\n",
        "import matplotlib.pyplot as plt\n",
        "import seaborn as sns\n",
        "import xml.etree.ElementTree as et\n",
        "import os\n",
        "import re\n",
        "from pathlib import Path\n",
        "from scipy import stats\n",
        "\n",
        "plt.style.use(['fast'])\n",
        "plt.style.use(['seaborn-poster'])"
      ],
      "execution_count": 0,
      "outputs": []
    },
    {
      "cell_type": "code",
      "metadata": {
        "id": "dGGhjc5doydg",
        "colab_type": "code",
        "colab": {}
      },
      "source": [
        "# Upload files from shared GDrive folder to Google Colab Workbook\n",
        "\n",
        "!pip install -U -q PyDrive\n",
        "\n",
        "from pydrive.auth import GoogleAuth\n",
        "from pydrive.drive import GoogleDrive\n",
        "from google.colab import auth\n",
        "from oauth2client.client import GoogleCredentials\n",
        "from sklearn.preprocessing import StandardScaler\n",
        "\n",
        "# 1. Authenticate and create the PyDrive client.\n",
        "auth.authenticate_user()\n",
        "gauth = GoogleAuth()\n",
        "gauth.credentials = GoogleCredentials.get_application_default()\n",
        "drive = GoogleDrive(gauth)\n",
        "\n",
        "# Reading Questionnaire file\n",
        "json_import = drive.CreateFile({'id':'1sbqLDqGTV9XjdA7UAFLzXscotaXIof6t'})\n",
        "json_import.GetContentFile('results-survey128918_26_02_almostevening.csv')\n",
        "df = pd.read_csv('results-survey128918_26_02_almostevening.csv')"
      ],
      "execution_count": 0,
      "outputs": []
    },
    {
      "cell_type": "code",
      "metadata": {
        "id": "Gts2JghEVFU5",
        "colab_type": "code",
        "outputId": "035132ca-08ee-4c38-f4cd-19ceab804276",
        "colab": {
          "base_uri": "https://localhost:8080/",
          "height": 34
        }
      },
      "source": [
        "from google.colab import drive\n",
        "drive.mount('/content/drive')"
      ],
      "execution_count": 0,
      "outputs": [
        {
          "output_type": "stream",
          "text": [
            "Drive already mounted at /content/drive; to attempt to forcibly remount, call drive.mount(\"/content/drive\", force_remount=True).\n"
          ],
          "name": "stdout"
        }
      ]
    },
    {
      "cell_type": "markdown",
      "metadata": {
        "id": "sxFRZYSqaNKw",
        "colab_type": "text"
      },
      "source": [
        "**Reading Cube Allocation CSV**\n",
        "---"
      ]
    },
    {
      "cell_type": "code",
      "metadata": {
        "id": "HjDc8nqdo0vK",
        "colab_type": "code",
        "outputId": "7cdba1c7-128f-454d-fa1b-6ba0ec1384c8",
        "colab": {
          "base_uri": "https://localhost:8080/",
          "height": 204
        }
      },
      "source": [
        "# Iterate over files and find csv files that have allocation of cubes for each participant\n",
        "dfs = []\n",
        "invalid_participant = [1,4,18]\n",
        "DATA_PATH='/content/drive/My Drive/Colab Notebooks/PHRIExpData/'\n",
        "\n",
        "for path in Path(DATA_PATH).rglob('participant_*.csv'): \n",
        "      participant_id = int(re.search(r'\\d+', path.name).group())\n",
        "      if participant_id in invalid_participant:\n",
        "          continue\n",
        "      temp = pd.read_csv(path)\n",
        "      temp[\"scene\"] = temp[\"scene\"].str[-1:]\n",
        "      temp[\"scene\"] = temp[\"scene\"].astype('int')\n",
        "      temp[\"participant\"] = participant_id\n",
        "      temp[\"NVC_A\"] = False\n",
        "      temp[\"NVC_B\"] = False\n",
        "      \n",
        "      if int(participant_id) % 2 == 0:\n",
        "          nvc = \"A\"\n",
        "          temp[\"NVC_A\"] = True\n",
        "      else:\n",
        "          nvc = \"B\"\n",
        "          temp[\"NVC_B\"] = True\n",
        "\n",
        "      temp[\"NVC\"] = nvc\n",
        "      dfs.append(temp)\n",
        "\n",
        "\n",
        "raw_data = pd.concat(dfs, axis=0, ignore_index=True)\n",
        "raw_data.head()"
      ],
      "execution_count": 0,
      "outputs": [
        {
          "output_type": "execute_result",
          "data": {
            "text/html": [
              "<div>\n",
              "<style scoped>\n",
              "    .dataframe tbody tr th:only-of-type {\n",
              "        vertical-align: middle;\n",
              "    }\n",
              "\n",
              "    .dataframe tbody tr th {\n",
              "        vertical-align: top;\n",
              "    }\n",
              "\n",
              "    .dataframe thead th {\n",
              "        text-align: right;\n",
              "    }\n",
              "</style>\n",
              "<table border=\"1\" class=\"dataframe\">\n",
              "  <thead>\n",
              "    <tr style=\"text-align: right;\">\n",
              "      <th></th>\n",
              "      <th>scene</th>\n",
              "      <th>robot_a</th>\n",
              "      <th>robot_b</th>\n",
              "      <th>participant</th>\n",
              "      <th>NVC_A</th>\n",
              "      <th>NVC_B</th>\n",
              "      <th>NVC</th>\n",
              "    </tr>\n",
              "  </thead>\n",
              "  <tbody>\n",
              "    <tr>\n",
              "      <th>0</th>\n",
              "      <td>0</td>\n",
              "      <td>2</td>\n",
              "      <td>2</td>\n",
              "      <td>15</td>\n",
              "      <td>False</td>\n",
              "      <td>True</td>\n",
              "      <td>B</td>\n",
              "    </tr>\n",
              "    <tr>\n",
              "      <th>1</th>\n",
              "      <td>1</td>\n",
              "      <td>2</td>\n",
              "      <td>4</td>\n",
              "      <td>15</td>\n",
              "      <td>False</td>\n",
              "      <td>True</td>\n",
              "      <td>B</td>\n",
              "    </tr>\n",
              "    <tr>\n",
              "      <th>2</th>\n",
              "      <td>2</td>\n",
              "      <td>2</td>\n",
              "      <td>5</td>\n",
              "      <td>15</td>\n",
              "      <td>False</td>\n",
              "      <td>True</td>\n",
              "      <td>B</td>\n",
              "    </tr>\n",
              "    <tr>\n",
              "      <th>3</th>\n",
              "      <td>3</td>\n",
              "      <td>4</td>\n",
              "      <td>3</td>\n",
              "      <td>15</td>\n",
              "      <td>False</td>\n",
              "      <td>True</td>\n",
              "      <td>B</td>\n",
              "    </tr>\n",
              "    <tr>\n",
              "      <th>4</th>\n",
              "      <td>4</td>\n",
              "      <td>5</td>\n",
              "      <td>2</td>\n",
              "      <td>15</td>\n",
              "      <td>False</td>\n",
              "      <td>True</td>\n",
              "      <td>B</td>\n",
              "    </tr>\n",
              "  </tbody>\n",
              "</table>\n",
              "</div>"
            ],
            "text/plain": [
              "   scene  robot_a  robot_b  participant  NVC_A  NVC_B NVC\n",
              "0      0        2        2           15  False   True   B\n",
              "1      1        2        4           15  False   True   B\n",
              "2      2        2        5           15  False   True   B\n",
              "3      3        4        3           15  False   True   B\n",
              "4      4        5        2           15  False   True   B"
            ]
          },
          "metadata": {
            "tags": []
          },
          "execution_count": 4
        }
      ]
    },
    {
      "cell_type": "code",
      "metadata": {
        "id": "sdGg_MeTo-tD",
        "colab_type": "code",
        "colab": {}
      },
      "source": [
        " # Find the total amount of cubes that participants allocated\n",
        "cubes_per_participant = raw_data.groupby(\"participant\").sum()\n",
        "cubes_per_participant = cubes_per_participant.drop(columns=['scene'])\n",
        "cubes_per_participant['total_cubes'] = cubes_per_participant['robot_a'] + cubes_per_participant['robot_b'] "
      ],
      "execution_count": 0,
      "outputs": []
    },
    {
      "cell_type": "markdown",
      "metadata": {
        "id": "MpxvQFFoGLX6",
        "colab_type": "text"
      },
      "source": [
        "## **Descriptive statistics: plots**\n",
        "\n",
        "\n"
      ]
    },
    {
      "cell_type": "code",
      "metadata": {
        "id": "sDL_-hHvpVJR",
        "colab_type": "code",
        "outputId": "6cc5e9eb-5c62-466f-f332-37b212aeae82",
        "colab": {
          "base_uri": "https://localhost:8080/",
          "height": 690
        }
      },
      "source": [
        "cubes_per_participant[['robot_a', 'robot_b']].plot(kind = 'bar', yticks=range(0, 30, 5), figsize=(25,10), title=\"The distribution of cubes for each participant\")"
      ],
      "execution_count": 0,
      "outputs": [
        {
          "output_type": "execute_result",
          "data": {
            "text/plain": [
              "<matplotlib.axes._subplots.AxesSubplot at 0x7ff960ce5f60>"
            ]
          },
          "metadata": {
            "tags": []
          },
          "execution_count": 6
        },
        {
          "output_type": "display_data",
          "data": {
            "image/png": "[encoded data removed]",
            "text/plain": [
              "<Figure size 1800x720 with 1 Axes>"
            ]
          },
          "metadata": {
            "tags": []
          }
        }
      ]
    },
    {
      "cell_type": "markdown",
      "metadata": {
        "id": "rzgmJA9UBhEx",
        "colab_type": "text"
      },
      "source": [
        "Box plots for robot A and robot B:"
      ]
    },
    {
      "cell_type": "code",
      "metadata": {
        "id": "lZ5jUdVvGFis",
        "colab_type": "code",
        "outputId": "4876236c-b99e-4190-a08d-308af7f7651e",
        "colab": {
          "base_uri": "https://localhost:8080/",
          "height": 573
        }
      },
      "source": [
        "axes = raw_data.boxplot(column=['robot_a', 'robot_b'], figsize=(15,8), fontsize=18, grid=False)\n",
        "fig = axes.get_figure()\n",
        "fig.suptitle('Box plots for robot A and robot B')"
      ],
      "execution_count": 0,
      "outputs": [
        {
          "output_type": "execute_result",
          "data": {
            "text/plain": [
              "Text(0.5, 0.98, 'Box plots for robot A and robot B')"
            ]
          },
          "metadata": {
            "tags": []
          },
          "execution_count": 7
        },
        {
          "output_type": "display_data",
          "data": {
            "image/png": "[encoded data removed]",
            "text/plain": [
              "<Figure size 1080x576 with 1 Axes>"
            ]
          },
          "metadata": {
            "tags": []
          }
        }
      ]
    },
    {
      "cell_type": "markdown",
      "metadata": {
        "id": "UxRkrHe3BmoV",
        "colab_type": "text"
      },
      "source": [
        "Boxplots for robot A and robot B grouped by NVC, e.g. the left plot means that \n",
        "A is an NVC-robot:"
      ]
    },
    {
      "cell_type": "code",
      "metadata": {
        "id": "fIoH5UPo50_F",
        "colab_type": "code",
        "outputId": "a7fff83d-a126-4b14-d1b0-60590f34f9b2",
        "colab": {
          "base_uri": "https://localhost:8080/",
          "height": 564
        }
      },
      "source": [
        "axes = raw_data[['robot_a', 'robot_b', 'NVC']].boxplot(by='NVC', figsize=(20,8), fontsize=18, grid=False)"
      ],
      "execution_count": 0,
      "outputs": [
        {
          "output_type": "display_data",
          "data": {
            "image/png": "[encoded data removed]",
            "text/plain": [
              "<Figure size 1440x576 with 2 Axes>"
            ]
          },
          "metadata": {
            "tags": []
          }
        }
      ]
    },
    {
      "cell_type": "markdown",
      "metadata": {
        "id": "Gdo3YmbIB1VF",
        "colab_type": "text"
      },
      "source": [
        "Boxplots for robot A and robot B grouped by scene:\n"
      ]
    },
    {
      "cell_type": "code",
      "metadata": {
        "id": "gHsl2-2ACESx",
        "colab_type": "code",
        "outputId": "65c9f210-747a-4e18-a72a-c7d0489e4d67",
        "colab": {
          "base_uri": "https://localhost:8080/",
          "height": 564
        }
      },
      "source": [
        "axes = raw_data[['robot_a', 'robot_b', 'scene']].boxplot(by='scene', figsize=(20,8), fontsize=18, grid=False)"
      ],
      "execution_count": 0,
      "outputs": [
        {
          "output_type": "display_data",
          "data": {
            "image/png": "[encoded data removed]",
            "text/plain": [
              "<Figure size 1440x576 with 2 Axes>"
            ]
          },
          "metadata": {
            "tags": []
          }
        }
      ]
    },
    {
      "cell_type": "markdown",
      "metadata": {
        "id": "FbEtTBQ0AWU6",
        "colab_type": "text"
      },
      "source": [
        "Histogram of allocated cubes for robot A and robot B:"
      ]
    },
    {
      "cell_type": "code",
      "metadata": {
        "id": "0OrMznsR7TCO",
        "colab_type": "code",
        "outputId": "0739956c-8723-4473-ec39-64535e15482c",
        "colab": {
          "base_uri": "https://localhost:8080/",
          "height": 560
        }
      },
      "source": [
        "hist = raw_data[['robot_a', 'robot_b']].hist(bins=7)"
      ],
      "execution_count": 0,
      "outputs": [
        {
          "output_type": "display_data",
          "data": {
            "image/png": "[encoded data removed]",
            "text/plain": [
              "<Figure size 921.6x633.6 with 2 Axes>"
            ]
          },
          "metadata": {
            "tags": []
          }
        }
      ]
    },
    {
      "cell_type": "markdown",
      "metadata": {
        "id": "KwZaJ0m89sPO",
        "colab_type": "text"
      },
      "source": [
        "Histogram of allocated cubes for robot A and robot B grouped by NVC. The plot on the left means taht A is NVC-robot. Plot on the right means that B is non-NVC robot:"
      ]
    },
    {
      "cell_type": "code",
      "metadata": {
        "id": "Fs1rcQAn79UR",
        "colab_type": "code",
        "outputId": "1b34d2e2-e143-4b9d-ad7c-740d78221c47",
        "colab": {
          "base_uri": "https://localhost:8080/",
          "height": 552
        }
      },
      "source": [
        "hist = raw_data[['robot_a', 'robot_b', 'NVC']].hist(bins=7, by='NVC')"
      ],
      "execution_count": 0,
      "outputs": [
        {
          "output_type": "display_data",
          "data": {
            "image/png": "[encoded data removed]",
            "text/plain": [
              "<Figure size 921.6x633.6 with 2 Axes>"
            ]
          },
          "metadata": {
            "tags": []
          }
        }
      ]
    },
    {
      "cell_type": "markdown",
      "metadata": {
        "id": "_VcINsk69qI0",
        "colab_type": "text"
      },
      "source": [
        "Density plot considering the number of allocated cubes for robot A and robot B:"
      ]
    },
    {
      "cell_type": "code",
      "metadata": {
        "id": "ddwAsQZS-ZKf",
        "colab_type": "code",
        "outputId": "0710c5cc-ceb3-4222-f163-cae1c09d339c",
        "colab": {
          "base_uri": "https://localhost:8080/",
          "height": 556
        }
      },
      "source": [
        "raw_data[['robot_a', 'robot_b']].plot.kde()"
      ],
      "execution_count": 0,
      "outputs": [
        {
          "output_type": "execute_result",
          "data": {
            "text/plain": [
              "<matplotlib.axes._subplots.AxesSubplot at 0x7ff95ef4aa20>"
            ]
          },
          "metadata": {
            "tags": []
          },
          "execution_count": 12
        },
        {
          "output_type": "display_data",
          "data": {
            "image/png": "[encoded data removed]",
            "text/plain": [
              "<Figure size 921.6x633.6 with 1 Axes>"
            ]
          },
          "metadata": {
            "tags": []
          }
        }
      ]
    },
    {
      "cell_type": "markdown",
      "metadata": {
        "id": "rKRJ05ifTAnv",
        "colab_type": "text"
      },
      "source": [
        "The number of allocated cubes of selected participants for each scene (Robot A):"
      ]
    },
    {
      "cell_type": "code",
      "metadata": {
        "id": "Kh6IGECOKKfc",
        "colab_type": "code",
        "outputId": "7bb9e4fb-46e8-4930-c164-9805c1dbd1cf",
        "colab": {
          "base_uri": "https://localhost:8080/",
          "height": 646
        }
      },
      "source": [
        "import random\n",
        "random_participants = random.sample(range(10, 30), 3)\n",
        "participants_data = raw_data[raw_data['participant'].isin(random_participants)]\n",
        "ax = sns.lineplot(x=\"scene\", y=\"robot_a\", hue=\"participant\", data=participants_data, legend=False)\n",
        "ax.set(xticks=[0, 1, 2, 3, 4])"
      ],
      "execution_count": 0,
      "outputs": [
        {
          "output_type": "execute_result",
          "data": {
            "text/plain": [
              "[[<matplotlib.axis.XTick at 0x7ff95f0d3320>,\n",
              "  <matplotlib.axis.XTick at 0x7ff95f0eb940>,\n",
              "  <matplotlib.axis.XTick at 0x7ff95f2b94e0>,\n",
              "  <matplotlib.axis.XTick at 0x7ff95f335b70>,\n",
              "  <matplotlib.axis.XTick at 0x7ff95f3356a0>]]"
            ]
          },
          "metadata": {
            "tags": []
          },
          "execution_count": 13
        },
        {
          "output_type": "display_data",
          "data": {
            "image/png": "[encoded data removed]",
            "text/plain": [
              "<Figure size 921.6x633.6 with 1 Axes>"
            ]
          },
          "metadata": {
            "tags": []
          }
        }
      ]
    },
    {
      "cell_type": "markdown",
      "metadata": {
        "id": "YjHy0JE-UAgz",
        "colab_type": "text"
      },
      "source": [
        "The number of allocated cubes of selected participants for each scene (Robot B):"
      ]
    },
    {
      "cell_type": "code",
      "metadata": {
        "id": "swy5iYIfT130",
        "colab_type": "code",
        "outputId": "6d3f75ba-cb80-4360-8718-3995b84b5af9",
        "colab": {
          "base_uri": "https://localhost:8080/",
          "height": 646
        }
      },
      "source": [
        "import random\n",
        "random_participants = random.sample(range(10, 30), 3)\n",
        "participants_data = raw_data[raw_data['participant'].isin(random_participants)]\n",
        "ax = sns.lineplot(x=\"scene\", y=\"robot_b\", hue=\"participant\", data=participants_data, legend=False)\n",
        "ax.set(xticks=[0, 1, 2, 3, 4])"
      ],
      "execution_count": 0,
      "outputs": [
        {
          "output_type": "execute_result",
          "data": {
            "text/plain": [
              "[[<matplotlib.axis.XTick at 0x7ff95f313a90>,\n",
              "  <matplotlib.axis.XTick at 0x7ff95f313e10>,\n",
              "  <matplotlib.axis.XTick at 0x7ff95f226da0>,\n",
              "  <matplotlib.axis.XTick at 0x7ff95f3c89e8>,\n",
              "  <matplotlib.axis.XTick at 0x7ff95efa9be0>]]"
            ]
          },
          "metadata": {
            "tags": []
          },
          "execution_count": 14
        },
        {
          "output_type": "display_data",
          "data": {
            "image/png": "[encoded data removed]",
            "text/plain": [
              "<Figure size 921.6x633.6 with 1 Axes>"
            ]
          },
          "metadata": {
            "tags": []
          }
        }
      ]
    },
    {
      "cell_type": "markdown",
      "metadata": {
        "id": "HJwy0mOfOaQP",
        "colab_type": "text"
      },
      "source": [
        "### **Distribution of cubes allocation for each scene**\n",
        "---"
      ]
    },
    {
      "cell_type": "code",
      "metadata": {
        "id": "i5dc83g8NPW6",
        "colab_type": "code",
        "outputId": "3092a9f3-e01b-4042-b929-3e0cdc73bdcd",
        "colab": {
          "base_uri": "https://localhost:8080/",
          "height": 644
        }
      },
      "source": [
        "df_scene_1 = raw_data[(raw_data[\"scene\"] == 1)]\n",
        "df_scene_2 = raw_data[(raw_data[\"scene\"] == 2)]\n",
        "df_scene_3 = raw_data[(raw_data[\"scene\"] == 3)]\n",
        "df_scene_4 = raw_data[(raw_data[\"scene\"] == 4)]\n",
        "# df_scene_1[[\"robot_a\",\"robot_b\"]].hist(bins=5,alpha=0.3)\n",
        "\n",
        "fig, ax = plt.subplots(nrows=4, ncols=2, figsize=(10,10))\n",
        "\n",
        "ax[0][0].set_ylabel(\"scene_1\")\n",
        "ax[1][0].set_ylabel(\"scene_2\")\n",
        "ax[2][0].set_ylabel(\"scene_3\")\n",
        "ax[3][0].set_ylabel(\"scene_4\")\n",
        "sns.distplot(df_scene_1[\"robot_a\"], bins=5, ax=ax[0][0])\n",
        "sns.distplot(df_scene_1[\"robot_b\"], bins=5, ax=ax[0][1])\n",
        "sns.distplot(df_scene_2[\"robot_a\"], bins=5, ax=ax[1][0])\n",
        "sns.distplot(df_scene_2[\"robot_b\"], bins=5, ax=ax[1][1])\n",
        "sns.distplot(df_scene_3[\"robot_a\"], bins=5, ax=ax[2][0])\n",
        "sns.distplot(df_scene_3[\"robot_b\"], bins=5, ax=ax[2][1])\n",
        "sns.distplot(df_scene_4[\"robot_a\"], bins=5, ax=ax[3][0])\n",
        "sns.distplot(df_scene_4[\"robot_b\"], bins=5, ax=ax[3][1])"
      ],
      "execution_count": 0,
      "outputs": [
        {
          "output_type": "execute_result",
          "data": {
            "text/plain": [
              "<matplotlib.axes._subplots.AxesSubplot at 0x7ff95eea8f98>"
            ]
          },
          "metadata": {
            "tags": []
          },
          "execution_count": 15
        },
        {
          "output_type": "display_data",
          "data": {
            "image/png": "[encoded data removed]",
            "text/plain": [
              "<Figure size 720x720 with 8 Axes>"
            ]
          },
          "metadata": {
            "tags": []
          }
        }
      ]
    },
    {
      "cell_type": "code",
      "metadata": {
        "id": "0aRxhynFKlWW",
        "colab_type": "code",
        "colab": {}
      },
      "source": [
        ""
      ],
      "execution_count": 0,
      "outputs": []
    },
    {
      "cell_type": "markdown",
      "metadata": {
        "id": "4kgXl64ZRV0f",
        "colab_type": "text"
      },
      "source": [
        "### Cubes allocation distribution for each scene"
      ]
    },
    {
      "cell_type": "code",
      "metadata": {
        "id": "xdqqVsaXRKOf",
        "colab_type": "code",
        "outputId": "dd546ee9-b8dd-4a70-a44e-54139f66fa38",
        "colab": {
          "base_uri": "https://localhost:8080/",
          "height": 472
        }
      },
      "source": [
        "scene = 1\n",
        "temp = raw_data[raw_data[\"scene\"] == scene]\n",
        "cubes_by_participant_scenes_1 = temp.groupby([\"participant\"]).sum()\n",
        "cubes_by_participant_scenes_1[[\"robot_a\",\"robot_b\"]].plot(kind = 'bar', yticks=range(0, 10, 2), figsize=(30,6), title=\"Cube allocation scene {}\".format(scene))"
      ],
      "execution_count": 0,
      "outputs": [
        {
          "output_type": "execute_result",
          "data": {
            "text/plain": [
              "<matplotlib.axes._subplots.AxesSubplot at 0x7ff95f3e6cf8>"
            ]
          },
          "metadata": {
            "tags": []
          },
          "execution_count": 16
        },
        {
          "output_type": "display_data",
          "data": {
            "image/png": "[encoded data removed]",
            "text/plain": [
              "<Figure size 2160x432 with 1 Axes>"
            ]
          },
          "metadata": {
            "tags": []
          }
        }
      ]
    },
    {
      "cell_type": "code",
      "metadata": {
        "id": "_BQT2NrbQ2Hl",
        "colab_type": "code",
        "outputId": "e03da772-e414-46c1-fbeb-dd49e62f213d",
        "colab": {
          "base_uri": "https://localhost:8080/",
          "height": 472
        }
      },
      "source": [
        "scene = 2\n",
        "temp = raw_data[raw_data[\"scene\"] == scene]\n",
        "cubes_by_participant_scenes_1 = temp.groupby([\"participant\"]).sum()\n",
        "cubes_by_participant_scenes_1[[\"robot_a\",\"robot_b\"]].plot(kind = 'bar', yticks=range(0, 10, 2), figsize=(30,6), title=\"Cube allocation scene {}\".format(scene))"
      ],
      "execution_count": 0,
      "outputs": [
        {
          "output_type": "execute_result",
          "data": {
            "text/plain": [
              "<matplotlib.axes._subplots.AxesSubplot at 0x7ff95d3d0630>"
            ]
          },
          "metadata": {
            "tags": []
          },
          "execution_count": 17
        },
        {
          "output_type": "display_data",
          "data": {
            "image/png": "[encoded data removed]",
            "text/plain": [
              "<Figure size 2160x432 with 1 Axes>"
            ]
          },
          "metadata": {
            "tags": []
          }
        }
      ]
    },
    {
      "cell_type": "code",
      "metadata": {
        "id": "TMaXOklqRN6e",
        "colab_type": "code",
        "outputId": "fad8b764-9014-4e84-eb78-b55de1f60253",
        "colab": {
          "base_uri": "https://localhost:8080/",
          "height": 472
        }
      },
      "source": [
        "scene = 3\n",
        "temp = raw_data[raw_data[\"scene\"] == scene]\n",
        "cubes_by_participant_scenes_1 = temp.groupby([\"participant\"]).sum()\n",
        "cubes_by_participant_scenes_1[[\"robot_a\",\"robot_b\"]].plot(kind = 'bar', yticks=range(0, 10, 2), figsize=(30,6), title=\"Cube allocation scene {}\".format(scene))"
      ],
      "execution_count": 0,
      "outputs": [
        {
          "output_type": "execute_result",
          "data": {
            "text/plain": [
              "<matplotlib.axes._subplots.AxesSubplot at 0x7ff95d468588>"
            ]
          },
          "metadata": {
            "tags": []
          },
          "execution_count": 18
        },
        {
          "output_type": "display_data",
          "data": {
            "image/png": "[encoded data removed]",
            "text/plain": [
              "<Figure size 2160x432 with 1 Axes>"
            ]
          },
          "metadata": {
            "tags": []
          }
        }
      ]
    },
    {
      "cell_type": "code",
      "metadata": {
        "id": "VRvVpbbcROF2",
        "colab_type": "code",
        "outputId": "e7093802-3fba-4cf8-e3fd-48e2ef2b2050",
        "colab": {
          "base_uri": "https://localhost:8080/",
          "height": 472
        }
      },
      "source": [
        "scene = 4\n",
        "temp = raw_data[raw_data[\"scene\"] == scene]\n",
        "cubes_by_participant_scenes_1 = temp.groupby([\"participant\"]).sum()\n",
        "cubes_by_participant_scenes_1[[\"robot_a\",\"robot_b\"]].plot(kind = 'bar', yticks=range(0, 10, 2), figsize=(30,6), title=\"Cube allocation scene {}\".format(scene))"
      ],
      "execution_count": 0,
      "outputs": [
        {
          "output_type": "execute_result",
          "data": {
            "text/plain": [
              "<matplotlib.axes._subplots.AxesSubplot at 0x7ff95d108e10>"
            ]
          },
          "metadata": {
            "tags": []
          },
          "execution_count": 19
        },
        {
          "output_type": "display_data",
          "data": {
            "image/png": "[encoded data removed]",
            "text/plain": [
              "<Figure size 2160x432 with 1 Axes>"
            ]
          },
          "metadata": {
            "tags": []
          }
        }
      ]
    },
    {
      "cell_type": "markdown",
      "metadata": {
        "id": "HY0sbFiHR717",
        "colab_type": "text"
      },
      "source": [
        "# **Statistical test: whether Robot A and Robot B different per each scene**\n",
        "---"
      ]
    },
    {
      "cell_type": "markdown",
      "metadata": {
        "id": "pC2KiTeuPdDs",
        "colab_type": "text"
      },
      "source": [
        "*Normality test*\n",
        "---\n",
        "___"
      ]
    },
    {
      "cell_type": "code",
      "metadata": {
        "id": "Ba2WmJhHPDkD",
        "colab_type": "code",
        "outputId": "960816f9-1e16-4f43-87c8-06bb794ba91a",
        "colab": {
          "base_uri": "https://localhost:8080/"
        }
      },
      "source": [
        "res_a = stats.normaltest(df_scene_1[\"robot_a\"])\n",
        "res_b = stats.normaltest(df_scene_1[\"robot_b\"])\n",
        "\n",
        "\"normality test robot a: {} normality test robot b {}\".format(res_a.pvalue, res_b.pvalue)"
      ],
      "execution_count": 0,
      "outputs": [
        {
          "output_type": "execute_result",
          "data": {
            "text/plain": [
              "'normality test robot a: 0.0725241315414396 normality test robot b 0.16741739559706262'"
            ]
          },
          "metadata": {
            "tags": []
          },
          "execution_count": 20
        }
      ]
    },
    {
      "cell_type": "code",
      "metadata": {
        "id": "Wj1St_PSP96A",
        "colab_type": "code",
        "outputId": "09d8ec0a-aaaa-4391-f6e1-6c2f5a1012ae",
        "colab": {
          "base_uri": "https://localhost:8080/"
        }
      },
      "source": [
        "res_a = stats.normaltest(df_scene_2[\"robot_a\"])\n",
        "res_b = stats.normaltest(df_scene_2[\"robot_b\"])\n",
        "\n",
        "\"normality test robot a: {} normality test robot b {}\".format(res_a.pvalue, res_b.pvalue)"
      ],
      "execution_count": 0,
      "outputs": [
        {
          "output_type": "execute_result",
          "data": {
            "text/plain": [
              "'normality test robot a: 0.6990141454444481 normality test robot b 0.3388863295666252'"
            ]
          },
          "metadata": {
            "tags": []
          },
          "execution_count": 21
        }
      ]
    },
    {
      "cell_type": "code",
      "metadata": {
        "id": "TBWIJGCGP-rw",
        "colab_type": "code",
        "outputId": "9e3eea04-c7f2-4447-eb14-6fd3874d83e1",
        "colab": {
          "base_uri": "https://localhost:8080/"
        }
      },
      "source": [
        "res_a = stats.normaltest(df_scene_3[\"robot_a\"])\n",
        "res_b = stats.normaltest(df_scene_3[\"robot_b\"])\n",
        "\n",
        "\"normality test robot a: {} normality test robot b {}\".format(res_a.pvalue, res_b.pvalue)"
      ],
      "execution_count": 0,
      "outputs": [
        {
          "output_type": "execute_result",
          "data": {
            "text/plain": [
              "'normality test robot a: 0.5877253793572879 normality test robot b 0.03794712411387573'"
            ]
          },
          "metadata": {
            "tags": []
          },
          "execution_count": 22
        }
      ]
    },
    {
      "cell_type": "code",
      "metadata": {
        "id": "xk1EGe8MQDuS",
        "colab_type": "code",
        "outputId": "b9758996-5504-4583-8d9d-b107eebbc1d5",
        "colab": {
          "base_uri": "https://localhost:8080/"
        }
      },
      "source": [
        "res_a = stats.normaltest(df_scene_4[\"robot_a\"])\n",
        "res_b = stats.normaltest(df_scene_4[\"robot_b\"])\n",
        "\n",
        "\"normality test robot a: {} normality test robot b {}\".format(res_a.pvalue, res_b.pvalue)"
      ],
      "execution_count": 0,
      "outputs": [
        {
          "output_type": "execute_result",
          "data": {
            "text/plain": [
              "'normality test robot a: 0.09149127968167715 normality test robot b 0.07122169863183585'"
            ]
          },
          "metadata": {
            "tags": []
          },
          "execution_count": 23
        }
      ]
    },
    {
      "cell_type": "code",
      "metadata": {
        "id": "2Cqn_9FR_GF8",
        "colab_type": "code",
        "colab": {}
      },
      "source": [
        ""
      ],
      "execution_count": 0,
      "outputs": []
    },
    {
      "cell_type": "markdown",
      "metadata": {
        "id": "HHyofPkP_Hrl",
        "colab_type": "text"
      },
      "source": [
        "*Variance equality test*\n",
        "---\n",
        "___\n",
        "\n",
        "h0: the variance is equal between robot A and B\n",
        "<br>h1: the variance is not equal"
      ]
    },
    {
      "cell_type": "code",
      "metadata": {
        "id": "7FYbK1Oq_pZb",
        "colab_type": "code",
        "outputId": "c233fe47-fb4b-4f30-f62d-6287c05d47be",
        "colab": {
          "base_uri": "https://localhost:8080/"
        }
      },
      "source": [
        "stats.levene(df_scene_1[\"robot_a\"], df_scene_1[\"robot_b\"])"
      ],
      "execution_count": 0,
      "outputs": [
        {
          "output_type": "execute_result",
          "data": {
            "text/plain": [
              "LeveneResult(statistic=0.3257485029940116, pvalue=0.5700546581209518)"
            ]
          },
          "metadata": {
            "tags": []
          },
          "execution_count": 24
        }
      ]
    },
    {
      "cell_type": "code",
      "metadata": {
        "id": "BF19D_szD-Qy",
        "colab_type": "code",
        "outputId": "7c25ab64-72aa-44a8-fca3-52a26dc49be0",
        "colab": {
          "base_uri": "https://localhost:8080/"
        }
      },
      "source": [
        "stats.levene(df_scene_2[\"robot_a\"], df_scene_2[\"robot_b\"])"
      ],
      "execution_count": 0,
      "outputs": [
        {
          "output_type": "execute_result",
          "data": {
            "text/plain": [
              "LeveneResult(statistic=0.2622950819672133, pvalue=0.6102071976166247)"
            ]
          },
          "metadata": {
            "tags": []
          },
          "execution_count": 25
        }
      ]
    },
    {
      "cell_type": "code",
      "metadata": {
        "id": "jzRytYt-D-cC",
        "colab_type": "code",
        "outputId": "33e80999-56d0-4e7d-e38e-858d3cc052e5",
        "colab": {
          "base_uri": "https://localhost:8080/"
        }
      },
      "source": [
        "stats.levene(df_scene_3[\"robot_a\"], df_scene_3[\"robot_b\"])"
      ],
      "execution_count": 0,
      "outputs": [
        {
          "output_type": "execute_result",
          "data": {
            "text/plain": [
              "LeveneResult(statistic=0.32843894899536286, pvalue=0.5684701168889625)"
            ]
          },
          "metadata": {
            "tags": []
          },
          "execution_count": 26
        }
      ]
    },
    {
      "cell_type": "code",
      "metadata": {
        "id": "uV_-S9_9D-oS",
        "colab_type": "code",
        "outputId": "3f197ea6-72a6-41a1-e284-f66c0ade1693",
        "colab": {
          "base_uri": "https://localhost:8080/"
        }
      },
      "source": [
        "stats.levene(df_scene_4[\"robot_a\"], df_scene_4[\"robot_b\"])"
      ],
      "execution_count": 0,
      "outputs": [
        {
          "output_type": "execute_result",
          "data": {
            "text/plain": [
              "LeveneResult(statistic=0.0277777777777778, pvalue=0.8681269392937211)"
            ]
          },
          "metadata": {
            "tags": []
          },
          "execution_count": 27
        }
      ]
    },
    {
      "cell_type": "markdown",
      "metadata": {
        "id": "6_SZGz9XQNSE",
        "colab_type": "text"
      },
      "source": [
        "*Wilcoxon Test*\n",
        "---\n",
        "___"
      ]
    },
    {
      "cell_type": "markdown",
      "metadata": {
        "id": "B8gWcNt5QUsC",
        "colab_type": "text"
      },
      "source": [
        "***h0: there is no different between robot A  and robot B***\n",
        "\n",
        "***h1: there is different***"
      ]
    },
    {
      "cell_type": "markdown",
      "metadata": {
        "id": "aYUAL_81QkX9",
        "colab_type": "text"
      },
      "source": [
        "*Scene 1*"
      ]
    },
    {
      "cell_type": "code",
      "metadata": {
        "id": "F_u0gJBlQHNc",
        "colab_type": "code",
        "outputId": "6c0d214f-6eb8-4d23-b9ef-e377447158ea",
        "colab": {
          "base_uri": "https://localhost:8080/"
        }
      },
      "source": [
        "stats.wilcoxon(df_scene_1[\"robot_a\"], df_scene_1[\"robot_b\"])"
      ],
      "execution_count": 0,
      "outputs": [
        {
          "output_type": "execute_result",
          "data": {
            "text/plain": [
              "WilcoxonResult(statistic=157.0, pvalue=0.6325176395586687)"
            ]
          },
          "metadata": {
            "tags": []
          },
          "execution_count": 28
        }
      ]
    },
    {
      "cell_type": "markdown",
      "metadata": {
        "id": "qJNVVkCzQpGM",
        "colab_type": "text"
      },
      "source": [
        "*Scene 2*"
      ]
    },
    {
      "cell_type": "code",
      "metadata": {
        "id": "bfMp5r4SQeFr",
        "colab_type": "code",
        "outputId": "cc055df0-b9c4-4b56-cd2a-c99048dbb1b8",
        "colab": {
          "base_uri": "https://localhost:8080/"
        }
      },
      "source": [
        "stats.wilcoxon(df_scene_2[\"robot_a\"], df_scene_2[\"robot_b\"])"
      ],
      "execution_count": 0,
      "outputs": [
        {
          "output_type": "execute_result",
          "data": {
            "text/plain": [
              "WilcoxonResult(statistic=104.0, pvalue=0.03944545968173163)"
            ]
          },
          "metadata": {
            "tags": []
          },
          "execution_count": 29
        }
      ]
    },
    {
      "cell_type": "markdown",
      "metadata": {
        "colab_type": "text",
        "id": "snk0g3A8N9GP"
      },
      "source": [
        "*Scene 3*"
      ]
    },
    {
      "cell_type": "code",
      "metadata": {
        "colab_type": "code",
        "id": "VR0cgTCzOD2O",
        "outputId": "bc91a279-babb-4dfd-a1f4-c64867eb6187",
        "colab": {
          "base_uri": "https://localhost:8080/"
        }
      },
      "source": [
        "stats.wilcoxon(df_scene_3[\"robot_a\"], df_scene_3[\"robot_b\"])"
      ],
      "execution_count": 0,
      "outputs": [
        {
          "output_type": "execute_result",
          "data": {
            "text/plain": [
              "WilcoxonResult(statistic=161.0, pvalue=0.9670755706372665)"
            ]
          },
          "metadata": {
            "tags": []
          },
          "execution_count": 30
        }
      ]
    },
    {
      "cell_type": "markdown",
      "metadata": {
        "colab_type": "text",
        "id": "0zWXIIUvN9su"
      },
      "source": [
        "*Scene 4*"
      ]
    },
    {
      "cell_type": "code",
      "metadata": {
        "colab_type": "code",
        "id": "hkcpDw6YOEBm",
        "outputId": "fb1440cf-951f-4902-ccfc-b81ef8f387e6",
        "colab": {
          "base_uri": "https://localhost:8080/"
        }
      },
      "source": [
        "stats.wilcoxon(df_scene_4[\"robot_a\"], df_scene_4[\"robot_b\"])"
      ],
      "execution_count": 0,
      "outputs": [
        {
          "output_type": "execute_result",
          "data": {
            "text/plain": [
              "WilcoxonResult(statistic=158.5, pvalue=0.3076992972713234)"
            ]
          },
          "metadata": {
            "tags": []
          },
          "execution_count": 31
        }
      ]
    },
    {
      "cell_type": "markdown",
      "metadata": {
        "id": "bisPPOE8Q4Di",
        "colab_type": "text"
      },
      "source": [
        "***Conclusion***\n",
        "\n",
        "pvalue scene 1,3,4 > 0.05, accept H0: no difference there is different A and B\n",
        "\n",
        "scene 2 < 0.05 reject H1: there is difference between robot A and B"
      ]
    },
    {
      "cell_type": "markdown",
      "metadata": {
        "id": "RgM5ziqVRQ1A",
        "colab_type": "text"
      },
      "source": [
        "*Pair t-test*\n",
        "---\n",
        "___"
      ]
    },
    {
      "cell_type": "markdown",
      "metadata": {
        "id": "ZyKyka9IRnLw",
        "colab_type": "text"
      },
      "source": [
        "*Scene 1*"
      ]
    },
    {
      "cell_type": "code",
      "metadata": {
        "id": "MVF-XdBlQhhK",
        "colab_type": "code",
        "outputId": "0ecc9a37-4ccb-44c6-c923-a6dc7a76a7e2",
        "colab": {
          "base_uri": "https://localhost:8080/"
        }
      },
      "source": [
        "stat.ttest_rel(df_scene_1[\"robot_a\"], df_scene_1[\"robot_b\"])"
      ],
      "execution_count": 0,
      "outputs": [
        {
          "output_type": "execute_result",
          "data": {
            "text/plain": [
              "Ttest_relResult(statistic=0.5515205801220937, pvalue=0.5848836731584783)"
            ]
          },
          "metadata": {
            "tags": []
          },
          "execution_count": 32
        }
      ]
    },
    {
      "cell_type": "markdown",
      "metadata": {
        "id": "lb7R4uGlRo95",
        "colab_type": "text"
      },
      "source": [
        "*Scene 2*"
      ]
    },
    {
      "cell_type": "code",
      "metadata": {
        "id": "Gre8x2UsRegj",
        "colab_type": "code",
        "outputId": "3ade2ac2-c5ac-4400-d919-995bf8b4fe88",
        "colab": {
          "base_uri": "https://localhost:8080/"
        }
      },
      "source": [
        " stat.ttest_rel(df_scene_2[\"robot_a\"], df_scene_2[\"robot_b\"])"
      ],
      "execution_count": 0,
      "outputs": [
        {
          "output_type": "execute_result",
          "data": {
            "text/plain": [
              "Ttest_relResult(statistic=-2.360332736914384, pvalue=0.024136112404615207)"
            ]
          },
          "metadata": {
            "tags": []
          },
          "execution_count": 33
        }
      ]
    },
    {
      "cell_type": "markdown",
      "metadata": {
        "id": "qRebq0FdFngk",
        "colab_type": "text"
      },
      "source": [
        "Scene 3"
      ]
    },
    {
      "cell_type": "code",
      "metadata": {
        "colab_type": "code",
        "id": "aWVU7JxLFoq_",
        "outputId": "b3b045f9-acfe-4182-e676-27030d5ab7c9",
        "colab": {
          "base_uri": "https://localhost:8080/"
        }
      },
      "source": [
        "stat.ttest_rel(df_scene_3[\"robot_a\"], df_scene_3[\"robot_b\"])"
      ],
      "execution_count": 0,
      "outputs": [
        {
          "output_type": "execute_result",
          "data": {
            "text/plain": [
              "Ttest_relResult(statistic=-0.0791734587988367, pvalue=0.9373588164126658)"
            ]
          },
          "metadata": {
            "tags": []
          },
          "execution_count": 34
        }
      ]
    },
    {
      "cell_type": "markdown",
      "metadata": {
        "id": "JayHgFZ0Fm9y",
        "colab_type": "text"
      },
      "source": [
        "Scene 4"
      ]
    },
    {
      "cell_type": "code",
      "metadata": {
        "colab_type": "code",
        "id": "Bo1AOrbdFqHb",
        "outputId": "a1a5b954-c6d4-4e3b-84d6-fe5de124e3b4",
        "colab": {
          "base_uri": "https://localhost:8080/"
        }
      },
      "source": [
        "stat.ttest_rel(df_scene_4[\"robot_a\"], df_scene_4[\"robot_b\"])"
      ],
      "execution_count": 0,
      "outputs": [
        {
          "output_type": "execute_result",
          "data": {
            "text/plain": [
              "Ttest_relResult(statistic=-0.9441427449304687, pvalue=0.35175804661302623)"
            ]
          },
          "metadata": {
            "tags": []
          },
          "execution_count": 35
        }
      ]
    },
    {
      "cell_type": "markdown",
      "metadata": {
        "id": "DpKGvbQ3RvIE",
        "colab_type": "text"
      },
      "source": [
        "***Conclusion***\n",
        "\n",
        "*p-value >= 0.05, **accept h0:** There is no different between Robot A and Robot B in Scene 1,3,4*\n",
        "\n",
        "*p-value < 0.05 t < 0, **accept h1:** robot a < robot b in scene 2*"
      ]
    },
    {
      "cell_type": "markdown",
      "metadata": {
        "id": "I7Req5D5OqoN",
        "colab_type": "text"
      },
      "source": [
        ""
      ]
    },
    {
      "cell_type": "markdown",
      "metadata": {
        "id": "x4y6NIsDT8Ce",
        "colab_type": "text"
      },
      "source": [
        "### **Paired t-test to test the difference between NVC and non-NVC robots per scene**"
      ]
    },
    {
      "cell_type": "code",
      "metadata": {
        "id": "4512m2akTgoB",
        "colab_type": "code",
        "outputId": "6e0e849c-24c6-41d6-dcc1-3ab3ce1fe5c0",
        "colab": {
          "base_uri": "https://localhost:8080/"
        }
      },
      "source": [
        "data_nvc_a = raw_data[raw_data['NVC_A'] == True]\n",
        "data_nvc_a = data_nvc_a[['scene', 'robot_a', 'robot_b']]\n",
        "data_nvc_a.head()"
      ],
      "execution_count": 0,
      "outputs": [
        {
          "output_type": "execute_result",
          "data": {
            "text/html": [
              "<div>\n",
              "<style scoped>\n",
              "    .dataframe tbody tr th:only-of-type {\n",
              "        vertical-align: middle;\n",
              "    }\n",
              "\n",
              "    .dataframe tbody tr th {\n",
              "        vertical-align: top;\n",
              "    }\n",
              "\n",
              "    .dataframe thead th {\n",
              "        text-align: right;\n",
              "    }\n",
              "</style>\n",
              "<table border=\"1\" class=\"dataframe\">\n",
              "  <thead>\n",
              "    <tr style=\"text-align: right;\">\n",
              "      <th></th>\n",
              "      <th>scene</th>\n",
              "      <th>robot_a</th>\n",
              "      <th>robot_b</th>\n",
              "    </tr>\n",
              "  </thead>\n",
              "  <tbody>\n",
              "    <tr>\n",
              "      <th>5</th>\n",
              "      <td>0</td>\n",
              "      <td>2</td>\n",
              "      <td>2</td>\n",
              "    </tr>\n",
              "    <tr>\n",
              "      <th>6</th>\n",
              "      <td>1</td>\n",
              "      <td>0</td>\n",
              "      <td>0</td>\n",
              "    </tr>\n",
              "    <tr>\n",
              "      <th>7</th>\n",
              "      <td>2</td>\n",
              "      <td>2</td>\n",
              "      <td>2</td>\n",
              "    </tr>\n",
              "    <tr>\n",
              "      <th>8</th>\n",
              "      <td>3</td>\n",
              "      <td>0</td>\n",
              "      <td>0</td>\n",
              "    </tr>\n",
              "    <tr>\n",
              "      <th>9</th>\n",
              "      <td>4</td>\n",
              "      <td>2</td>\n",
              "      <td>2</td>\n",
              "    </tr>\n",
              "  </tbody>\n",
              "</table>\n",
              "</div>"
            ],
            "text/plain": [
              "   scene  robot_a  robot_b\n",
              "5      0        2        2\n",
              "6      1        0        0\n",
              "7      2        2        2\n",
              "8      3        0        0\n",
              "9      4        2        2"
            ]
          },
          "metadata": {
            "tags": []
          },
          "execution_count": 36
        }
      ]
    },
    {
      "cell_type": "code",
      "metadata": {
        "id": "WwOnpRZvTjEm",
        "colab_type": "code",
        "outputId": "64289a4c-b0c5-498e-93ea-85f7c7776247",
        "colab": {
          "base_uri": "https://localhost:8080/"
        }
      },
      "source": [
        "data_nvc_b = raw_data[raw_data['NVC_B'] == True]\n",
        "data_nvc_b = data_nvc_b[['scene', 'robot_a', 'robot_b']]\n",
        "data_nvc_b.head()"
      ],
      "execution_count": 0,
      "outputs": [
        {
          "output_type": "execute_result",
          "data": {
            "text/html": [
              "<div>\n",
              "<style scoped>\n",
              "    .dataframe tbody tr th:only-of-type {\n",
              "        vertical-align: middle;\n",
              "    }\n",
              "\n",
              "    .dataframe tbody tr th {\n",
              "        vertical-align: top;\n",
              "    }\n",
              "\n",
              "    .dataframe thead th {\n",
              "        text-align: right;\n",
              "    }\n",
              "</style>\n",
              "<table border=\"1\" class=\"dataframe\">\n",
              "  <thead>\n",
              "    <tr style=\"text-align: right;\">\n",
              "      <th></th>\n",
              "      <th>scene</th>\n",
              "      <th>robot_a</th>\n",
              "      <th>robot_b</th>\n",
              "    </tr>\n",
              "  </thead>\n",
              "  <tbody>\n",
              "    <tr>\n",
              "      <th>0</th>\n",
              "      <td>0</td>\n",
              "      <td>2</td>\n",
              "      <td>2</td>\n",
              "    </tr>\n",
              "    <tr>\n",
              "      <th>1</th>\n",
              "      <td>1</td>\n",
              "      <td>2</td>\n",
              "      <td>4</td>\n",
              "    </tr>\n",
              "    <tr>\n",
              "      <th>2</th>\n",
              "      <td>2</td>\n",
              "      <td>2</td>\n",
              "      <td>5</td>\n",
              "    </tr>\n",
              "    <tr>\n",
              "      <th>3</th>\n",
              "      <td>3</td>\n",
              "      <td>4</td>\n",
              "      <td>3</td>\n",
              "    </tr>\n",
              "    <tr>\n",
              "      <th>4</th>\n",
              "      <td>4</td>\n",
              "      <td>5</td>\n",
              "      <td>2</td>\n",
              "    </tr>\n",
              "  </tbody>\n",
              "</table>\n",
              "</div>"
            ],
            "text/plain": [
              "   scene  robot_a  robot_b\n",
              "0      0        2        2\n",
              "1      1        2        4\n",
              "2      2        2        5\n",
              "3      3        4        3\n",
              "4      4        5        2"
            ]
          },
          "metadata": {
            "tags": []
          },
          "execution_count": 37
        }
      ]
    },
    {
      "cell_type": "code",
      "metadata": {
        "id": "g6sojRuhTnMc",
        "colab_type": "code",
        "outputId": "a90e6d9f-59a7-4ec6-d70e-2eaee9c9dffd",
        "colab": {
          "base_uri": "https://localhost:8080/"
        }
      },
      "source": [
        "scene = 1\n",
        "res_a_nvc = stats.ttest_rel(data_nvc_a[data_nvc_a['scene'] == scene][\"robot_a\"], data_nvc_a[data_nvc_a['scene'] == scene][\"robot_b\"])\n",
        "res_b_nvc = stats.ttest_rel(data_nvc_b[data_nvc_b['scene'] == scene][\"robot_a\"], data_nvc_b[data_nvc_b['scene'] == scene][\"robot_b\"])\n",
        "print(res_a_nvc)\n",
        "print(res_b_nvc)"
      ],
      "execution_count": 0,
      "outputs": [
        {
          "output_type": "stream",
          "text": [
            "Ttest_relResult(statistic=1.7314106113512697, pvalue=0.10261152888833616)\n",
            "Ttest_relResult(statistic=-0.9593966796639835, pvalue=0.350806331168509)\n"
          ],
          "name": "stdout"
        }
      ]
    },
    {
      "cell_type": "code",
      "metadata": {
        "id": "ojmuKVteTl5b",
        "colab_type": "code",
        "outputId": "c765ed31-9e88-4856-9a7c-e4a977ffc7fc",
        "colab": {
          "base_uri": "https://localhost:8080/"
        }
      },
      "source": [
        "scene = 2\n",
        "res_a_nvc = stats.ttest_rel(data_nvc_a[data_nvc_a['scene'] == scene][\"robot_a\"], data_nvc_a[data_nvc_a['scene'] == scene][\"robot_b\"])\n",
        "res_b_nvc = stats.ttest_rel(data_nvc_b[data_nvc_b['scene'] == scene][\"robot_a\"], data_nvc_b[data_nvc_b['scene'] == scene][\"robot_b\"])\n",
        "print(res_a_nvc)\n",
        "print(res_b_nvc)"
      ],
      "execution_count": 0,
      "outputs": [
        {
          "output_type": "stream",
          "text": [
            "Ttest_relResult(statistic=-2.43628485012893, pvalue=0.026900553882145718)\n",
            "Ttest_relResult(statistic=-0.9696728761420852, pvalue=0.34580442147424606)\n"
          ],
          "name": "stdout"
        }
      ]
    },
    {
      "cell_type": "code",
      "metadata": {
        "id": "vRjT_qrAVJGn",
        "colab_type": "code",
        "outputId": "cfe76813-0b16-41bc-ddde-04618f0dafad",
        "colab": {
          "base_uri": "https://localhost:8080/"
        }
      },
      "source": [
        "scene = 3\n",
        "res_a_nvc = stats.ttest_rel(data_nvc_a[data_nvc_a['scene'] == scene][\"robot_a\"], data_nvc_a[data_nvc_a['scene'] == scene][\"robot_b\"])\n",
        "res_b_nvc = stats.ttest_rel(data_nvc_b[data_nvc_b['scene'] == scene][\"robot_a\"], data_nvc_b[data_nvc_b['scene'] == scene][\"robot_b\"])\n",
        "print(res_a_nvc)\n",
        "print(res_b_nvc)"
      ],
      "execution_count": 0,
      "outputs": [
        {
          "output_type": "stream",
          "text": [
            "Ttest_relResult(statistic=-0.8241633836921342, pvalue=0.4219632128970361)\n",
            "Ttest_relResult(statistic=1.3247032534410939, pvalue=0.20280224676289826)\n"
          ],
          "name": "stdout"
        }
      ]
    },
    {
      "cell_type": "code",
      "metadata": {
        "id": "HOVPvW2zVJqc",
        "colab_type": "code",
        "outputId": "0499cb0a-4b5f-45e9-afe7-93faa1c1a954",
        "colab": {
          "base_uri": "https://localhost:8080/"
        }
      },
      "source": [
        "scene = 4\n",
        "res_a_nvc = stats.ttest_rel(data_nvc_a[data_nvc_a['scene'] == scene][\"robot_a\"], data_nvc_a[data_nvc_a['scene'] == scene][\"robot_b\"])\n",
        "res_b_nvc = stats.ttest_rel(data_nvc_b[data_nvc_b['scene'] == scene][\"robot_a\"], data_nvc_b[data_nvc_b['scene'] == scene][\"robot_b\"])\n",
        "print(res_a_nvc)\n",
        "print(res_b_nvc)"
      ],
      "execution_count": 0,
      "outputs": [
        {
          "output_type": "stream",
          "text": [
            "Ttest_relResult(statistic=-1.1754541987684668, pvalue=0.25700887911267123)\n",
            "Ttest_relResult(statistic=-0.272462488904917, pvalue=0.7885482009513115)\n"
          ],
          "name": "stdout"
        }
      ]
    },
    {
      "cell_type": "markdown",
      "metadata": {
        "id": "_IykQVLUT20O",
        "colab_type": "text"
      },
      "source": [
        "## Conclusion: when the robot A is an NVC-robot in scene 2 there is a difference between expected values of A and B. B is preferred."
      ]
    },
    {
      "cell_type": "markdown",
      "metadata": {
        "id": "QeJ9q32iu1kN",
        "colab_type": "text"
      },
      "source": [
        "# **Correlation of cubes allocation between 2 robots**"
      ]
    },
    {
      "cell_type": "code",
      "metadata": {
        "id": "NqnYTCfkGgYf",
        "colab_type": "code",
        "outputId": "c4985711-9a4f-40cf-c351-e8c448cf2491",
        "colab": {
          "base_uri": "https://localhost:8080/",
          "height": 142
        }
      },
      "source": [
        "raw_data[[\"scene\",\"robot_a\",\"robot_b\"]].corr()"
      ],
      "execution_count": 0,
      "outputs": [
        {
          "output_type": "execute_result",
          "data": {
            "text/html": [
              "<div>\n",
              "<style scoped>\n",
              "    .dataframe tbody tr th:only-of-type {\n",
              "        vertical-align: middle;\n",
              "    }\n",
              "\n",
              "    .dataframe tbody tr th {\n",
              "        vertical-align: top;\n",
              "    }\n",
              "\n",
              "    .dataframe thead th {\n",
              "        text-align: right;\n",
              "    }\n",
              "</style>\n",
              "<table border=\"1\" class=\"dataframe\">\n",
              "  <thead>\n",
              "    <tr style=\"text-align: right;\">\n",
              "      <th></th>\n",
              "      <th>scene</th>\n",
              "      <th>robot_a</th>\n",
              "      <th>robot_b</th>\n",
              "    </tr>\n",
              "  </thead>\n",
              "  <tbody>\n",
              "    <tr>\n",
              "      <th>scene</th>\n",
              "      <td>1.000000</td>\n",
              "      <td>0.298648</td>\n",
              "      <td>0.404398</td>\n",
              "    </tr>\n",
              "    <tr>\n",
              "      <th>robot_a</th>\n",
              "      <td>0.298648</td>\n",
              "      <td>1.000000</td>\n",
              "      <td>-0.270482</td>\n",
              "    </tr>\n",
              "    <tr>\n",
              "      <th>robot_b</th>\n",
              "      <td>0.404398</td>\n",
              "      <td>-0.270482</td>\n",
              "      <td>1.000000</td>\n",
              "    </tr>\n",
              "  </tbody>\n",
              "</table>\n",
              "</div>"
            ],
            "text/plain": [
              "            scene   robot_a   robot_b\n",
              "scene    1.000000  0.298648  0.404398\n",
              "robot_a  0.298648  1.000000 -0.270482\n",
              "robot_b  0.404398 -0.270482  1.000000"
            ]
          },
          "metadata": {
            "tags": []
          },
          "execution_count": 42
        }
      ]
    },
    {
      "cell_type": "markdown",
      "metadata": {
        "id": "D2i1YI77vF44",
        "colab_type": "text"
      },
      "source": [
        "# Linear regression"
      ]
    },
    {
      "cell_type": "code",
      "metadata": {
        "id": "VBfoPONpBt8w",
        "colab_type": "code",
        "colab": {}
      },
      "source": [
        "from sklearn.preprocessing import OneHotEncoder, StandardScaler\n",
        "from sklearn.pipeline import Pipeline\n",
        "from sklearn.compose import ColumnTransformer\n",
        "from sklearn.linear_model import LinearRegression\n",
        "from sklearn.metrics import r2_score"
      ],
      "execution_count": 0,
      "outputs": []
    },
    {
      "cell_type": "code",
      "metadata": {
        "id": "QxHfBeVwCqcR",
        "colab_type": "code",
        "outputId": "f4ce6834-fdf1-4ea8-f4f1-10c80c1d94ae",
        "colab": {
          "base_uri": "https://localhost:8080/",
          "height": 68
        }
      },
      "source": [
        "data = raw_data[[\"robot_a\"]]\n",
        "num_attrs = [\"robot_a\"]\n",
        "cat_attrs = [\"scene\", \"NVC\"]\n",
        "\n",
        "num_pipeline = Pipeline([\n",
        "        ('std_scaler', StandardScaler()),\n",
        "])\n",
        "\n",
        "cat_encoder = OneHotEncoder(sparse=False)\n",
        "\n",
        "full_pipeline = ColumnTransformer([\n",
        "        (\"num\", num_pipeline, num_attrs),\n",
        "        (\"cat\", cat_encoder, cat_attrs),\n",
        "])\n",
        "\n",
        "data_prepared = full_pipeline.fit_transform(raw_data)\n",
        "\n",
        "reg = LinearRegression().fit(data_prepared, raw_data[\"robot_b\"])\n",
        "\n",
        "predicted = reg.predict(data_prepared)\n",
        "score = r2_score(raw_data[\"robot_b\"], predicted, multioutput='raw_values')\n",
        "\n",
        "print(f'linear regression coef: {reg.coef_}')\n",
        "print(f'r square score: {score}')"
      ],
      "execution_count": 0,
      "outputs": [
        {
          "output_type": "stream",
          "text": [
            "linear regression coef: [-0.8575627  -1.22855492 -1.01923238  0.41190336  0.611465    1.22441893\n",
            " -0.0206779   0.0206779 ]\n",
            "r square score: [0.3534199]\n"
          ],
          "name": "stdout"
        }
      ]
    },
    {
      "cell_type": "code",
      "metadata": {
        "id": "wzunjY3WCqoO",
        "colab_type": "code",
        "outputId": "76dc4064-353f-4711-eab2-1523dde438b1",
        "colab": {
          "base_uri": "https://localhost:8080/",
          "height": 68
        }
      },
      "source": [
        "data = raw_data[[\"robot_b\"]]\n",
        "num_attrs = [\"robot_b\"]\n",
        "cat_attrs = [\"scene\", \"NVC\"]\n",
        "\n",
        "num_pipeline = Pipeline([\n",
        "        ('std_scaler', StandardScaler()),\n",
        "])\n",
        "\n",
        "cat_encoder = OneHotEncoder(sparse=False)\n",
        "\n",
        "full_pipeline = ColumnTransformer([\n",
        "        (\"num\", num_pipeline, num_attrs),\n",
        "        (\"cat\", cat_encoder, cat_attrs),\n",
        "])\n",
        "\n",
        "data_prepared = full_pipeline.fit_transform(raw_data)\n",
        "\n",
        "reg = LinearRegression().fit(data_prepared, raw_data[\"robot_a\"])\n",
        "\n",
        "predicted = reg.predict(data_prepared)\n",
        "score = r2_score(raw_data[\"robot_a\"], predicted, multioutput='raw_values')\n",
        "\n",
        "print(f'linear regression coef: {reg.coef_}')\n",
        "print(f'r square score: {score}')"
      ],
      "execution_count": 0,
      "outputs": [
        {
          "output_type": "stream",
          "text": [
            "linear regression coef: [-0.79970067 -1.07704552 -0.73875243 -0.14064626  0.86017047  1.09627374\n",
            " -0.17258376  0.17258376]\n",
            "r square score: [0.34551147]\n"
          ],
          "name": "stdout"
        }
      ]
    },
    {
      "cell_type": "markdown",
      "metadata": {
        "id": "G2-hQtRrMMGN",
        "colab_type": "text"
      },
      "source": [
        "# Relative cube allocation"
      ]
    },
    {
      "cell_type": "code",
      "metadata": {
        "id": "mVFEl2txIdRK",
        "colab_type": "code",
        "outputId": "970b5fd0-d4fc-4c3b-8d7a-6376e883e78b",
        "colab": {
          "base_uri": "https://localhost:8080/",
          "height": 359
        }
      },
      "source": [
        "df_by_ps = raw_data.groupby([\"participant\", \"scene\"]).sum()[[\"robot_a\", \"robot_b\"]].reset_index() # df group by participant and scene\n",
        "df_by_ps.head(10)"
      ],
      "execution_count": 0,
      "outputs": [
        {
          "output_type": "execute_result",
          "data": {
            "text/html": [
              "<div>\n",
              "<style scoped>\n",
              "    .dataframe tbody tr th:only-of-type {\n",
              "        vertical-align: middle;\n",
              "    }\n",
              "\n",
              "    .dataframe tbody tr th {\n",
              "        vertical-align: top;\n",
              "    }\n",
              "\n",
              "    .dataframe thead th {\n",
              "        text-align: right;\n",
              "    }\n",
              "</style>\n",
              "<table border=\"1\" class=\"dataframe\">\n",
              "  <thead>\n",
              "    <tr style=\"text-align: right;\">\n",
              "      <th></th>\n",
              "      <th>participant</th>\n",
              "      <th>scene</th>\n",
              "      <th>robot_a</th>\n",
              "      <th>robot_b</th>\n",
              "    </tr>\n",
              "  </thead>\n",
              "  <tbody>\n",
              "    <tr>\n",
              "      <th>0</th>\n",
              "      <td>2</td>\n",
              "      <td>0</td>\n",
              "      <td>1</td>\n",
              "      <td>1</td>\n",
              "    </tr>\n",
              "    <tr>\n",
              "      <th>1</th>\n",
              "      <td>2</td>\n",
              "      <td>1</td>\n",
              "      <td>2</td>\n",
              "      <td>1</td>\n",
              "    </tr>\n",
              "    <tr>\n",
              "      <th>2</th>\n",
              "      <td>2</td>\n",
              "      <td>2</td>\n",
              "      <td>2</td>\n",
              "      <td>2</td>\n",
              "    </tr>\n",
              "    <tr>\n",
              "      <th>3</th>\n",
              "      <td>2</td>\n",
              "      <td>3</td>\n",
              "      <td>0</td>\n",
              "      <td>3</td>\n",
              "    </tr>\n",
              "    <tr>\n",
              "      <th>4</th>\n",
              "      <td>2</td>\n",
              "      <td>4</td>\n",
              "      <td>4</td>\n",
              "      <td>2</td>\n",
              "    </tr>\n",
              "    <tr>\n",
              "      <th>5</th>\n",
              "      <td>3</td>\n",
              "      <td>0</td>\n",
              "      <td>2</td>\n",
              "      <td>2</td>\n",
              "    </tr>\n",
              "    <tr>\n",
              "      <th>6</th>\n",
              "      <td>3</td>\n",
              "      <td>1</td>\n",
              "      <td>1</td>\n",
              "      <td>2</td>\n",
              "    </tr>\n",
              "    <tr>\n",
              "      <th>7</th>\n",
              "      <td>3</td>\n",
              "      <td>2</td>\n",
              "      <td>3</td>\n",
              "      <td>3</td>\n",
              "    </tr>\n",
              "    <tr>\n",
              "      <th>8</th>\n",
              "      <td>3</td>\n",
              "      <td>3</td>\n",
              "      <td>4</td>\n",
              "      <td>3</td>\n",
              "    </tr>\n",
              "    <tr>\n",
              "      <th>9</th>\n",
              "      <td>3</td>\n",
              "      <td>4</td>\n",
              "      <td>4</td>\n",
              "      <td>3</td>\n",
              "    </tr>\n",
              "  </tbody>\n",
              "</table>\n",
              "</div>"
            ],
            "text/plain": [
              "   participant  scene  robot_a  robot_b\n",
              "0            2      0        1        1\n",
              "1            2      1        2        1\n",
              "2            2      2        2        2\n",
              "3            2      3        0        3\n",
              "4            2      4        4        2\n",
              "5            3      0        2        2\n",
              "6            3      1        1        2\n",
              "7            3      2        3        3\n",
              "8            3      3        4        3\n",
              "9            3      4        4        3"
            ]
          },
          "metadata": {
            "tags": []
          },
          "execution_count": 48
        }
      ]
    },
    {
      "cell_type": "code",
      "metadata": {
        "id": "pwnUeJGOKCiM",
        "colab_type": "code",
        "outputId": "c121db47-d5d9-4521-c5b6-d1dfd6992851",
        "colab": {
          "base_uri": "https://localhost:8080/",
          "height": 627
        }
      },
      "source": [
        "participant_relative_cubes = []\n",
        "for participant_id in df_by_ps[\"participant\"].unique():\n",
        "    df_participant = df_by_ps[df_by_ps[\"participant\"] == participant_id]\n",
        "    count_diff_a = df_participant[\"robot_a\"].diff()\n",
        "    count_diff_b = df_participant[\"robot_b\"].diff()\n",
        "    participant_relative_cubes.append(count_diff_a - count_diff_b)\n",
        "\n",
        "\n",
        "relative_cubes_data = []\n",
        "scenes = np.arange(1,5)\n",
        "participant_relative_cubes = np.array(participant_relative_cubes)\n",
        "\n",
        "temp = []\n",
        "for scene in scenes:\n",
        "  mean_relative_cubes = participant_relative_cubes[:, scene].mean()\n",
        "  temp.append(mean_relative_cubes)\n",
        "\n",
        "mean_relative_cubes = np.array(temp)\n",
        "plt.plot(scenes, mean_relative_cubes)\n",
        "plt.xticks(np.arange(1, 5, 1))\n"
      ],
      "execution_count": 0,
      "outputs": [
        {
          "output_type": "execute_result",
          "data": {
            "text/plain": [
              "([<matplotlib.axis.XTick at 0x7ff95a492630>,\n",
              "  <matplotlib.axis.XTick at 0x7ff95a3923c8>,\n",
              "  <matplotlib.axis.XTick at 0x7ff95a3b6b70>,\n",
              "  <matplotlib.axis.XTick at 0x7ff95a2be7f0>],\n",
              " <a list of 4 Text xticklabel objects>)"
            ]
          },
          "metadata": {
            "tags": []
          },
          "execution_count": 49
        },
        {
          "output_type": "display_data",
          "data": {
            "image/png": "[encoded data removed]",
            "text/plain": [
              "<Figure size 921.6x633.6 with 1 Axes>"
            ]
          },
          "metadata": {
            "tags": []
          }
        }
      ]
    },
    {
      "cell_type": "markdown",
      "metadata": {
        "id": "dtNIoag-_wbc",
        "colab_type": "text"
      },
      "source": [
        "## Predicting robot A cubes based on scene, NVC (OneHotEncoded) and cubes B "
      ]
    },
    {
      "cell_type": "code",
      "metadata": {
        "id": "zi2klb7OBx46",
        "colab_type": "code",
        "outputId": "5600c0b9-7d0a-49eb-96bc-ec369e5de5e3",
        "colab": {
          "base_uri": "https://localhost:8080/",
          "height": 68
        }
      },
      "source": [
        "data = raw_data[[\"robot_a\"]]\n",
        "num_attrs = [\"robot_a\"]\n",
        "cat_attrs = [\"scene\", \"NVC\"]\n",
        "\n",
        "num_pipeline = Pipeline([\n",
        "        ('std_scaler', StandardScaler()),\n",
        "])\n",
        "\n",
        "cat_encoder = OneHotEncoder(sparse=False)\n",
        "\n",
        "full_pipeline = ColumnTransformer([\n",
        "        (\"num\", num_pipeline, num_attrs),\n",
        "        (\"cat\", cat_encoder, cat_attrs),\n",
        "])\n",
        "\n",
        "data_prepared = full_pipeline.fit_transform(raw_data)\n",
        "\n",
        "reg = LinearRegression().fit(data_prepared, raw_data[\"robot_b\"])\n",
        "predicted = reg.predict(data_prepared)\n",
        "score = r2_score(raw_data[\"robot_b\"], predicted, multioutput='raw_values')\n",
        "print(\"R square score: {}\".format(score))\n",
        "print(\"reg coef: {}\".format(reg.coef_))"
      ],
      "execution_count": 0,
      "outputs": [
        {
          "output_type": "stream",
          "text": [
            "R square score: [0.35199814]\n",
            "reg coef: [-0.75170439 -1.22910196 -0.98331162  0.2986185   0.76739908  1.146396\n",
            " -0.10890487  0.10890487]\n"
          ],
          "name": "stdout"
        }
      ]
    },
    {
      "cell_type": "markdown",
      "metadata": {
        "colab_type": "text",
        "id": "mAxpRxqZBldQ"
      },
      "source": [
        "## Predicting robot B cubes based on scene, NVC (OneHotEncoded) and cubes A "
      ]
    },
    {
      "cell_type": "code",
      "metadata": {
        "id": "XrQKGqPQB96C",
        "colab_type": "code",
        "outputId": "fd272d5a-89a5-4bb0-bdf9-14b3abde746e",
        "colab": {
          "base_uri": "https://localhost:8080/",
          "height": 68
        }
      },
      "source": [
        "data = raw_data[[\"robot_b\"]]\n",
        "num_attrs = [\"robot_a\"]\n",
        "cat_attrs = [\"scene\", \"NVC\"]\n",
        "\n",
        "num_pipeline = Pipeline([\n",
        "        ('std_scaler', StandardScaler()),\n",
        "])\n",
        "\n",
        "cat_encoder = OneHotEncoder(sparse=False)\n",
        "\n",
        "full_pipeline = ColumnTransformer([\n",
        "        (\"num\", num_pipeline, num_attrs),\n",
        "        (\"cat\", cat_encoder, cat_attrs),\n",
        "])\n",
        "\n",
        "data_prepared = full_pipeline.fit_transform(raw_data)\n",
        "\n",
        "reg = LinearRegression().fit(data_prepared, raw_data[\"robot_a\"])\n",
        "predicted = reg.predict(data_prepared)\n",
        "score = r2_score(raw_data[\"robot_b\"], predicted, multioutput='raw_values')\n",
        "print(\"R square score: {}\".format(score))\n",
        "print(\"reg coef: {}\".format(reg.coef_))"
      ],
      "execution_count": 0,
      "outputs": [
        {
          "output_type": "stream",
          "text": [
            "R square score: [-1.42039801]\n",
            "reg coef: [ 1.61002979e+00 -5.14338874e-17 -6.84835603e-17 -5.60829971e-17\n",
            "  4.66406638e-17  1.29359781e-16 -1.14986541e-17  1.14986541e-17]\n"
          ],
          "name": "stdout"
        }
      ]
    },
    {
      "cell_type": "markdown",
      "metadata": {
        "id": "Vg23h9PESh71",
        "colab_type": "text"
      },
      "source": [
        "# **Calculating the significance of allocated cubes as:**\n",
        "---\n",
        "*the number of allocated cubes to one robot divided by the sum of allocated cubes to both robots*"
      ]
    },
    {
      "cell_type": "code",
      "metadata": {
        "id": "bccSjId5RjG2",
        "colab_type": "code",
        "outputId": "ddba21f4-5bd5-4f9f-9df2-72a00e041966",
        "colab": {
          "base_uri": "https://localhost:8080/",
          "height": 204
        }
      },
      "source": [
        "approach1 = raw_data.copy()\n",
        "approach1[\"sum_cubes_a_and_b\"] = approach1[\"robot_a\"] + approach1[\"robot_b\"]\n",
        "approach1[\"significance_A\"] = approach1[\"robot_a\"] / approach1[\"sum_cubes_a_and_b\"]\n",
        "approach1[\"significance_B\"] = approach1[\"robot_b\"] / approach1[\"sum_cubes_a_and_b\"]\n",
        "approach1.head()"
      ],
      "execution_count": 0,
      "outputs": [
        {
          "output_type": "execute_result",
          "data": {
            "text/html": [
              "<div>\n",
              "<style scoped>\n",
              "    .dataframe tbody tr th:only-of-type {\n",
              "        vertical-align: middle;\n",
              "    }\n",
              "\n",
              "    .dataframe tbody tr th {\n",
              "        vertical-align: top;\n",
              "    }\n",
              "\n",
              "    .dataframe thead th {\n",
              "        text-align: right;\n",
              "    }\n",
              "</style>\n",
              "<table border=\"1\" class=\"dataframe\">\n",
              "  <thead>\n",
              "    <tr style=\"text-align: right;\">\n",
              "      <th></th>\n",
              "      <th>scene</th>\n",
              "      <th>robot_a</th>\n",
              "      <th>robot_b</th>\n",
              "      <th>participant</th>\n",
              "      <th>NVC_A</th>\n",
              "      <th>NVC_B</th>\n",
              "      <th>NVC</th>\n",
              "      <th>sum_cubes_a_and_b</th>\n",
              "      <th>significance_A</th>\n",
              "      <th>significance_B</th>\n",
              "    </tr>\n",
              "  </thead>\n",
              "  <tbody>\n",
              "    <tr>\n",
              "      <th>0</th>\n",
              "      <td>0</td>\n",
              "      <td>2</td>\n",
              "      <td>2</td>\n",
              "      <td>15</td>\n",
              "      <td>False</td>\n",
              "      <td>True</td>\n",
              "      <td>B</td>\n",
              "      <td>4</td>\n",
              "      <td>0.500000</td>\n",
              "      <td>0.500000</td>\n",
              "    </tr>\n",
              "    <tr>\n",
              "      <th>1</th>\n",
              "      <td>1</td>\n",
              "      <td>2</td>\n",
              "      <td>4</td>\n",
              "      <td>15</td>\n",
              "      <td>False</td>\n",
              "      <td>True</td>\n",
              "      <td>B</td>\n",
              "      <td>6</td>\n",
              "      <td>0.333333</td>\n",
              "      <td>0.666667</td>\n",
              "    </tr>\n",
              "    <tr>\n",
              "      <th>2</th>\n",
              "      <td>2</td>\n",
              "      <td>2</td>\n",
              "      <td>5</td>\n",
              "      <td>15</td>\n",
              "      <td>False</td>\n",
              "      <td>True</td>\n",
              "      <td>B</td>\n",
              "      <td>7</td>\n",
              "      <td>0.285714</td>\n",
              "      <td>0.714286</td>\n",
              "    </tr>\n",
              "    <tr>\n",
              "      <th>3</th>\n",
              "      <td>3</td>\n",
              "      <td>4</td>\n",
              "      <td>3</td>\n",
              "      <td>15</td>\n",
              "      <td>False</td>\n",
              "      <td>True</td>\n",
              "      <td>B</td>\n",
              "      <td>7</td>\n",
              "      <td>0.571429</td>\n",
              "      <td>0.428571</td>\n",
              "    </tr>\n",
              "    <tr>\n",
              "      <th>4</th>\n",
              "      <td>4</td>\n",
              "      <td>5</td>\n",
              "      <td>2</td>\n",
              "      <td>15</td>\n",
              "      <td>False</td>\n",
              "      <td>True</td>\n",
              "      <td>B</td>\n",
              "      <td>7</td>\n",
              "      <td>0.714286</td>\n",
              "      <td>0.285714</td>\n",
              "    </tr>\n",
              "  </tbody>\n",
              "</table>\n",
              "</div>"
            ],
            "text/plain": [
              "   scene  robot_a  robot_b  ...  sum_cubes_a_and_b  significance_A  significance_B\n",
              "0      0        2        2  ...                  4        0.500000        0.500000\n",
              "1      1        2        4  ...                  6        0.333333        0.666667\n",
              "2      2        2        5  ...                  7        0.285714        0.714286\n",
              "3      3        4        3  ...                  7        0.571429        0.428571\n",
              "4      4        5        2  ...                  7        0.714286        0.285714\n",
              "\n",
              "[5 rows x 10 columns]"
            ]
          },
          "metadata": {
            "tags": []
          },
          "execution_count": 52
        }
      ]
    },
    {
      "cell_type": "code",
      "metadata": {
        "id": "TGLk1-XkIcCj",
        "colab_type": "code",
        "outputId": "a97e964c-6405-4d53-c6f8-b28db01b78ee",
        "colab": {
          "base_uri": "https://localhost:8080/",
          "height": 204
        }
      },
      "source": [
        "data_nvc_a = raw_data[raw_data['NVC'] == 'A']\n",
        "data_nvc_a = data_nvc_a[['scene', 'robot_a', 'robot_b']]\n",
        "data_nvc_a.head()"
      ],
      "execution_count": 0,
      "outputs": [
        {
          "output_type": "execute_result",
          "data": {
            "text/html": [
              "<div>\n",
              "<style scoped>\n",
              "    .dataframe tbody tr th:only-of-type {\n",
              "        vertical-align: middle;\n",
              "    }\n",
              "\n",
              "    .dataframe tbody tr th {\n",
              "        vertical-align: top;\n",
              "    }\n",
              "\n",
              "    .dataframe thead th {\n",
              "        text-align: right;\n",
              "    }\n",
              "</style>\n",
              "<table border=\"1\" class=\"dataframe\">\n",
              "  <thead>\n",
              "    <tr style=\"text-align: right;\">\n",
              "      <th></th>\n",
              "      <th>scene</th>\n",
              "      <th>robot_a</th>\n",
              "      <th>robot_b</th>\n",
              "    </tr>\n",
              "  </thead>\n",
              "  <tbody>\n",
              "    <tr>\n",
              "      <th>5</th>\n",
              "      <td>0</td>\n",
              "      <td>2</td>\n",
              "      <td>2</td>\n",
              "    </tr>\n",
              "    <tr>\n",
              "      <th>6</th>\n",
              "      <td>1</td>\n",
              "      <td>0</td>\n",
              "      <td>0</td>\n",
              "    </tr>\n",
              "    <tr>\n",
              "      <th>7</th>\n",
              "      <td>2</td>\n",
              "      <td>2</td>\n",
              "      <td>2</td>\n",
              "    </tr>\n",
              "    <tr>\n",
              "      <th>8</th>\n",
              "      <td>3</td>\n",
              "      <td>0</td>\n",
              "      <td>0</td>\n",
              "    </tr>\n",
              "    <tr>\n",
              "      <th>9</th>\n",
              "      <td>4</td>\n",
              "      <td>2</td>\n",
              "      <td>2</td>\n",
              "    </tr>\n",
              "  </tbody>\n",
              "</table>\n",
              "</div>"
            ],
            "text/plain": [
              "   scene  robot_a  robot_b\n",
              "5      0        2        2\n",
              "6      1        0        0\n",
              "7      2        2        2\n",
              "8      3        0        0\n",
              "9      4        2        2"
            ]
          },
          "metadata": {
            "tags": []
          },
          "execution_count": 53
        }
      ]
    },
    {
      "cell_type": "markdown",
      "metadata": {
        "id": "n57L-LscbTrq",
        "colab_type": "text"
      },
      "source": [
        "*Significance of robots in each scene*\n",
        "---\n",
        "___"
      ]
    },
    {
      "cell_type": "code",
      "metadata": {
        "id": "vgwfoKcqSvkp",
        "colab_type": "code",
        "outputId": "ebb955b5-0cb0-4ad0-d262-1a110713dc72",
        "colab": {
          "base_uri": "https://localhost:8080/",
          "height": 235
        }
      },
      "source": [
        "approach1_plot_data = approach1.groupby(['scene']).mean()\n",
        "approach1_plot_data = approach1_plot_data[['significance_A', 'significance_B']]\n",
        "approach1_plot_data"
      ],
      "execution_count": 0,
      "outputs": [
        {
          "output_type": "execute_result",
          "data": {
            "text/html": [
              "<div>\n",
              "<style scoped>\n",
              "    .dataframe tbody tr th:only-of-type {\n",
              "        vertical-align: middle;\n",
              "    }\n",
              "\n",
              "    .dataframe tbody tr th {\n",
              "        vertical-align: top;\n",
              "    }\n",
              "\n",
              "    .dataframe thead th {\n",
              "        text-align: right;\n",
              "    }\n",
              "</style>\n",
              "<table border=\"1\" class=\"dataframe\">\n",
              "  <thead>\n",
              "    <tr style=\"text-align: right;\">\n",
              "      <th></th>\n",
              "      <th>significance_A</th>\n",
              "      <th>significance_B</th>\n",
              "    </tr>\n",
              "    <tr>\n",
              "      <th>scene</th>\n",
              "      <th></th>\n",
              "      <th></th>\n",
              "    </tr>\n",
              "  </thead>\n",
              "  <tbody>\n",
              "    <tr>\n",
              "      <th>0</th>\n",
              "      <td>0.476190</td>\n",
              "      <td>0.523810</td>\n",
              "    </tr>\n",
              "    <tr>\n",
              "      <th>1</th>\n",
              "      <td>0.516206</td>\n",
              "      <td>0.483794</td>\n",
              "    </tr>\n",
              "    <tr>\n",
              "      <th>2</th>\n",
              "      <td>0.392087</td>\n",
              "      <td>0.607913</td>\n",
              "    </tr>\n",
              "    <tr>\n",
              "      <th>3</th>\n",
              "      <td>0.489916</td>\n",
              "      <td>0.510084</td>\n",
              "    </tr>\n",
              "    <tr>\n",
              "      <th>4</th>\n",
              "      <td>0.426531</td>\n",
              "      <td>0.573469</td>\n",
              "    </tr>\n",
              "  </tbody>\n",
              "</table>\n",
              "</div>"
            ],
            "text/plain": [
              "       significance_A  significance_B\n",
              "scene                                \n",
              "0            0.476190        0.523810\n",
              "1            0.516206        0.483794\n",
              "2            0.392087        0.607913\n",
              "3            0.489916        0.510084\n",
              "4            0.426531        0.573469"
            ]
          },
          "metadata": {
            "tags": []
          },
          "execution_count": 54
        }
      ]
    },
    {
      "cell_type": "code",
      "metadata": {
        "id": "d7usTmM9S0Rt",
        "colab_type": "code",
        "outputId": "c1773fcd-3768-4daa-e88c-305b7184bca7",
        "colab": {
          "base_uri": "https://localhost:8080/",
          "height": 659
        }
      },
      "source": [
        " approach1_plot_data.plot(kind='bar', figsize=(20,10), title='The significance of robots considering a scene')"
      ],
      "execution_count": 0,
      "outputs": [
        {
          "output_type": "execute_result",
          "data": {
            "text/plain": [
              "<matplotlib.axes._subplots.AxesSubplot at 0x7ff95a2bed68>"
            ]
          },
          "metadata": {
            "tags": []
          },
          "execution_count": 55
        },
        {
          "output_type": "display_data",
          "data": {
            "image/png": "[encoded data removed]",
            "text/plain": [
              "<Figure size 1440x720 with 1 Axes>"
            ]
          },
          "metadata": {
            "tags": []
          }
        }
      ]
    },
    {
      "cell_type": "markdown",
      "metadata": {
        "id": "_uq5lGaCcAcN",
        "colab_type": "text"
      },
      "source": [
        "*Significance of robots with & without NVC in each scene*\n",
        "---\n",
        "___"
      ]
    },
    {
      "cell_type": "code",
      "metadata": {
        "id": "bY6EknNRS3xW",
        "colab_type": "code",
        "outputId": "7114ee45-f892-4ca1-d99b-23e0a0d3e58e",
        "colab": {
          "base_uri": "https://localhost:8080/",
          "height": 390
        }
      },
      "source": [
        "approach1_plot_data = approach1.groupby(['scene', 'NVC']).mean()\n",
        "approach1_plot_data = approach1_plot_data[['significance_A', 'significance_B']]\n",
        "approach1_plot_data"
      ],
      "execution_count": 0,
      "outputs": [
        {
          "output_type": "execute_result",
          "data": {
            "text/html": [
              "<div>\n",
              "<style scoped>\n",
              "    .dataframe tbody tr th:only-of-type {\n",
              "        vertical-align: middle;\n",
              "    }\n",
              "\n",
              "    .dataframe tbody tr th {\n",
              "        vertical-align: top;\n",
              "    }\n",
              "\n",
              "    .dataframe thead th {\n",
              "        text-align: right;\n",
              "    }\n",
              "</style>\n",
              "<table border=\"1\" class=\"dataframe\">\n",
              "  <thead>\n",
              "    <tr style=\"text-align: right;\">\n",
              "      <th></th>\n",
              "      <th></th>\n",
              "      <th>significance_A</th>\n",
              "      <th>significance_B</th>\n",
              "    </tr>\n",
              "    <tr>\n",
              "      <th>scene</th>\n",
              "      <th>NVC</th>\n",
              "      <th></th>\n",
              "      <th></th>\n",
              "    </tr>\n",
              "  </thead>\n",
              "  <tbody>\n",
              "    <tr>\n",
              "      <th rowspan=\"2\" valign=\"top\">0</th>\n",
              "      <th>A</th>\n",
              "      <td>0.495238</td>\n",
              "      <td>0.504762</td>\n",
              "    </tr>\n",
              "    <tr>\n",
              "      <th>B</th>\n",
              "      <td>0.458333</td>\n",
              "      <td>0.541667</td>\n",
              "    </tr>\n",
              "    <tr>\n",
              "      <th rowspan=\"2\" valign=\"top\">1</th>\n",
              "      <th>A</th>\n",
              "      <td>0.607875</td>\n",
              "      <td>0.392125</td>\n",
              "    </tr>\n",
              "    <tr>\n",
              "      <th>B</th>\n",
              "      <td>0.450000</td>\n",
              "      <td>0.550000</td>\n",
              "    </tr>\n",
              "    <tr>\n",
              "      <th rowspan=\"2\" valign=\"top\">2</th>\n",
              "      <th>A</th>\n",
              "      <td>0.337351</td>\n",
              "      <td>0.662649</td>\n",
              "    </tr>\n",
              "    <tr>\n",
              "      <th>B</th>\n",
              "      <td>0.440741</td>\n",
              "      <td>0.559259</td>\n",
              "    </tr>\n",
              "    <tr>\n",
              "      <th rowspan=\"2\" valign=\"top\">3</th>\n",
              "      <th>A</th>\n",
              "      <td>0.445982</td>\n",
              "      <td>0.554018</td>\n",
              "    </tr>\n",
              "    <tr>\n",
              "      <th>B</th>\n",
              "      <td>0.528968</td>\n",
              "      <td>0.471032</td>\n",
              "    </tr>\n",
              "    <tr>\n",
              "      <th rowspan=\"2\" valign=\"top\">4</th>\n",
              "      <th>A</th>\n",
              "      <td>0.388655</td>\n",
              "      <td>0.611345</td>\n",
              "    </tr>\n",
              "    <tr>\n",
              "      <th>B</th>\n",
              "      <td>0.462302</td>\n",
              "      <td>0.537698</td>\n",
              "    </tr>\n",
              "  </tbody>\n",
              "</table>\n",
              "</div>"
            ],
            "text/plain": [
              "           significance_A  significance_B\n",
              "scene NVC                                \n",
              "0     A          0.495238        0.504762\n",
              "      B          0.458333        0.541667\n",
              "1     A          0.607875        0.392125\n",
              "      B          0.450000        0.550000\n",
              "2     A          0.337351        0.662649\n",
              "      B          0.440741        0.559259\n",
              "3     A          0.445982        0.554018\n",
              "      B          0.528968        0.471032\n",
              "4     A          0.388655        0.611345\n",
              "      B          0.462302        0.537698"
            ]
          },
          "metadata": {
            "tags": []
          },
          "execution_count": 56
        }
      ]
    },
    {
      "cell_type": "code",
      "metadata": {
        "id": "vCEV2pb0TOGJ",
        "colab_type": "code",
        "outputId": "0cfa3e48-d929-4262-fefe-f092099564dc",
        "colab": {
          "base_uri": "https://localhost:8080/",
          "height": 693
        }
      },
      "source": [
        " approach1_plot_data.plot(kind='bar', figsize=(20,10), title='The significance of robots considering a scene and if a robot NVC or not')"
      ],
      "execution_count": 0,
      "outputs": [
        {
          "output_type": "execute_result",
          "data": {
            "text/plain": [
              "<matplotlib.axes._subplots.AxesSubplot at 0x7ff95a1e5cc0>"
            ]
          },
          "metadata": {
            "tags": []
          },
          "execution_count": 57
        },
        {
          "output_type": "display_data",
          "data": {
            "image/png": "[encoded data removed]",
            "text/plain": [
              "<Figure size 1440x720 with 1 Axes>"
            ]
          },
          "metadata": {
            "tags": []
          }
        }
      ]
    },
    {
      "cell_type": "code",
      "metadata": {
        "id": "Y1ZKwwilZ75z",
        "colab_type": "code",
        "colab": {}
      },
      "source": [
        "def get_significance(row):\n",
        "   if row['NVC'] == 'A' :\n",
        "      return row['significance_A']\n",
        "   if row['NVC'] == 'B' :\n",
        "      return row['significance_B']\n",
        "   return 0.0\n",
        "approach1['significance'] = approach1.apply(lambda row: get_significance(row), axis=1)"
      ],
      "execution_count": 0,
      "outputs": []
    },
    {
      "cell_type": "code",
      "metadata": {
        "id": "BzHcPxxgaACX",
        "colab_type": "code",
        "outputId": "8054bedf-5de2-483d-f37f-d7971f3eb2c7",
        "colab": {
          "base_uri": "https://localhost:8080/",
          "height": 111
        }
      },
      "source": [
        "data_corr = approach1[approach1['scene']==2]\n",
        "data_corr = data_corr[['NVC','significance']]\n",
        "data_corr.NVC = pd.Categorical(data_corr.NVC)\n",
        "data_corr['NVC_encoded'] = data_corr.NVC.cat.codes\n",
        "data_corr.corr()"
      ],
      "execution_count": 0,
      "outputs": [
        {
          "output_type": "execute_result",
          "data": {
            "text/html": [
              "<div>\n",
              "<style scoped>\n",
              "    .dataframe tbody tr th:only-of-type {\n",
              "        vertical-align: middle;\n",
              "    }\n",
              "\n",
              "    .dataframe tbody tr th {\n",
              "        vertical-align: top;\n",
              "    }\n",
              "\n",
              "    .dataframe thead th {\n",
              "        text-align: right;\n",
              "    }\n",
              "</style>\n",
              "<table border=\"1\" class=\"dataframe\">\n",
              "  <thead>\n",
              "    <tr style=\"text-align: right;\">\n",
              "      <th></th>\n",
              "      <th>significance</th>\n",
              "      <th>NVC_encoded</th>\n",
              "    </tr>\n",
              "  </thead>\n",
              "  <tbody>\n",
              "    <tr>\n",
              "      <th>significance</th>\n",
              "      <td>1.000000</td>\n",
              "      <td>0.391811</td>\n",
              "    </tr>\n",
              "    <tr>\n",
              "      <th>NVC_encoded</th>\n",
              "      <td>0.391811</td>\n",
              "      <td>1.000000</td>\n",
              "    </tr>\n",
              "  </tbody>\n",
              "</table>\n",
              "</div>"
            ],
            "text/plain": [
              "              significance  NVC_encoded\n",
              "significance      1.000000     0.391811\n",
              "NVC_encoded       0.391811     1.000000"
            ]
          },
          "metadata": {
            "tags": []
          },
          "execution_count": 59
        }
      ]
    },
    {
      "cell_type": "markdown",
      "metadata": {
        "id": "zRSP7rrLXgg6",
        "colab_type": "text"
      },
      "source": [
        "# Correlation between personality type and allocated cubes"
      ]
    },
    {
      "cell_type": "code",
      "metadata": {
        "id": "y9UgOkX_XnBE",
        "colab_type": "code",
        "outputId": "dae6685b-e8a7-45ca-aea1-63a706b80a94",
        "colab": {
          "base_uri": "https://localhost:8080/",
          "height": 235
        }
      },
      "source": [
        "personality_data = df.iloc[:,6 : 30]\n",
        "personality_data = personality_data.drop(personality_data.columns[[1,2,3,4,5,6,7,8]], axis=1)\n",
        "personality_data.columns = ['participant', 'Q1', 'Q2', 'Q3', 'Q4', 'Q5', 'Q6', 'Q7', 'Q8', 'Q9', 'Q10', 'Q11', 'Q12', 'Q13', 'Q14', 'Q15']\n",
        "cols_to_check = ['Q1', 'Q2', 'Q3', 'Q4', 'Q5', 'Q6', 'Q7', 'Q8', 'Q9', 'Q10', 'Q11', 'Q12', 'Q13', 'Q14', 'Q15']\n",
        "personality_data[cols_to_check] = personality_data[cols_to_check].replace({'A':''}, regex=True)\n",
        "personality_data = personality_data.apply(pd.to_numeric)\n",
        "personality_data['Q3'] = 8 - personality_data['Q3']\n",
        "personality_data['Q6'] = 8 - personality_data['Q6']\n",
        "personality_data['Q10'] = 8 - personality_data['Q10']\n",
        "personality_data['Q14'] = 8 - personality_data['Q14']\n",
        "\n",
        "neuroticism_cols_to_check = ['Q1', 'Q2', 'Q3']\n",
        "extraversion_cols_to_check = ['Q4', 'Q5', 'Q6']\n",
        "openness_cols_to_check = ['Q7', 'Q8', 'Q9']\n",
        "agreeableness_cols_to_check = ['Q10', 'Q11', 'Q12']\n",
        "conscientiousness_cols_to_check = ['Q13', 'Q14', 'Q15']\n",
        "\n",
        "personality_data['neuroticism'] = personality_data[neuroticism_cols_to_check].sum(axis=1)\n",
        "personality_data['extraversion'] = personality_data[extraversion_cols_to_check].sum(axis=1)\n",
        "personality_data['openness'] = personality_data[openness_cols_to_check].sum(axis=1)\n",
        "personality_data['agreeableness'] = personality_data[agreeableness_cols_to_check].sum(axis=1)\n",
        "personality_data['conscientiousness'] = personality_data[conscientiousness_cols_to_check].sum(axis=1)\n",
        "\n",
        "pd.set_option('display.max_columns', None)\n",
        "personality_data = personality_data.set_index(\"participant\")\n",
        "personality_data.head()"
      ],
      "execution_count": 0,
      "outputs": [
        {
          "output_type": "execute_result",
          "data": {
            "text/html": [
              "<div>\n",
              "<style scoped>\n",
              "    .dataframe tbody tr th:only-of-type {\n",
              "        vertical-align: middle;\n",
              "    }\n",
              "\n",
              "    .dataframe tbody tr th {\n",
              "        vertical-align: top;\n",
              "    }\n",
              "\n",
              "    .dataframe thead th {\n",
              "        text-align: right;\n",
              "    }\n",
              "</style>\n",
              "<table border=\"1\" class=\"dataframe\">\n",
              "  <thead>\n",
              "    <tr style=\"text-align: right;\">\n",
              "      <th></th>\n",
              "      <th>Q1</th>\n",
              "      <th>Q2</th>\n",
              "      <th>Q3</th>\n",
              "      <th>Q4</th>\n",
              "      <th>Q5</th>\n",
              "      <th>Q6</th>\n",
              "      <th>Q7</th>\n",
              "      <th>Q8</th>\n",
              "      <th>Q9</th>\n",
              "      <th>Q10</th>\n",
              "      <th>Q11</th>\n",
              "      <th>Q12</th>\n",
              "      <th>Q13</th>\n",
              "      <th>Q14</th>\n",
              "      <th>Q15</th>\n",
              "      <th>neuroticism</th>\n",
              "      <th>extraversion</th>\n",
              "      <th>openness</th>\n",
              "      <th>agreeableness</th>\n",
              "      <th>conscientiousness</th>\n",
              "    </tr>\n",
              "    <tr>\n",
              "      <th>participant</th>\n",
              "      <th></th>\n",
              "      <th></th>\n",
              "      <th></th>\n",
              "      <th></th>\n",
              "      <th></th>\n",
              "      <th></th>\n",
              "      <th></th>\n",
              "      <th></th>\n",
              "      <th></th>\n",
              "      <th></th>\n",
              "      <th></th>\n",
              "      <th></th>\n",
              "      <th></th>\n",
              "      <th></th>\n",
              "      <th></th>\n",
              "      <th></th>\n",
              "      <th></th>\n",
              "      <th></th>\n",
              "      <th></th>\n",
              "      <th></th>\n",
              "    </tr>\n",
              "  </thead>\n",
              "  <tbody>\n",
              "    <tr>\n",
              "      <th>1</th>\n",
              "      <td>5</td>\n",
              "      <td>5</td>\n",
              "      <td>-3</td>\n",
              "      <td>3</td>\n",
              "      <td>2</td>\n",
              "      <td>-5</td>\n",
              "      <td>4</td>\n",
              "      <td>7</td>\n",
              "      <td>6</td>\n",
              "      <td>-4</td>\n",
              "      <td>6</td>\n",
              "      <td>6</td>\n",
              "      <td>4</td>\n",
              "      <td>-5</td>\n",
              "      <td>5</td>\n",
              "      <td>7</td>\n",
              "      <td>0</td>\n",
              "      <td>17</td>\n",
              "      <td>8</td>\n",
              "      <td>4</td>\n",
              "    </tr>\n",
              "    <tr>\n",
              "      <th>2</th>\n",
              "      <td>3</td>\n",
              "      <td>3</td>\n",
              "      <td>-4</td>\n",
              "      <td>6</td>\n",
              "      <td>6</td>\n",
              "      <td>-3</td>\n",
              "      <td>6</td>\n",
              "      <td>6</td>\n",
              "      <td>6</td>\n",
              "      <td>-5</td>\n",
              "      <td>5</td>\n",
              "      <td>5</td>\n",
              "      <td>5</td>\n",
              "      <td>-5</td>\n",
              "      <td>5</td>\n",
              "      <td>2</td>\n",
              "      <td>9</td>\n",
              "      <td>18</td>\n",
              "      <td>5</td>\n",
              "      <td>5</td>\n",
              "    </tr>\n",
              "    <tr>\n",
              "      <th>3</th>\n",
              "      <td>2</td>\n",
              "      <td>2</td>\n",
              "      <td>-6</td>\n",
              "      <td>7</td>\n",
              "      <td>7</td>\n",
              "      <td>-3</td>\n",
              "      <td>5</td>\n",
              "      <td>7</td>\n",
              "      <td>7</td>\n",
              "      <td>-3</td>\n",
              "      <td>6</td>\n",
              "      <td>6</td>\n",
              "      <td>6</td>\n",
              "      <td>-2</td>\n",
              "      <td>7</td>\n",
              "      <td>-2</td>\n",
              "      <td>11</td>\n",
              "      <td>19</td>\n",
              "      <td>9</td>\n",
              "      <td>11</td>\n",
              "    </tr>\n",
              "    <tr>\n",
              "      <th>4</th>\n",
              "      <td>7</td>\n",
              "      <td>7</td>\n",
              "      <td>-4</td>\n",
              "      <td>2</td>\n",
              "      <td>4</td>\n",
              "      <td>-4</td>\n",
              "      <td>5</td>\n",
              "      <td>4</td>\n",
              "      <td>7</td>\n",
              "      <td>-7</td>\n",
              "      <td>4</td>\n",
              "      <td>7</td>\n",
              "      <td>4</td>\n",
              "      <td>-2</td>\n",
              "      <td>3</td>\n",
              "      <td>10</td>\n",
              "      <td>2</td>\n",
              "      <td>16</td>\n",
              "      <td>4</td>\n",
              "      <td>5</td>\n",
              "    </tr>\n",
              "    <tr>\n",
              "      <th>5</th>\n",
              "      <td>5</td>\n",
              "      <td>6</td>\n",
              "      <td>-4</td>\n",
              "      <td>2</td>\n",
              "      <td>3</td>\n",
              "      <td>-5</td>\n",
              "      <td>5</td>\n",
              "      <td>6</td>\n",
              "      <td>6</td>\n",
              "      <td>-5</td>\n",
              "      <td>6</td>\n",
              "      <td>4</td>\n",
              "      <td>4</td>\n",
              "      <td>-5</td>\n",
              "      <td>5</td>\n",
              "      <td>7</td>\n",
              "      <td>0</td>\n",
              "      <td>17</td>\n",
              "      <td>5</td>\n",
              "      <td>4</td>\n",
              "    </tr>\n",
              "  </tbody>\n",
              "</table>\n",
              "</div>"
            ],
            "text/plain": [
              "             Q1  Q2  Q3  Q4  Q5  Q6  Q7  Q8  Q9  Q10  Q11  Q12  Q13  Q14  Q15  \\\n",
              "participant                                                                     \n",
              "1             5   5  -3   3   2  -5   4   7   6   -4    6    6    4   -5    5   \n",
              "2             3   3  -4   6   6  -3   6   6   6   -5    5    5    5   -5    5   \n",
              "3             2   2  -6   7   7  -3   5   7   7   -3    6    6    6   -2    7   \n",
              "4             7   7  -4   2   4  -4   5   4   7   -7    4    7    4   -2    3   \n",
              "5             5   6  -4   2   3  -5   5   6   6   -5    6    4    4   -5    5   \n",
              "\n",
              "             neuroticism  extraversion  openness  agreeableness  \\\n",
              "participant                                                       \n",
              "1                      7             0        17              8   \n",
              "2                      2             9        18              5   \n",
              "3                     -2            11        19              9   \n",
              "4                     10             2        16              4   \n",
              "5                      7             0        17              5   \n",
              "\n",
              "             conscientiousness  \n",
              "participant                     \n",
              "1                            4  \n",
              "2                            5  \n",
              "3                           11  \n",
              "4                            5  \n",
              "5                            4  "
            ]
          },
          "metadata": {
            "tags": []
          },
          "execution_count": 60
        }
      ]
    },
    {
      "cell_type": "code",
      "metadata": {
        "id": "KsBfi9Y-AkZQ",
        "colab_type": "code",
        "outputId": "3c83d497-2447-4f0f-978e-5d9d492fa1c4",
        "colab": {
          "base_uri": "https://localhost:8080/",
          "height": 390
        }
      },
      "source": [
        "cubes_data = raw_data.groupby(['participant']).sum()\n",
        "cubes_data = cubes_data[[\"robot_a\", \"robot_b\"]]\n",
        "merged_data = pd.merge(personality_data, cubes_data, how='inner', on='participant')\n",
        "merged_data = merged_data[[\"neuroticism\", \"extraversion\", \"openness\", \"agreeableness\", \"conscientiousness\", \"robot_a\", \"robot_b\"]]\n",
        "merged_data"
      ],
      "execution_count": 0,
      "outputs": [
        {
          "output_type": "execute_result",
          "data": {
            "text/html": [
              "<div>\n",
              "<style scoped>\n",
              "    .dataframe tbody tr th:only-of-type {\n",
              "        vertical-align: middle;\n",
              "    }\n",
              "\n",
              "    .dataframe tbody tr th {\n",
              "        vertical-align: top;\n",
              "    }\n",
              "\n",
              "    .dataframe thead th {\n",
              "        text-align: right;\n",
              "    }\n",
              "</style>\n",
              "<table border=\"1\" class=\"dataframe\">\n",
              "  <thead>\n",
              "    <tr style=\"text-align: right;\">\n",
              "      <th></th>\n",
              "      <th>neuroticism</th>\n",
              "      <th>extraversion</th>\n",
              "      <th>openness</th>\n",
              "      <th>agreeableness</th>\n",
              "      <th>conscientiousness</th>\n",
              "      <th>robot_a</th>\n",
              "      <th>robot_b</th>\n",
              "    </tr>\n",
              "    <tr>\n",
              "      <th>participant</th>\n",
              "      <th></th>\n",
              "      <th></th>\n",
              "      <th></th>\n",
              "      <th></th>\n",
              "      <th></th>\n",
              "      <th></th>\n",
              "      <th></th>\n",
              "    </tr>\n",
              "  </thead>\n",
              "  <tbody>\n",
              "    <tr>\n",
              "      <th>2</th>\n",
              "      <td>2</td>\n",
              "      <td>9</td>\n",
              "      <td>18</td>\n",
              "      <td>5</td>\n",
              "      <td>5</td>\n",
              "      <td>9</td>\n",
              "      <td>9</td>\n",
              "    </tr>\n",
              "    <tr>\n",
              "      <th>3</th>\n",
              "      <td>-2</td>\n",
              "      <td>11</td>\n",
              "      <td>19</td>\n",
              "      <td>9</td>\n",
              "      <td>11</td>\n",
              "      <td>14</td>\n",
              "      <td>13</td>\n",
              "    </tr>\n",
              "    <tr>\n",
              "      <th>5</th>\n",
              "      <td>7</td>\n",
              "      <td>0</td>\n",
              "      <td>17</td>\n",
              "      <td>5</td>\n",
              "      <td>4</td>\n",
              "      <td>11</td>\n",
              "      <td>15</td>\n",
              "    </tr>\n",
              "    <tr>\n",
              "      <th>6</th>\n",
              "      <td>-3</td>\n",
              "      <td>7</td>\n",
              "      <td>8</td>\n",
              "      <td>10</td>\n",
              "      <td>5</td>\n",
              "      <td>2</td>\n",
              "      <td>18</td>\n",
              "    </tr>\n",
              "    <tr>\n",
              "      <th>7</th>\n",
              "      <td>1</td>\n",
              "      <td>8</td>\n",
              "      <td>12</td>\n",
              "      <td>8</td>\n",
              "      <td>5</td>\n",
              "      <td>9</td>\n",
              "      <td>19</td>\n",
              "    </tr>\n",
              "    <tr>\n",
              "      <th>8</th>\n",
              "      <td>3</td>\n",
              "      <td>3</td>\n",
              "      <td>21</td>\n",
              "      <td>12</td>\n",
              "      <td>9</td>\n",
              "      <td>11</td>\n",
              "      <td>13</td>\n",
              "    </tr>\n",
              "    <tr>\n",
              "      <th>9</th>\n",
              "      <td>7</td>\n",
              "      <td>10</td>\n",
              "      <td>20</td>\n",
              "      <td>8</td>\n",
              "      <td>11</td>\n",
              "      <td>13</td>\n",
              "      <td>13</td>\n",
              "    </tr>\n",
              "    <tr>\n",
              "      <th>10</th>\n",
              "      <td>6</td>\n",
              "      <td>1</td>\n",
              "      <td>15</td>\n",
              "      <td>5</td>\n",
              "      <td>2</td>\n",
              "      <td>9</td>\n",
              "      <td>16</td>\n",
              "    </tr>\n",
              "    <tr>\n",
              "      <th>11</th>\n",
              "      <td>-1</td>\n",
              "      <td>7</td>\n",
              "      <td>18</td>\n",
              "      <td>10</td>\n",
              "      <td>5</td>\n",
              "      <td>5</td>\n",
              "      <td>8</td>\n",
              "    </tr>\n",
              "    <tr>\n",
              "      <th>12</th>\n",
              "      <td>4</td>\n",
              "      <td>1</td>\n",
              "      <td>19</td>\n",
              "      <td>5</td>\n",
              "      <td>2</td>\n",
              "      <td>11</td>\n",
              "      <td>5</td>\n",
              "    </tr>\n",
              "  </tbody>\n",
              "</table>\n",
              "</div>"
            ],
            "text/plain": [
              "             neuroticism  extraversion  openness  agreeableness  \\\n",
              "participant                                                       \n",
              "2                      2             9        18              5   \n",
              "3                     -2            11        19              9   \n",
              "5                      7             0        17              5   \n",
              "6                     -3             7         8             10   \n",
              "7                      1             8        12              8   \n",
              "8                      3             3        21             12   \n",
              "9                      7            10        20              8   \n",
              "10                     6             1        15              5   \n",
              "11                    -1             7        18             10   \n",
              "12                     4             1        19              5   \n",
              "\n",
              "             conscientiousness  robot_a  robot_b  \n",
              "participant                                       \n",
              "2                            5        9        9  \n",
              "3                           11       14       13  \n",
              "5                            4       11       15  \n",
              "6                            5        2       18  \n",
              "7                            5        9       19  \n",
              "8                            9       11       13  \n",
              "9                           11       13       13  \n",
              "10                           2        9       16  \n",
              "11                           5        5        8  \n",
              "12                           2       11        5  "
            ]
          },
          "metadata": {
            "tags": []
          },
          "execution_count": 61
        }
      ]
    },
    {
      "cell_type": "markdown",
      "metadata": {
        "id": "jq6_5FgTFqai",
        "colab_type": "text"
      },
      "source": [
        "Openness vs the allocation of cubes for NVC robot considering only A"
      ]
    },
    {
      "cell_type": "code",
      "metadata": {
        "id": "n6t0HkA5EulO",
        "colab_type": "code",
        "outputId": "da2a5b69-a15b-49a4-fc80-81ba2e0d434d",
        "colab": {
          "base_uri": "https://localhost:8080/",
          "height": 578
        }
      },
      "source": [
        "merged_data = merged_data.reset_index()\n",
        "sns.lineplot(x=\"openness\", y=\"robot_a\", data=merged_data[merged_data[\"participant\"] % 2 == 0])"
      ],
      "execution_count": 0,
      "outputs": [
        {
          "output_type": "execute_result",
          "data": {
            "text/plain": [
              "<matplotlib.axes._subplots.AxesSubplot at 0x7ff95a1246d8>"
            ]
          },
          "metadata": {
            "tags": []
          },
          "execution_count": 62
        },
        {
          "output_type": "display_data",
          "data": {
            "image/png": "[encoded data removed]",
            "text/plain": [
              "<Figure size 921.6x633.6 with 1 Axes>"
            ]
          },
          "metadata": {
            "tags": []
          }
        }
      ]
    },
    {
      "cell_type": "markdown",
      "metadata": {
        "id": "VbBBfi5e9age",
        "colab_type": "text"
      },
      "source": [
        "Openness vs the allocation of cubes for NVC B robot considering only A"
      ]
    },
    {
      "cell_type": "code",
      "metadata": {
        "id": "ZPJVJq369MOh",
        "colab_type": "code",
        "outputId": "23e36ae5-6ee7-4deb-af2f-699e68a236d8",
        "colab": {
          "base_uri": "https://localhost:8080/",
          "height": 578
        }
      },
      "source": [
        "sns.lineplot(x=\"openness\", y=\"robot_a\", data=merged_data[merged_data[\"participant\"] % 2 == 0])"
      ],
      "execution_count": 0,
      "outputs": [
        {
          "output_type": "execute_result",
          "data": {
            "text/plain": [
              "<matplotlib.axes._subplots.AxesSubplot at 0x7ff95a0eb080>"
            ]
          },
          "metadata": {
            "tags": []
          },
          "execution_count": 63
        },
        {
          "output_type": "display_data",
          "data": {
            "image/png": "[encoded data removed]",
            "text/plain": [
              "<Figure size 921.6x633.6 with 1 Axes>"
            ]
          },
          "metadata": {
            "tags": []
          }
        }
      ]
    },
    {
      "cell_type": "markdown",
      "metadata": {
        "colab_type": "text",
        "id": "INu5gWOc9s_C"
      },
      "source": [
        "Openness vs the allocation of cubes for NVC B robot considering only A"
      ]
    },
    {
      "cell_type": "code",
      "metadata": {
        "colab_type": "code",
        "outputId": "6c797106-cb2b-482d-c5db-f4276eb43a27",
        "id": "zM6mcYUh9s_H",
        "colab": {
          "base_uri": "https://localhost:8080/",
          "height": 578
        }
      },
      "source": [
        "sns.lineplot(x=\"openness\", y=\"robot_a\", data=merged_data[merged_data[\"participant\"] % 2 == 1])"
      ],
      "execution_count": 0,
      "outputs": [
        {
          "output_type": "execute_result",
          "data": {
            "text/plain": [
              "<matplotlib.axes._subplots.AxesSubplot at 0x7ff95a16d278>"
            ]
          },
          "metadata": {
            "tags": []
          },
          "execution_count": 65
        },
        {
          "output_type": "display_data",
          "data": {
            "image/png": "[encoded data removed]",
            "text/plain": [
              "<Figure size 921.6x633.6 with 1 Axes>"
            ]
          },
          "metadata": {
            "tags": []
          }
        }
      ]
    },
    {
      "cell_type": "markdown",
      "metadata": {
        "id": "tSN4MgnrHgbh",
        "colab_type": "text"
      },
      "source": [
        "Openness vs the allocation of cubes for NVC B robot considering only B"
      ]
    },
    {
      "cell_type": "code",
      "metadata": {
        "id": "mICsVLjC-BwD",
        "colab_type": "code",
        "outputId": "53b50c83-53e9-484c-b403-38120281b13e",
        "colab": {
          "base_uri": "https://localhost:8080/",
          "height": 578
        }
      },
      "source": [
        "sns.lineplot(x=\"openness\", y=\"robot_b\", data=merged_data[merged_data[\"participant\"] % 2 == 1])"
      ],
      "execution_count": 0,
      "outputs": [
        {
          "output_type": "execute_result",
          "data": {
            "text/plain": [
              "<matplotlib.axes._subplots.AxesSubplot at 0x7ff95a066630>"
            ]
          },
          "metadata": {
            "tags": []
          },
          "execution_count": 64
        },
        {
          "output_type": "display_data",
          "data": {
            "image/png": "[encoded data removed]",
            "text/plain": [
              "<Figure size 921.6x633.6 with 1 Axes>"
            ]
          },
          "metadata": {
            "tags": []
          }
        }
      ]
    },
    {
      "cell_type": "markdown",
      "metadata": {
        "colab_type": "text",
        "id": "ybRv3laJLt-e"
      },
      "source": [
        "# **Questtionnaire Evaluation**\n",
        "---"
      ]
    },
    {
      "cell_type": "markdown",
      "metadata": {
        "id": "ilWwflIn-E4x",
        "colab_type": "text"
      },
      "source": [
        "# Data Segments Preparation"
      ]
    },
    {
      "cell_type": "code",
      "metadata": {
        "id": "o3JY0jipTSM-",
        "colab_type": "code",
        "colab": {}
      },
      "source": [
        "df = df.drop(columns=['Response ID', 'Date submitted', 'Last page', 'Start language'])\n",
        "basics = df.loc[ : , ['What is your sex?','How old are you?']]\n",
        "robot_interaction  = df.loc[ : , [\n",
        "                      'How familiar are you with computers?', \n",
        "                      'Have you ever interacted with a robot before? [Never]',\n",
        "                      'Have you ever interacted with a robot before? [In an entertainment setting (i.e. drones)]',\n",
        "                      'Have you ever interacted with a robot before? [In a commercial/utility setting (i.e. vacuums, industry)]',\n",
        "                      'Have you ever interacted with a robot before? [At work (i.e. robotics research)]',\n",
        "                      'Do you like robots?'\n",
        "                      ]\n",
        "                  ]\n",
        "tipi = df.loc[ : , [\n",
        "                      'Do you agree or disagree with the following statements? [Do you worry a lot?]',\n",
        "                      'Do you agree or disagree with the following statements? [Do you get nervous easily?]',\n",
        "                      'Do you agree or disagree with the following statements? [Do you remain calm in tense situations?]',\n",
        "                      'Do you agree or disagree with the following statements? [Are you talkative?]',\n",
        "                      'Do you agree or disagree with the following statements? [Are you outgoing, sociable?]',\n",
        "                      'Do you agree or disagree with the following statements? [Are you reserved?]',\n",
        "                      'Do you agree or disagree with the following statements? [Are you original? / Do you come up with new ideas?]',\n",
        "                      'Do you agree or disagree with the following statements? [Do you value artistic, aesthetic experiences?]',\n",
        "                      'Do you agree or disagree with the following statements? [Do you have an active imagination?]',\n",
        "                      'Do you agree or disagree with the following statements? [Are you sometimes rude to others?]',\n",
        "                      'Do you agree or disagree with the following statements? [Do you have a forgiving nature?]',\n",
        "                      'Do you agree or disagree with the following statements? [Are you considerate and kind to almost everyone?]',\n",
        "                      'Do you agree or disagree with the following statements? [Do you do a thorough job?]',\n",
        "                      'Do you agree or disagree with the following statements? [Do you tend to be lazy?]',\n",
        "                      'Do you agree or disagree with the following statements? [Do you do things efficiently?]',\n",
        "                      ]\n",
        "                ]\n",
        "risk_propensity = df.loc[ : , [\n",
        "                      'Do you agree or disagree with the following statements? [Safety first]', \n",
        "                      'Do you agree or disagree with the following statements? [I do not take risks with my health]',\n",
        "                      'Do you agree or disagree with the following statements? [I prefer to avoid risks]',\n",
        "                      'Do you agree or disagree with the following statements? [I take risks regularly]',\n",
        "                      'Do you agree or disagree with the following statements? [I really dislike not knowing what is going to happen]',\n",
        "                      ]\n",
        "                  ]\n",
        "trust_propensity = df.loc[ : , [\n",
        "                      'Do you agree or disagree with the following statements? [One should be very cautious with strangers.]',\n",
        "                      'Do you agree or disagree with the following statements? [Most experts tell the truth about the limits of their knowledge.]',\n",
        "                      'Do you agree or disagree with the following statements? [Most people can be counted on to do what they say they will do.]',\n",
        "                      'Do you agree or disagree with the following statements? [Most people answer public opinion polls honestly.]',\n",
        "                      ]\n",
        "                  ]\n",
        "# post questionaire\n",
        "godspeed = df.iloc[:,36:111]\n",
        "openQ = df.iloc[:,111:113]"
      ],
      "execution_count": 0,
      "outputs": []
    },
    {
      "cell_type": "markdown",
      "metadata": {
        "id": "u3TIleYC-MPX",
        "colab_type": "text"
      },
      "source": [
        "# Data Preprocessing"
      ]
    },
    {
      "cell_type": "code",
      "metadata": {
        "id": "BRWmKgZT9cS0",
        "colab_type": "code",
        "colab": {}
      },
      "source": [
        "# risk propensity\n",
        "# paper says 1-4 are inverted, but 1-3 and 5 makes more sense...\n",
        "inverted_keys = [\n",
        "                   \"Do you agree or disagree with the following statements? [Safety first]\",\n",
        "                   \"Do you agree or disagree with the following statements? [I do not take risks with my health]\",\n",
        "                   \"Do you agree or disagree with the following statements? [I prefer to avoid risks]\",\n",
        "                   \"Do you agree or disagree with the following statements? [I really dislike not knowing what is going to happen]\"\n",
        "]\n",
        "for key, values in risk_propensity.items():\n",
        "  print(key)\n",
        "  if key not in inverted_keys:\n",
        "    # normal scale\n",
        "    converted_values = [int(value[1:]) for value in values]\n",
        "  else:\n",
        "    # inverted scales\n",
        "    converted_values = [8-int(value[1:]) for value in values]\n",
        "  print(converted_values)\n",
        "  risk_propensity[key] = converted_values\n",
        "risk_propensity_scores = np.sum(risk_propensity.values, axis=1) / 5.0"
      ],
      "execution_count": 0,
      "outputs": []
    },
    {
      "cell_type": "code",
      "metadata": {
        "id": "K0drRTDg-U7i",
        "colab_type": "code",
        "colab": {}
      },
      "source": [
        "rps_mean = np.mean(risk_propensity_scores)\n",
        "rps_std = np.std(risk_propensity_scores)\n",
        "print(\"rps mean {} (scaled: {})\".format(rps_mean, rps_mean / 7.0 * 9.0,))\n",
        "print(\"rps std {} (scaled: {})\".format(rps_std, rps_std / 7.0 * 9.0,))"
      ],
      "execution_count": 0,
      "outputs": []
    },
    {
      "cell_type": "code",
      "metadata": {
        "id": "r39m5kaW-YGj",
        "colab_type": "code",
        "colab": {}
      },
      "source": [
        "tipi.replace(to_replace=\"A1\", value=1, inplace=True)\n",
        "tipi.replace(to_replace=\"A2\", value=2, inplace=True)\n",
        "tipi.replace(to_replace=\"A3\", value=3, inplace=True)\n",
        "tipi.replace(to_replace=\"A4\", value=4, inplace=True)\n",
        "tipi.replace(to_replace=\"A5\", value=5, inplace=True)\n",
        "tipi.replace(to_replace=\"A6\", value=6, inplace=True)\n",
        "tipi.replace(to_replace=\"A7\", value=7, inplace=True)\n",
        "\n",
        "trust_propensity.replace(to_replace=\"A1\", value=1, inplace=True)\n",
        "trust_propensity.replace(to_replace=\"A2\", value=2, inplace=True)\n",
        "trust_propensity.replace(to_replace=\"A3\", value=3, inplace=True)\n",
        "trust_propensity.replace(to_replace=\"A4\", value=4, inplace=True)\n",
        "trust_propensity.replace(to_replace=\"A5\", value=5, inplace=True)"
      ],
      "execution_count": 0,
      "outputs": []
    },
    {
      "cell_type": "markdown",
      "metadata": {
        "id": "raabA_da-lPa",
        "colab_type": "text"
      },
      "source": [
        "# Descriptions of data"
      ]
    },
    {
      "cell_type": "code",
      "metadata": {
        "id": "mPfkmJp--fAb",
        "colab_type": "code",
        "colab": {}
      },
      "source": [
        "print('Age mean: ', np.mean(basics['How old are you?']))\n",
        "basics['What is your sex?'].replace('A1','F',True)\n",
        "basics['What is your sex?'].replace('A2','M',True)\n",
        "basics['What is your sex?'].replace('A3','I',True)\n",
        "basics['What is your sex?'].replace('A4','N',True)\n",
        "fig, ax = plt.subplots(nrows=1,ncols=2, figsize=(15,5))\n",
        "basics['What is your sex?'].value_counts().plot(ax=ax[0],kind='bar', title=\"Sex Frequency\")\n",
        "basics['How old are you?'].value_counts().plot(ax=ax[1],kind='bar', title=\"Age Freq\")\n",
        "plt.show()\n",
        "basics"
      ],
      "execution_count": 0,
      "outputs": []
    },
    {
      "cell_type": "code",
      "metadata": {
        "id": "bZ6UCehB-ryE",
        "colab_type": "code",
        "colab": {}
      },
      "source": [
        "robot_interaction"
      ],
      "execution_count": 0,
      "outputs": []
    },
    {
      "cell_type": "code",
      "metadata": {
        "id": "E_lRTnNM_M4N",
        "colab_type": "code",
        "colab": {}
      },
      "source": [
        "godspeed.describe()"
      ],
      "execution_count": 0,
      "outputs": []
    },
    {
      "cell_type": "code",
      "metadata": {
        "id": "dP4ShNJq_QYp",
        "colab_type": "code",
        "colab": {}
      },
      "source": [
        "risk_propensity"
      ],
      "execution_count": 0,
      "outputs": []
    },
    {
      "cell_type": "code",
      "metadata": {
        "id": "zKzE7JOA_Udx",
        "colab_type": "code",
        "colab": {}
      },
      "source": [
        "plt.figure(figsize=(15,10))\n",
        "sns.boxenplot(df[\"How familiar are you with computers?\"], df[\"How old are you?\"] , hue=df[\"What is your sex?\"], palette=\"Set3\")\n",
        "plt.show()"
      ],
      "execution_count": 0,
      "outputs": []
    },
    {
      "cell_type": "code",
      "metadata": {
        "id": "auodGRH0_Zuv",
        "colab_type": "code",
        "colab": {}
      },
      "source": [
        "robot_interaction['fam_binary'] = 1\n",
        "robot_interaction.loc[robot_interaction['Have you ever interacted with a robot before? [Never]'] == 'Yes', 'fam_binary'] = 0\n",
        "robot_interaction"
      ],
      "execution_count": 0,
      "outputs": []
    },
    {
      "cell_type": "code",
      "metadata": {
        "id": "jocpDEgI_f0r",
        "colab_type": "code",
        "colab": {}
      },
      "source": [
        "sns.catplot(x='Do you like robots?', y= \"fam_binary\", hue='How familiar are you with computers?', data=robot_interaction, palette=\"Set1\", marker='X', kind=\"strip\")\n",
        "plt.show()"
      ],
      "execution_count": 0,
      "outputs": []
    },
    {
      "cell_type": "code",
      "metadata": {
        "id": "oFlfKhO8_jCh",
        "colab_type": "code",
        "colab": {}
      },
      "source": [
        "df2 = pd.DataFrame({'id': [1,2,3,4,5,6,7,8], \n",
        "                  's2_wrt_nvc': [-1,0,0,0,2,-2,2,-7]})\n",
        "df2.describe()"
      ],
      "execution_count": 0,
      "outputs": []
    },
    {
      "cell_type": "code",
      "metadata": {
        "id": "bHly8SyG_mui",
        "colab_type": "code",
        "colab": {}
      },
      "source": [
        "sns.countplot(x=\"s2_wrt_nvc\", data=df2)\n",
        "plt.show()"
      ],
      "execution_count": 0,
      "outputs": []
    },
    {
      "cell_type": "code",
      "metadata": {
        "id": "ZaynZWSM_pjS",
        "colab_type": "code",
        "colab": {}
      },
      "source": [
        "sns.distplot(df2)\n",
        "plt.show()"
      ],
      "execution_count": 0,
      "outputs": []
    },
    {
      "cell_type": "code",
      "metadata": {
        "id": "_t8AQ2LI_s1M",
        "colab_type": "code",
        "colab": {}
      },
      "source": [
        "df3 = pd.DataFrame({'id': [1,2,3,4,5,6,7,8], \n",
        "                    's0A': [0,1,2,2,1,1,2,1],\n",
        "                    's0B' :[1,1,2,2,2,1,2,1],\n",
        "                    's1A': [1,2,1,0,3,0,1,4],\n",
        "                    's1B': [1,2,2,2,2,0,3,0],\n",
        "                    's2A': [3,2,3,2,1,1,2,0],\n",
        "                    's2B': [2,2,3,2,3,3,4,7],\n",
        "                    's3A': [3,0,4,3,4,0,4,3],\n",
        "                    's3B': [3,3,3,3,3,7,3,2],\n",
        "                    's4A': [3,4,4,2,2,0,0,3],\n",
        "                    's4B': [3,2,3,2,5,7,7,3],\n",
        "                    'AB':['B','A','B','A','B','A','B','A']})\n",
        "df3"
      ],
      "execution_count": 0,
      "outputs": []
    },
    {
      "cell_type": "code",
      "metadata": {
        "id": "trEH1oYA_wi9",
        "colab_type": "code",
        "colab": {}
      },
      "source": [
        "#sns.pairplot(hue='AB', data=df3, palette=\"Set1\")\n",
        "#plt.show()\n",
        "fig, axs = plt.subplots(nrows=2, ncols=3, figsize=(20,10),sharex=True)\n",
        "fig.suptitle('different scenes count')\n",
        "#fig.tight_layout()\n",
        "sns.countplot(x='s2A', data=df3, ax=axs[0,0], hue='AB', palette=\"Set1\")\n",
        "sns.countplot(x='s2B', data=df3, ax=axs[1,0], hue='AB', palette=\"Set1\")\n",
        "sns.countplot(x='s3A', data=df3, ax=axs[0,1], hue='AB', palette=\"Set1\")\n",
        "sns.countplot(x='s3B', data=df3, ax=axs[1,1], hue='AB', palette=\"Set1\")\n",
        "sns.countplot(x='s4A', data=df3, ax=axs[0,2], hue='AB', palette=\"Set1\")\n",
        "sns.countplot(x='s4B', data=df3, ax=axs[1,2], hue='AB', palette=\"Set1\")\n",
        "\n",
        "plt.show()"
      ],
      "execution_count": 0,
      "outputs": []
    },
    {
      "cell_type": "code",
      "metadata": {
        "id": "BVHT9Cwg_zzV",
        "colab_type": "code",
        "colab": {}
      },
      "source": [
        "fig, axs = plt.subplots(nrows=1, ncols=2, figsize=(20,5))\n",
        "fig.suptitle('scene2 choice')\n",
        "fig.tight_layout()\n",
        "sns.countplot(x=df2['s2_wrt_nvc'], ax=axs[0], palette='Set2')\n",
        "sns.countplot(df3['s2A']-df3['s2B'], ax=axs[1], hue=df3['AB'], palette='Set1')\n",
        "plt.show()"
      ],
      "execution_count": 0,
      "outputs": []
    },
    {
      "cell_type": "code",
      "metadata": {
        "id": "ffzVygEC_3Ka",
        "colab_type": "code",
        "colab": {}
      },
      "source": [
        "fig, axs = plt.subplots(nrows=1, ncols=2, figsize=(20,5))\n",
        "fig.suptitle('scene2 choice')\n",
        "sns.distplot(df2['s2_wrt_nvc'], ax=axs[0], axlabel=\"s2 choice with nvc\")\n",
        "sns.distplot(df3['s2A']-df3['s2B'], ax=axs[1], axlabel=\"s2 choice without nvc\")\n",
        "plt.show()"
      ],
      "execution_count": 0,
      "outputs": []
    },
    {
      "cell_type": "code",
      "metadata": {
        "id": "3bQQwcZN_65W",
        "colab_type": "code",
        "colab": {}
      },
      "source": [
        "#df2['s2_wrt_nvc']\n",
        "print(\"                           Scene 2 choice categorized\")\n",
        "df2['s2_catd'] = \"neither\"\n",
        "df2.loc[df2['s2_wrt_nvc'] > 0, 's2_catd'] = \"trusted nvc\"\n",
        "df2.loc[df2['s2_wrt_nvc'] < 0, 's2_catd'] = \"did'not trust nvc\"\n",
        "sns.catplot(data=df2, x = 's2_catd',  kind=\"count\")\n",
        "plt.show()"
      ],
      "execution_count": 0,
      "outputs": []
    },
    {
      "cell_type": "code",
      "metadata": {
        "id": "0j3ZVy5R__X4",
        "colab_type": "code",
        "colab": {}
      },
      "source": [
        "print('No idea what this is')\n",
        "fig, axs = plt.subplots(nrows=1, ncols=3, figsize=(20,5), sharey=True)\n",
        "fig.tight_layout()\n",
        "axs[0].set_xlabel(\"participant number\")\n",
        "axs[0].set_ylabel(\"A - B\")\n",
        "sns.barplot(x=df3['id'], y=df3['s2A']-df3['s2B'], ax=axs[0], hue=df3['AB'], palette=\"Set1\")\n",
        "axs[1].set_xlabel(\"participant number\")\n",
        "axs[1].set_ylabel(\"A - B\")\n",
        "sns.barplot(x=df3['id'], y=df3['s3A']-df3['s3B'], ax=axs[1], hue=df3['AB'], palette=\"Set1\")\n",
        "axs[2].set_xlabel(\"participant number\")\n",
        "axs[2].set_ylabel(\"A - B\")\n",
        "sns.barplot(x=df3['id'], y=df3['s4A']-df3['s4B'], ax=axs[2], hue=df3['AB'], palette=\"Set1\")\n",
        "plt.show()"
      ],
      "execution_count": 0,
      "outputs": []
    },
    {
      "cell_type": "code",
      "metadata": {
        "id": "--9xvqiyADAx",
        "colab_type": "code",
        "colab": {}
      },
      "source": [
        ""
      ],
      "execution_count": 0,
      "outputs": []
    }
  ]
}