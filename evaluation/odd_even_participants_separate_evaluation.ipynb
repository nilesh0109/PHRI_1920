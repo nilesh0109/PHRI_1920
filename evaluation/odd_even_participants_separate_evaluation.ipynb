{
 "cells": [
  {
   "cell_type": "code",
   "execution_count": 1,
   "metadata": {},
   "outputs": [
    {
     "name": "stdout",
     "output_type": "stream",
     "text": [
      "['dark_background', 'seaborn-colorblind', 'seaborn-talk', 'seaborn-paper', 'seaborn-deep', 'seaborn-poster', 'fast', 'bmh', 'seaborn-whitegrid', 'ggplot', 'seaborn-ticks', 'seaborn-darkgrid', 'seaborn-pastel', '_classic_test', 'seaborn-notebook', 'classic', 'seaborn-white', 'fivethirtyeight', 'seaborn-dark-palette', 'seaborn-dark', 'seaborn-muted', 'seaborn', 'grayscale', 'seaborn-bright', 'Solarize_Light2']\n"
     ]
    }
   ],
   "source": [
    "import pandas as pd\n",
    "import numpy as np\n",
    "from pathlib import Path\n",
    "from scipy import stats\n",
    "import os\n",
    "import re\n",
    "import matplotlib.pyplot as plt\n",
    "import seaborn as sns\n",
    "plt.style.use(['fast'])\n",
    "plt.style.use(['seaborn-poster'])\n",
    "print(plt.style.available)\n",
    "\n",
    "DATA_FOLDER = \"/data/cubes/\"\n",
    "DATA_PATH = os.path.abspath(os.getcwd()) + DATA_FOLDER\n",
    "invalid_participant = [1,4,18]"
   ]
  },
  {
   "cell_type": "code",
   "execution_count": 33,
   "metadata": {},
   "outputs": [
    {
     "data": {
      "text/html": [
       "<div>\n",
       "<style scoped>\n",
       "    .dataframe tbody tr th:only-of-type {\n",
       "        vertical-align: middle;\n",
       "    }\n",
       "\n",
       "    .dataframe tbody tr th {\n",
       "        vertical-align: top;\n",
       "    }\n",
       "\n",
       "    .dataframe thead th {\n",
       "        text-align: right;\n",
       "    }\n",
       "</style>\n",
       "<table border=\"1\" class=\"dataframe\">\n",
       "  <thead>\n",
       "    <tr style=\"text-align: right;\">\n",
       "      <th></th>\n",
       "      <th>scene</th>\n",
       "      <th>robot_a</th>\n",
       "      <th>robot_b</th>\n",
       "      <th>participant</th>\n",
       "      <th>NVC_A</th>\n",
       "      <th>NVC_B</th>\n",
       "      <th>NVC</th>\n",
       "      <th>allocation_metric</th>\n",
       "    </tr>\n",
       "  </thead>\n",
       "  <tbody>\n",
       "    <tr>\n",
       "      <th>0</th>\n",
       "      <td>0</td>\n",
       "      <td>1</td>\n",
       "      <td>1</td>\n",
       "      <td>39</td>\n",
       "      <td>False</td>\n",
       "      <td>True</td>\n",
       "      <td>B</td>\n",
       "      <td>0.000000</td>\n",
       "    </tr>\n",
       "    <tr>\n",
       "      <th>1</th>\n",
       "      <td>1</td>\n",
       "      <td>1</td>\n",
       "      <td>0</td>\n",
       "      <td>39</td>\n",
       "      <td>False</td>\n",
       "      <td>True</td>\n",
       "      <td>B</td>\n",
       "      <td>-1.000000</td>\n",
       "    </tr>\n",
       "    <tr>\n",
       "      <th>2</th>\n",
       "      <td>2</td>\n",
       "      <td>1</td>\n",
       "      <td>2</td>\n",
       "      <td>39</td>\n",
       "      <td>False</td>\n",
       "      <td>True</td>\n",
       "      <td>B</td>\n",
       "      <td>0.333333</td>\n",
       "    </tr>\n",
       "    <tr>\n",
       "      <th>3</th>\n",
       "      <td>3</td>\n",
       "      <td>4</td>\n",
       "      <td>3</td>\n",
       "      <td>39</td>\n",
       "      <td>False</td>\n",
       "      <td>True</td>\n",
       "      <td>B</td>\n",
       "      <td>-0.142857</td>\n",
       "    </tr>\n",
       "    <tr>\n",
       "      <th>4</th>\n",
       "      <td>4</td>\n",
       "      <td>0</td>\n",
       "      <td>7</td>\n",
       "      <td>39</td>\n",
       "      <td>False</td>\n",
       "      <td>True</td>\n",
       "      <td>B</td>\n",
       "      <td>1.000000</td>\n",
       "    </tr>\n",
       "  </tbody>\n",
       "</table>\n",
       "</div>"
      ],
      "text/plain": [
       "   scene  robot_a  robot_b  participant  NVC_A  NVC_B NVC  allocation_metric\n",
       "0      0        1        1           39  False   True   B           0.000000\n",
       "1      1        1        0           39  False   True   B          -1.000000\n",
       "2      2        1        2           39  False   True   B           0.333333\n",
       "3      3        4        3           39  False   True   B          -0.142857\n",
       "4      4        0        7           39  False   True   B           1.000000"
      ]
     },
     "execution_count": 33,
     "metadata": {},
     "output_type": "execute_result"
    }
   ],
   "source": [
    "# Iterate over files and find csv files that have allocation of cubes for each participant\n",
    "dfs = []\n",
    "redundant = []\n",
    "for path in Path(DATA_PATH).rglob('participant_*.csv'): \n",
    "    participant_id = int(re.search(r'\\d+', path.name).group())\n",
    "    \n",
    "    if participant_id in invalid_participant:\n",
    "        continue\n",
    "    \n",
    "    if participant_id not in redundant:\n",
    "        temp = pd.read_csv(path)\n",
    "        temp[\"scene\"] = temp[\"scene\"].str[-1:]\n",
    "        temp[\"scene\"] = temp[\"scene\"].astype('int')\n",
    "        temp[\"participant\"] = participant_id\n",
    "        temp[\"NVC_A\"] = False\n",
    "        temp[\"NVC_B\"] = False\n",
    "\n",
    "        if int(participant_id) % 2 == 0:\n",
    "            nvc = \"A\"\n",
    "            temp[\"NVC_A\"] = True\n",
    "        else:\n",
    "            nvc = \"B\"\n",
    "            temp[\"NVC_B\"] = True\n",
    "\n",
    "        temp[\"NVC\"] = nvc\n",
    "        temp[\"allocation_metric\"] = (temp[\"robot_b\"] - temp[\"robot_a\"]) / (temp[\"robot_a\"] + temp[\"robot_b\"])\n",
    "        dfs.append(temp)\n",
    "        redundant.append(participant_id)\n",
    "    \n",
    "raw_data = pd.concat(dfs, axis=0, ignore_index=True)\n",
    "raw_data[\"allocation_metric\"].fillna(0.0, inplace=True) # handle 0/0\n",
    "raw_data.head()"
   ]
  },
  {
   "cell_type": "code",
   "execution_count": 34,
   "metadata": {},
   "outputs": [],
   "source": [
    "odd_participants_data = raw_data[raw_data[\"participant\"] % 2 != 0]\n",
    "odd_participants_data = odd_participants_data[odd_participants_data[\"scene\"] >= 1]\n",
    "even_participants_data = raw_data[raw_data[\"participant\"] % 2 == 0]\n",
    "even_participants_data = even_participants_data[even_participants_data[\"scene\"] >= 1]"
   ]
  },
  {
   "cell_type": "code",
   "execution_count": 35,
   "metadata": {},
   "outputs": [
    {
     "data": {
      "text/html": [
       "<div>\n",
       "<style scoped>\n",
       "    .dataframe tbody tr th:only-of-type {\n",
       "        vertical-align: middle;\n",
       "    }\n",
       "\n",
       "    .dataframe tbody tr th {\n",
       "        vertical-align: top;\n",
       "    }\n",
       "\n",
       "    .dataframe thead th {\n",
       "        text-align: right;\n",
       "    }\n",
       "</style>\n",
       "<table border=\"1\" class=\"dataframe\">\n",
       "  <thead>\n",
       "    <tr style=\"text-align: right;\">\n",
       "      <th></th>\n",
       "      <th>scene</th>\n",
       "      <th>robot_a</th>\n",
       "      <th>robot_b</th>\n",
       "      <th>participant</th>\n",
       "      <th>NVC_A</th>\n",
       "      <th>NVC_B</th>\n",
       "      <th>NVC</th>\n",
       "      <th>allocation_metric</th>\n",
       "    </tr>\n",
       "  </thead>\n",
       "  <tbody>\n",
       "    <tr>\n",
       "      <th>1</th>\n",
       "      <td>1</td>\n",
       "      <td>1</td>\n",
       "      <td>0</td>\n",
       "      <td>39</td>\n",
       "      <td>False</td>\n",
       "      <td>True</td>\n",
       "      <td>B</td>\n",
       "      <td>-1.000000</td>\n",
       "    </tr>\n",
       "    <tr>\n",
       "      <th>2</th>\n",
       "      <td>2</td>\n",
       "      <td>1</td>\n",
       "      <td>2</td>\n",
       "      <td>39</td>\n",
       "      <td>False</td>\n",
       "      <td>True</td>\n",
       "      <td>B</td>\n",
       "      <td>0.333333</td>\n",
       "    </tr>\n",
       "    <tr>\n",
       "      <th>3</th>\n",
       "      <td>3</td>\n",
       "      <td>4</td>\n",
       "      <td>3</td>\n",
       "      <td>39</td>\n",
       "      <td>False</td>\n",
       "      <td>True</td>\n",
       "      <td>B</td>\n",
       "      <td>-0.142857</td>\n",
       "    </tr>\n",
       "    <tr>\n",
       "      <th>4</th>\n",
       "      <td>4</td>\n",
       "      <td>0</td>\n",
       "      <td>7</td>\n",
       "      <td>39</td>\n",
       "      <td>False</td>\n",
       "      <td>True</td>\n",
       "      <td>B</td>\n",
       "      <td>1.000000</td>\n",
       "    </tr>\n",
       "    <tr>\n",
       "      <th>11</th>\n",
       "      <td>1</td>\n",
       "      <td>2</td>\n",
       "      <td>3</td>\n",
       "      <td>41</td>\n",
       "      <td>False</td>\n",
       "      <td>True</td>\n",
       "      <td>B</td>\n",
       "      <td>0.200000</td>\n",
       "    </tr>\n",
       "  </tbody>\n",
       "</table>\n",
       "</div>"
      ],
      "text/plain": [
       "    scene  robot_a  robot_b  participant  NVC_A  NVC_B NVC  allocation_metric\n",
       "1       1        1        0           39  False   True   B          -1.000000\n",
       "2       2        1        2           39  False   True   B           0.333333\n",
       "3       3        4        3           39  False   True   B          -0.142857\n",
       "4       4        0        7           39  False   True   B           1.000000\n",
       "11      1        2        3           41  False   True   B           0.200000"
      ]
     },
     "execution_count": 35,
     "metadata": {},
     "output_type": "execute_result"
    }
   ],
   "source": [
    "odd_participants_data.head()"
   ]
  },
  {
   "cell_type": "code",
   "execution_count": 36,
   "metadata": {},
   "outputs": [
    {
     "data": {
      "text/html": [
       "<div>\n",
       "<style scoped>\n",
       "    .dataframe tbody tr th:only-of-type {\n",
       "        vertical-align: middle;\n",
       "    }\n",
       "\n",
       "    .dataframe tbody tr th {\n",
       "        vertical-align: top;\n",
       "    }\n",
       "\n",
       "    .dataframe thead th {\n",
       "        text-align: right;\n",
       "    }\n",
       "</style>\n",
       "<table border=\"1\" class=\"dataframe\">\n",
       "  <thead>\n",
       "    <tr style=\"text-align: right;\">\n",
       "      <th></th>\n",
       "      <th>robot_a</th>\n",
       "      <th>robot_b</th>\n",
       "      <th>allocation_metric</th>\n",
       "      <th>total_cubes</th>\n",
       "    </tr>\n",
       "    <tr>\n",
       "      <th>participant</th>\n",
       "      <th></th>\n",
       "      <th></th>\n",
       "      <th></th>\n",
       "      <th></th>\n",
       "    </tr>\n",
       "  </thead>\n",
       "  <tbody>\n",
       "    <tr>\n",
       "      <th>3</th>\n",
       "      <td>12</td>\n",
       "      <td>11</td>\n",
       "      <td>0.011905</td>\n",
       "      <td>23</td>\n",
       "    </tr>\n",
       "    <tr>\n",
       "      <th>5</th>\n",
       "      <td>10</td>\n",
       "      <td>13</td>\n",
       "      <td>0.146429</td>\n",
       "      <td>23</td>\n",
       "    </tr>\n",
       "    <tr>\n",
       "      <th>7</th>\n",
       "      <td>7</td>\n",
       "      <td>17</td>\n",
       "      <td>0.422619</td>\n",
       "      <td>24</td>\n",
       "    </tr>\n",
       "    <tr>\n",
       "      <th>9</th>\n",
       "      <td>12</td>\n",
       "      <td>12</td>\n",
       "      <td>0.002381</td>\n",
       "      <td>24</td>\n",
       "    </tr>\n",
       "    <tr>\n",
       "      <th>11</th>\n",
       "      <td>4</td>\n",
       "      <td>7</td>\n",
       "      <td>0.083333</td>\n",
       "      <td>11</td>\n",
       "    </tr>\n",
       "    <tr>\n",
       "      <th>13</th>\n",
       "      <td>13</td>\n",
       "      <td>11</td>\n",
       "      <td>-0.014286</td>\n",
       "      <td>24</td>\n",
       "    </tr>\n",
       "    <tr>\n",
       "      <th>15</th>\n",
       "      <td>13</td>\n",
       "      <td>14</td>\n",
       "      <td>0.047619</td>\n",
       "      <td>27</td>\n",
       "    </tr>\n",
       "    <tr>\n",
       "      <th>17</th>\n",
       "      <td>7</td>\n",
       "      <td>10</td>\n",
       "      <td>-0.083333</td>\n",
       "      <td>17</td>\n",
       "    </tr>\n",
       "    <tr>\n",
       "      <th>19</th>\n",
       "      <td>13</td>\n",
       "      <td>8</td>\n",
       "      <td>-0.150000</td>\n",
       "      <td>21</td>\n",
       "    </tr>\n",
       "    <tr>\n",
       "      <th>21</th>\n",
       "      <td>8</td>\n",
       "      <td>12</td>\n",
       "      <td>0.267857</td>\n",
       "      <td>20</td>\n",
       "    </tr>\n",
       "    <tr>\n",
       "      <th>23</th>\n",
       "      <td>14</td>\n",
       "      <td>6</td>\n",
       "      <td>-0.300000</td>\n",
       "      <td>20</td>\n",
       "    </tr>\n",
       "    <tr>\n",
       "      <th>25</th>\n",
       "      <td>12</td>\n",
       "      <td>4</td>\n",
       "      <td>-0.300000</td>\n",
       "      <td>16</td>\n",
       "    </tr>\n",
       "    <tr>\n",
       "      <th>27</th>\n",
       "      <td>10</td>\n",
       "      <td>13</td>\n",
       "      <td>0.285714</td>\n",
       "      <td>23</td>\n",
       "    </tr>\n",
       "    <tr>\n",
       "      <th>29</th>\n",
       "      <td>10</td>\n",
       "      <td>8</td>\n",
       "      <td>0.035714</td>\n",
       "      <td>18</td>\n",
       "    </tr>\n",
       "    <tr>\n",
       "      <th>31</th>\n",
       "      <td>8</td>\n",
       "      <td>9</td>\n",
       "      <td>0.175000</td>\n",
       "      <td>17</td>\n",
       "    </tr>\n",
       "    <tr>\n",
       "      <th>33</th>\n",
       "      <td>8</td>\n",
       "      <td>12</td>\n",
       "      <td>0.000000</td>\n",
       "      <td>20</td>\n",
       "    </tr>\n",
       "    <tr>\n",
       "      <th>35</th>\n",
       "      <td>7</td>\n",
       "      <td>14</td>\n",
       "      <td>0.258333</td>\n",
       "      <td>21</td>\n",
       "    </tr>\n",
       "    <tr>\n",
       "      <th>37</th>\n",
       "      <td>6</td>\n",
       "      <td>9</td>\n",
       "      <td>0.208333</td>\n",
       "      <td>15</td>\n",
       "    </tr>\n",
       "    <tr>\n",
       "      <th>39</th>\n",
       "      <td>6</td>\n",
       "      <td>12</td>\n",
       "      <td>0.047619</td>\n",
       "      <td>18</td>\n",
       "    </tr>\n",
       "    <tr>\n",
       "      <th>41</th>\n",
       "      <td>9</td>\n",
       "      <td>14</td>\n",
       "      <td>0.246429</td>\n",
       "      <td>23</td>\n",
       "    </tr>\n",
       "  </tbody>\n",
       "</table>\n",
       "</div>"
      ],
      "text/plain": [
       "             robot_a  robot_b  allocation_metric  total_cubes\n",
       "participant                                                  \n",
       "3                 12       11           0.011905           23\n",
       "5                 10       13           0.146429           23\n",
       "7                  7       17           0.422619           24\n",
       "9                 12       12           0.002381           24\n",
       "11                 4        7           0.083333           11\n",
       "13                13       11          -0.014286           24\n",
       "15                13       14           0.047619           27\n",
       "17                 7       10          -0.083333           17\n",
       "19                13        8          -0.150000           21\n",
       "21                 8       12           0.267857           20\n",
       "23                14        6          -0.300000           20\n",
       "25                12        4          -0.300000           16\n",
       "27                10       13           0.285714           23\n",
       "29                10        8           0.035714           18\n",
       "31                 8        9           0.175000           17\n",
       "33                 8       12           0.000000           20\n",
       "35                 7       14           0.258333           21\n",
       "37                 6        9           0.208333           15\n",
       "39                 6       12           0.047619           18\n",
       "41                 9       14           0.246429           23"
      ]
     },
     "execution_count": 36,
     "metadata": {},
     "output_type": "execute_result"
    }
   ],
   "source": [
    "odd_cubes_per_participant = odd_participants_data.groupby(\"participant\").sum()\n",
    "even_cubes_per_participant = even_participants_data.groupby(\"participant\").sum()\n",
    "\n",
    "odd_cubes_per_participant = odd_cubes_per_participant.drop(columns=['scene'])\n",
    "odd_cubes_per_participant = odd_cubes_per_participant.drop(columns=['NVC_A', 'NVC_B'])\n",
    "\n",
    "even_cubes_per_participant = even_cubes_per_participant.drop(columns=['scene'])\n",
    "even_cubes_per_participant = even_cubes_per_participant.drop(columns=['NVC_A', 'NVC_B'])\n",
    "\n",
    "\n",
    "odd_cubes_per_participant['allocation_metric'] = odd_cubes_per_participant['allocation_metric'] / 4\n",
    "\n",
    "odd_cubes_per_participant['total_cubes'] = (odd_cubes_per_participant['robot_a'] + \n",
    "                                                odd_cubes_per_participant['robot_b'])\n",
    "even_cubes_per_participant['total_cubes'] = (even_cubes_per_participant['robot_a'] + \n",
    "                                                even_cubes_per_participant['robot_b'])\n",
    "\n",
    "odd_cubes_per_participant"
   ]
  },
  {
   "cell_type": "code",
   "execution_count": 37,
   "metadata": {},
   "outputs": [
    {
     "data": {
      "text/plain": [
       "robot_a              189.000000\n",
       "robot_b              216.000000\n",
       "allocation_metric      1.391667\n",
       "total_cubes          405.000000\n",
       "dtype: float64"
      ]
     },
     "execution_count": 37,
     "metadata": {},
     "output_type": "execute_result"
    }
   ],
   "source": [
    "odd_cubes_per_participant.sum()"
   ]
  },
  {
   "cell_type": "markdown",
   "metadata": {},
   "source": [
    "# Participants which had robotB as NVC"
   ]
  },
  {
   "cell_type": "code",
   "execution_count": null,
   "metadata": {},
   "outputs": [],
   "source": [
    "odd_cubes_per_participant_plot_data = odd_cubes_per_participant.drop(columns=['total_cubes'])\n",
    "odd_cubes_per_participant_plot_data.plot(kind = 'bar', figsize=(15,6), \n",
    "                                         title=\"The distribution of cubes for each robot when NVC is B.\", \n",
    "                                         yticks=range(0,25,5))"
   ]
  },
  {
   "cell_type": "markdown",
   "metadata": {},
   "source": [
    "# Participants which had robotA as NVC"
   ]
  },
  {
   "cell_type": "code",
   "execution_count": null,
   "metadata": {},
   "outputs": [],
   "source": [
    "even_cubes_per_participant.head()"
   ]
  },
  {
   "cell_type": "code",
   "execution_count": null,
   "metadata": {},
   "outputs": [],
   "source": [
    "even_cubes_per_participant.sum()"
   ]
  },
  {
   "cell_type": "code",
   "execution_count": null,
   "metadata": {},
   "outputs": [],
   "source": [
    "even_cubes_per_participant_plot_data = even_cubes_per_participant.drop(columns=['total_cubes'])\n",
    "even_cubes_per_participant_plot_data.plot(kind = 'bar', figsize=(15,6), title=\"The distribution of cubes for each robot when NVC is A.\", yticks=range(0,50,5))"
   ]
  },
  {
   "cell_type": "markdown",
   "metadata": {},
   "source": [
    "# NVC-B group by scene"
   ]
  },
  {
   "cell_type": "code",
   "execution_count": null,
   "metadata": {},
   "outputs": [],
   "source": [
    "odd_participants_by_scene = odd_participants_data.groupby(\"scene\").sum().drop(columns=['participant', 'NVC_A', 'NVC_B'])\n",
    "odd_participants_by_scene"
   ]
  },
  {
   "cell_type": "code",
   "execution_count": null,
   "metadata": {},
   "outputs": [],
   "source": [
    "temp = odd_participants_by_scene\n",
    "temp['robot a mean'] = odd_participants_by_scene['robot_a']/len(odd_participants_by_scene)\n",
    "temp['robot b mean'] = odd_participants_by_scene['robot_b']/len(odd_participants_by_scene)\n",
    "temp"
   ]
  },
  {
   "cell_type": "code",
   "execution_count": null,
   "metadata": {},
   "outputs": [],
   "source": [
    "plt.figure(figsize=(10,6))\n",
    "plt.xticks(range(1,5))\n",
    "plt.yticks(range(40,150,5))\n",
    "plt.scatter(odd_participants_by_scene.index, odd_participants_by_scene[\"robot_a\"], label=\"A\")\n",
    "plt.scatter(odd_participants_by_scene.index, odd_participants_by_scene[\"robot_b\"], label=\"B\")\n",
    "plt.xlabel('Scene')\n",
    "plt.ylabel('Total Cubes')\n",
    "plt.legend()\n",
    "plt.show()"
   ]
  },
  {
   "cell_type": "markdown",
   "metadata": {},
   "source": [
    "# NVC-A group by scene"
   ]
  },
  {
   "cell_type": "code",
   "execution_count": null,
   "metadata": {},
   "outputs": [],
   "source": [
    "even_participants_by_scene = even_participants_data.groupby(\"scene\").sum().drop(columns=['participant']).drop(columns=['NVC_A']).drop(columns=['NVC_B'])\n",
    "even_participants_by_scene"
   ]
  },
  {
   "cell_type": "code",
   "execution_count": null,
   "metadata": {},
   "outputs": [],
   "source": [
    "temp = even_participants_by_scene\n",
    "temp['robot a mean'] = even_participants_by_scene['robot_a']/len(even_participants_by_scene)\n",
    "temp['robot b mean'] = even_participants_by_scene['robot_b']/len(even_participants_by_scene)\n",
    "temp"
   ]
  },
  {
   "cell_type": "code",
   "execution_count": null,
   "metadata": {},
   "outputs": [],
   "source": []
  },
  {
   "cell_type": "code",
   "execution_count": null,
   "metadata": {},
   "outputs": [],
   "source": []
  },
  {
   "cell_type": "code",
   "execution_count": null,
   "metadata": {},
   "outputs": [],
   "source": [
    "plt.figure(figsize=(10,6))\n",
    "plt.xticks(range(1,5))\n",
    "plt.yticks(range(30,150,5))\n",
    "plt.scatter(even_participants_by_scene.index, even_participants_by_scene[\"robot_a\"], label=\"A\")\n",
    "plt.scatter(even_participants_by_scene.index, even_participants_by_scene[\"robot_b\"], label=\"B\")\n",
    "plt.xlabel('Scene')\n",
    "plt.ylabel('Total Cubes')\n",
    "plt.legend()\n",
    "plt.show()"
   ]
  },
  {
   "cell_type": "code",
   "execution_count": null,
   "metadata": {},
   "outputs": [],
   "source": [
    "color = {'boxes': 'DarkGreen', 'whiskers': 'DarkOrange','medians': 'DarkBlue', 'caps': 'Gray'}\n",
    "ax = even_participants_by_scene.plot(kind = 'box', color = color, sym='', figsize=(8,6), yticks=range(40,150,10),\n",
    "                                    title = \"cubes allocation when NVC is A\")\n",
    "ax.set_ylabel(\"total cubes\")"
   ]
  },
  {
   "cell_type": "code",
   "execution_count": null,
   "metadata": {},
   "outputs": [],
   "source": [
    "color = {'boxes': 'Red', 'whiskers': 'Blue','medians': 'DarkBlue', 'caps': 'Black'}\n",
    "ax = odd_participants_by_scene.plot(kind = 'box', color = color, sym='', figsize=(8,6),yticks=range(30,150,10),\n",
    "                                    title = \"cubes allocation when NVC is B\")\n",
    "ax.set_ylabel(\"total cubes \")"
   ]
  },
  {
   "cell_type": "code",
   "execution_count": null,
   "metadata": {},
   "outputs": [],
   "source": [
    "odd_participants_data.groupby([\"participant\", \"scene\"]).sum().head()"
   ]
  },
  {
   "cell_type": "code",
   "execution_count": null,
   "metadata": {},
   "outputs": [],
   "source": [
    "odd_participants_data.groupby([\"participant\", \"scene\"]).sum().drop(columns=['NVC_A','NVC_B']).plot(kind='bar', figsize=(20,10), by='participant')"
   ]
  },
  {
   "cell_type": "code",
   "execution_count": null,
   "metadata": {},
   "outputs": [],
   "source": [
    "even_participants_data.groupby([\"participant\", \"scene\"]).sum().head()"
   ]
  },
  {
   "cell_type": "code",
   "execution_count": null,
   "metadata": {},
   "outputs": [],
   "source": [
    "even_participants_data.groupby([\"participant\", \"scene\"]).sum().drop(columns=['NVC_A','NVC_B']).plot(kind='bar', figsize=(20,10))"
   ]
  },
  {
   "cell_type": "markdown",
   "metadata": {},
   "source": [
    "# Separating data scene wise for participants where NVC is B"
   ]
  },
  {
   "cell_type": "code",
   "execution_count": null,
   "metadata": {},
   "outputs": [],
   "source": [
    "#odds_scene_0 = odd_participants_data[(odd_participants_data[\"scene\"] == 0)]\n",
    "odds_scene_1 = odd_participants_data[(odd_participants_data[\"scene\"] == 1)]\n",
    "odds_scene_2 = odd_participants_data[(odd_participants_data[\"scene\"] == 2)]\n",
    "odds_scene_3 = odd_participants_data[(odd_participants_data[\"scene\"] == 3)]\n",
    "odds_scene_4 = odd_participants_data[(odd_participants_data[\"scene\"] == 4)]"
   ]
  },
  {
   "cell_type": "markdown",
   "metadata": {},
   "source": [
    "# Cubes when NVC is B (scene 1 and 2)"
   ]
  },
  {
   "cell_type": "code",
   "execution_count": null,
   "metadata": {},
   "outputs": [],
   "source": [
    "fig, ax = plt.subplots(nrows=2, ncols=2, figsize=(10,10))\n",
    "\n",
    "ax[0][0].set_ylabel(\"scene_1\")\n",
    "ax[1][0].set_ylabel(\"scene_2\")\n",
    "sns.distplot(odds_scene_1[\"robot_a\"], bins=5, ax=ax[0][0])\n",
    "sns.distplot(odds_scene_1[\"robot_b\"], bins=5, ax=ax[0][1])\n",
    "sns.distplot(odds_scene_2[\"robot_a\"], bins=5, ax=ax[1][0])\n",
    "sns.distplot(odds_scene_2[\"robot_b\"], bins=5, ax=ax[1][1])"
   ]
  },
  {
   "cell_type": "markdown",
   "metadata": {},
   "source": [
    "# Cubes when NVC is B (scene 3 and 4)"
   ]
  },
  {
   "cell_type": "code",
   "execution_count": null,
   "metadata": {},
   "outputs": [],
   "source": [
    "fig, ax = plt.subplots(nrows=2, ncols=2, figsize=(10,10))\n",
    "\n",
    "ax[0][0].set_ylabel(\"scene_3\")\n",
    "ax[1][0].set_ylabel(\"scene_4\")\n",
    "sns.distplot(odds_scene_3[\"robot_a\"], bins=5, ax=ax[0][0])\n",
    "sns.distplot(odds_scene_3[\"robot_b\"], bins=5, ax=ax[0][1])\n",
    "sns.distplot(odds_scene_4[\"robot_a\"], bins=5, ax=ax[1][0])\n",
    "sns.distplot(odds_scene_4[\"robot_b\"], bins=5, ax=ax[1][1])"
   ]
  },
  {
   "cell_type": "code",
   "execution_count": null,
   "metadata": {},
   "outputs": [],
   "source": []
  },
  {
   "cell_type": "code",
   "execution_count": null,
   "metadata": {},
   "outputs": [],
   "source": [
    "stats.normaltest(odds_scene_1[\"robot_a\"])"
   ]
  },
  {
   "cell_type": "code",
   "execution_count": null,
   "metadata": {},
   "outputs": [],
   "source": [
    "stats.normaltest(odds_scene_1[\"robot_b\"])"
   ]
  },
  {
   "cell_type": "code",
   "execution_count": null,
   "metadata": {},
   "outputs": [],
   "source": [
    "stats.normaltest(odds_scene_2[\"robot_a\"])"
   ]
  },
  {
   "cell_type": "code",
   "execution_count": null,
   "metadata": {},
   "outputs": [],
   "source": [
    "stats.normaltest(odds_scene_2[\"robot_b\"])"
   ]
  },
  {
   "cell_type": "code",
   "execution_count": null,
   "metadata": {},
   "outputs": [],
   "source": [
    "stats.normaltest(odds_scene_3[\"robot_a\"])"
   ]
  },
  {
   "cell_type": "code",
   "execution_count": null,
   "metadata": {},
   "outputs": [],
   "source": [
    "stats.normaltest(odds_scene_3[\"robot_b\"])"
   ]
  },
  {
   "cell_type": "code",
   "execution_count": null,
   "metadata": {},
   "outputs": [],
   "source": [
    "stats.normaltest(odds_scene_4[\"robot_a\"])"
   ]
  },
  {
   "cell_type": "code",
   "execution_count": null,
   "metadata": {},
   "outputs": [],
   "source": [
    "stats.normaltest(odds_scene_4[\"robot_b\"])"
   ]
  },
  {
   "cell_type": "markdown",
   "metadata": {},
   "source": [
    "# Wilcoxon Test"
   ]
  },
  {
   "cell_type": "markdown",
   "metadata": {},
   "source": [
    "h0: there is no difference between a robot A and robot B <br>\n",
    "h1: there is a difference"
   ]
  },
  {
   "cell_type": "markdown",
   "metadata": {},
   "source": [
    "Scene 1"
   ]
  },
  {
   "cell_type": "code",
   "execution_count": null,
   "metadata": {},
   "outputs": [],
   "source": [
    "stats.wilcoxon(odds_scene_1[\"robot_a\"], odds_scene_1[\"robot_b\"])"
   ]
  },
  {
   "cell_type": "markdown",
   "metadata": {},
   "source": [
    "Scene 2"
   ]
  },
  {
   "cell_type": "code",
   "execution_count": null,
   "metadata": {},
   "outputs": [],
   "source": [
    "stats.wilcoxon(odds_scene_2[\"robot_a\"], odds_scene_2[\"robot_b\"])"
   ]
  },
  {
   "cell_type": "markdown",
   "metadata": {},
   "source": [
    "Scene 3"
   ]
  },
  {
   "cell_type": "code",
   "execution_count": null,
   "metadata": {},
   "outputs": [],
   "source": [
    "stats.wilcoxon(odds_scene_3[\"robot_a\"], odds_scene_3[\"robot_b\"])"
   ]
  },
  {
   "cell_type": "markdown",
   "metadata": {},
   "source": [
    "scene 4"
   ]
  },
  {
   "cell_type": "code",
   "execution_count": null,
   "metadata": {},
   "outputs": [],
   "source": [
    "stats.wilcoxon(odds_scene_4[\"robot_a\"], odds_scene_4[\"robot_b\"])"
   ]
  },
  {
   "cell_type": "markdown",
   "metadata": {},
   "source": [
    "# Conclusion"
   ]
  },
  {
   "cell_type": "markdown",
   "metadata": {},
   "source": [
    "### For scene 1,2, and 4 p-value > 0.05, accept h0\n",
    "\n",
    "### For scene 3 p-value < 0.05, reject h0"
   ]
  },
  {
   "cell_type": "markdown",
   "metadata": {},
   "source": [
    "# Pair t-test"
   ]
  },
  {
   "cell_type": "markdown",
   "metadata": {},
   "source": [
    "Scene 1"
   ]
  },
  {
   "cell_type": "code",
   "execution_count": null,
   "metadata": {},
   "outputs": [],
   "source": [
    "stats.ttest_rel(odds_scene_1[\"robot_a\"], odds_scene_1[\"robot_b\"])"
   ]
  },
  {
   "cell_type": "markdown",
   "metadata": {},
   "source": [
    "Scene 2"
   ]
  },
  {
   "cell_type": "code",
   "execution_count": null,
   "metadata": {},
   "outputs": [],
   "source": [
    "stats.ttest_rel(odds_scene_2[\"robot_a\"], odds_scene_2[\"robot_b\"])"
   ]
  },
  {
   "cell_type": "markdown",
   "metadata": {},
   "source": [
    "Scene 3"
   ]
  },
  {
   "cell_type": "code",
   "execution_count": null,
   "metadata": {},
   "outputs": [],
   "source": [
    "stats.ttest_rel(odds_scene_3[\"robot_a\"], odds_scene_3[\"robot_b\"])"
   ]
  },
  {
   "cell_type": "markdown",
   "metadata": {},
   "source": [
    "Scene 4"
   ]
  },
  {
   "cell_type": "code",
   "execution_count": null,
   "metadata": {},
   "outputs": [],
   "source": [
    "stats.ttest_rel(odds_scene_4[\"robot_a\"], odds_scene_4[\"robot_b\"])"
   ]
  },
  {
   "cell_type": "markdown",
   "metadata": {},
   "source": [
    "### Conclusion\n",
    "#### Scene 1, 2, 4 p-value >= 0.05, accept h0: There is no difference between a robot A and a robot B\n",
    "#### Scene 3 p-value < 0.05, reject h0: There is a difference between a robot A and a robot B"
   ]
  },
  {
   "cell_type": "code",
   "execution_count": null,
   "metadata": {},
   "outputs": [],
   "source": []
  },
  {
   "cell_type": "markdown",
   "metadata": {},
   "source": [
    "# Separating data scene wise for participants where NVC is A"
   ]
  },
  {
   "cell_type": "code",
   "execution_count": null,
   "metadata": {},
   "outputs": [],
   "source": [
    "#evens_scene_0 = even_participants_data[(even_participants_data[\"scene\"] == 0)]\n",
    "evens_scene_1 = even_participants_data[(even_participants_data[\"scene\"] == 1)]\n",
    "evens_scene_2 = even_participants_data[(even_participants_data[\"scene\"] == 2)]\n",
    "evens_scene_3 = even_participants_data[(even_participants_data[\"scene\"] == 3)]\n",
    "evens_scene_4 = even_participants_data[(even_participants_data[\"scene\"] == 4)]"
   ]
  },
  {
   "cell_type": "markdown",
   "metadata": {},
   "source": [
    "# Cubes when NVC is A (scene 1 and 2)"
   ]
  },
  {
   "cell_type": "code",
   "execution_count": null,
   "metadata": {},
   "outputs": [],
   "source": [
    "fig, ax = plt.subplots(nrows=2, ncols=2, figsize=(10,10))\n",
    "\n",
    "ax[0][0].set_ylabel(\"scene_1\")\n",
    "ax[1][0].set_ylabel(\"scene_2\")\n",
    "sns.distplot(evens_scene_1[\"robot_a\"], bins=5, ax=ax[0][0])\n",
    "sns.distplot(evens_scene_1[\"robot_b\"], bins=5, ax=ax[0][1])\n",
    "sns.distplot(evens_scene_2[\"robot_a\"], bins=5, ax=ax[1][0])\n",
    "sns.distplot(evens_scene_2[\"robot_b\"], bins=5, ax=ax[1][1])"
   ]
  },
  {
   "cell_type": "markdown",
   "metadata": {},
   "source": [
    "# Cubes when NVC is A (scene 3 and 4)"
   ]
  },
  {
   "cell_type": "code",
   "execution_count": null,
   "metadata": {},
   "outputs": [],
   "source": [
    "fig, ax = plt.subplots(nrows=2, ncols=2, figsize=(10,10))\n",
    "\n",
    "ax[0][0].set_ylabel(\"scene_3\")\n",
    "ax[1][0].set_ylabel(\"scene_4\")\n",
    "sns.distplot(evens_scene_3[\"robot_a\"], bins=5, ax=ax[0][0])\n",
    "sns.distplot(evens_scene_3[\"robot_b\"], bins=5, ax=ax[0][1])\n",
    "sns.distplot(evens_scene_4[\"robot_a\"], bins=5, ax=ax[1][0])\n",
    "sns.distplot(evens_scene_4[\"robot_b\"], bins=5, ax=ax[1][1])"
   ]
  },
  {
   "cell_type": "code",
   "execution_count": null,
   "metadata": {},
   "outputs": [],
   "source": [
    "stats.normaltest(evens_scene_1[\"robot_a\"])"
   ]
  },
  {
   "cell_type": "code",
   "execution_count": null,
   "metadata": {},
   "outputs": [],
   "source": [
    "stats.normaltest(evens_scene_1[\"robot_b\"])"
   ]
  },
  {
   "cell_type": "code",
   "execution_count": null,
   "metadata": {},
   "outputs": [],
   "source": [
    "stats.normaltest(evens_scene_2[\"robot_a\"])"
   ]
  },
  {
   "cell_type": "code",
   "execution_count": null,
   "metadata": {},
   "outputs": [],
   "source": [
    "stats.normaltest(evens_scene_2[\"robot_b\"])"
   ]
  },
  {
   "cell_type": "code",
   "execution_count": null,
   "metadata": {},
   "outputs": [],
   "source": [
    "stats.normaltest(evens_scene_3[\"robot_a\"])"
   ]
  },
  {
   "cell_type": "code",
   "execution_count": null,
   "metadata": {},
   "outputs": [],
   "source": [
    "stats.normaltest(evens_scene_3[\"robot_b\"])"
   ]
  },
  {
   "cell_type": "code",
   "execution_count": null,
   "metadata": {},
   "outputs": [],
   "source": [
    "stats.normaltest(evens_scene_4[\"robot_a\"])"
   ]
  },
  {
   "cell_type": "code",
   "execution_count": null,
   "metadata": {},
   "outputs": [],
   "source": [
    "stats.normaltest(evens_scene_4[\"robot_b\"])"
   ]
  },
  {
   "cell_type": "markdown",
   "metadata": {},
   "source": [
    "# Wilcoxon Test when NVC A"
   ]
  },
  {
   "cell_type": "markdown",
   "metadata": {},
   "source": [
    "h0: there is no difference between a robot A and robot B <br>\n",
    "h1: there is a difference"
   ]
  },
  {
   "cell_type": "markdown",
   "metadata": {},
   "source": [
    "Scene 1"
   ]
  },
  {
   "cell_type": "code",
   "execution_count": null,
   "metadata": {},
   "outputs": [],
   "source": [
    "stats.wilcoxon(evens_scene_1[\"robot_a\"], evens_scene_1[\"robot_b\"])"
   ]
  },
  {
   "cell_type": "markdown",
   "metadata": {},
   "source": [
    "Scene 2"
   ]
  },
  {
   "cell_type": "code",
   "execution_count": null,
   "metadata": {},
   "outputs": [],
   "source": [
    "stats.wilcoxon(evens_scene_2[\"robot_a\"], evens_scene_2[\"robot_b\"])"
   ]
  },
  {
   "cell_type": "markdown",
   "metadata": {},
   "source": [
    "Scene 3"
   ]
  },
  {
   "cell_type": "code",
   "execution_count": null,
   "metadata": {},
   "outputs": [],
   "source": [
    "stats.wilcoxon(evens_scene_3[\"robot_a\"], evens_scene_3[\"robot_b\"])"
   ]
  },
  {
   "cell_type": "markdown",
   "metadata": {},
   "source": [
    "Scene 4"
   ]
  },
  {
   "cell_type": "code",
   "execution_count": null,
   "metadata": {},
   "outputs": [],
   "source": [
    "stats.wilcoxon(evens_scene_4[\"robot_a\"], evens_scene_4[\"robot_b\"])"
   ]
  },
  {
   "cell_type": "markdown",
   "metadata": {},
   "source": [
    "# Conclusion"
   ]
  },
  {
   "cell_type": "markdown",
   "metadata": {},
   "source": [
    "### For scene 1,3, and 4 p-value > 0.05, accept h0\n",
    "\n",
    "### For scene 2 p-value < 0.05, reject h0"
   ]
  },
  {
   "cell_type": "markdown",
   "metadata": {},
   "source": [
    "# Pair t-test"
   ]
  },
  {
   "cell_type": "markdown",
   "metadata": {},
   "source": [
    "Scene 1"
   ]
  },
  {
   "cell_type": "code",
   "execution_count": null,
   "metadata": {},
   "outputs": [],
   "source": [
    "stats.ttest_rel(evens_scene_1[\"robot_a\"], evens_scene_1[\"robot_b\"])"
   ]
  },
  {
   "cell_type": "markdown",
   "metadata": {},
   "source": [
    "Scene 2"
   ]
  },
  {
   "cell_type": "code",
   "execution_count": null,
   "metadata": {},
   "outputs": [],
   "source": [
    "stats.ttest_rel(evens_scene_2[\"robot_a\"], evens_scene_2[\"robot_b\"])"
   ]
  },
  {
   "cell_type": "markdown",
   "metadata": {},
   "source": [
    "Scene 3"
   ]
  },
  {
   "cell_type": "code",
   "execution_count": null,
   "metadata": {},
   "outputs": [],
   "source": [
    "stats.ttest_rel(evens_scene_3[\"robot_a\"], evens_scene_3[\"robot_b\"])"
   ]
  },
  {
   "cell_type": "markdown",
   "metadata": {},
   "source": [
    "Scene 4"
   ]
  },
  {
   "cell_type": "code",
   "execution_count": null,
   "metadata": {},
   "outputs": [],
   "source": [
    "stats.ttest_rel(evens_scene_4[\"robot_a\"], evens_scene_4[\"robot_b\"])"
   ]
  },
  {
   "cell_type": "markdown",
   "metadata": {},
   "source": [
    "### Conclusion\n",
    "#### Scene 1, 3, 4 p-value >= 0.05, accept h0: There is no difference between a robot A and a robot B\n",
    "#### Scene 2 p-value < 0.05, reject h0: There is a difference between a robot A and a robot B"
   ]
  },
  {
   "cell_type": "markdown",
   "metadata": {},
   "source": [
    "# Separating the data for eye color"
   ]
  },
  {
   "cell_type": "code",
   "execution_count": 38,
   "metadata": {},
   "outputs": [],
   "source": [
    "swap_heads_id = 26"
   ]
  },
  {
   "cell_type": "code",
   "execution_count": 39,
   "metadata": {},
   "outputs": [],
   "source": [
    "def separate_red_yellow_eyes_data(data, swap_heads_id):\n",
    "    red_eye_on_A = data[data['participant'] <= swap_heads_id]\n",
    "    yellow_eye_on_A = data[data['participant'] > swap_heads_id]\n",
    "    \n",
    "    return red_eye_on_A, yellow_eye_on_A"
   ]
  },
  {
   "cell_type": "markdown",
   "metadata": {},
   "source": [
    "# Separating data for NVC and non NVCs"
   ]
  },
  {
   "cell_type": "code",
   "execution_count": 40,
   "metadata": {},
   "outputs": [],
   "source": [
    "## separates nv and non nvc data with scene number > scene_num\n",
    "def separate_NVC_nonNVC(data, scene_num):\n",
    "    odd_participants_data = data[data[\"participant\"] % 2 != 0]\n",
    "    odd_participants_data = odd_participants_data[odd_participants_data[\"scene\"] > scene_num]\n",
    "    \n",
    "    even_participants_data = data[data[\"participant\"] % 2 == 0]\n",
    "    even_participants_data = even_participants_data[even_participants_data[\"scene\"] > scene_num]\n",
    "    \n",
    "    return even_participants_data, odd_participants_data"
   ]
  },
  {
   "cell_type": "code",
   "execution_count": 43,
   "metadata": {},
   "outputs": [],
   "source": [
    "## takes a list of colums to be dropped and return clean data\n",
    "def drop_colums(data, column_list):\n",
    "    clean_data = data.drop(columns=column_list)\n",
    "    return clean_data"
   ]
  },
  {
   "cell_type": "code",
   "execution_count": 44,
   "metadata": {},
   "outputs": [],
   "source": [
    "## takes a list of column names and group them\n",
    "def group_data(data, group_list):\n",
    "    groupped_data = data.groupby(group_list).sum()\n",
    "    return groupped_data"
   ]
  },
  {
   "cell_type": "markdown",
   "metadata": {},
   "source": [
    "# Separating data scene wise"
   ]
  },
  {
   "cell_type": "code",
   "execution_count": 45,
   "metadata": {},
   "outputs": [],
   "source": [
    "def separate_data_scene_wise(data):\n",
    "    data_1 = data[(data[\"scene\"] == 1)]\n",
    "    data_2 = data[(data[\"scene\"] == 2)]\n",
    "    data_3 = data[(data[\"scene\"] == 3)]\n",
    "    data_4 = data[(data[\"scene\"] == 4)]\n",
    "    \n",
    "    return data_1, data_2, data_3, data_4"
   ]
  },
  {
   "cell_type": "code",
   "execution_count": 46,
   "metadata": {},
   "outputs": [],
   "source": [
    "#takes data and list of column names\n",
    "#wilcoxon_test(red_eye, ['robot_a', 'robot_b'])\n",
    "def wilcoxon_test(data, column_names):\n",
    "    return stats.wilcoxon(data[column_names[0]], data[column_names[1]])"
   ]
  },
  {
   "cell_type": "code",
   "execution_count": 47,
   "metadata": {},
   "outputs": [],
   "source": [
    "#takes data and list of column names\n",
    "#pair_t_test(red_eye, ['robot_a', 'robot_b'])\n",
    "def pair_t_test(data, column_names):\n",
    "    return stats.ttest_rel(data[column_names[0]], data[column_names[1]])"
   ]
  },
  {
   "cell_type": "code",
   "execution_count": 80,
   "metadata": {},
   "outputs": [],
   "source": [
    "##takes two data and compare their same colum  \n",
    "def wilcoxon_ranksum_test(data1, data2, column):\n",
    "    return stats.ranksums(data1[column], data2[column])"
   ]
  },
  {
   "cell_type": "code",
   "execution_count": 49,
   "metadata": {},
   "outputs": [],
   "source": [
    "cols=['robot_a', 'robot_b']"
   ]
  },
  {
   "cell_type": "code",
   "execution_count": null,
   "metadata": {},
   "outputs": [],
   "source": [
    "print(wilcoxon_test(y_s1, cols))\n",
    "print(wilcoxon_test(y_s2, cols))\n",
    "print(wilcoxon_test(y_s3, cols))\n",
    "print(wilcoxon_test(y_s4, cols))"
   ]
  },
  {
   "cell_type": "code",
   "execution_count": null,
   "metadata": {},
   "outputs": [],
   "source": [
    "print(pair_t_test(y_s1, cols))\n",
    "print(pair_t_test(y_s2, cols))\n",
    "print(pair_t_test(y_s3, cols))\n",
    "print(pair_t_test(y_s4, cols))"
   ]
  },
  {
   "cell_type": "code",
   "execution_count": null,
   "metadata": {},
   "outputs": [],
   "source": [
    "print(wilcoxon_test(r_s1, cols))\n",
    "print(wilcoxon_test(r_s2, cols))\n",
    "print(wilcoxon_test(r_s3, cols))\n",
    "print(wilcoxon_test(r_s4, cols))"
   ]
  },
  {
   "cell_type": "code",
   "execution_count": null,
   "metadata": {},
   "outputs": [],
   "source": [
    "print(pair_t_test(r_s1, cols))\n",
    "print(pair_t_test(r_s2, cols))\n",
    "print(pair_t_test(r_s3, cols))\n",
    "print(pair_t_test(r_s4, cols))"
   ]
  },
  {
   "cell_type": "code",
   "execution_count": 68,
   "metadata": {},
   "outputs": [],
   "source": [
    "red_on_A, red_on_B = separate_red_yellow_eyes_data(raw_data, swap_heads_id)"
   ]
  },
  {
   "cell_type": "code",
   "execution_count": null,
   "metadata": {},
   "outputs": [],
   "source": [
    "even_data, odd_data = separate_NVC_nonNVC(yellow, 0)"
   ]
  },
  {
   "cell_type": "code",
   "execution_count": 71,
   "metadata": {},
   "outputs": [],
   "source": [
    "red_on_B_s1, red_on_B_s2, red_on_B_s3, red_on_B_s4 = separate_data_scene_wise(red_on_B)"
   ]
  },
  {
   "cell_type": "code",
   "execution_count": 72,
   "metadata": {},
   "outputs": [],
   "source": [
    "red_on_A_s1, red_on_A_s2, red_on_A_s3, red_on_A_s4 = separate_data_scene_wise(red_on_A)"
   ]
  },
  {
   "cell_type": "code",
   "execution_count": 73,
   "metadata": {},
   "outputs": [],
   "source": [
    "red_on_B = drop_colums(red_on_B, ['NVC_A','NVC_B', 'NVC'])"
   ]
  },
  {
   "cell_type": "code",
   "execution_count": 74,
   "metadata": {},
   "outputs": [],
   "source": [
    "red_on_B = red_on_B[red_on_B['scene'] > 0]"
   ]
  },
  {
   "cell_type": "code",
   "execution_count": 75,
   "metadata": {},
   "outputs": [
    {
     "data": {
      "text/plain": [
       "<matplotlib.axes._subplots.AxesSubplot at 0x7f907b4cf748>"
      ]
     },
     "execution_count": 75,
     "metadata": {},
     "output_type": "execute_result"
    },
    {
     "data": {
      "image/png": "[encoded data removed]",
      "text/plain": [
       "<matplotlib.figure.Figure at 0x7f907c46c710>"
      ]
     },
     "metadata": {
      "needs_background": "light"
     },
     "output_type": "display_data"
    }
   ],
   "source": [
    "red_on_B.groupby(\"scene\").sum().drop(columns=['participant']).plot(kind='bar', title = \"total cubes allocation per scene for 27-..\")"
   ]
  },
  {
   "cell_type": "code",
   "execution_count": 76,
   "metadata": {},
   "outputs": [
    {
     "data": {
      "text/plain": [
       "<matplotlib.axes._subplots.AxesSubplot at 0x7f907b5505f8>"
      ]
     },
     "execution_count": 76,
     "metadata": {},
     "output_type": "execute_result"
    },
    {
     "data": {
      "image/png": "[encoded data removed]",
      "text/plain": [
       "<matplotlib.figure.Figure at 0x7f907d1a4128>"
      ]
     },
     "metadata": {
      "needs_background": "light"
     },
     "output_type": "display_data"
    }
   ],
   "source": [
    "red_on_A = drop_colums(red_on_A, ['NVC_A','NVC_B', 'NVC'])\n",
    "red_on_A = red_on_A[red_on_A['scene'] > 0]\n",
    "red_on_A.groupby(\"scene\").sum().drop(columns=['participant']).plot(kind='bar', title = \"total cubes allocation per scene for 1-26\")"
   ]
  },
  {
   "cell_type": "code",
   "execution_count": 77,
   "metadata": {},
   "outputs": [
    {
     "data": {
      "text/html": [
       "<div>\n",
       "<style scoped>\n",
       "    .dataframe tbody tr th:only-of-type {\n",
       "        vertical-align: middle;\n",
       "    }\n",
       "\n",
       "    .dataframe tbody tr th {\n",
       "        vertical-align: top;\n",
       "    }\n",
       "\n",
       "    .dataframe thead th {\n",
       "        text-align: right;\n",
       "    }\n",
       "</style>\n",
       "<table border=\"1\" class=\"dataframe\">\n",
       "  <thead>\n",
       "    <tr style=\"text-align: right;\">\n",
       "      <th></th>\n",
       "      <th>robot_a</th>\n",
       "      <th>robot_b</th>\n",
       "      <th>allocation_metric</th>\n",
       "    </tr>\n",
       "    <tr>\n",
       "      <th>participant</th>\n",
       "      <th></th>\n",
       "      <th></th>\n",
       "      <th></th>\n",
       "    </tr>\n",
       "  </thead>\n",
       "  <tbody>\n",
       "    <tr>\n",
       "      <th>2</th>\n",
       "      <td>8</td>\n",
       "      <td>8</td>\n",
       "      <td>0.083333</td>\n",
       "    </tr>\n",
       "    <tr>\n",
       "      <th>3</th>\n",
       "      <td>12</td>\n",
       "      <td>11</td>\n",
       "      <td>0.011905</td>\n",
       "    </tr>\n",
       "    <tr>\n",
       "      <th>5</th>\n",
       "      <td>10</td>\n",
       "      <td>13</td>\n",
       "      <td>0.146429</td>\n",
       "    </tr>\n",
       "    <tr>\n",
       "      <th>6</th>\n",
       "      <td>1</td>\n",
       "      <td>17</td>\n",
       "      <td>0.625000</td>\n",
       "    </tr>\n",
       "    <tr>\n",
       "      <th>7</th>\n",
       "      <td>7</td>\n",
       "      <td>17</td>\n",
       "      <td>0.422619</td>\n",
       "    </tr>\n",
       "    <tr>\n",
       "      <th>8</th>\n",
       "      <td>10</td>\n",
       "      <td>12</td>\n",
       "      <td>-0.050000</td>\n",
       "    </tr>\n",
       "    <tr>\n",
       "      <th>9</th>\n",
       "      <td>12</td>\n",
       "      <td>12</td>\n",
       "      <td>0.002381</td>\n",
       "    </tr>\n",
       "    <tr>\n",
       "      <th>10</th>\n",
       "      <td>8</td>\n",
       "      <td>15</td>\n",
       "      <td>0.250000</td>\n",
       "    </tr>\n",
       "    <tr>\n",
       "      <th>11</th>\n",
       "      <td>4</td>\n",
       "      <td>7</td>\n",
       "      <td>0.083333</td>\n",
       "    </tr>\n",
       "    <tr>\n",
       "      <th>12</th>\n",
       "      <td>9</td>\n",
       "      <td>3</td>\n",
       "      <td>-0.250000</td>\n",
       "    </tr>\n",
       "    <tr>\n",
       "      <th>13</th>\n",
       "      <td>13</td>\n",
       "      <td>11</td>\n",
       "      <td>-0.014286</td>\n",
       "    </tr>\n",
       "    <tr>\n",
       "      <th>14</th>\n",
       "      <td>4</td>\n",
       "      <td>4</td>\n",
       "      <td>0.000000</td>\n",
       "    </tr>\n",
       "    <tr>\n",
       "      <th>15</th>\n",
       "      <td>13</td>\n",
       "      <td>14</td>\n",
       "      <td>0.047619</td>\n",
       "    </tr>\n",
       "    <tr>\n",
       "      <th>16</th>\n",
       "      <td>13</td>\n",
       "      <td>13</td>\n",
       "      <td>-0.011905</td>\n",
       "    </tr>\n",
       "    <tr>\n",
       "      <th>17</th>\n",
       "      <td>7</td>\n",
       "      <td>10</td>\n",
       "      <td>-0.083333</td>\n",
       "    </tr>\n",
       "    <tr>\n",
       "      <th>19</th>\n",
       "      <td>13</td>\n",
       "      <td>8</td>\n",
       "      <td>-0.150000</td>\n",
       "    </tr>\n",
       "    <tr>\n",
       "      <th>20</th>\n",
       "      <td>10</td>\n",
       "      <td>12</td>\n",
       "      <td>0.100000</td>\n",
       "    </tr>\n",
       "    <tr>\n",
       "      <th>21</th>\n",
       "      <td>8</td>\n",
       "      <td>12</td>\n",
       "      <td>0.267857</td>\n",
       "    </tr>\n",
       "    <tr>\n",
       "      <th>22</th>\n",
       "      <td>7</td>\n",
       "      <td>21</td>\n",
       "      <td>0.500000</td>\n",
       "    </tr>\n",
       "    <tr>\n",
       "      <th>23</th>\n",
       "      <td>14</td>\n",
       "      <td>6</td>\n",
       "      <td>-0.300000</td>\n",
       "    </tr>\n",
       "    <tr>\n",
       "      <th>24</th>\n",
       "      <td>13</td>\n",
       "      <td>7</td>\n",
       "      <td>-0.250000</td>\n",
       "    </tr>\n",
       "    <tr>\n",
       "      <th>25</th>\n",
       "      <td>12</td>\n",
       "      <td>4</td>\n",
       "      <td>-0.300000</td>\n",
       "    </tr>\n",
       "    <tr>\n",
       "      <th>26</th>\n",
       "      <td>2</td>\n",
       "      <td>4</td>\n",
       "      <td>0.250000</td>\n",
       "    </tr>\n",
       "  </tbody>\n",
       "</table>\n",
       "</div>"
      ],
      "text/plain": [
       "             robot_a  robot_b  allocation_metric\n",
       "participant                                     \n",
       "2                  8        8           0.083333\n",
       "3                 12       11           0.011905\n",
       "5                 10       13           0.146429\n",
       "6                  1       17           0.625000\n",
       "7                  7       17           0.422619\n",
       "8                 10       12          -0.050000\n",
       "9                 12       12           0.002381\n",
       "10                 8       15           0.250000\n",
       "11                 4        7           0.083333\n",
       "12                 9        3          -0.250000\n",
       "13                13       11          -0.014286\n",
       "14                 4        4           0.000000\n",
       "15                13       14           0.047619\n",
       "16                13       13          -0.011905\n",
       "17                 7       10          -0.083333\n",
       "19                13        8          -0.150000\n",
       "20                10       12           0.100000\n",
       "21                 8       12           0.267857\n",
       "22                 7       21           0.500000\n",
       "23                14        6          -0.300000\n",
       "24                13        7          -0.250000\n",
       "25                12        4          -0.300000\n",
       "26                 2        4           0.250000"
      ]
     },
     "execution_count": 77,
     "metadata": {},
     "output_type": "execute_result"
    }
   ],
   "source": [
    "red_on_A = group_data(red_on_A,['participant'])\n",
    "red_on_A = drop_colums(red_on_A, ['scene'])\n",
    "red_on_A['allocation_metric'] = red_on_A['allocation_metric'] / 4\n",
    "red_on_A.head()"
   ]
  },
  {
   "cell_type": "code",
   "execution_count": 78,
   "metadata": {},
   "outputs": [
    {
     "data": {
      "text/html": [
       "<div>\n",
       "<style scoped>\n",
       "    .dataframe tbody tr th:only-of-type {\n",
       "        vertical-align: middle;\n",
       "    }\n",
       "\n",
       "    .dataframe tbody tr th {\n",
       "        vertical-align: top;\n",
       "    }\n",
       "\n",
       "    .dataframe thead th {\n",
       "        text-align: right;\n",
       "    }\n",
       "</style>\n",
       "<table border=\"1\" class=\"dataframe\">\n",
       "  <thead>\n",
       "    <tr style=\"text-align: right;\">\n",
       "      <th></th>\n",
       "      <th>robot_a</th>\n",
       "      <th>robot_b</th>\n",
       "      <th>allocation_metric</th>\n",
       "    </tr>\n",
       "    <tr>\n",
       "      <th>participant</th>\n",
       "      <th></th>\n",
       "      <th></th>\n",
       "      <th></th>\n",
       "    </tr>\n",
       "  </thead>\n",
       "  <tbody>\n",
       "    <tr>\n",
       "      <th>27</th>\n",
       "      <td>10</td>\n",
       "      <td>13</td>\n",
       "      <td>0.285714</td>\n",
       "    </tr>\n",
       "    <tr>\n",
       "      <th>28</th>\n",
       "      <td>1</td>\n",
       "      <td>8</td>\n",
       "      <td>0.833333</td>\n",
       "    </tr>\n",
       "    <tr>\n",
       "      <th>29</th>\n",
       "      <td>10</td>\n",
       "      <td>8</td>\n",
       "      <td>0.035714</td>\n",
       "    </tr>\n",
       "    <tr>\n",
       "      <th>30</th>\n",
       "      <td>14</td>\n",
       "      <td>8</td>\n",
       "      <td>-0.289286</td>\n",
       "    </tr>\n",
       "    <tr>\n",
       "      <th>31</th>\n",
       "      <td>8</td>\n",
       "      <td>9</td>\n",
       "      <td>0.175000</td>\n",
       "    </tr>\n",
       "    <tr>\n",
       "      <th>32</th>\n",
       "      <td>7</td>\n",
       "      <td>13</td>\n",
       "      <td>0.119048</td>\n",
       "    </tr>\n",
       "    <tr>\n",
       "      <th>33</th>\n",
       "      <td>8</td>\n",
       "      <td>12</td>\n",
       "      <td>0.000000</td>\n",
       "    </tr>\n",
       "    <tr>\n",
       "      <th>34</th>\n",
       "      <td>6</td>\n",
       "      <td>9</td>\n",
       "      <td>0.208333</td>\n",
       "    </tr>\n",
       "    <tr>\n",
       "      <th>35</th>\n",
       "      <td>7</td>\n",
       "      <td>14</td>\n",
       "      <td>0.258333</td>\n",
       "    </tr>\n",
       "    <tr>\n",
       "      <th>36</th>\n",
       "      <td>12</td>\n",
       "      <td>9</td>\n",
       "      <td>-0.175000</td>\n",
       "    </tr>\n",
       "    <tr>\n",
       "      <th>37</th>\n",
       "      <td>6</td>\n",
       "      <td>9</td>\n",
       "      <td>0.208333</td>\n",
       "    </tr>\n",
       "    <tr>\n",
       "      <th>38</th>\n",
       "      <td>11</td>\n",
       "      <td>12</td>\n",
       "      <td>0.035714</td>\n",
       "    </tr>\n",
       "    <tr>\n",
       "      <th>39</th>\n",
       "      <td>6</td>\n",
       "      <td>12</td>\n",
       "      <td>0.047619</td>\n",
       "    </tr>\n",
       "    <tr>\n",
       "      <th>40</th>\n",
       "      <td>10</td>\n",
       "      <td>13</td>\n",
       "      <td>0.121429</td>\n",
       "    </tr>\n",
       "    <tr>\n",
       "      <th>41</th>\n",
       "      <td>9</td>\n",
       "      <td>14</td>\n",
       "      <td>0.246429</td>\n",
       "    </tr>\n",
       "    <tr>\n",
       "      <th>42</th>\n",
       "      <td>17</td>\n",
       "      <td>11</td>\n",
       "      <td>-0.214286</td>\n",
       "    </tr>\n",
       "  </tbody>\n",
       "</table>\n",
       "</div>"
      ],
      "text/plain": [
       "             robot_a  robot_b  allocation_metric\n",
       "participant                                     \n",
       "27                10       13           0.285714\n",
       "28                 1        8           0.833333\n",
       "29                10        8           0.035714\n",
       "30                14        8          -0.289286\n",
       "31                 8        9           0.175000\n",
       "32                 7       13           0.119048\n",
       "33                 8       12           0.000000\n",
       "34                 6        9           0.208333\n",
       "35                 7       14           0.258333\n",
       "36                12        9          -0.175000\n",
       "37                 6        9           0.208333\n",
       "38                11       12           0.035714\n",
       "39                 6       12           0.047619\n",
       "40                10       13           0.121429\n",
       "41                 9       14           0.246429\n",
       "42                17       11          -0.214286"
      ]
     },
     "execution_count": 78,
     "metadata": {},
     "output_type": "execute_result"
    }
   ],
   "source": [
    "red_on_B = group_data(red_on_B,['participant'])\n",
    "red_on_B = drop_colums(red_on_B, ['scene'])\n",
    "red_on_B['allocation_metric'] = red_on_B['allocation_metric'] / 4\n",
    "red_on_B"
   ]
  },
  {
   "cell_type": "code",
   "execution_count": 81,
   "metadata": {},
   "outputs": [],
   "source": [
    "ranksum_colum = 'allocation_metric'"
   ]
  },
  {
   "cell_type": "code",
   "execution_count": 84,
   "metadata": {},
   "outputs": [
    {
     "name": "stdout",
     "output_type": "stream",
     "text": [
      "RanksumsResult(statistic=0.12848405416203615, pvalue=0.8977659165656608)\n",
      "RanksumsResult(statistic=0.9993204212602812, pvalue=0.3176394959316182)\n",
      "RanksumsResult(statistic=-1.4133245957823977, pvalue=0.15756030531504583)\n",
      "RanksumsResult(statistic=-0.770904324972217, pvalue=0.4407636433962271)\n",
      "RanksumsResult(statistic=-0.9564924032062692, pvalue=0.33882352060948284)\n"
     ]
    }
   ],
   "source": [
    "print(wilcoxon_ranksum_test(red_on_A_s1, red_on_B_s1, ranksum_colum))\n",
    "print(wilcoxon_ranksum_test(red_on_A_s2, red_on_B_s2, ranksum_colum))\n",
    "print(wilcoxon_ranksum_test(red_on_A_s3, red_on_B_s3, ranksum_colum))\n",
    "print(wilcoxon_ranksum_test(red_on_A_s4, red_on_B_s4, ranksum_colum))\n",
    "print(wilcoxon_ranksum_test(red_on_A, red_on_B, ranksum_colum))"
   ]
  },
  {
   "cell_type": "code",
   "execution_count": 88,
   "metadata": {},
   "outputs": [],
   "source": [
    "temp = raw_data.copy()"
   ]
  },
  {
   "cell_type": "code",
   "execution_count": 90,
   "metadata": {},
   "outputs": [
    {
     "data": {
      "text/html": [
       "<div>\n",
       "<style scoped>\n",
       "    .dataframe tbody tr th:only-of-type {\n",
       "        vertical-align: middle;\n",
       "    }\n",
       "\n",
       "    .dataframe tbody tr th {\n",
       "        vertical-align: top;\n",
       "    }\n",
       "\n",
       "    .dataframe thead th {\n",
       "        text-align: right;\n",
       "    }\n",
       "</style>\n",
       "<table border=\"1\" class=\"dataframe\">\n",
       "  <thead>\n",
       "    <tr style=\"text-align: right;\">\n",
       "      <th></th>\n",
       "      <th>scene</th>\n",
       "      <th>robot_a</th>\n",
       "      <th>robot_b</th>\n",
       "      <th>participant</th>\n",
       "      <th>NVC_A</th>\n",
       "      <th>NVC_B</th>\n",
       "      <th>NVC</th>\n",
       "      <th>allocation_metric</th>\n",
       "    </tr>\n",
       "  </thead>\n",
       "  <tbody>\n",
       "    <tr>\n",
       "      <th>35</th>\n",
       "      <td>0</td>\n",
       "      <td>1</td>\n",
       "      <td>1</td>\n",
       "      <td>33</td>\n",
       "      <td>False</td>\n",
       "      <td>True</td>\n",
       "      <td>B</td>\n",
       "      <td>0.0</td>\n",
       "    </tr>\n",
       "    <tr>\n",
       "      <th>36</th>\n",
       "      <td>1</td>\n",
       "      <td>3</td>\n",
       "      <td>0</td>\n",
       "      <td>33</td>\n",
       "      <td>False</td>\n",
       "      <td>True</td>\n",
       "      <td>B</td>\n",
       "      <td>-1.0</td>\n",
       "    </tr>\n",
       "    <tr>\n",
       "      <th>37</th>\n",
       "      <td>2</td>\n",
       "      <td>2</td>\n",
       "      <td>2</td>\n",
       "      <td>33</td>\n",
       "      <td>False</td>\n",
       "      <td>True</td>\n",
       "      <td>B</td>\n",
       "      <td>0.0</td>\n",
       "    </tr>\n",
       "    <tr>\n",
       "      <th>38</th>\n",
       "      <td>3</td>\n",
       "      <td>3</td>\n",
       "      <td>3</td>\n",
       "      <td>33</td>\n",
       "      <td>False</td>\n",
       "      <td>True</td>\n",
       "      <td>B</td>\n",
       "      <td>0.0</td>\n",
       "    </tr>\n",
       "    <tr>\n",
       "      <th>39</th>\n",
       "      <td>4</td>\n",
       "      <td>0</td>\n",
       "      <td>7</td>\n",
       "      <td>33</td>\n",
       "      <td>False</td>\n",
       "      <td>True</td>\n",
       "      <td>B</td>\n",
       "      <td>1.0</td>\n",
       "    </tr>\n",
       "  </tbody>\n",
       "</table>\n",
       "</div>"
      ],
      "text/plain": [
       "    scene  robot_a  robot_b  participant  NVC_A  NVC_B NVC  allocation_metric\n",
       "35      0        1        1           33  False   True   B                0.0\n",
       "36      1        3        0           33  False   True   B               -1.0\n",
       "37      2        2        2           33  False   True   B                0.0\n",
       "38      3        3        3           33  False   True   B                0.0\n",
       "39      4        0        7           33  False   True   B                1.0"
      ]
     },
     "execution_count": 90,
     "metadata": {},
     "output_type": "execute_result"
    }
   ],
   "source": [
    "temp[temp['participant']==33]"
   ]
  },
  {
   "cell_type": "code",
   "execution_count": null,
   "metadata": {},
   "outputs": [],
   "source": []
  }
 ],
 "metadata": {
  "kernelspec": {
   "display_name": "Python 3",
   "language": "python",
   "name": "python3"
  },
  "language_info": {
   "codemirror_mode": {
    "name": "ipython",
    "version": 3
   },
   "file_extension": ".py",
   "mimetype": "text/x-python",
   "name": "python",
   "nbconvert_exporter": "python",
   "pygments_lexer": "ipython3",
   "version": "3.6.9"
  }
 },
 "nbformat": 4,
 "nbformat_minor": 2
}
