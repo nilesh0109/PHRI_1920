{
 "cells": [
  {
   "cell_type": "code",
   "execution_count": 1,
   "metadata": {},
   "outputs": [
    {
     "name": "stdout",
     "output_type": "stream",
     "text": [
      "['seaborn-ticks', 'seaborn-darkgrid', 'fivethirtyeight', 'tableau-colorblind10', 'seaborn-poster', 'seaborn-white', 'seaborn-paper', 'seaborn-colorblind', 'Solarize_Light2', 'seaborn-dark', 'seaborn', '_classic_test', 'grayscale', 'dark_background', 'seaborn-talk', 'seaborn-notebook', 'seaborn-dark-palette', 'bmh', 'seaborn-pastel', 'ggplot', 'fast', 'seaborn-bright', 'seaborn-deep', 'seaborn-muted', 'classic', 'seaborn-whitegrid']\n"
     ]
    }
   ],
   "source": [
    "import pandas as pd\n",
    "import numpy as np\n",
    "from pathlib import Path\n",
    "from scipy import stats\n",
    "import os\n",
    "import re\n",
    "import matplotlib.pyplot as plt\n",
    "import seaborn as sns\n",
    "plt.style.use(['fast'])\n",
    "plt.style.use(['seaborn-poster'])\n",
    "print(plt.style.available)\n",
    "\n",
    "DATA_FOLDER = \"/data/cubes/\"\n",
    "DATA_PATH = os.path.abspath(os.getcwd()) + DATA_FOLDER\n",
    "invalid_participant = [1,4,11, 12, 18, 39, 53]"
   ]
  },
  {
   "cell_type": "code",
   "execution_count": 2,
   "metadata": {},
   "outputs": [
    {
     "data": {
      "text/html": [
       "<div>\n",
       "<style scoped>\n",
       "    .dataframe tbody tr th:only-of-type {\n",
       "        vertical-align: middle;\n",
       "    }\n",
       "\n",
       "    .dataframe tbody tr th {\n",
       "        vertical-align: top;\n",
       "    }\n",
       "\n",
       "    .dataframe thead th {\n",
       "        text-align: right;\n",
       "    }\n",
       "</style>\n",
       "<table border=\"1\" class=\"dataframe\">\n",
       "  <thead>\n",
       "    <tr style=\"text-align: right;\">\n",
       "      <th></th>\n",
       "      <th>scene</th>\n",
       "      <th>robot_a</th>\n",
       "      <th>robot_b</th>\n",
       "      <th>participant</th>\n",
       "      <th>NVC_A</th>\n",
       "      <th>NVC_B</th>\n",
       "      <th>NVC</th>\n",
       "      <th>allocation_metric</th>\n",
       "    </tr>\n",
       "  </thead>\n",
       "  <tbody>\n",
       "    <tr>\n",
       "      <th>0</th>\n",
       "      <td>0</td>\n",
       "      <td>2</td>\n",
       "      <td>2</td>\n",
       "      <td>41</td>\n",
       "      <td>False</td>\n",
       "      <td>True</td>\n",
       "      <td>B</td>\n",
       "      <td>0.000000</td>\n",
       "    </tr>\n",
       "    <tr>\n",
       "      <th>1</th>\n",
       "      <td>1</td>\n",
       "      <td>2</td>\n",
       "      <td>3</td>\n",
       "      <td>41</td>\n",
       "      <td>False</td>\n",
       "      <td>True</td>\n",
       "      <td>B</td>\n",
       "      <td>0.200000</td>\n",
       "    </tr>\n",
       "    <tr>\n",
       "      <th>2</th>\n",
       "      <td>2</td>\n",
       "      <td>1</td>\n",
       "      <td>3</td>\n",
       "      <td>41</td>\n",
       "      <td>False</td>\n",
       "      <td>True</td>\n",
       "      <td>B</td>\n",
       "      <td>0.500000</td>\n",
       "    </tr>\n",
       "    <tr>\n",
       "      <th>3</th>\n",
       "      <td>3</td>\n",
       "      <td>4</td>\n",
       "      <td>3</td>\n",
       "      <td>41</td>\n",
       "      <td>False</td>\n",
       "      <td>True</td>\n",
       "      <td>B</td>\n",
       "      <td>-0.142857</td>\n",
       "    </tr>\n",
       "    <tr>\n",
       "      <th>4</th>\n",
       "      <td>4</td>\n",
       "      <td>2</td>\n",
       "      <td>5</td>\n",
       "      <td>41</td>\n",
       "      <td>False</td>\n",
       "      <td>True</td>\n",
       "      <td>B</td>\n",
       "      <td>0.428571</td>\n",
       "    </tr>\n",
       "  </tbody>\n",
       "</table>\n",
       "</div>"
      ],
      "text/plain": [
       "   scene  robot_a  robot_b  participant  NVC_A  NVC_B NVC  allocation_metric\n",
       "0      0        2        2           41  False   True   B           0.000000\n",
       "1      1        2        3           41  False   True   B           0.200000\n",
       "2      2        1        3           41  False   True   B           0.500000\n",
       "3      3        4        3           41  False   True   B          -0.142857\n",
       "4      4        2        5           41  False   True   B           0.428571"
      ]
     },
     "execution_count": 2,
     "metadata": {},
     "output_type": "execute_result"
    }
   ],
   "source": [
    "# Iterate over files and find csv files that have allocation of cubes for each participant\n",
    "dfs = []\n",
    "redundant = []\n",
    "for path in Path(DATA_PATH).rglob('participant_*.csv'): \n",
    "    participant_id = int(re.search(r'\\d+', path.name).group())\n",
    "    \n",
    "    if participant_id in invalid_participant:\n",
    "        continue\n",
    "    \n",
    "    if participant_id not in redundant:\n",
    "        temp = pd.read_csv(path)\n",
    "        temp[\"scene\"] = temp[\"scene\"].str[-1:]\n",
    "        temp[\"scene\"] = temp[\"scene\"].astype('int')\n",
    "        temp[\"participant\"] = participant_id\n",
    "        temp[\"NVC_A\"] = False\n",
    "        temp[\"NVC_B\"] = False\n",
    "\n",
    "        if int(participant_id) % 2 == 0:\n",
    "            nvc = \"A\"\n",
    "            temp[\"NVC_A\"] = True\n",
    "        else:\n",
    "            nvc = \"B\"\n",
    "            temp[\"NVC_B\"] = True\n",
    "\n",
    "        temp[\"NVC\"] = nvc\n",
    "        temp[\"allocation_metric\"] = (temp[\"robot_b\"] - temp[\"robot_a\"]) / (temp[\"robot_a\"] + temp[\"robot_b\"])\n",
    "        dfs.append(temp)\n",
    "        redundant.append(participant_id)\n",
    "    \n",
    "raw_data = pd.concat(dfs, axis=0, ignore_index=True)\n",
    "raw_data[\"allocation_metric\"].fillna(0.0, inplace=True) # handle 0/0\n",
    "raw_data.head()"
   ]
  },
  {
   "cell_type": "code",
   "execution_count": null,
   "metadata": {},
   "outputs": [],
   "source": [
    "odd_participants_data = raw_data[raw_data[\"participant\"] % 2 != 0]\n",
    "odd_participants_data = odd_participants_data[odd_participants_data[\"scene\"] >= 1]\n",
    "even_participants_data = raw_data[raw_data[\"participant\"] % 2 == 0]\n",
    "even_participants_data = even_participants_data[even_participants_data[\"scene\"] >= 1]"
   ]
  },
  {
   "cell_type": "code",
   "execution_count": null,
   "metadata": {},
   "outputs": [],
   "source": [
    "odd_participants_data.head()"
   ]
  },
  {
   "cell_type": "code",
   "execution_count": null,
   "metadata": {},
   "outputs": [],
   "source": [
    "odd_cubes_per_participant = odd_participants_data.groupby(\"participant\").sum()\n",
    "even_cubes_per_participant = even_participants_data.groupby(\"participant\").sum()\n",
    "\n",
    "odd_cubes_per_participant = odd_cubes_per_participant.drop(columns=['scene'])\n",
    "odd_cubes_per_participant = odd_cubes_per_participant.drop(columns=['NVC_A', 'NVC_B'])\n",
    "\n",
    "even_cubes_per_participant = even_cubes_per_participant.drop(columns=['scene'])\n",
    "even_cubes_per_participant = even_cubes_per_participant.drop(columns=['NVC_A', 'NVC_B'])\n",
    "\n",
    "\n",
    "odd_cubes_per_participant['allocation_metric'] = odd_cubes_per_participant['allocation_metric'] / 4\n",
    "\n",
    "odd_cubes_per_participant['total_cubes'] = (odd_cubes_per_participant['robot_a'] + \n",
    "                                                odd_cubes_per_participant['robot_b'])\n",
    "even_cubes_per_participant['total_cubes'] = (even_cubes_per_participant['robot_a'] + \n",
    "                                                even_cubes_per_participant['robot_b'])\n",
    "\n",
    "odd_cubes_per_participant"
   ]
  },
  {
   "cell_type": "code",
   "execution_count": null,
   "metadata": {},
   "outputs": [],
   "source": [
    "odd_cubes_per_participant.sum()"
   ]
  },
  {
   "cell_type": "markdown",
   "metadata": {},
   "source": [
    "# Participants which had robotB as NVC"
   ]
  },
  {
   "cell_type": "code",
   "execution_count": null,
   "metadata": {},
   "outputs": [],
   "source": [
    "odd_cubes_per_participant_plot_data = odd_cubes_per_participant.drop(columns=['total_cubes'])\n",
    "odd_cubes_per_participant_plot_data.plot(kind = 'bar', figsize=(15,6), \n",
    "                                         title=\"The distribution of cubes for each robot when NVC is B.\", \n",
    "                                         yticks=range(0,25,5))"
   ]
  },
  {
   "cell_type": "markdown",
   "metadata": {},
   "source": [
    "# Participants which had robotA as NVC"
   ]
  },
  {
   "cell_type": "code",
   "execution_count": null,
   "metadata": {},
   "outputs": [],
   "source": [
    "even_cubes_per_participant.head()"
   ]
  },
  {
   "cell_type": "code",
   "execution_count": null,
   "metadata": {},
   "outputs": [],
   "source": [
    "even_cubes_per_participant.sum()"
   ]
  },
  {
   "cell_type": "code",
   "execution_count": null,
   "metadata": {},
   "outputs": [],
   "source": [
    "even_cubes_per_participant_plot_data = even_cubes_per_participant.drop(columns=['total_cubes'])\n",
    "even_cubes_per_participant_plot_data.plot(kind = 'bar', figsize=(15,6), title=\"The distribution of cubes for each robot when NVC is A.\", yticks=range(0,50,5))"
   ]
  },
  {
   "cell_type": "markdown",
   "metadata": {},
   "source": [
    "# NVC-B group by scene"
   ]
  },
  {
   "cell_type": "code",
   "execution_count": null,
   "metadata": {},
   "outputs": [],
   "source": [
    "odd_participants_by_scene = odd_participants_data.groupby(\"scene\").sum().drop(columns=['participant', 'NVC_A', 'NVC_B'])\n",
    "odd_participants_by_scene"
   ]
  },
  {
   "cell_type": "code",
   "execution_count": null,
   "metadata": {},
   "outputs": [],
   "source": [
    "temp = odd_participants_by_scene\n",
    "temp['robot a mean'] = odd_participants_by_scene['robot_a']/len(odd_participants_by_scene)\n",
    "temp['robot b mean'] = odd_participants_by_scene['robot_b']/len(odd_participants_by_scene)\n",
    "temp"
   ]
  },
  {
   "cell_type": "code",
   "execution_count": null,
   "metadata": {},
   "outputs": [],
   "source": [
    "plt.figure(figsize=(10,6))\n",
    "plt.xticks(range(1,5))\n",
    "plt.yticks(range(40,150,5))\n",
    "plt.scatter(odd_participants_by_scene.index, odd_participants_by_scene[\"robot_a\"], label=\"A\")\n",
    "plt.scatter(odd_participants_by_scene.index, odd_participants_by_scene[\"robot_b\"], label=\"B\")\n",
    "plt.xlabel('Scene')\n",
    "plt.ylabel('Total Cubes')\n",
    "plt.legend()\n",
    "plt.show()"
   ]
  },
  {
   "cell_type": "markdown",
   "metadata": {},
   "source": [
    "# NVC-A group by scene"
   ]
  },
  {
   "cell_type": "code",
   "execution_count": null,
   "metadata": {},
   "outputs": [],
   "source": [
    "even_participants_by_scene = even_participants_data.groupby(\"scene\").sum().drop(columns=['participant']).drop(columns=['NVC_A']).drop(columns=['NVC_B'])\n",
    "even_participants_by_scene"
   ]
  },
  {
   "cell_type": "code",
   "execution_count": null,
   "metadata": {},
   "outputs": [],
   "source": [
    "temp = even_participants_by_scene\n",
    "temp['robot a mean'] = even_participants_by_scene['robot_a']/len(even_participants_by_scene)\n",
    "temp['robot b mean'] = even_participants_by_scene['robot_b']/len(even_participants_by_scene)\n",
    "temp"
   ]
  },
  {
   "cell_type": "code",
   "execution_count": null,
   "metadata": {},
   "outputs": [],
   "source": []
  },
  {
   "cell_type": "code",
   "execution_count": null,
   "metadata": {},
   "outputs": [],
   "source": []
  },
  {
   "cell_type": "code",
   "execution_count": null,
   "metadata": {},
   "outputs": [],
   "source": [
    "plt.figure(figsize=(10,6))\n",
    "plt.xticks(range(1,5))\n",
    "plt.yticks(range(30,150,5))\n",
    "plt.scatter(even_participants_by_scene.index, even_participants_by_scene[\"robot_a\"], label=\"A\")\n",
    "plt.scatter(even_participants_by_scene.index, even_participants_by_scene[\"robot_b\"], label=\"B\")\n",
    "plt.xlabel('Scene')\n",
    "plt.ylabel('Total Cubes')\n",
    "plt.legend()\n",
    "plt.show()"
   ]
  },
  {
   "cell_type": "code",
   "execution_count": null,
   "metadata": {},
   "outputs": [],
   "source": [
    "color = {'boxes': 'DarkGreen', 'whiskers': 'DarkOrange','medians': 'DarkBlue', 'caps': 'Gray'}\n",
    "ax = even_participants_by_scene.plot(kind = 'box', color = color, sym='', figsize=(8,6), yticks=range(40,150,10),\n",
    "                                    title = \"cubes allocation when NVC is A\")\n",
    "ax.set_ylabel(\"total cubes\")"
   ]
  },
  {
   "cell_type": "code",
   "execution_count": null,
   "metadata": {},
   "outputs": [],
   "source": [
    "color = {'boxes': 'Red', 'whiskers': 'Blue','medians': 'DarkBlue', 'caps': 'Black'}\n",
    "ax = odd_participants_by_scene.plot(kind = 'box', color = color, sym='', figsize=(8,6),yticks=range(30,150,10),\n",
    "                                    title = \"cubes allocation when NVC is B\")\n",
    "ax.set_ylabel(\"total cubes \")"
   ]
  },
  {
   "cell_type": "code",
   "execution_count": null,
   "metadata": {},
   "outputs": [],
   "source": [
    "odd_participants_data.groupby([\"participant\", \"scene\"]).sum().head()"
   ]
  },
  {
   "cell_type": "code",
   "execution_count": null,
   "metadata": {},
   "outputs": [],
   "source": [
    "odd_participants_data.groupby([\"participant\", \"scene\"]).sum().drop(columns=['NVC_A','NVC_B']).plot(kind='bar', figsize=(20,10), by='participant')"
   ]
  },
  {
   "cell_type": "code",
   "execution_count": null,
   "metadata": {},
   "outputs": [],
   "source": [
    "even_participants_data.groupby([\"participant\", \"scene\"]).sum().head()"
   ]
  },
  {
   "cell_type": "code",
   "execution_count": null,
   "metadata": {},
   "outputs": [],
   "source": [
    "even_participants_data.groupby([\"participant\", \"scene\"]).sum().drop(columns=['NVC_A','NVC_B']).plot(kind='bar', figsize=(20,10))"
   ]
  },
  {
   "cell_type": "markdown",
   "metadata": {},
   "source": [
    "# Separating data scene wise for participants where NVC is B"
   ]
  },
  {
   "cell_type": "code",
   "execution_count": null,
   "metadata": {},
   "outputs": [],
   "source": [
    "#odds_scene_0 = odd_participants_data[(odd_participants_data[\"scene\"] == 0)]\n",
    "odds_scene_1 = odd_participants_data[(odd_participants_data[\"scene\"] == 1)]\n",
    "odds_scene_2 = odd_participants_data[(odd_participants_data[\"scene\"] == 2)]\n",
    "odds_scene_3 = odd_participants_data[(odd_participants_data[\"scene\"] == 3)]\n",
    "odds_scene_4 = odd_participants_data[(odd_participants_data[\"scene\"] == 4)]"
   ]
  },
  {
   "cell_type": "markdown",
   "metadata": {},
   "source": [
    "# Cubes when NVC is B (scene 1 and 2)"
   ]
  },
  {
   "cell_type": "code",
   "execution_count": null,
   "metadata": {},
   "outputs": [],
   "source": [
    "fig, ax = plt.subplots(nrows=2, ncols=2, figsize=(10,10))\n",
    "\n",
    "ax[0][0].set_ylabel(\"scene_1\")\n",
    "ax[1][0].set_ylabel(\"scene_2\")\n",
    "sns.distplot(odds_scene_1[\"robot_a\"], bins=5, ax=ax[0][0])\n",
    "sns.distplot(odds_scene_1[\"robot_b\"], bins=5, ax=ax[0][1])\n",
    "sns.distplot(odds_scene_2[\"robot_a\"], bins=5, ax=ax[1][0])\n",
    "sns.distplot(odds_scene_2[\"robot_b\"], bins=5, ax=ax[1][1])"
   ]
  },
  {
   "cell_type": "markdown",
   "metadata": {},
   "source": [
    "# Cubes when NVC is B (scene 3 and 4)"
   ]
  },
  {
   "cell_type": "code",
   "execution_count": null,
   "metadata": {},
   "outputs": [],
   "source": [
    "fig, ax = plt.subplots(nrows=2, ncols=2, figsize=(10,10))\n",
    "\n",
    "ax[0][0].set_ylabel(\"scene_3\")\n",
    "ax[1][0].set_ylabel(\"scene_4\")\n",
    "sns.distplot(odds_scene_3[\"robot_a\"], bins=5, ax=ax[0][0])\n",
    "sns.distplot(odds_scene_3[\"robot_b\"], bins=5, ax=ax[0][1])\n",
    "sns.distplot(odds_scene_4[\"robot_a\"], bins=5, ax=ax[1][0])\n",
    "sns.distplot(odds_scene_4[\"robot_b\"], bins=5, ax=ax[1][1])"
   ]
  },
  {
   "cell_type": "code",
   "execution_count": null,
   "metadata": {},
   "outputs": [],
   "source": []
  },
  {
   "cell_type": "code",
   "execution_count": null,
   "metadata": {},
   "outputs": [],
   "source": [
    "stats.normaltest(odds_scene_1[\"robot_a\"])"
   ]
  },
  {
   "cell_type": "code",
   "execution_count": null,
   "metadata": {},
   "outputs": [],
   "source": [
    "stats.normaltest(odds_scene_1[\"robot_b\"])"
   ]
  },
  {
   "cell_type": "code",
   "execution_count": null,
   "metadata": {},
   "outputs": [],
   "source": [
    "stats.normaltest(odds_scene_2[\"robot_a\"])"
   ]
  },
  {
   "cell_type": "code",
   "execution_count": null,
   "metadata": {},
   "outputs": [],
   "source": [
    "stats.normaltest(odds_scene_2[\"robot_b\"])"
   ]
  },
  {
   "cell_type": "code",
   "execution_count": null,
   "metadata": {},
   "outputs": [],
   "source": [
    "stats.normaltest(odds_scene_3[\"robot_a\"])"
   ]
  },
  {
   "cell_type": "code",
   "execution_count": null,
   "metadata": {},
   "outputs": [],
   "source": [
    "stats.normaltest(odds_scene_3[\"robot_b\"])"
   ]
  },
  {
   "cell_type": "code",
   "execution_count": null,
   "metadata": {},
   "outputs": [],
   "source": [
    "stats.normaltest(odds_scene_4[\"robot_a\"])"
   ]
  },
  {
   "cell_type": "code",
   "execution_count": null,
   "metadata": {},
   "outputs": [],
   "source": [
    "stats.normaltest(odds_scene_4[\"robot_b\"])"
   ]
  },
  {
   "cell_type": "markdown",
   "metadata": {},
   "source": [
    "# Wilcoxon Test"
   ]
  },
  {
   "cell_type": "markdown",
   "metadata": {},
   "source": [
    "h0: there is no difference between a robot A and robot B <br>\n",
    "h1: there is a difference"
   ]
  },
  {
   "cell_type": "markdown",
   "metadata": {},
   "source": [
    "Scene 1"
   ]
  },
  {
   "cell_type": "code",
   "execution_count": null,
   "metadata": {},
   "outputs": [],
   "source": [
    "stats.wilcoxon(odds_scene_1[\"robot_a\"], odds_scene_1[\"robot_b\"])"
   ]
  },
  {
   "cell_type": "markdown",
   "metadata": {},
   "source": [
    "Scene 2"
   ]
  },
  {
   "cell_type": "code",
   "execution_count": null,
   "metadata": {},
   "outputs": [],
   "source": [
    "stats.wilcoxon(odds_scene_2[\"robot_a\"], odds_scene_2[\"robot_b\"])"
   ]
  },
  {
   "cell_type": "markdown",
   "metadata": {},
   "source": [
    "Scene 3"
   ]
  },
  {
   "cell_type": "code",
   "execution_count": null,
   "metadata": {},
   "outputs": [],
   "source": [
    "stats.wilcoxon(odds_scene_3[\"robot_a\"], odds_scene_3[\"robot_b\"])"
   ]
  },
  {
   "cell_type": "markdown",
   "metadata": {},
   "source": [
    "scene 4"
   ]
  },
  {
   "cell_type": "code",
   "execution_count": null,
   "metadata": {},
   "outputs": [],
   "source": [
    "stats.wilcoxon(odds_scene_4[\"robot_a\"], odds_scene_4[\"robot_b\"])"
   ]
  },
  {
   "cell_type": "markdown",
   "metadata": {},
   "source": [
    "# Conclusion"
   ]
  },
  {
   "cell_type": "markdown",
   "metadata": {},
   "source": [
    "### For scene 1,2, and 4 p-value > 0.05, accept h0\n",
    "\n",
    "### For scene 3 p-value < 0.05, reject h0"
   ]
  },
  {
   "cell_type": "markdown",
   "metadata": {},
   "source": [
    "# Pair t-test"
   ]
  },
  {
   "cell_type": "markdown",
   "metadata": {},
   "source": [
    "Scene 1"
   ]
  },
  {
   "cell_type": "code",
   "execution_count": null,
   "metadata": {},
   "outputs": [],
   "source": [
    "stats.ttest_rel(odds_scene_1[\"robot_a\"], odds_scene_1[\"robot_b\"])"
   ]
  },
  {
   "cell_type": "markdown",
   "metadata": {},
   "source": [
    "Scene 2"
   ]
  },
  {
   "cell_type": "code",
   "execution_count": null,
   "metadata": {},
   "outputs": [],
   "source": [
    "stats.ttest_rel(odds_scene_2[\"robot_a\"], odds_scene_2[\"robot_b\"])"
   ]
  },
  {
   "cell_type": "markdown",
   "metadata": {},
   "source": [
    "Scene 3"
   ]
  },
  {
   "cell_type": "code",
   "execution_count": null,
   "metadata": {},
   "outputs": [],
   "source": [
    "stats.ttest_rel(odds_scene_3[\"robot_a\"], odds_scene_3[\"robot_b\"])"
   ]
  },
  {
   "cell_type": "markdown",
   "metadata": {},
   "source": [
    "Scene 4"
   ]
  },
  {
   "cell_type": "code",
   "execution_count": null,
   "metadata": {},
   "outputs": [],
   "source": [
    "stats.ttest_rel(odds_scene_4[\"robot_a\"], odds_scene_4[\"robot_b\"])"
   ]
  },
  {
   "cell_type": "markdown",
   "metadata": {},
   "source": [
    "### Conclusion\n",
    "#### Scene 1, 2, 4 p-value >= 0.05, accept h0: There is no difference between a robot A and a robot B\n",
    "#### Scene 3 p-value < 0.05, reject h0: There is a difference between a robot A and a robot B"
   ]
  },
  {
   "cell_type": "code",
   "execution_count": null,
   "metadata": {},
   "outputs": [],
   "source": []
  },
  {
   "cell_type": "markdown",
   "metadata": {},
   "source": [
    "# Separating data scene wise for participants where NVC is A"
   ]
  },
  {
   "cell_type": "code",
   "execution_count": null,
   "metadata": {},
   "outputs": [],
   "source": [
    "#evens_scene_0 = even_participants_data[(even_participants_data[\"scene\"] == 0)]\n",
    "evens_scene_1 = even_participants_data[(even_participants_data[\"scene\"] == 1)]\n",
    "evens_scene_2 = even_participants_data[(even_participants_data[\"scene\"] == 2)]\n",
    "evens_scene_3 = even_participants_data[(even_participants_data[\"scene\"] == 3)]\n",
    "evens_scene_4 = even_participants_data[(even_participants_data[\"scene\"] == 4)]"
   ]
  },
  {
   "cell_type": "markdown",
   "metadata": {},
   "source": [
    "# Cubes when NVC is A (scene 1 and 2)"
   ]
  },
  {
   "cell_type": "code",
   "execution_count": null,
   "metadata": {},
   "outputs": [],
   "source": [
    "fig, ax = plt.subplots(nrows=2, ncols=2, figsize=(10,10))\n",
    "\n",
    "ax[0][0].set_ylabel(\"scene_1\")\n",
    "ax[1][0].set_ylabel(\"scene_2\")\n",
    "sns.distplot(evens_scene_1[\"robot_a\"], bins=5, ax=ax[0][0])\n",
    "sns.distplot(evens_scene_1[\"robot_b\"], bins=5, ax=ax[0][1])\n",
    "sns.distplot(evens_scene_2[\"robot_a\"], bins=5, ax=ax[1][0])\n",
    "sns.distplot(evens_scene_2[\"robot_b\"], bins=5, ax=ax[1][1])"
   ]
  },
  {
   "cell_type": "markdown",
   "metadata": {},
   "source": [
    "# Cubes when NVC is A (scene 3 and 4)"
   ]
  },
  {
   "cell_type": "code",
   "execution_count": null,
   "metadata": {},
   "outputs": [],
   "source": [
    "fig, ax = plt.subplots(nrows=2, ncols=2, figsize=(10,10))\n",
    "\n",
    "ax[0][0].set_ylabel(\"scene_3\")\n",
    "ax[1][0].set_ylabel(\"scene_4\")\n",
    "sns.distplot(evens_scene_3[\"robot_a\"], bins=5, ax=ax[0][0])\n",
    "sns.distplot(evens_scene_3[\"robot_b\"], bins=5, ax=ax[0][1])\n",
    "sns.distplot(evens_scene_4[\"robot_a\"], bins=5, ax=ax[1][0])\n",
    "sns.distplot(evens_scene_4[\"robot_b\"], bins=5, ax=ax[1][1])"
   ]
  },
  {
   "cell_type": "code",
   "execution_count": null,
   "metadata": {},
   "outputs": [],
   "source": [
    "stats.normaltest(evens_scene_1[\"robot_a\"])"
   ]
  },
  {
   "cell_type": "code",
   "execution_count": null,
   "metadata": {},
   "outputs": [],
   "source": [
    "stats.normaltest(evens_scene_1[\"robot_b\"])"
   ]
  },
  {
   "cell_type": "code",
   "execution_count": null,
   "metadata": {},
   "outputs": [],
   "source": [
    "stats.normaltest(evens_scene_2[\"robot_a\"])"
   ]
  },
  {
   "cell_type": "code",
   "execution_count": null,
   "metadata": {},
   "outputs": [],
   "source": [
    "stats.normaltest(evens_scene_2[\"robot_b\"])"
   ]
  },
  {
   "cell_type": "code",
   "execution_count": null,
   "metadata": {},
   "outputs": [],
   "source": [
    "stats.normaltest(evens_scene_3[\"robot_a\"])"
   ]
  },
  {
   "cell_type": "code",
   "execution_count": null,
   "metadata": {},
   "outputs": [],
   "source": [
    "stats.normaltest(evens_scene_3[\"robot_b\"])"
   ]
  },
  {
   "cell_type": "code",
   "execution_count": null,
   "metadata": {},
   "outputs": [],
   "source": [
    "stats.normaltest(evens_scene_4[\"robot_a\"])"
   ]
  },
  {
   "cell_type": "code",
   "execution_count": null,
   "metadata": {},
   "outputs": [],
   "source": [
    "stats.normaltest(evens_scene_4[\"robot_b\"])"
   ]
  },
  {
   "cell_type": "markdown",
   "metadata": {},
   "source": [
    "# Wilcoxon Test when NVC A"
   ]
  },
  {
   "cell_type": "markdown",
   "metadata": {},
   "source": [
    "h0: there is no difference between a robot A and robot B <br>\n",
    "h1: there is a difference"
   ]
  },
  {
   "cell_type": "markdown",
   "metadata": {},
   "source": [
    "Scene 1"
   ]
  },
  {
   "cell_type": "code",
   "execution_count": null,
   "metadata": {},
   "outputs": [],
   "source": [
    "stats.wilcoxon(evens_scene_1[\"robot_a\"], evens_scene_1[\"robot_b\"])"
   ]
  },
  {
   "cell_type": "markdown",
   "metadata": {},
   "source": [
    "Scene 2"
   ]
  },
  {
   "cell_type": "code",
   "execution_count": null,
   "metadata": {},
   "outputs": [],
   "source": [
    "stats.wilcoxon(evens_scene_2[\"robot_a\"], evens_scene_2[\"robot_b\"])"
   ]
  },
  {
   "cell_type": "markdown",
   "metadata": {},
   "source": [
    "Scene 3"
   ]
  },
  {
   "cell_type": "code",
   "execution_count": null,
   "metadata": {},
   "outputs": [],
   "source": [
    "stats.wilcoxon(evens_scene_3[\"robot_a\"], evens_scene_3[\"robot_b\"])"
   ]
  },
  {
   "cell_type": "markdown",
   "metadata": {},
   "source": [
    "Scene 4"
   ]
  },
  {
   "cell_type": "code",
   "execution_count": null,
   "metadata": {},
   "outputs": [],
   "source": [
    "stats.wilcoxon(evens_scene_4[\"robot_a\"], evens_scene_4[\"robot_b\"])"
   ]
  },
  {
   "cell_type": "markdown",
   "metadata": {},
   "source": [
    "# Conclusion"
   ]
  },
  {
   "cell_type": "markdown",
   "metadata": {},
   "source": [
    "### For scene 1,3, and 4 p-value > 0.05, accept h0\n",
    "\n",
    "### For scene 2 p-value < 0.05, reject h0"
   ]
  },
  {
   "cell_type": "markdown",
   "metadata": {},
   "source": [
    "# Pair t-test"
   ]
  },
  {
   "cell_type": "markdown",
   "metadata": {},
   "source": [
    "Scene 1"
   ]
  },
  {
   "cell_type": "code",
   "execution_count": null,
   "metadata": {},
   "outputs": [],
   "source": [
    "stats.ttest_rel(evens_scene_1[\"robot_a\"], evens_scene_1[\"robot_b\"])"
   ]
  },
  {
   "cell_type": "markdown",
   "metadata": {},
   "source": [
    "Scene 2"
   ]
  },
  {
   "cell_type": "code",
   "execution_count": null,
   "metadata": {},
   "outputs": [],
   "source": [
    "stats.ttest_rel(evens_scene_2[\"robot_a\"], evens_scene_2[\"robot_b\"])"
   ]
  },
  {
   "cell_type": "markdown",
   "metadata": {},
   "source": [
    "Scene 3"
   ]
  },
  {
   "cell_type": "code",
   "execution_count": null,
   "metadata": {},
   "outputs": [],
   "source": [
    "stats.ttest_rel(evens_scene_3[\"robot_a\"], evens_scene_3[\"robot_b\"])"
   ]
  },
  {
   "cell_type": "markdown",
   "metadata": {},
   "source": [
    "Scene 4"
   ]
  },
  {
   "cell_type": "code",
   "execution_count": null,
   "metadata": {},
   "outputs": [],
   "source": [
    "stats.ttest_rel(evens_scene_4[\"robot_a\"], evens_scene_4[\"robot_b\"])"
   ]
  },
  {
   "cell_type": "markdown",
   "metadata": {},
   "source": [
    "### Conclusion\n",
    "#### Scene 1, 3, 4 p-value >= 0.05, accept h0: There is no difference between a robot A and a robot B\n",
    "#### Scene 2 p-value < 0.05, reject h0: There is a difference between a robot A and a robot B"
   ]
  },
  {
   "cell_type": "markdown",
   "metadata": {},
   "source": [
    "# Separating the data for eye color"
   ]
  },
  {
   "cell_type": "code",
   "execution_count": 3,
   "metadata": {},
   "outputs": [],
   "source": [
    "swap_heads_id = 26"
   ]
  },
  {
   "cell_type": "code",
   "execution_count": 4,
   "metadata": {},
   "outputs": [],
   "source": [
    "def separate_red_yellow_eyes_data(data, swap_heads_id):\n",
    "    red_eye_on_A = data[data['participant'] <= swap_heads_id]\n",
    "    yellow_eye_on_A = data[data['participant'] > swap_heads_id]\n",
    "    \n",
    "    return red_eye_on_A, yellow_eye_on_A"
   ]
  },
  {
   "cell_type": "markdown",
   "metadata": {},
   "source": [
    "# Separating data for NVC and non NVCs"
   ]
  },
  {
   "cell_type": "code",
   "execution_count": 5,
   "metadata": {},
   "outputs": [],
   "source": [
    "## separates nv and non nvc data with scene number > scene_num\n",
    "def separate_NVC_nonNVC(data, scene_num=0):\n",
    "    odd_participants_data = data[data[\"participant\"] % 2 != 0]\n",
    "    odd_participants_data = odd_participants_data[odd_participants_data[\"scene\"] > scene_num]\n",
    "    \n",
    "    even_participants_data = data[data[\"participant\"] % 2 == 0]\n",
    "    even_participants_data = even_participants_data[even_participants_data[\"scene\"] > scene_num]\n",
    "    \n",
    "    return even_participants_data, odd_participants_data"
   ]
  },
  {
   "cell_type": "code",
   "execution_count": 6,
   "metadata": {},
   "outputs": [],
   "source": [
    "## takes a list of colums to be dropped and return clean data\n",
    "def drop_colums(data, column_list):\n",
    "    clean_data = data.drop(columns=column_list)\n",
    "    return clean_data"
   ]
  },
  {
   "cell_type": "code",
   "execution_count": 7,
   "metadata": {},
   "outputs": [],
   "source": [
    "## takes a list of column names and group them\n",
    "def group_data(data, group_list):\n",
    "    groupped_data = data.groupby(group_list).sum()\n",
    "    return groupped_data"
   ]
  },
  {
   "cell_type": "markdown",
   "metadata": {},
   "source": [
    "# Separating data scene wise"
   ]
  },
  {
   "cell_type": "code",
   "execution_count": 8,
   "metadata": {},
   "outputs": [],
   "source": [
    "def separate_data_scene_wise(data):\n",
    "    data_1 = data[(data[\"scene\"] == 1)]\n",
    "    data_2 = data[(data[\"scene\"] == 2)]\n",
    "    data_3 = data[(data[\"scene\"] == 3)]\n",
    "    data_4 = data[(data[\"scene\"] == 4)]\n",
    "    \n",
    "    return data_1, data_2, data_3, data_4"
   ]
  },
  {
   "cell_type": "code",
   "execution_count": 9,
   "metadata": {},
   "outputs": [],
   "source": [
    "#takes data and list of column names\n",
    "#wilcoxon_test(red_eye, ['robot_a', 'robot_b'])\n",
    "def wilcoxon_test(data, column_names):\n",
    "    return stats.wilcoxon(data[column_names[0]], data[column_names[1]])"
   ]
  },
  {
   "cell_type": "code",
   "execution_count": 10,
   "metadata": {},
   "outputs": [],
   "source": [
    "#takes data and list of column names\n",
    "#pair_t_test(red_eye, ['robot_a', 'robot_b'])\n",
    "def pair_t_test(data, column_names):\n",
    "    return stats.ttest_rel(data[column_names[0]], data[column_names[1]])"
   ]
  },
  {
   "cell_type": "code",
   "execution_count": 11,
   "metadata": {},
   "outputs": [],
   "source": [
    "##takes two data and compare their same colum  \n",
    "def wilcoxon_ranksum_test(data1, data2, column):\n",
    "    return stats.ranksums(data1[column], data2[column])"
   ]
  },
  {
   "cell_type": "code",
   "execution_count": null,
   "metadata": {},
   "outputs": [],
   "source": [
    "cols=['robot_a', 'robot_b']"
   ]
  },
  {
   "cell_type": "code",
   "execution_count": null,
   "metadata": {},
   "outputs": [],
   "source": [
    "print(wilcoxon_test(y_s1, cols))\n",
    "print(wilcoxon_test(y_s2, cols))\n",
    "print(wilcoxon_test(y_s3, cols))\n",
    "print(wilcoxon_test(y_s4, cols))"
   ]
  },
  {
   "cell_type": "code",
   "execution_count": null,
   "metadata": {},
   "outputs": [],
   "source": [
    "print(pair_t_test(y_s1, cols))\n",
    "print(pair_t_test(y_s2, cols))\n",
    "print(pair_t_test(y_s3, cols))\n",
    "print(pair_t_test(y_s4, cols))"
   ]
  },
  {
   "cell_type": "code",
   "execution_count": null,
   "metadata": {},
   "outputs": [],
   "source": [
    "print(wilcoxon_test(r_s1, cols))\n",
    "print(wilcoxon_test(r_s2, cols))\n",
    "print(wilcoxon_test(r_s3, cols))\n",
    "print(wilcoxon_test(r_s4, cols))"
   ]
  },
  {
   "cell_type": "code",
   "execution_count": null,
   "metadata": {},
   "outputs": [],
   "source": [
    "print(pair_t_test(r_s1, cols))\n",
    "print(pair_t_test(r_s2, cols))\n",
    "print(pair_t_test(r_s3, cols))\n",
    "print(pair_t_test(r_s4, cols))"
   ]
  },
  {
   "cell_type": "code",
   "execution_count": 14,
   "metadata": {},
   "outputs": [],
   "source": [
    "red_on_A, red_on_B = separate_red_yellow_eyes_data(raw_data, swap_heads_id)"
   ]
  },
  {
   "cell_type": "code",
   "execution_count": 15,
   "metadata": {},
   "outputs": [],
   "source": [
    "red_on_B_s1, red_on_B_s2, red_on_B_s3, red_on_B_s4 = separate_data_scene_wise(red_on_B)"
   ]
  },
  {
   "cell_type": "code",
   "execution_count": 16,
   "metadata": {},
   "outputs": [],
   "source": [
    "red_on_A_s1, red_on_A_s2, red_on_A_s3, red_on_A_s4 = separate_data_scene_wise(red_on_A)"
   ]
  },
  {
   "cell_type": "code",
   "execution_count": 17,
   "metadata": {},
   "outputs": [],
   "source": [
    "red_on_B = drop_colums(red_on_B, ['NVC_A','NVC_B', 'NVC'])"
   ]
  },
  {
   "cell_type": "code",
   "execution_count": 18,
   "metadata": {},
   "outputs": [],
   "source": [
    "red_on_B = red_on_B[red_on_B['scene'] > 0]"
   ]
  },
  {
   "cell_type": "code",
   "execution_count": 19,
   "metadata": {},
   "outputs": [
    {
     "data": {
      "text/plain": [
       "<matplotlib.axes._subplots.AxesSubplot at 0x7fab05e66860>"
      ]
     },
     "execution_count": 19,
     "metadata": {},
     "output_type": "execute_result"
    },
    {
     "data": {
      "image/png": "[encoded data removed]",
      "text/plain": [
       "<Figure size 432x288 with 1 Axes>"
      ]
     },
     "metadata": {
      "needs_background": "light"
     },
     "output_type": "display_data"
    }
   ],
   "source": [
    "red_on_B.groupby(\"scene\").sum().drop(columns=['participant']).plot(kind='bar', title = \"total cubes allocation per scene for 27-..\")"
   ]
  },
  {
   "cell_type": "code",
   "execution_count": 20,
   "metadata": {},
   "outputs": [
    {
     "data": {
      "text/plain": [
       "<matplotlib.axes._subplots.AxesSubplot at 0x7fab03c5dba8>"
      ]
     },
     "execution_count": 20,
     "metadata": {},
     "output_type": "execute_result"
    },
    {
     "data": {
      "image/png": "[encoded data removed]",
      "text/plain": [
       "<Figure size 432x288 with 1 Axes>"
      ]
     },
     "metadata": {
      "needs_background": "light"
     },
     "output_type": "display_data"
    }
   ],
   "source": [
    "red_on_A = drop_colums(red_on_A, ['NVC_A','NVC_B', 'NVC'])\n",
    "red_on_A = red_on_A[red_on_A['scene'] > 0]\n",
    "red_on_A.groupby(\"scene\").sum().drop(columns=['participant']).plot(kind='bar', title = \"total cubes allocation per scene for 1-26\")"
   ]
  },
  {
   "cell_type": "code",
   "execution_count": 21,
   "metadata": {},
   "outputs": [
    {
     "data": {
      "text/html": [
       "<div>\n",
       "<style scoped>\n",
       "    .dataframe tbody tr th:only-of-type {\n",
       "        vertical-align: middle;\n",
       "    }\n",
       "\n",
       "    .dataframe tbody tr th {\n",
       "        vertical-align: top;\n",
       "    }\n",
       "\n",
       "    .dataframe thead th {\n",
       "        text-align: right;\n",
       "    }\n",
       "</style>\n",
       "<table border=\"1\" class=\"dataframe\">\n",
       "  <thead>\n",
       "    <tr style=\"text-align: right;\">\n",
       "      <th></th>\n",
       "      <th>robot_a</th>\n",
       "      <th>robot_b</th>\n",
       "      <th>allocation_metric</th>\n",
       "    </tr>\n",
       "    <tr>\n",
       "      <th>participant</th>\n",
       "      <th></th>\n",
       "      <th></th>\n",
       "      <th></th>\n",
       "    </tr>\n",
       "  </thead>\n",
       "  <tbody>\n",
       "    <tr>\n",
       "      <th>2</th>\n",
       "      <td>8</td>\n",
       "      <td>8</td>\n",
       "      <td>0.083333</td>\n",
       "    </tr>\n",
       "    <tr>\n",
       "      <th>3</th>\n",
       "      <td>12</td>\n",
       "      <td>11</td>\n",
       "      <td>0.011905</td>\n",
       "    </tr>\n",
       "    <tr>\n",
       "      <th>5</th>\n",
       "      <td>10</td>\n",
       "      <td>13</td>\n",
       "      <td>0.146429</td>\n",
       "    </tr>\n",
       "    <tr>\n",
       "      <th>6</th>\n",
       "      <td>1</td>\n",
       "      <td>17</td>\n",
       "      <td>0.625000</td>\n",
       "    </tr>\n",
       "    <tr>\n",
       "      <th>7</th>\n",
       "      <td>7</td>\n",
       "      <td>17</td>\n",
       "      <td>0.422619</td>\n",
       "    </tr>\n",
       "  </tbody>\n",
       "</table>\n",
       "</div>"
      ],
      "text/plain": [
       "             robot_a  robot_b  allocation_metric\n",
       "participant                                     \n",
       "2                  8        8           0.083333\n",
       "3                 12       11           0.011905\n",
       "5                 10       13           0.146429\n",
       "6                  1       17           0.625000\n",
       "7                  7       17           0.422619"
      ]
     },
     "execution_count": 21,
     "metadata": {},
     "output_type": "execute_result"
    }
   ],
   "source": [
    "red_on_A = group_data(red_on_A,['participant'])\n",
    "red_on_A = drop_colums(red_on_A, ['scene'])\n",
    "red_on_A['allocation_metric'] = red_on_A['allocation_metric'] / 4\n",
    "red_on_A.head()"
   ]
  },
  {
   "cell_type": "code",
   "execution_count": 22,
   "metadata": {},
   "outputs": [
    {
     "data": {
      "text/html": [
       "<div>\n",
       "<style scoped>\n",
       "    .dataframe tbody tr th:only-of-type {\n",
       "        vertical-align: middle;\n",
       "    }\n",
       "\n",
       "    .dataframe tbody tr th {\n",
       "        vertical-align: top;\n",
       "    }\n",
       "\n",
       "    .dataframe thead th {\n",
       "        text-align: right;\n",
       "    }\n",
       "</style>\n",
       "<table border=\"1\" class=\"dataframe\">\n",
       "  <thead>\n",
       "    <tr style=\"text-align: right;\">\n",
       "      <th></th>\n",
       "      <th>robot_a</th>\n",
       "      <th>robot_b</th>\n",
       "      <th>allocation_metric</th>\n",
       "    </tr>\n",
       "    <tr>\n",
       "      <th>participant</th>\n",
       "      <th></th>\n",
       "      <th></th>\n",
       "      <th></th>\n",
       "    </tr>\n",
       "  </thead>\n",
       "  <tbody>\n",
       "    <tr>\n",
       "      <th>27</th>\n",
       "      <td>10</td>\n",
       "      <td>13</td>\n",
       "      <td>0.285714</td>\n",
       "    </tr>\n",
       "    <tr>\n",
       "      <th>28</th>\n",
       "      <td>1</td>\n",
       "      <td>8</td>\n",
       "      <td>0.833333</td>\n",
       "    </tr>\n",
       "    <tr>\n",
       "      <th>29</th>\n",
       "      <td>10</td>\n",
       "      <td>8</td>\n",
       "      <td>0.035714</td>\n",
       "    </tr>\n",
       "    <tr>\n",
       "      <th>30</th>\n",
       "      <td>14</td>\n",
       "      <td>8</td>\n",
       "      <td>-0.289286</td>\n",
       "    </tr>\n",
       "    <tr>\n",
       "      <th>31</th>\n",
       "      <td>8</td>\n",
       "      <td>9</td>\n",
       "      <td>0.175000</td>\n",
       "    </tr>\n",
       "  </tbody>\n",
       "</table>\n",
       "</div>"
      ],
      "text/plain": [
       "             robot_a  robot_b  allocation_metric\n",
       "participant                                     \n",
       "27                10       13           0.285714\n",
       "28                 1        8           0.833333\n",
       "29                10        8           0.035714\n",
       "30                14        8          -0.289286\n",
       "31                 8        9           0.175000"
      ]
     },
     "execution_count": 22,
     "metadata": {},
     "output_type": "execute_result"
    }
   ],
   "source": [
    "red_on_B = group_data(red_on_B,['participant'])\n",
    "red_on_B = drop_colums(red_on_B, ['scene'])\n",
    "red_on_B['allocation_metric'] = red_on_B['allocation_metric'] / 4\n",
    "red_on_B.head()"
   ]
  },
  {
   "cell_type": "code",
   "execution_count": 23,
   "metadata": {},
   "outputs": [],
   "source": [
    "ranksum_colum = 'allocation_metric'"
   ]
  },
  {
   "cell_type": "code",
   "execution_count": 24,
   "metadata": {},
   "outputs": [
    {
     "name": "stdout",
     "output_type": "stream",
     "text": [
      "RanksumsResult(statistic=0.2536062093531868, pvalue=0.7997997990683477)\n",
      "RanksumsResult(statistic=1.1577674774819398, pvalue=0.2469589387524037)\n",
      "RanksumsResult(statistic=-1.8744806778279024, pvalue=0.06086420279872926)\n",
      "RanksumsResult(statistic=-0.39694884942237935, pvalue=0.6914051805172459)\n",
      "RanksumsResult(statistic=-0.5843969172051696, pvalue=0.5589533003510939)\n"
     ]
    }
   ],
   "source": [
    "print(wilcoxon_ranksum_test(red_on_A_s1, red_on_B_s1, ranksum_colum))\n",
    "print(wilcoxon_ranksum_test(red_on_A_s2, red_on_B_s2, ranksum_colum))\n",
    "print(wilcoxon_ranksum_test(red_on_A_s3, red_on_B_s3, ranksum_colum))\n",
    "print(wilcoxon_ranksum_test(red_on_A_s4, red_on_B_s4, ranksum_colum))\n",
    "print(wilcoxon_ranksum_test(red_on_A, red_on_B, ranksum_colum))"
   ]
  },
  {
   "cell_type": "code",
   "execution_count": 25,
   "metadata": {},
   "outputs": [],
   "source": [
    "temp = raw_data.copy()"
   ]
  },
  {
   "cell_type": "code",
   "execution_count": 26,
   "metadata": {},
   "outputs": [],
   "source": [
    "raw_data['Allocation_A']=raw_data['robot_a'] / (raw_data['robot_a'] + raw_data['robot_b'])\n",
    "raw_data['Allocation_B']=raw_data['robot_b'] / (raw_data['robot_a'] + raw_data['robot_b'])"
   ]
  },
  {
   "cell_type": "code",
   "execution_count": 27,
   "metadata": {},
   "outputs": [],
   "source": [
    "even, odd = separate_NVC_nonNVC(raw_data)"
   ]
  },
  {
   "cell_type": "code",
   "execution_count": 28,
   "metadata": {},
   "outputs": [],
   "source": [
    "e_s1, e_s2, e_s3, e_s4 = separate_data_scene_wise(even)\n",
    "o_s1, o_s2, o_s3, o_s4 = separate_data_scene_wise(odd)"
   ]
  },
  {
   "cell_type": "code",
   "execution_count": 29,
   "metadata": {},
   "outputs": [
    {
     "name": "stdout",
     "output_type": "stream",
     "text": [
      "RanksumsResult(statistic=-1.6476885412171023, pvalue=0.09941660064420932)\n",
      "RanksumsResult(statistic=0.3624914790677625, pvalue=0.7169847899212756)\n",
      "RanksumsResult(statistic=1.0435360761041648, pvalue=0.2967000813888422)\n",
      "RanksumsResult(statistic=0.6371062359372796, pvalue=0.5240556469270492)\n"
     ]
    }
   ],
   "source": [
    "print(wilcoxon_ranksum_test(e_s1, o_s1, ranksum_colum))\n",
    "print(wilcoxon_ranksum_test(e_s2, o_s2, ranksum_colum))\n",
    "print(wilcoxon_ranksum_test(e_s3, o_s3, ranksum_colum))\n",
    "print(wilcoxon_ranksum_test(e_s4, o_s4, ranksum_colum))"
   ]
  },
  {
   "cell_type": "code",
   "execution_count": 30,
   "metadata": {},
   "outputs": [
    {
     "name": "stdout",
     "output_type": "stream",
     "text": [
      "RanksumsResult(statistic=1.142397388577191, pvalue=0.25328887626228)\n",
      "RanksumsResult(statistic=-0.19772262494605228, pvalue=0.8432620870195109)\n",
      "RanksumsResult(statistic=-1.7026114925910056, pvalue=0.0886407979122168)\n",
      "RanksumsResult(statistic=-0.27461475686951703, pvalue=0.7836122277349931)\n"
     ]
    }
   ],
   "source": [
    "print(wilcoxon_ranksum_test(e_s1, o_s1, 'robot_a'))\n",
    "print(wilcoxon_ranksum_test(e_s2, o_s2, 'robot_a'))\n",
    "print(wilcoxon_ranksum_test(e_s3, o_s3, 'robot_a'))\n",
    "print(wilcoxon_ranksum_test(e_s4, o_s4, 'robot_a'))"
   ]
  },
  {
   "cell_type": "code",
   "execution_count": 31,
   "metadata": {},
   "outputs": [
    {
     "name": "stdout",
     "output_type": "stream",
     "text": [
      "RanksumsResult(statistic=-1.8893495272622773, pvalue=0.05884500921534248)\n",
      "RanksumsResult(statistic=0.8567980414328932, pvalue=0.39155650830559197)\n",
      "RanksumsResult(statistic=0.45036820126600796, pvalue=0.6524449696074472)\n",
      "RanksumsResult(statistic=0.5052911526399113, pvalue=0.6133543559547467)\n"
     ]
    }
   ],
   "source": [
    "print(wilcoxon_ranksum_test(e_s1, o_s1, 'robot_b'))\n",
    "print(wilcoxon_ranksum_test(e_s2, o_s2, 'robot_b'))\n",
    "print(wilcoxon_ranksum_test(e_s3, o_s3, 'robot_b'))\n",
    "print(wilcoxon_ranksum_test(e_s4, o_s4, 'robot_b'))"
   ]
  },
  {
   "cell_type": "code",
   "execution_count": null,
   "metadata": {},
   "outputs": [],
   "source": []
  },
  {
   "cell_type": "code",
   "execution_count": 32,
   "metadata": {},
   "outputs": [
    {
     "name": "stdout",
     "output_type": "stream",
     "text": [
      "RanksumsResult(statistic=2.240856416055259, pvalue=0.025035377189050925)\n",
      "RanksumsResult(statistic=-0.3624914790677625, pvalue=0.7169847899212756)\n",
      "RanksumsResult(statistic=-0.7689213192346477, pvalue=0.44194002047903236)\n",
      "RanksumsResult(statistic=-0.6371062359372796, pvalue=0.5240556469270492)\n"
     ]
    }
   ],
   "source": [
    "print(wilcoxon_ranksum_test(e_s1, o_s1, 'Allocation_A'))\n",
    "print(wilcoxon_ranksum_test(e_s2, o_s2, 'Allocation_A'))\n",
    "print(wilcoxon_ranksum_test(e_s3, o_s3, 'Allocation_A'))\n",
    "print(wilcoxon_ranksum_test(e_s4, o_s4, 'Allocation_A'))"
   ]
  },
  {
   "cell_type": "code",
   "execution_count": 33,
   "metadata": {},
   "outputs": [
    {
     "name": "stdout",
     "output_type": "stream",
     "text": [
      "RanksumsResult(statistic=-0.724982958135525, pvalue=0.4684624853723316)\n",
      "RanksumsResult(statistic=0.3624914790677625, pvalue=0.7169847899212756)\n",
      "RanksumsResult(statistic=1.274212471874559, pvalue=0.2025881263524114)\n",
      "RanksumsResult(statistic=0.6371062359372796, pvalue=0.5240556469270492)\n"
     ]
    }
   ],
   "source": [
    "print(wilcoxon_ranksum_test(e_s1, o_s1, 'Allocation_B'))\n",
    "print(wilcoxon_ranksum_test(e_s2, o_s2, 'Allocation_B'))\n",
    "print(wilcoxon_ranksum_test(e_s3, o_s3, 'Allocation_B'))\n",
    "print(wilcoxon_ranksum_test(e_s4, o_s4, 'Allocation_B'))"
   ]
  },
  {
   "cell_type": "code",
   "execution_count": 34,
   "metadata": {},
   "outputs": [
    {
     "data": {
      "text/plain": [
       "(23, 10)"
      ]
     },
     "execution_count": 34,
     "metadata": {},
     "output_type": "execute_result"
    }
   ],
   "source": [
    "e_s1.shape"
   ]
  },
  {
   "cell_type": "code",
   "execution_count": 35,
   "metadata": {},
   "outputs": [
    {
     "data": {
      "text/plain": [
       "(23, 10)"
      ]
     },
     "execution_count": 35,
     "metadata": {},
     "output_type": "execute_result"
    }
   ],
   "source": [
    "o_s1.shape"
   ]
  },
  {
   "cell_type": "code",
   "execution_count": 36,
   "metadata": {},
   "outputs": [
    {
     "name": "stdout",
     "output_type": "stream",
     "text": [
      "WilcoxonResult(statistic=56.5, pvalue=0.023023481590786755)\n",
      "WilcoxonResult(statistic=103.0, pvalue=0.6635649975915765)\n",
      "WilcoxonResult(statistic=87.0, pvalue=0.19940842244290524)\n",
      "WilcoxonResult(statistic=74.0, pvalue=0.3974890888319972)\n"
     ]
    },
    {
     "name": "stderr",
     "output_type": "stream",
     "text": [
      "/home/kavish/.local/lib/python3.6/site-packages/scipy/stats/morestats.py:2866: RuntimeWarning: invalid value encountered in greater\n",
      "  r_plus = np.sum((d > 0) * r, axis=0)\n",
      "/home/kavish/.local/lib/python3.6/site-packages/scipy/stats/morestats.py:2867: RuntimeWarning: invalid value encountered in less\n",
      "  r_minus = np.sum((d < 0) * r, axis=0)\n"
     ]
    }
   ],
   "source": [
    "print(stats.wilcoxon(e_s1['Allocation_A'], o_s1['Allocation_A']))\n",
    "print(stats.wilcoxon(e_s2['Allocation_A'], o_s2['Allocation_A']))\n",
    "print(stats.wilcoxon(e_s3['Allocation_A'], o_s3['Allocation_A']))\n",
    "print(stats.wilcoxon(e_s4['Allocation_A'], o_s4['Allocation_A']))"
   ]
  },
  {
   "cell_type": "code",
   "execution_count": 37,
   "metadata": {},
   "outputs": [
    {
     "name": "stdout",
     "output_type": "stream",
     "text": [
      "WilcoxonResult(statistic=56.5, pvalue=0.023023481590786755)\n",
      "WilcoxonResult(statistic=104.0, pvalue=0.6890116137708988)\n",
      "WilcoxonResult(statistic=85.5, pvalue=0.18287024427577703)\n",
      "WilcoxonResult(statistic=74.0, pvalue=0.3974890888319972)\n"
     ]
    }
   ],
   "source": [
    "print(stats.wilcoxon(o_s1['Allocation_B'], e_s1['Allocation_B']))\n",
    "print(stats.wilcoxon(o_s2['Allocation_B'], e_s2['Allocation_B']))\n",
    "print(stats.wilcoxon(o_s3['Allocation_B'], e_s3['Allocation_B']))\n",
    "print(stats.wilcoxon(o_s4['Allocation_B'], e_s4['Allocation_B']))"
   ]
  },
  {
   "cell_type": "code",
   "execution_count": 138,
   "metadata": {},
   "outputs": [],
   "source": [
    "scene_1 = raw_data[raw_data[\"scene\"]==1]\n",
    "preferring_b = scene_1[scene_1[\"allocation_metric\"] > 0]\n",
    "non_preference = scene_1[scene_1[\"allocation_metric\"] == 0]\n",
    "preferring_a = scene_1[scene_1[\"allocation_metric\"] < 0]"
   ]
  },
  {
   "cell_type": "code",
   "execution_count": 143,
   "metadata": {},
   "outputs": [],
   "source": [
    "preferring_b_even, preferring_b_odd = separate_NVC_nonNVC(preferring_b)\n",
    "preferring_a_even, preferring_a_odd = separate_NVC_nonNVC(preferring_a)"
   ]
  },
  {
   "cell_type": "code",
   "execution_count": 145,
   "metadata": {},
   "outputs": [
    {
     "data": {
      "text/plain": [
       "((6, 10), (12, 10))"
      ]
     },
     "execution_count": 145,
     "metadata": {},
     "output_type": "execute_result"
    }
   ],
   "source": [
    "preferring_b_even.shape, preferring_b_odd.shape"
   ]
  },
  {
   "cell_type": "markdown",
   "metadata": {},
   "source": [
    "# get participants who gave more than half of their cubes in total"
   ]
  },
  {
   "cell_type": "code",
   "execution_count": 118,
   "metadata": {},
   "outputs": [],
   "source": [
    "def allocation_more_than_half(data):\n",
    "    p_more_half = data[data[\"scene\"]>=1]\n",
    "    p_more_half[\"total_cubes\"] = data['robot_a'] + data['robot_b']\n",
    "    p_more_half = p_more_half.groupby('participant').sum()\n",
    "    p_more_half = drop_colums(p_more_half, \"scene\")\n",
    "    p_more_half = p_more_half[p_more_half['total_cubes'] > 14]  \n",
    "    p_more_half = drop_colums(p_more_half, ['NVC_A','NVC_B', 'Allocation_A', 'Allocation_B'])\n",
    "    p_more_half['allocation_metric'] = p_more_half['allocation_metric']/4\n",
    "    return p_more_half"
   ]
  },
  {
   "cell_type": "code",
   "execution_count": 119,
   "metadata": {},
   "outputs": [],
   "source": [
    "x,y = separate_NVC_nonNVC(raw_data)\n",
    "x = allocation_more_than_half(x)\n",
    "y = allocation_more_than_half(y)"
   ]
  },
  {
   "cell_type": "code",
   "execution_count": 120,
   "metadata": {},
   "outputs": [
    {
     "data": {
      "text/html": [
       "<div>\n",
       "<style scoped>\n",
       "    .dataframe tbody tr th:only-of-type {\n",
       "        vertical-align: middle;\n",
       "    }\n",
       "\n",
       "    .dataframe tbody tr th {\n",
       "        vertical-align: top;\n",
       "    }\n",
       "\n",
       "    .dataframe thead th {\n",
       "        text-align: right;\n",
       "    }\n",
       "</style>\n",
       "<table border=\"1\" class=\"dataframe\">\n",
       "  <thead>\n",
       "    <tr style=\"text-align: right;\">\n",
       "      <th></th>\n",
       "      <th>robot_a</th>\n",
       "      <th>robot_b</th>\n",
       "      <th>allocation_metric</th>\n",
       "      <th>total_cubes</th>\n",
       "    </tr>\n",
       "    <tr>\n",
       "      <th>participant</th>\n",
       "      <th></th>\n",
       "      <th></th>\n",
       "      <th></th>\n",
       "      <th></th>\n",
       "    </tr>\n",
       "  </thead>\n",
       "  <tbody>\n",
       "    <tr>\n",
       "      <th>2</th>\n",
       "      <td>8</td>\n",
       "      <td>8</td>\n",
       "      <td>0.083333</td>\n",
       "      <td>16</td>\n",
       "    </tr>\n",
       "    <tr>\n",
       "      <th>6</th>\n",
       "      <td>1</td>\n",
       "      <td>17</td>\n",
       "      <td>0.625000</td>\n",
       "      <td>18</td>\n",
       "    </tr>\n",
       "    <tr>\n",
       "      <th>8</th>\n",
       "      <td>10</td>\n",
       "      <td>12</td>\n",
       "      <td>-0.050000</td>\n",
       "      <td>22</td>\n",
       "    </tr>\n",
       "    <tr>\n",
       "      <th>10</th>\n",
       "      <td>8</td>\n",
       "      <td>15</td>\n",
       "      <td>0.250000</td>\n",
       "      <td>23</td>\n",
       "    </tr>\n",
       "    <tr>\n",
       "      <th>16</th>\n",
       "      <td>13</td>\n",
       "      <td>13</td>\n",
       "      <td>-0.011905</td>\n",
       "      <td>26</td>\n",
       "    </tr>\n",
       "    <tr>\n",
       "      <th>20</th>\n",
       "      <td>10</td>\n",
       "      <td>12</td>\n",
       "      <td>0.100000</td>\n",
       "      <td>22</td>\n",
       "    </tr>\n",
       "    <tr>\n",
       "      <th>22</th>\n",
       "      <td>7</td>\n",
       "      <td>21</td>\n",
       "      <td>0.500000</td>\n",
       "      <td>28</td>\n",
       "    </tr>\n",
       "    <tr>\n",
       "      <th>24</th>\n",
       "      <td>13</td>\n",
       "      <td>7</td>\n",
       "      <td>-0.250000</td>\n",
       "      <td>20</td>\n",
       "    </tr>\n",
       "    <tr>\n",
       "      <th>30</th>\n",
       "      <td>14</td>\n",
       "      <td>8</td>\n",
       "      <td>-0.289286</td>\n",
       "      <td>22</td>\n",
       "    </tr>\n",
       "    <tr>\n",
       "      <th>32</th>\n",
       "      <td>7</td>\n",
       "      <td>13</td>\n",
       "      <td>0.119048</td>\n",
       "      <td>20</td>\n",
       "    </tr>\n",
       "    <tr>\n",
       "      <th>34</th>\n",
       "      <td>6</td>\n",
       "      <td>9</td>\n",
       "      <td>0.208333</td>\n",
       "      <td>15</td>\n",
       "    </tr>\n",
       "    <tr>\n",
       "      <th>36</th>\n",
       "      <td>12</td>\n",
       "      <td>9</td>\n",
       "      <td>-0.175000</td>\n",
       "      <td>21</td>\n",
       "    </tr>\n",
       "    <tr>\n",
       "      <th>38</th>\n",
       "      <td>11</td>\n",
       "      <td>12</td>\n",
       "      <td>0.035714</td>\n",
       "      <td>23</td>\n",
       "    </tr>\n",
       "    <tr>\n",
       "      <th>40</th>\n",
       "      <td>10</td>\n",
       "      <td>13</td>\n",
       "      <td>0.121429</td>\n",
       "      <td>23</td>\n",
       "    </tr>\n",
       "    <tr>\n",
       "      <th>42</th>\n",
       "      <td>17</td>\n",
       "      <td>11</td>\n",
       "      <td>-0.214286</td>\n",
       "      <td>28</td>\n",
       "    </tr>\n",
       "    <tr>\n",
       "      <th>44</th>\n",
       "      <td>14</td>\n",
       "      <td>14</td>\n",
       "      <td>0.000000</td>\n",
       "      <td>28</td>\n",
       "    </tr>\n",
       "    <tr>\n",
       "      <th>46</th>\n",
       "      <td>9</td>\n",
       "      <td>7</td>\n",
       "      <td>-0.166667</td>\n",
       "      <td>16</td>\n",
       "    </tr>\n",
       "    <tr>\n",
       "      <th>48</th>\n",
       "      <td>9</td>\n",
       "      <td>14</td>\n",
       "      <td>0.226190</td>\n",
       "      <td>23</td>\n",
       "    </tr>\n",
       "    <tr>\n",
       "      <th>50</th>\n",
       "      <td>11</td>\n",
       "      <td>15</td>\n",
       "      <td>0.214286</td>\n",
       "      <td>26</td>\n",
       "    </tr>\n",
       "    <tr>\n",
       "      <th>52</th>\n",
       "      <td>7</td>\n",
       "      <td>11</td>\n",
       "      <td>0.000000</td>\n",
       "      <td>18</td>\n",
       "    </tr>\n",
       "  </tbody>\n",
       "</table>\n",
       "</div>"
      ],
      "text/plain": [
       "             robot_a  robot_b  allocation_metric  total_cubes\n",
       "participant                                                  \n",
       "2                  8        8           0.083333           16\n",
       "6                  1       17           0.625000           18\n",
       "8                 10       12          -0.050000           22\n",
       "10                 8       15           0.250000           23\n",
       "16                13       13          -0.011905           26\n",
       "20                10       12           0.100000           22\n",
       "22                 7       21           0.500000           28\n",
       "24                13        7          -0.250000           20\n",
       "30                14        8          -0.289286           22\n",
       "32                 7       13           0.119048           20\n",
       "34                 6        9           0.208333           15\n",
       "36                12        9          -0.175000           21\n",
       "38                11       12           0.035714           23\n",
       "40                10       13           0.121429           23\n",
       "42                17       11          -0.214286           28\n",
       "44                14       14           0.000000           28\n",
       "46                 9        7          -0.166667           16\n",
       "48                 9       14           0.226190           23\n",
       "50                11       15           0.214286           26\n",
       "52                 7       11           0.000000           18"
      ]
     },
     "execution_count": 120,
     "metadata": {},
     "output_type": "execute_result"
    }
   ],
   "source": []
  },
  {
   "cell_type": "code",
   "execution_count": null,
   "metadata": {},
   "outputs": [],
   "source": []
  }
 ],
 "metadata": {
  "kernelspec": {
   "display_name": "Python 3",
   "language": "python",
   "name": "python3"
  },
  "language_info": {
   "codemirror_mode": {
    "name": "ipython",
    "version": 3
   },
   "file_extension": ".py",
   "mimetype": "text/x-python",
   "name": "python",
   "nbconvert_exporter": "python",
   "pygments_lexer": "ipython3",
   "version": "3.6.9"
  }
 },
 "nbformat": 4,
 "nbformat_minor": 2
}
