{
 "cells": [
  {
   "cell_type": "markdown",
   "metadata": {
    "colab_type": "text",
    "id": "_hy5YaKnZ1Jg"
   },
   "source": [
    "**Imports/Google Auth/G-Drive mounting**\n",
    "---"
   ]
  },
  {
   "cell_type": "code",
   "execution_count": 1,
   "metadata": {
    "colab": {},
    "colab_type": "code",
    "id": "dH4_CeIOov0b"
   },
   "outputs": [],
   "source": [
    "import pandas as pd\n",
    "import scipy.stats as stat\n",
    "import numpy as np\n",
    "import matplotlib.pyplot as plt\n",
    "import seaborn as sns\n",
    "import xml.etree.ElementTree as et\n",
    "import os\n",
    "import re\n",
    "from scipy import stats"
   ]
  },
  {
   "cell_type": "code",
   "execution_count": 2,
   "metadata": {
    "colab": {},
    "colab_type": "code",
    "id": "dGGhjc5doydg"
   },
   "outputs": [
    {
     "name": "stdout",
     "output_type": "stream",
     "text": [
      "\u001b[33mDEPRECATION: Python 2.7 reached the end of its life on January 1st, 2020. Please upgrade your Python as Python 2.7 is no longer maintained. A future version of pip will drop support for Python 2.7. More details about Python 2 support in pip, can be found at https://pip.pypa.io/en/latest/development/release-process/#python-2-support\u001b[0m\r\n"
     ]
    },
    {
     "ename": "ModuleNotFoundError",
     "evalue": "No module named 'google.colab'",
     "output_type": "error",
     "traceback": [
      "\u001b[0;31m---------------------------------------------------------------------------\u001b[0m",
      "\u001b[0;31mModuleNotFoundError\u001b[0m                       Traceback (most recent call last)",
      "\u001b[0;32m<ipython-input-2-aca118f58799>\u001b[0m in \u001b[0;36m<module>\u001b[0;34m\u001b[0m\n\u001b[1;32m      5\u001b[0m \u001b[0;32mfrom\u001b[0m \u001b[0mpydrive\u001b[0m\u001b[0;34m.\u001b[0m\u001b[0mauth\u001b[0m \u001b[0;32mimport\u001b[0m \u001b[0mGoogleAuth\u001b[0m\u001b[0;34m\u001b[0m\u001b[0;34m\u001b[0m\u001b[0m\n\u001b[1;32m      6\u001b[0m \u001b[0;32mfrom\u001b[0m \u001b[0mpydrive\u001b[0m\u001b[0;34m.\u001b[0m\u001b[0mdrive\u001b[0m \u001b[0;32mimport\u001b[0m \u001b[0mGoogleDrive\u001b[0m\u001b[0;34m\u001b[0m\u001b[0;34m\u001b[0m\u001b[0m\n\u001b[0;32m----> 7\u001b[0;31m \u001b[0;32mfrom\u001b[0m \u001b[0mgoogle\u001b[0m\u001b[0;34m.\u001b[0m\u001b[0mcolab\u001b[0m \u001b[0;32mimport\u001b[0m \u001b[0mauth\u001b[0m\u001b[0;34m\u001b[0m\u001b[0;34m\u001b[0m\u001b[0m\n\u001b[0m\u001b[1;32m      8\u001b[0m \u001b[0;32mfrom\u001b[0m \u001b[0moauth2client\u001b[0m\u001b[0;34m.\u001b[0m\u001b[0mclient\u001b[0m \u001b[0;32mimport\u001b[0m \u001b[0mGoogleCredentials\u001b[0m\u001b[0;34m\u001b[0m\u001b[0;34m\u001b[0m\u001b[0m\n\u001b[1;32m      9\u001b[0m \u001b[0;32mfrom\u001b[0m \u001b[0msklearn\u001b[0m\u001b[0;34m.\u001b[0m\u001b[0mpreprocessing\u001b[0m \u001b[0;32mimport\u001b[0m \u001b[0mStandardScaler\u001b[0m\u001b[0;34m\u001b[0m\u001b[0;34m\u001b[0m\u001b[0m\n",
      "\u001b[0;31mModuleNotFoundError\u001b[0m: No module named 'google.colab'"
     ]
    }
   ],
   "source": [
    "# Upload files from shared GDrive folder to Google Colab Workbook\n",
    "\n",
    "!pip install -U -q PyDrive\n",
    "\n",
    "from pydrive.auth import GoogleAuth\n",
    "from pydrive.drive import GoogleDrive\n",
    "from google.colab import auth\n",
    "from oauth2client.client import GoogleCredentials\n",
    "from sklearn.preprocessing import StandardScaler\n",
    "\n",
    "# 1. Authenticate and create the PyDrive client.\n",
    "auth.authenticate_user()\n",
    "gauth = GoogleAuth()\n",
    "gauth.credentials = GoogleCredentials.get_application_default()\n",
    "drive = GoogleDrive(gauth)\n",
    "\n",
    "# Reading Questionnaire file\n",
    "json_import = drive.CreateFile({'id':'1sbqLDqGTV9XjdA7UAFLzXscotaXIof6t'})\n",
    "json_import.GetContentFile('results-survey128918_26_02_almostevening.csv')\n",
    "df = pd.read_csv('results-survey128918_26_02_almostevening.csv')"
   ]
  },
  {
   "cell_type": "code",
   "execution_count": null,
   "metadata": {
    "colab": {
     "base_uri": "https://localhost:8080/",
     "height": 34
    },
    "colab_type": "code",
    "executionInfo": {
     "elapsed": 5574,
     "status": "ok",
     "timestamp": 1582900123056,
     "user": {
      "displayName": "Christoper Glenn Wulur",
      "photoUrl": "",
      "userId": "07715570917231166517"
     },
     "user_tz": -60
    },
    "id": "Gts2JghEVFU5",
    "outputId": "69eca979-dadf-4938-82e9-497b71a84abb"
   },
   "outputs": [],
   "source": [
    "from google.colab import drive\n",
    "drive.mount('/content/drive')"
   ]
  },
  {
   "cell_type": "markdown",
   "metadata": {
    "colab_type": "text",
    "id": "sxFRZYSqaNKw"
   },
   "source": [
    "**Reading Cube Allocation CSV for each participant**\n",
    "---"
   ]
  },
  {
   "cell_type": "code",
   "execution_count": null,
   "metadata": {
    "colab": {},
    "colab_type": "code",
    "id": "HjDc8nqdo0vK"
   },
   "outputs": [],
   "source": [
    "# Iterate over files and find csv files that have allocation of cubes for each participant\n",
    "dfs = []\n",
    "invalid_participant = [1,4,18]\n",
    "DATA_PATH='/content/drive/My Drive/Colab Notebooks/PHRIExpData/'\n",
    "\n",
    "for filename in os.listdir(DATA_PATH):\n",
    "    if filename.endswith(\".csv\"): \n",
    "        participant_id = int(re.search(r'\\d+', filename).group())\n",
    "        if participant_id not in invalid_participant:\n",
    "            temp = pd.read_csv(DATA_PATH + filename)\n",
    "            temp[\"scene\"] = temp[\"scene\"].str[-1:]\n",
    "            temp[\"scene\"] = temp[\"scene\"].astype('int')\n",
    "            temp[\"participant\"] = participant_id\n",
    "            nvc = \"B\"\n",
    "            if int(participant_id) % 2 == 0:\n",
    "                nvc = \"A\"\n",
    "        \n",
    "            temp[\"NVC\"] = nvc\n",
    "            dfs.append(temp)\n",
    "\n",
    "\n",
    "raw_data = pd.concat(dfs, axis=0, ignore_index=True)\n",
    "# Only from scene 1 to 4\n",
    "filtered_data = raw_data[raw_data[\"scene\"] > 0]"
   ]
  },
  {
   "cell_type": "code",
   "execution_count": null,
   "metadata": {
    "colab": {},
    "colab_type": "code",
    "id": "sdGg_MeTo-tD"
   },
   "outputs": [],
   "source": [
    " # Find the total amount of cubes that participants allocated\n",
    "cubes_per_participant = filtered_data.groupby(\"participant\").sum()\n",
    "cubes_per_participant = cubes_per_participant.drop(columns=['scene'])\n",
    "cubes_per_participant['total_cubes'] = cubes_per_participant['robot_a'] + cubes_per_participant['robot_b'] "
   ]
  },
  {
   "cell_type": "code",
   "execution_count": null,
   "metadata": {
    "colab": {
     "base_uri": "https://localhost:8080/",
     "height": 661
    },
    "colab_type": "code",
    "executionInfo": {
     "elapsed": 6259,
     "status": "ok",
     "timestamp": 1582900123951,
     "user": {
      "displayName": "Christoper Glenn Wulur",
      "photoUrl": "",
      "userId": "07715570917231166517"
     },
     "user_tz": -60
    },
    "id": "sDL_-hHvpVJR",
    "outputId": "241cc7db-63fc-4be6-ecc9-632590c7cbe8"
   },
   "outputs": [],
   "source": [
    "cubes_per_participant_plot_data = cubes_per_participant.drop(columns=['robot_a', 'robot_b'])\n",
    "cubes_per_participant_plot_data.plot(kind = 'bar', yticks=range(0, 30, 5), figsize=(25,10), title=\"The distribution of cubes of each participant. Only scenes 1, 2, 3 and 4\")"
   ]
  },
  {
   "cell_type": "markdown",
   "metadata": {
    "colab_type": "text",
    "id": "Y2zGFaSTNDoB"
   },
   "source": [
    "**Distribution of cubes for each robot (Scene 1-4)**\n",
    "---\n",
    "***Even Number Participants: Robot A with NVC else Robot B with NVC***"
   ]
  },
  {
   "cell_type": "code",
   "execution_count": null,
   "metadata": {
    "colab": {
     "base_uri": "https://localhost:8080/",
     "height": 661
    },
    "colab_type": "code",
    "executionInfo": {
     "elapsed": 6619,
     "status": "ok",
     "timestamp": 1582900124352,
     "user": {
      "displayName": "Christoper Glenn Wulur",
      "photoUrl": "",
      "userId": "07715570917231166517"
     },
     "user_tz": -60
    },
    "id": "WU8sgVLcMyUl",
    "outputId": "737a6045-86d9-4778-9d63-1255e4a2275a"
   },
   "outputs": [],
   "source": [
    "cubes_per_participant_plot_data = cubes_per_participant.drop(columns=['total_cubes'])\n",
    "cubes_per_participant_plot_data.plot(kind = 'bar', figsize=(25,10), title=\"The distribution of cubes for each robot. Only scenes 1, 2, 3 and 4\")"
   ]
  },
  {
   "cell_type": "markdown",
   "metadata": {
    "colab_type": "text",
    "id": "HJwy0mOfOaQP"
   },
   "source": [
    "**Distribution of cubes allocation for each scene**\n",
    "---"
   ]
  },
  {
   "cell_type": "code",
   "execution_count": null,
   "metadata": {
    "colab": {
     "base_uri": "https://localhost:8080/",
     "height": 623
    },
    "colab_type": "code",
    "executionInfo": {
     "elapsed": 8089,
     "status": "ok",
     "timestamp": 1582900125844,
     "user": {
      "displayName": "Christoper Glenn Wulur",
      "photoUrl": "",
      "userId": "07715570917231166517"
     },
     "user_tz": -60
    },
    "id": "i5dc83g8NPW6",
    "outputId": "f003da95-aa61-4bfb-cfe9-787e4a50a18f"
   },
   "outputs": [],
   "source": [
    "df_scene_1 = raw_data[(raw_data[\"scene\"] == 1)]\n",
    "df_scene_2 = raw_data[(raw_data[\"scene\"] == 2)]\n",
    "df_scene_3 = raw_data[(raw_data[\"scene\"] == 3)]\n",
    "df_scene_4 = raw_data[(raw_data[\"scene\"] == 4)]\n",
    "# df_scene_1[[\"robot_a\",\"robot_b\"]].hist(bins=5,alpha=0.3)\n",
    "\n",
    "fig, ax = plt.subplots(nrows=4, ncols=2, figsize=(10,10))\n",
    "\n",
    "ax[0][0].set_ylabel(\"scene_1\")\n",
    "ax[1][0].set_ylabel(\"scene_2\")\n",
    "ax[2][0].set_ylabel(\"scene_3\")\n",
    "ax[3][0].set_ylabel(\"scene_4\")\n",
    "sns.distplot(df_scene_1[\"robot_a\"], bins=5, ax=ax[0][0])\n",
    "sns.distplot(df_scene_1[\"robot_b\"], bins=5, ax=ax[0][1])\n",
    "sns.distplot(df_scene_2[\"robot_a\"], bins=5, ax=ax[1][0])\n",
    "sns.distplot(df_scene_2[\"robot_b\"], bins=5, ax=ax[1][1])\n",
    "sns.distplot(df_scene_3[\"robot_a\"], bins=5, ax=ax[2][0])\n",
    "sns.distplot(df_scene_3[\"robot_b\"], bins=5, ax=ax[2][1])\n",
    "sns.distplot(df_scene_4[\"robot_a\"], bins=5, ax=ax[3][0])\n",
    "sns.distplot(df_scene_4[\"robot_b\"], bins=5, ax=ax[3][1])"
   ]
  },
  {
   "cell_type": "markdown",
   "metadata": {
    "colab_type": "text",
    "id": "4kgXl64ZRV0f"
   },
   "source": [
    "# Cubes allocation distribution for each scene"
   ]
  },
  {
   "cell_type": "code",
   "execution_count": null,
   "metadata": {
    "colab": {
     "base_uri": "https://localhost:8080/",
     "height": 424
    },
    "colab_type": "code",
    "executionInfo": {
     "elapsed": 1122,
     "status": "ok",
     "timestamp": 1582901307331,
     "user": {
      "displayName": "Christoper Glenn Wulur",
      "photoUrl": "",
      "userId": "07715570917231166517"
     },
     "user_tz": -60
    },
    "id": "xdqqVsaXRKOf",
    "outputId": "92bbd4f4-d838-4ba5-895d-d6a1f6940db3"
   },
   "outputs": [],
   "source": [
    "scene = 1\n",
    "temp = raw_data[raw_data[\"scene\"] == scene]\n",
    "cubes_by_participant_scenes_1 = temp.groupby([\"participant\"]).sum()\n",
    "cubes_by_participant_scenes_1[[\"robot_a\",\"robot_b\"]].plot(kind = 'bar', yticks=range(0, 10, 2), figsize=(10,6), title=\"Cube allocation scene {}\".format(scene))"
   ]
  },
  {
   "cell_type": "code",
   "execution_count": null,
   "metadata": {
    "colab": {
     "base_uri": "https://localhost:8080/",
     "height": 424
    },
    "colab_type": "code",
    "executionInfo": {
     "elapsed": 754,
     "status": "ok",
     "timestamp": 1582901228666,
     "user": {
      "displayName": "Christoper Glenn Wulur",
      "photoUrl": "",
      "userId": "07715570917231166517"
     },
     "user_tz": -60
    },
    "id": "_BQT2NrbQ2Hl",
    "outputId": "f2045fb6-5599-4b08-abfd-8c633f0f828a"
   },
   "outputs": [],
   "source": [
    "scene = 2\n",
    "temp = raw_data[raw_data[\"scene\"] == scene]\n",
    "cubes_by_participant_scenes_1 = temp.groupby([\"participant\"]).sum()\n",
    "cubes_by_participant_scenes_1[[\"robot_a\",\"robot_b\"]].plot(kind = 'bar', yticks=range(0, 10, 2), figsize=(10,6), title=\"Cube allocation scene {}\".format(scene))"
   ]
  },
  {
   "cell_type": "code",
   "execution_count": null,
   "metadata": {
    "colab": {
     "base_uri": "https://localhost:8080/",
     "height": 424
    },
    "colab_type": "code",
    "executionInfo": {
     "elapsed": 1535,
     "status": "ok",
     "timestamp": 1582901304590,
     "user": {
      "displayName": "Christoper Glenn Wulur",
      "photoUrl": "",
      "userId": "07715570917231166517"
     },
     "user_tz": -60
    },
    "id": "TMaXOklqRN6e",
    "outputId": "8f1febad-e229-48cc-d2f0-839cd93a80af"
   },
   "outputs": [],
   "source": [
    "scene = 3\n",
    "temp = raw_data[raw_data[\"scene\"] == scene]\n",
    "cubes_by_participant_scenes_1 = temp.groupby([\"participant\"]).sum()\n",
    "cubes_by_participant_scenes_1[[\"robot_a\",\"robot_b\"]].plot(kind = 'bar', yticks=range(0, 10, 2), figsize=(10,6), title=\"Cube allocation scene {}\".format(scene))"
   ]
  },
  {
   "cell_type": "code",
   "execution_count": null,
   "metadata": {
    "colab": {
     "base_uri": "https://localhost:8080/",
     "height": 424
    },
    "colab_type": "code",
    "executionInfo": {
     "elapsed": 1054,
     "status": "ok",
     "timestamp": 1582901302683,
     "user": {
      "displayName": "Christoper Glenn Wulur",
      "photoUrl": "",
      "userId": "07715570917231166517"
     },
     "user_tz": -60
    },
    "id": "VRvVpbbcROF2",
    "outputId": "f426439e-9657-4119-9db9-c4f1c0416da7"
   },
   "outputs": [],
   "source": [
    "scene = 4\n",
    "temp = raw_data[raw_data[\"scene\"] == scene]\n",
    "cubes_by_participant_scenes_1 = temp.groupby([\"participant\"]).sum()\n",
    "cubes_by_participant_scenes_1[[\"robot_a\",\"robot_b\"]].plot(kind = 'bar', yticks=range(0, 10, 2), figsize=(10,6), title=\"Cube allocation scene {}\".format(scene))"
   ]
  },
  {
   "cell_type": "code",
   "execution_count": null,
   "metadata": {
    "colab": {},
    "colab_type": "code",
    "id": "k2V9kiUBRqMV"
   },
   "outputs": [],
   "source": []
  },
  {
   "cell_type": "markdown",
   "metadata": {
    "colab_type": "text",
    "id": "HY0sbFiHR717"
   },
   "source": [
    "**NVC Vs Non-NVC Influence Test**\n",
    "---"
   ]
  },
  {
   "cell_type": "markdown",
   "metadata": {
    "colab_type": "text",
    "id": "pC2KiTeuPdDs"
   },
   "source": [
    "*Normality test*\n",
    "---\n",
    "___"
   ]
  },
  {
   "cell_type": "code",
   "execution_count": null,
   "metadata": {
    "colab": {
     "base_uri": "https://localhost:8080/",
     "height": 34
    },
    "colab_type": "code",
    "executionInfo": {
     "elapsed": 972,
     "status": "ok",
     "timestamp": 1582900354448,
     "user": {
      "displayName": "Christoper Glenn Wulur",
      "photoUrl": "",
      "userId": "07715570917231166517"
     },
     "user_tz": -60
    },
    "id": "Ba2WmJhHPDkD",
    "outputId": "520ee554-21d4-48cf-9e22-360f6833dfd9"
   },
   "outputs": [],
   "source": [
    "res_a = stats.normaltest(df_scene_1[\"robot_a\"])\n",
    "res_b = stats.normaltest(df_scene_1[\"robot_b\"])\n",
    "\n",
    "\"normality test robot a: {} normality test robot b {}\".format(res_a.pvalue, res_b.pvalue)"
   ]
  },
  {
   "cell_type": "code",
   "execution_count": null,
   "metadata": {
    "colab": {
     "base_uri": "https://localhost:8080/",
     "height": 34
    },
    "colab_type": "code",
    "executionInfo": {
     "elapsed": 495,
     "status": "ok",
     "timestamp": 1582900355468,
     "user": {
      "displayName": "Christoper Glenn Wulur",
      "photoUrl": "",
      "userId": "07715570917231166517"
     },
     "user_tz": -60
    },
    "id": "Wj1St_PSP96A",
    "outputId": "6a9ad3e2-ed28-4716-f8d0-ffbc310076f3"
   },
   "outputs": [],
   "source": [
    "res_a = stats.normaltest(df_scene_2[\"robot_a\"])\n",
    "res_b = stats.normaltest(df_scene_2[\"robot_b\"])\n",
    "\n",
    "\"normality test robot a: {} normality test robot b {}\".format(res_a.pvalue, res_b.pvalue)"
   ]
  },
  {
   "cell_type": "code",
   "execution_count": null,
   "metadata": {
    "colab": {
     "base_uri": "https://localhost:8080/",
     "height": 34
    },
    "colab_type": "code",
    "executionInfo": {
     "elapsed": 1034,
     "status": "ok",
     "timestamp": 1582900357867,
     "user": {
      "displayName": "Christoper Glenn Wulur",
      "photoUrl": "",
      "userId": "07715570917231166517"
     },
     "user_tz": -60
    },
    "id": "TBWIJGCGP-rw",
    "outputId": "7a74bbf4-8850-408c-e610-9c5805590d90"
   },
   "outputs": [],
   "source": [
    "res_a = stats.normaltest(df_scene_3[\"robot_a\"])\n",
    "res_b = stats.normaltest(df_scene_3[\"robot_b\"])\n",
    "\n",
    "\"normality test robot a: {} normality test robot b {}\".format(res_a.pvalue, res_b.pvalue)"
   ]
  },
  {
   "cell_type": "code",
   "execution_count": null,
   "metadata": {
    "colab": {
     "base_uri": "https://localhost:8080/",
     "height": 34
    },
    "colab_type": "code",
    "executionInfo": {
     "elapsed": 698,
     "status": "ok",
     "timestamp": 1582900359905,
     "user": {
      "displayName": "Christoper Glenn Wulur",
      "photoUrl": "",
      "userId": "07715570917231166517"
     },
     "user_tz": -60
    },
    "id": "xk1EGe8MQDuS",
    "outputId": "d3a1388a-f19c-4293-a8c7-b350d01a2d01"
   },
   "outputs": [],
   "source": [
    "res_a = stats.normaltest(df_scene_4[\"robot_a\"])\n",
    "res_b = stats.normaltest(df_scene_4[\"robot_b\"])\n",
    "\n",
    "\"normality test robot a: {} normality test robot b {}\".format(res_a.pvalue, res_b.pvalue)"
   ]
  },
  {
   "cell_type": "markdown",
   "metadata": {
    "colab_type": "text",
    "id": "6_SZGz9XQNSE"
   },
   "source": [
    "*Wilcoxon Test*\n",
    "---\n",
    "___"
   ]
  },
  {
   "cell_type": "markdown",
   "metadata": {
    "colab_type": "text",
    "id": "B8gWcNt5QUsC"
   },
   "source": [
    "***h0: there is no different between robot A  and robot B***\n",
    "\n",
    "***h1: there is different***"
   ]
  },
  {
   "cell_type": "markdown",
   "metadata": {
    "colab_type": "text",
    "id": "aYUAL_81QkX9"
   },
   "source": [
    "*Scene 1*"
   ]
  },
  {
   "cell_type": "code",
   "execution_count": null,
   "metadata": {
    "colab": {
     "base_uri": "https://localhost:8080/",
     "height": 34
    },
    "colab_type": "code",
    "executionInfo": {
     "elapsed": 671,
     "status": "ok",
     "timestamp": 1582900481843,
     "user": {
      "displayName": "Christoper Glenn Wulur",
      "photoUrl": "",
      "userId": "07715570917231166517"
     },
     "user_tz": -60
    },
    "id": "F_u0gJBlQHNc",
    "outputId": "5bd4fcb1-38e9-4f51-c0f5-8e29b67aa35b"
   },
   "outputs": [],
   "source": [
    "stats.wilcoxon(df_scene_1[\"robot_a\"], df_scene_1[\"robot_b\"])"
   ]
  },
  {
   "cell_type": "markdown",
   "metadata": {
    "colab_type": "text",
    "id": "qJNVVkCzQpGM"
   },
   "source": [
    "*Scene 2*"
   ]
  },
  {
   "cell_type": "code",
   "execution_count": null,
   "metadata": {
    "colab": {
     "base_uri": "https://localhost:8080/",
     "height": 34
    },
    "colab_type": "code",
    "executionInfo": {
     "elapsed": 689,
     "status": "ok",
     "timestamp": 1582900484042,
     "user": {
      "displayName": "Christoper Glenn Wulur",
      "photoUrl": "",
      "userId": "07715570917231166517"
     },
     "user_tz": -60
    },
    "id": "bfMp5r4SQeFr",
    "outputId": "07043f63-7b07-4930-abd1-9de035ab8c2a"
   },
   "outputs": [],
   "source": [
    "stats.wilcoxon(df_scene_2[\"robot_a\"], df_scene_2[\"robot_b\"])"
   ]
  },
  {
   "cell_type": "markdown",
   "metadata": {
    "colab_type": "text",
    "id": "snk0g3A8N9GP"
   },
   "source": [
    "*Scene 3*"
   ]
  },
  {
   "cell_type": "code",
   "execution_count": null,
   "metadata": {
    "colab": {
     "base_uri": "https://localhost:8080/",
     "height": 34
    },
    "colab_type": "code",
    "executionInfo": {
     "elapsed": 543,
     "status": "ok",
     "timestamp": 1582900485714,
     "user": {
      "displayName": "Christoper Glenn Wulur",
      "photoUrl": "",
      "userId": "07715570917231166517"
     },
     "user_tz": -60
    },
    "id": "VR0cgTCzOD2O",
    "outputId": "b3e3543a-333a-4fc4-acf5-50479773f8ed"
   },
   "outputs": [],
   "source": [
    "stats.wilcoxon(df_scene_3[\"robot_a\"], df_scene_3[\"robot_b\"])"
   ]
  },
  {
   "cell_type": "markdown",
   "metadata": {
    "colab_type": "text",
    "id": "0zWXIIUvN9su"
   },
   "source": [
    "*Scene 4*"
   ]
  },
  {
   "cell_type": "code",
   "execution_count": null,
   "metadata": {
    "colab": {
     "base_uri": "https://localhost:8080/",
     "height": 34
    },
    "colab_type": "code",
    "executionInfo": {
     "elapsed": 654,
     "status": "ok",
     "timestamp": 1582900400031,
     "user": {
      "displayName": "Christoper Glenn Wulur",
      "photoUrl": "",
      "userId": "07715570917231166517"
     },
     "user_tz": -60
    },
    "id": "hkcpDw6YOEBm",
    "outputId": "32b0d226-3d28-4b29-aefd-84257e250b2f"
   },
   "outputs": [],
   "source": [
    "stats.wilcoxon(df_scene_4[\"robot_a\"], df_scene_4[\"robot_b\"])"
   ]
  },
  {
   "cell_type": "markdown",
   "metadata": {
    "colab_type": "text",
    "id": "bisPPOE8Q4Di"
   },
   "source": [
    "***Conclusion***\n",
    "\n",
    "pvalue scene 1,3,4 > 0.05, accept H0: no difference there is different A and B\n",
    "\n",
    "scene 2 < 0.05 reject H1: there is difference between robot A and B"
   ]
  },
  {
   "cell_type": "markdown",
   "metadata": {
    "colab_type": "text",
    "id": "RgM5ziqVRQ1A"
   },
   "source": [
    "*Pair t-test*\n",
    "---\n",
    "___"
   ]
  },
  {
   "cell_type": "markdown",
   "metadata": {
    "colab_type": "text",
    "id": "ZyKyka9IRnLw"
   },
   "source": [
    "*Scene 1*"
   ]
  },
  {
   "cell_type": "code",
   "execution_count": null,
   "metadata": {
    "colab": {
     "base_uri": "https://localhost:8080/",
     "height": 34
    },
    "colab_type": "code",
    "executionInfo": {
     "elapsed": 7876,
     "status": "ok",
     "timestamp": 1582900125851,
     "user": {
      "displayName": "Christoper Glenn Wulur",
      "photoUrl": "",
      "userId": "07715570917231166517"
     },
     "user_tz": -60
    },
    "id": "MVF-XdBlQhhK",
    "outputId": "a8d5aaf0-38e9-4d5f-f188-139d3cfa6dd4"
   },
   "outputs": [],
   "source": [
    "stat.ttest_rel(df_scene_1[\"robot_a\"], df_scene_1[\"robot_b\"])"
   ]
  },
  {
   "cell_type": "markdown",
   "metadata": {
    "colab_type": "text",
    "id": "lb7R4uGlRo95"
   },
   "source": [
    "*Scene 2*"
   ]
  },
  {
   "cell_type": "code",
   "execution_count": null,
   "metadata": {
    "colab": {
     "base_uri": "https://localhost:8080/",
     "height": 34
    },
    "colab_type": "code",
    "executionInfo": {
     "elapsed": 7849,
     "status": "ok",
     "timestamp": 1582900125851,
     "user": {
      "displayName": "Christoper Glenn Wulur",
      "photoUrl": "",
      "userId": "07715570917231166517"
     },
     "user_tz": -60
    },
    "id": "Gre8x2UsRegj",
    "outputId": "b5495615-33fe-4e35-cb17-fa9d0d49125b"
   },
   "outputs": [],
   "source": [
    " stat.ttest_rel(df_scene_2[\"robot_a\"], df_scene_2[\"robot_b\"])"
   ]
  },
  {
   "cell_type": "markdown",
   "metadata": {
    "colab_type": "text",
    "id": "DpKGvbQ3RvIE"
   },
   "source": [
    "***Conclusion***\n",
    "\n",
    "*Scene 1 p-value >= 0.05, **accept h0:** There is no different between NVC and no NVC in Scene 1*\n",
    "\n",
    "*Scene 2 p-value < 0.05, **accept h1:** There is different in Scene 2*"
   ]
  },
  {
   "cell_type": "markdown",
   "metadata": {
    "colab_type": "text",
    "id": "I7Req5D5OqoN"
   },
   "source": []
  },
  {
   "cell_type": "markdown",
   "metadata": {
    "colab_type": "text",
    "id": "Vg23h9PESh71"
   },
   "source": [
    "**Calculating the significance of allocated cubes as:**\n",
    "---\n",
    "*the number of allocated cubes to one robot divided by the sum of allocated cubes to both robots*"
   ]
  },
  {
   "cell_type": "code",
   "execution_count": null,
   "metadata": {
    "colab": {
     "base_uri": "https://localhost:8080/",
     "height": 204
    },
    "colab_type": "code",
    "executionInfo": {
     "elapsed": 7828,
     "status": "ok",
     "timestamp": 1582900125851,
     "user": {
      "displayName": "Christoper Glenn Wulur",
      "photoUrl": "",
      "userId": "07715570917231166517"
     },
     "user_tz": -60
    },
    "id": "bccSjId5RjG2",
    "outputId": "fe914a3e-8a16-44dd-ef05-b5574dd0f46a"
   },
   "outputs": [],
   "source": [
    "approach1 = filtered_data.copy()\n",
    "approach1[\"sum_cubes_a_and_b\"] = approach1[\"robot_a\"] + approach1[\"robot_b\"]\n",
    "approach1[\"significance_A\"] = approach1[\"robot_a\"] / approach1[\"sum_cubes_a_and_b\"]\n",
    "approach1[\"significance_B\"] = approach1[\"robot_b\"] / approach1[\"sum_cubes_a_and_b\"]\n",
    "approach1.head()"
   ]
  },
  {
   "cell_type": "markdown",
   "metadata": {
    "colab_type": "text",
    "id": "n57L-LscbTrq"
   },
   "source": [
    "*Significance of robots in each scene*\n",
    "---\n",
    "___"
   ]
  },
  {
   "cell_type": "code",
   "execution_count": null,
   "metadata": {
    "colab": {
     "base_uri": "https://localhost:8080/",
     "height": 204
    },
    "colab_type": "code",
    "executionInfo": {
     "elapsed": 7806,
     "status": "ok",
     "timestamp": 1582900125852,
     "user": {
      "displayName": "Christoper Glenn Wulur",
      "photoUrl": "",
      "userId": "07715570917231166517"
     },
     "user_tz": -60
    },
    "id": "vgwfoKcqSvkp",
    "outputId": "297b47d8-cc6b-45da-f55d-2600a6b81780"
   },
   "outputs": [],
   "source": [
    "approach1_plot_data = approach1.groupby(['scene']).mean()\n",
    "approach1_plot_data = approach1_plot_data.drop(columns=['robot_a', 'robot_b', 'participant', 'sum_cubes_a_and_b'])\n",
    "approach1_plot_data"
   ]
  },
  {
   "cell_type": "code",
   "execution_count": null,
   "metadata": {
    "colab": {
     "base_uri": "https://localhost:8080/",
     "height": 635
    },
    "colab_type": "code",
    "executionInfo": {
     "elapsed": 8059,
     "status": "ok",
     "timestamp": 1582900126140,
     "user": {
      "displayName": "Christoper Glenn Wulur",
      "photoUrl": "",
      "userId": "07715570917231166517"
     },
     "user_tz": -60
    },
    "id": "d7usTmM9S0Rt",
    "outputId": "d5d37754-0757-408e-d04c-678ca3c71f77"
   },
   "outputs": [],
   "source": [
    " approach1_plot_data.plot(kind='bar', figsize=(20,10), title='The significance of robots considering a scene')"
   ]
  },
  {
   "cell_type": "markdown",
   "metadata": {
    "colab_type": "text",
    "id": "_uq5lGaCcAcN"
   },
   "source": [
    "*Significance of robots with & without NVC in each scene*\n",
    "---\n",
    "___"
   ]
  },
  {
   "cell_type": "code",
   "execution_count": null,
   "metadata": {
    "colab": {
     "base_uri": "https://localhost:8080/",
     "height": 328
    },
    "colab_type": "code",
    "executionInfo": {
     "elapsed": 8047,
     "status": "ok",
     "timestamp": 1582900126141,
     "user": {
      "displayName": "Christoper Glenn Wulur",
      "photoUrl": "",
      "userId": "07715570917231166517"
     },
     "user_tz": -60
    },
    "id": "bY6EknNRS3xW",
    "outputId": "c430ce86-3a26-4d66-8ad1-329d5afb9acb"
   },
   "outputs": [],
   "source": [
    "approach1_plot_data = approach1.groupby(['scene', 'NVC']).mean()\n",
    "approach1_plot_data = approach1_plot_data.drop(columns=['robot_a', 'robot_b', 'participant', 'sum_cubes_a_and_b'])\n",
    "approach1_plot_data"
   ]
  },
  {
   "cell_type": "code",
   "execution_count": null,
   "metadata": {
    "colab": {
     "base_uri": "https://localhost:8080/",
     "height": 656
    },
    "colab_type": "code",
    "executionInfo": {
     "elapsed": 8733,
     "status": "ok",
     "timestamp": 1582900126840,
     "user": {
      "displayName": "Christoper Glenn Wulur",
      "photoUrl": "",
      "userId": "07715570917231166517"
     },
     "user_tz": -60
    },
    "id": "vCEV2pb0TOGJ",
    "outputId": "3ebdf22e-2b68-498b-d98c-1fb941c2767f"
   },
   "outputs": [],
   "source": [
    " approach1_plot_data.plot(kind='bar', figsize=(20,10), title='The significance of robots considering a scene and if a robot NVC or not')"
   ]
  },
  {
   "cell_type": "markdown",
   "metadata": {
    "colab_type": "text",
    "id": "zYTbpCqt9K1V"
   },
   "source": [
    "**Questtionnaire Evaluation**\n",
    "---"
   ]
  },
  {
   "cell_type": "markdown",
   "metadata": {
    "colab_type": "text",
    "id": "ilWwflIn-E4x"
   },
   "source": [
    "# Data Segments Preparation"
   ]
  },
  {
   "cell_type": "code",
   "execution_count": null,
   "metadata": {
    "colab": {},
    "colab_type": "code",
    "id": "o3JY0jipTSM-"
   },
   "outputs": [],
   "source": [
    "df = df.drop(columns=['Response ID', 'Date submitted', 'Last page', 'Start language'])\n",
    "basics = df.loc[ : , ['What is your sex?','How old are you?']]\n",
    "robot_interaction  = df.loc[ : , [\n",
    "                      'How familiar are you with computers?', \n",
    "                      'Have you ever interacted with a robot before? [Never]',\n",
    "                      'Have you ever interacted with a robot before? [In an entertainment setting (i.e. drones)]',\n",
    "                      'Have you ever interacted with a robot before? [In a commercial/utility setting (i.e. vacuums, industry)]',\n",
    "                      'Have you ever interacted with a robot before? [At work (i.e. robotics research)]',\n",
    "                      'Do you like robots?'\n",
    "                      ]\n",
    "                  ]\n",
    "tipi = df.loc[ : , [\n",
    "                      'Do you agree or disagree with the following statements? [Do you worry a lot?]',\n",
    "                      'Do you agree or disagree with the following statements? [Do you get nervous easily?]',\n",
    "                      'Do you agree or disagree with the following statements? [Do you remain calm in tense situations?]',\n",
    "                      'Do you agree or disagree with the following statements? [Are you talkative?]',\n",
    "                      'Do you agree or disagree with the following statements? [Are you outgoing, sociable?]',\n",
    "                      'Do you agree or disagree with the following statements? [Are you reserved?]',\n",
    "                      'Do you agree or disagree with the following statements? [Are you original? / Do you come up with new ideas?]',\n",
    "                      'Do you agree or disagree with the following statements? [Do you value artistic, aesthetic experiences?]',\n",
    "                      'Do you agree or disagree with the following statements? [Do you have an active imagination?]',\n",
    "                      'Do you agree or disagree with the following statements? [Are you sometimes rude to others?]',\n",
    "                      'Do you agree or disagree with the following statements? [Do you have a forgiving nature?]',\n",
    "                      'Do you agree or disagree with the following statements? [Are you considerate and kind to almost everyone?]',\n",
    "                      'Do you agree or disagree with the following statements? [Do you do a thorough job?]',\n",
    "                      'Do you agree or disagree with the following statements? [Do you tend to be lazy?]',\n",
    "                      'Do you agree or disagree with the following statements? [Do you do things efficiently?]',\n",
    "                      ]\n",
    "                ]\n",
    "risk_propensity = df.loc[ : , [\n",
    "                      'Do you agree or disagree with the following statements? [Safety first]', \n",
    "                      'Do you agree or disagree with the following statements? [I do not take risks with my health]',\n",
    "                      'Do you agree or disagree with the following statements? [I prefer to avoid risks]',\n",
    "                      'Do you agree or disagree with the following statements? [I take risks regularly]',\n",
    "                      'Do you agree or disagree with the following statements? [I really dislike not knowing what is going to happen]',\n",
    "                      ]\n",
    "                  ]\n",
    "trust_propensity = df.loc[ : , [\n",
    "                      'Do you agree or disagree with the following statements? [One should be very cautious with strangers.]',\n",
    "                      'Do you agree or disagree with the following statements? [Most experts tell the truth about the limits of their knowledge.]',\n",
    "                      'Do you agree or disagree with the following statements? [Most people can be counted on to do what they say they will do.]',\n",
    "                      'Do you agree or disagree with the following statements? [Most people answer public opinion polls honestly.]',\n",
    "                      ]\n",
    "                  ]\n",
    "# post questionaire\n",
    "godspeed = df.iloc[:,36:111]\n",
    "openQ = df.iloc[:,111:113]"
   ]
  },
  {
   "cell_type": "markdown",
   "metadata": {
    "colab_type": "text",
    "id": "u3TIleYC-MPX"
   },
   "source": [
    "# Data Preprocessing"
   ]
  },
  {
   "cell_type": "code",
   "execution_count": null,
   "metadata": {
    "colab": {
     "base_uri": "https://localhost:8080/"
    },
    "colab_type": "code",
    "executionInfo": {
     "elapsed": 8702,
     "status": "ok",
     "timestamp": 1582900126842,
     "user": {
      "displayName": "Christoper Glenn Wulur",
      "photoUrl": "",
      "userId": "07715570917231166517"
     },
     "user_tz": -60
    },
    "id": "BRWmKgZT9cS0",
    "outputId": "2b9ff070-6c20-4a66-c4aa-eebad16924b2"
   },
   "outputs": [],
   "source": [
    "# risk propensity\n",
    "# paper says 1-4 are inverted, but 1-3 and 5 makes more sense...\n",
    "inverted_keys = [\n",
    "                   \"Do you agree or disagree with the following statements? [Safety first]\",\n",
    "                   \"Do you agree or disagree with the following statements? [I do not take risks with my health]\",\n",
    "                   \"Do you agree or disagree with the following statements? [I prefer to avoid risks]\",\n",
    "                   \"Do you agree or disagree with the following statements? [I really dislike not knowing what is going to happen]\"\n",
    "]\n",
    "for key, values in risk_propensity.items():\n",
    "  print(key)\n",
    "  if key not in inverted_keys:\n",
    "    # normal scale\n",
    "    converted_values = [int(value[1:]) for value in values]\n",
    "  else:\n",
    "    # inverted scales\n",
    "    converted_values = [8-int(value[1:]) for value in values]\n",
    "  print(converted_values)\n",
    "  risk_propensity[key] = converted_values\n",
    "risk_propensity_scores = np.sum(risk_propensity.values, axis=1) / 5.0"
   ]
  },
  {
   "cell_type": "code",
   "execution_count": null,
   "metadata": {
    "colab": {
     "base_uri": "https://localhost:8080/"
    },
    "colab_type": "code",
    "executionInfo": {
     "elapsed": 8679,
     "status": "ok",
     "timestamp": 1582900126844,
     "user": {
      "displayName": "Christoper Glenn Wulur",
      "photoUrl": "",
      "userId": "07715570917231166517"
     },
     "user_tz": -60
    },
    "id": "K0drRTDg-U7i",
    "outputId": "c2e38233-e410-4941-d903-33e7fcb89299"
   },
   "outputs": [],
   "source": [
    "rps_mean = np.mean(risk_propensity_scores)\n",
    "rps_std = np.std(risk_propensity_scores)\n",
    "print(\"rps mean {} (scaled: {})\".format(rps_mean, rps_mean / 7.0 * 9.0,))\n",
    "print(\"rps std {} (scaled: {})\".format(rps_std, rps_std / 7.0 * 9.0,))"
   ]
  },
  {
   "cell_type": "code",
   "execution_count": null,
   "metadata": {
    "colab": {},
    "colab_type": "code",
    "id": "r39m5kaW-YGj"
   },
   "outputs": [],
   "source": [
    "tipi.replace(to_replace=\"A1\", value=1, inplace=True)\n",
    "tipi.replace(to_replace=\"A2\", value=2, inplace=True)\n",
    "tipi.replace(to_replace=\"A3\", value=3, inplace=True)\n",
    "tipi.replace(to_replace=\"A4\", value=4, inplace=True)\n",
    "tipi.replace(to_replace=\"A5\", value=5, inplace=True)\n",
    "tipi.replace(to_replace=\"A6\", value=6, inplace=True)\n",
    "tipi.replace(to_replace=\"A7\", value=7, inplace=True)\n",
    "\n",
    "trust_propensity.replace(to_replace=\"A1\", value=1, inplace=True)\n",
    "trust_propensity.replace(to_replace=\"A2\", value=2, inplace=True)\n",
    "trust_propensity.replace(to_replace=\"A3\", value=3, inplace=True)\n",
    "trust_propensity.replace(to_replace=\"A4\", value=4, inplace=True)\n",
    "trust_propensity.replace(to_replace=\"A5\", value=5, inplace=True)"
   ]
  },
  {
   "cell_type": "markdown",
   "metadata": {
    "colab_type": "text",
    "id": "raabA_da-lPa"
   },
   "source": [
    "# Descriptions of data"
   ]
  },
  {
   "cell_type": "code",
   "execution_count": null,
   "metadata": {
    "colab": {
     "base_uri": "https://localhost:8080/",
     "height": 759
    },
    "colab_type": "code",
    "executionInfo": {
     "elapsed": 9179,
     "status": "ok",
     "timestamp": 1582900127375,
     "user": {
      "displayName": "Christoper Glenn Wulur",
      "photoUrl": "",
      "userId": "07715570917231166517"
     },
     "user_tz": -60
    },
    "id": "mPfkmJp--fAb",
    "outputId": "f83195ae-1761-40e8-deb3-9332c80f6131"
   },
   "outputs": [],
   "source": [
    "print('Age mean: ', np.mean(basics['How old are you?']))\n",
    "basics['What is your sex?'].replace('A1','F',True)\n",
    "basics['What is your sex?'].replace('A2','M',True)\n",
    "basics['What is your sex?'].replace('A3','I',True)\n",
    "basics['What is your sex?'].replace('A4','N',True)\n",
    "fig, ax = plt.subplots(nrows=1,ncols=2, figsize=(15,5))\n",
    "basics['What is your sex?'].value_counts().plot(ax=ax[0],kind='bar', title=\"Sex Frequency\")\n",
    "basics['How old are you?'].value_counts().plot(ax=ax[1],kind='bar', title=\"Age Freq\")\n",
    "plt.show()\n",
    "basics"
   ]
  },
  {
   "cell_type": "code",
   "execution_count": null,
   "metadata": {
    "colab": {
     "base_uri": "https://localhost:8080/",
     "height": 472
    },
    "colab_type": "code",
    "executionInfo": {
     "elapsed": 9174,
     "status": "ok",
     "timestamp": 1582900127389,
     "user": {
      "displayName": "Christoper Glenn Wulur",
      "photoUrl": "",
      "userId": "07715570917231166517"
     },
     "user_tz": -60
    },
    "id": "bZ6UCehB-ryE",
    "outputId": "2dfd2191-914b-4697-c784-0486799c67f5"
   },
   "outputs": [],
   "source": [
    "robot_interaction"
   ]
  },
  {
   "cell_type": "code",
   "execution_count": null,
   "metadata": {
    "colab": {
     "base_uri": "https://localhost:8080/",
     "height": 533
    },
    "colab_type": "code",
    "executionInfo": {
     "elapsed": 9513,
     "status": "ok",
     "timestamp": 1582900127744,
     "user": {
      "displayName": "Christoper Glenn Wulur",
      "photoUrl": "",
      "userId": "07715570917231166517"
     },
     "user_tz": -60
    },
    "id": "E_lRTnNM_M4N",
    "outputId": "430be033-1516-40a4-e354-f792fed2aa00"
   },
   "outputs": [],
   "source": [
    "godspeed.describe()"
   ]
  },
  {
   "cell_type": "code",
   "execution_count": null,
   "metadata": {
    "colab": {
     "base_uri": "https://localhost:8080/",
     "height": 472
    },
    "colab_type": "code",
    "executionInfo": {
     "elapsed": 9498,
     "status": "ok",
     "timestamp": 1582900127746,
     "user": {
      "displayName": "Christoper Glenn Wulur",
      "photoUrl": "",
      "userId": "07715570917231166517"
     },
     "user_tz": -60
    },
    "id": "dP4ShNJq_QYp",
    "outputId": "94c0d991-cf9e-41ee-d85a-ee9feecb97c8"
   },
   "outputs": [],
   "source": [
    "risk_propensity"
   ]
  },
  {
   "cell_type": "code",
   "execution_count": null,
   "metadata": {
    "colab": {
     "base_uri": "https://localhost:8080/",
     "height": 606
    },
    "colab_type": "code",
    "executionInfo": {
     "elapsed": 9816,
     "status": "ok",
     "timestamp": 1582900128080,
     "user": {
      "displayName": "Christoper Glenn Wulur",
      "photoUrl": "",
      "userId": "07715570917231166517"
     },
     "user_tz": -60
    },
    "id": "zKzE7JOA_Udx",
    "outputId": "068cc4d9-865b-4840-8313-a8ce02ceddac"
   },
   "outputs": [],
   "source": [
    "plt.figure(figsize=(15,10))\n",
    "sns.boxenplot(df[\"How familiar are you with computers?\"], df[\"How old are you?\"] , hue=df[\"What is your sex?\"], palette=\"Set3\")\n",
    "plt.show()"
   ]
  },
  {
   "cell_type": "code",
   "execution_count": null,
   "metadata": {
    "colab": {
     "base_uri": "https://localhost:8080/",
     "height": 489
    },
    "colab_type": "code",
    "executionInfo": {
     "elapsed": 9796,
     "status": "ok",
     "timestamp": 1582900128083,
     "user": {
      "displayName": "Christoper Glenn Wulur",
      "photoUrl": "",
      "userId": "07715570917231166517"
     },
     "user_tz": -60
    },
    "id": "auodGRH0_Zuv",
    "outputId": "2780148e-c281-4b92-900c-bf3d54b8ea3e"
   },
   "outputs": [],
   "source": [
    "robot_interaction['fam_binary'] = 1\n",
    "robot_interaction.loc[robot_interaction['Have you ever interacted with a robot before? [Never]'] == 'Yes', 'fam_binary'] = 0\n",
    "robot_interaction"
   ]
  },
  {
   "cell_type": "code",
   "execution_count": null,
   "metadata": {
    "colab": {
     "base_uri": "https://localhost:8080/",
     "height": 369
    },
    "colab_type": "code",
    "executionInfo": {
     "elapsed": 10599,
     "status": "ok",
     "timestamp": 1582900128899,
     "user": {
      "displayName": "Christoper Glenn Wulur",
      "photoUrl": "",
      "userId": "07715570917231166517"
     },
     "user_tz": -60
    },
    "id": "jocpDEgI_f0r",
    "outputId": "cb43c21b-eff2-415c-cae7-467a64fadf29"
   },
   "outputs": [],
   "source": [
    "sns.catplot(x='Do you like robots?', y= \"fam_binary\", hue='How familiar are you with computers?', data=robot_interaction, palette=\"Set1\", marker='X', kind=\"strip\")\n",
    "plt.show()"
   ]
  },
  {
   "cell_type": "code",
   "execution_count": null,
   "metadata": {
    "colab": {
     "base_uri": "https://localhost:8080/",
     "height": 297
    },
    "colab_type": "code",
    "executionInfo": {
     "elapsed": 10589,
     "status": "ok",
     "timestamp": 1582900128902,
     "user": {
      "displayName": "Christoper Glenn Wulur",
      "photoUrl": "",
      "userId": "07715570917231166517"
     },
     "user_tz": -60
    },
    "id": "oFlfKhO8_jCh",
    "outputId": "53b1a550-ff5d-41f7-dcf7-1acef67c025b"
   },
   "outputs": [],
   "source": [
    "df2 = pd.DataFrame({'id': [1,2,3,4,5,6,7,8], \n",
    "                  's2_wrt_nvc': [-1,0,0,0,2,-2,2,-7]})\n",
    "df2.describe()"
   ]
  },
  {
   "cell_type": "code",
   "execution_count": null,
   "metadata": {
    "colab": {
     "base_uri": "https://localhost:8080/",
     "height": 280
    },
    "colab_type": "code",
    "executionInfo": {
     "elapsed": 10575,
     "status": "ok",
     "timestamp": 1582900128902,
     "user": {
      "displayName": "Christoper Glenn Wulur",
      "photoUrl": "",
      "userId": "07715570917231166517"
     },
     "user_tz": -60
    },
    "id": "bHly8SyG_mui",
    "outputId": "8692703f-aa6a-41bb-efa2-a9fff48d79b1"
   },
   "outputs": [],
   "source": [
    "sns.countplot(x=\"s2_wrt_nvc\", data=df2)\n",
    "plt.show()"
   ]
  },
  {
   "cell_type": "code",
   "execution_count": null,
   "metadata": {
    "colab": {
     "base_uri": "https://localhost:8080/",
     "height": 265
    },
    "colab_type": "code",
    "executionInfo": {
     "elapsed": 11231,
     "status": "ok",
     "timestamp": 1582900129623,
     "user": {
      "displayName": "Christoper Glenn Wulur",
      "photoUrl": "",
      "userId": "07715570917231166517"
     },
     "user_tz": -60
    },
    "id": "ZaynZWSM_pjS",
    "outputId": "0cbc7aeb-fb41-4733-bd37-344b6d1171e9"
   },
   "outputs": [],
   "source": [
    "sns.distplot(df2)\n",
    "plt.show()"
   ]
  },
  {
   "cell_type": "code",
   "execution_count": null,
   "metadata": {
    "colab": {
     "base_uri": "https://localhost:8080/",
     "height": 297
    },
    "colab_type": "code",
    "executionInfo": {
     "elapsed": 11221,
     "status": "ok",
     "timestamp": 1582900129625,
     "user": {
      "displayName": "Christoper Glenn Wulur",
      "photoUrl": "",
      "userId": "07715570917231166517"
     },
     "user_tz": -60
    },
    "id": "_t8AQ2LI_s1M",
    "outputId": "2305a7fe-b10b-4c18-9fef-9ab3e321ab10"
   },
   "outputs": [],
   "source": [
    "df3 = pd.DataFrame({'id': [1,2,3,4,5,6,7,8], \n",
    "                    's0A': [0,1,2,2,1,1,2,1],\n",
    "                    's0B' :[1,1,2,2,2,1,2,1],\n",
    "                    's1A': [1,2,1,0,3,0,1,4],\n",
    "                    's1B': [1,2,2,2,2,0,3,0],\n",
    "                    's2A': [3,2,3,2,1,1,2,0],\n",
    "                    's2B': [2,2,3,2,3,3,4,7],\n",
    "                    's3A': [3,0,4,3,4,0,4,3],\n",
    "                    's3B': [3,3,3,3,3,7,3,2],\n",
    "                    's4A': [3,4,4,2,2,0,0,3],\n",
    "                    's4B': [3,2,3,2,5,7,7,3],\n",
    "                    'AB':['B','A','B','A','B','A','B','A']})\n",
    "df3"
   ]
  },
  {
   "cell_type": "code",
   "execution_count": null,
   "metadata": {
    "colab": {
     "base_uri": "https://localhost:8080/",
     "height": 677
    },
    "colab_type": "code",
    "executionInfo": {
     "elapsed": 12028,
     "status": "ok",
     "timestamp": 1582900130445,
     "user": {
      "displayName": "Christoper Glenn Wulur",
      "photoUrl": "",
      "userId": "07715570917231166517"
     },
     "user_tz": -60
    },
    "id": "trEH1oYA_wi9",
    "outputId": "a7fbeb4c-b970-4c1a-bf8c-96b918c27ac9"
   },
   "outputs": [],
   "source": [
    "#sns.pairplot(hue='AB', data=df3, palette=\"Set1\")\n",
    "#plt.show()\n",
    "fig, axs = plt.subplots(nrows=2, ncols=3, figsize=(20,10),sharex=True)\n",
    "fig.suptitle('different scenes count')\n",
    "#fig.tight_layout()\n",
    "sns.countplot(x='s2A', data=df3, ax=axs[0,0], hue='AB', palette=\"Set1\")\n",
    "sns.countplot(x='s2B', data=df3, ax=axs[1,0], hue='AB', palette=\"Set1\")\n",
    "sns.countplot(x='s3A', data=df3, ax=axs[0,1], hue='AB', palette=\"Set1\")\n",
    "sns.countplot(x='s3B', data=df3, ax=axs[1,1], hue='AB', palette=\"Set1\")\n",
    "sns.countplot(x='s4A', data=df3, ax=axs[0,2], hue='AB', palette=\"Set1\")\n",
    "sns.countplot(x='s4B', data=df3, ax=axs[1,2], hue='AB', palette=\"Set1\")\n",
    "\n",
    "plt.show()"
   ]
  },
  {
   "cell_type": "code",
   "execution_count": null,
   "metadata": {
    "colab": {
     "base_uri": "https://localhost:8080/",
     "height": 408
    },
    "colab_type": "code",
    "executionInfo": {
     "elapsed": 12388,
     "status": "ok",
     "timestamp": 1582900130820,
     "user": {
      "displayName": "Christoper Glenn Wulur",
      "photoUrl": "",
      "userId": "07715570917231166517"
     },
     "user_tz": -60
    },
    "id": "BVHT9Cwg_zzV",
    "outputId": "402d760c-a185-46de-c4d3-c216b6105194"
   },
   "outputs": [],
   "source": [
    "fig, axs = plt.subplots(nrows=1, ncols=2, figsize=(20,5))\n",
    "fig.suptitle('scene2 choice')\n",
    "fig.tight_layout()\n",
    "sns.countplot(x=df2['s2_wrt_nvc'], ax=axs[0], palette='Set2')\n",
    "sns.countplot(df3['s2A']-df3['s2B'], ax=axs[1], hue=df3['AB'], palette='Set1')\n",
    "plt.show()"
   ]
  },
  {
   "cell_type": "code",
   "execution_count": null,
   "metadata": {
    "colab": {
     "base_uri": "https://localhost:8080/",
     "height": 370
    },
    "colab_type": "code",
    "executionInfo": {
     "elapsed": 12713,
     "status": "ok",
     "timestamp": 1582900131158,
     "user": {
      "displayName": "Christoper Glenn Wulur",
      "photoUrl": "",
      "userId": "07715570917231166517"
     },
     "user_tz": -60
    },
    "id": "ffzVygEC_3Ka",
    "outputId": "dd86bcf9-53e4-4485-91cf-8d4a5a743ffb"
   },
   "outputs": [],
   "source": [
    "fig, axs = plt.subplots(nrows=1, ncols=2, figsize=(20,5))\n",
    "fig.suptitle('scene2 choice')\n",
    "sns.distplot(df2['s2_wrt_nvc'], ax=axs[0], axlabel=\"s2 choice with nvc\")\n",
    "sns.distplot(df3['s2A']-df3['s2B'], ax=axs[1], axlabel=\"s2 choice without nvc\")\n",
    "plt.show()"
   ]
  },
  {
   "cell_type": "code",
   "execution_count": null,
   "metadata": {
    "colab": {
     "base_uri": "https://localhost:8080/",
     "height": 386
    },
    "colab_type": "code",
    "executionInfo": {
     "elapsed": 12907,
     "status": "ok",
     "timestamp": 1582900131365,
     "user": {
      "displayName": "Christoper Glenn Wulur",
      "photoUrl": "",
      "userId": "07715570917231166517"
     },
     "user_tz": -60
    },
    "id": "3bQQwcZN_65W",
    "outputId": "72a9b3a3-5df0-4a40-958c-858594d856d7"
   },
   "outputs": [],
   "source": [
    "#df2['s2_wrt_nvc']\n",
    "print(\"                           Scene 2 choice categorized\")\n",
    "df2['s2_catd'] = \"neither\"\n",
    "df2.loc[df2['s2_wrt_nvc'] > 0, 's2_catd'] = \"trusted nvc\"\n",
    "df2.loc[df2['s2_wrt_nvc'] < 0, 's2_catd'] = \"did'not trust nvc\"\n",
    "sns.catplot(data=df2, x = 's2_catd',  kind=\"count\")\n",
    "plt.show()"
   ]
  },
  {
   "cell_type": "code",
   "execution_count": null,
   "metadata": {
    "colab": {
     "base_uri": "https://localhost:8080/",
     "height": 416
    },
    "colab_type": "code",
    "executionInfo": {
     "elapsed": 14347,
     "status": "ok",
     "timestamp": 1582900132819,
     "user": {
      "displayName": "Christoper Glenn Wulur",
      "photoUrl": "",
      "userId": "07715570917231166517"
     },
     "user_tz": -60
    },
    "id": "0j3ZVy5R__X4",
    "outputId": "ffec71af-0be8-4d40-ae68-574b4f662469"
   },
   "outputs": [],
   "source": [
    "print('No idea what this is')\n",
    "fig, axs = plt.subplots(nrows=1, ncols=3, figsize=(20,5), sharey=True)\n",
    "fig.tight_layout()\n",
    "axs[0].set_xlabel(\"participant number\")\n",
    "axs[0].set_ylabel(\"A - B\")\n",
    "sns.barplot(x=df3['id'], y=df3['s2A']-df3['s2B'], ax=axs[0], hue=df3['AB'], palette=\"Set1\")\n",
    "axs[1].set_xlabel(\"participant number\")\n",
    "axs[1].set_ylabel(\"A - B\")\n",
    "sns.barplot(x=df3['id'], y=df3['s3A']-df3['s3B'], ax=axs[1], hue=df3['AB'], palette=\"Set1\")\n",
    "axs[2].set_xlabel(\"participant number\")\n",
    "axs[2].set_ylabel(\"A - B\")\n",
    "sns.barplot(x=df3['id'], y=df3['s4A']-df3['s4B'], ax=axs[2], hue=df3['AB'], palette=\"Set1\")\n",
    "plt.show()"
   ]
  },
  {
   "cell_type": "code",
   "execution_count": null,
   "metadata": {
    "colab": {},
    "colab_type": "code",
    "id": "--9xvqiyADAx"
   },
   "outputs": [],
   "source": []
  }
 ],
 "metadata": {
  "colab": {
   "collapsed_sections": [],
   "name": "phri_eval.ipynb",
   "provenance": [],
   "toc_visible": true
  },
  "kernelspec": {
   "display_name": "Python 3",
   "language": "python",
   "name": "python3"
  },
  "language_info": {
   "codemirror_mode": {
    "name": "ipython",
    "version": 3
   },
   "file_extension": ".py",
   "mimetype": "text/x-python",
   "name": "python",
   "nbconvert_exporter": "python",
   "pygments_lexer": "ipython3",
   "version": "3.6.9"
  }
 },
 "nbformat": 4,
 "nbformat_minor": 1
}
