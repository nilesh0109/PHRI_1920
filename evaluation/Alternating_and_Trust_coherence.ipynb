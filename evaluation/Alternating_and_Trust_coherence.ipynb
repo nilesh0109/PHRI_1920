{
  "nbformat": 4,
  "nbformat_minor": 0,
  "metadata": {
    "colab": {
      "name": "Emy.ipynb",
      "provenance": []
    },
    "kernelspec": {
      "name": "python3",
      "display_name": "Python 3"
    }
  },
  "cells": [
    {
      "cell_type": "markdown",
      "metadata": {
        "id": "WVkfcVtSXCgk",
        "colab_type": "text"
      },
      "source": [
        "# Importing Data (manual data insertion into content folder) and pre-processing\n"
      ]
    },
    {
      "cell_type": "code",
      "metadata": {
        "id": "xlA6vpEDXQqx",
        "colab_type": "code",
        "colab": {}
      },
      "source": [
        "import pandas as pd\n",
        "import scipy.stats as stats\n",
        "import numpy as np\n",
        "import matplotlib.pyplot as plt\n",
        "import seaborn as sns\n",
        "from sklearn.preprocessing import StandardScaler\n",
        "import warnings\n",
        "sns.set(style='darkgrid')\n",
        "# warnings.filterwarnings('ignore')\n",
        "remove_ids = [1, 4, 11, 12, 18, 39, 49, 53]\n",
        "\n",
        "pn = 53"
      ],
      "execution_count": 0,
      "outputs": []
    },
    {
      "cell_type": "code",
      "metadata": {
        "id": "cOw-xuiZXhMi",
        "colab_type": "code",
        "colab": {}
      },
      "source": [
        "df =  pd.read_csv(\"/content/results-survey128918.csv\")\n",
        "pf = pd.DataFrame(columns=[\"s0a\",\"s0b\",\"s1a\",\"s1b\",\"s2a\",\"s2b\",\"s3a\",\"s3b\",\"s4a\",\"s4b\"])\n",
        "\n",
        "for i in remove_ids:\n",
        "  df = df.drop(df[df[\"What is your participant number?\"] == i].index)\n",
        "df = df.reset_index()"
      ],
      "execution_count": 0,
      "outputs": []
    },
    {
      "cell_type": "code",
      "metadata": {
        "id": "BSUghoHwX48w",
        "colab_type": "code",
        "colab": {}
      },
      "source": [
        "df = df.drop(columns=['Response ID', 'Date submitted', 'Last page', 'Start language','Date last action'])\n",
        "basics = df.loc[ : , ['What is your sex?','How old are you?']]\n",
        "robot_interaction  = df.loc[ : , [\n",
        "                      'How familiar are you with computers?', \n",
        "                      'Have you ever interacted with a robot before? [Never]',\n",
        "                      'Have you ever interacted with a robot before? [In an entertainment setting (i.e. drones)]',\n",
        "                      'Have you ever interacted with a robot before? [In a commercial/utility setting (i.e. vacuums, industry)]',\n",
        "                      'Have you ever interacted with a robot before? [At work (i.e. robotics research)]',\n",
        "                      'Do you like robots?'\n",
        "                      ]\n",
        "                  ]\n",
        "bfis = df.loc[ : , [\n",
        "                      'Do you agree or disagree with the following statements? [Do you worry a lot?]',\n",
        "                      'Do you agree or disagree with the following statements? [Do you get nervous easily?]',\n",
        "                      'Do you agree or disagree with the following statements? [Do you remain calm in tense situations?]',\n",
        "                      'Do you agree or disagree with the following statements? [Are you talkative?]',\n",
        "                      'Do you agree or disagree with the following statements? [Are you outgoing, sociable?]',\n",
        "                      'Do you agree or disagree with the following statements? [Are you reserved?]',\n",
        "                      'Do you agree or disagree with the following statements? [Are you original? / Do you come up with new ideas?]',\n",
        "                      'Do you agree or disagree with the following statements? [Do you value artistic, aesthetic experiences?]',\n",
        "                      'Do you agree or disagree with the following statements? [Do you have an active imagination?]',\n",
        "                      'Do you agree or disagree with the following statements? [Are you sometimes rude to others?]',\n",
        "                      'Do you agree or disagree with the following statements? [Do you have a forgiving nature?]',\n",
        "                      'Do you agree or disagree with the following statements? [Are you considerate and kind to almost everyone?]',\n",
        "                      'Do you agree or disagree with the following statements? [Do you do a thorough job?]',\n",
        "                      'Do you agree or disagree with the following statements? [Do you tend to be lazy?]',\n",
        "                      'Do you agree or disagree with the following statements? [Do you do things efficiently?]',\n",
        "                      ]\n",
        "                ]\n",
        "risk_propensity = df.loc[ : , [\n",
        "                      'Do you agree or disagree with the following statements? [Safety first]', \n",
        "                      'Do you agree or disagree with the following statements? [I do not take risks with my health]',\n",
        "                      'Do you agree or disagree with the following statements? [I prefer to avoid risks]',\n",
        "                      'Do you agree or disagree with the following statements? [I take risks regularly]',\n",
        "                      'Do you agree or disagree with the following statements? [I really dislike not knowing what is going to happen]',\n",
        "                      ]\n",
        "                  ]\n",
        "trust_propensity = df.loc[ : , [\n",
        "                      'Do you agree or disagree with the following statements? [One should be very cautious with strangers.]',\n",
        "                      'Do you agree or disagree with the following statements? [Most experts tell the truth about the limits of their knowledge.]',\n",
        "                      'Do you agree or disagree with the following statements? [Most people can be counted on to do what they say they will do.]',\n",
        "                      'Do you agree or disagree with the following statements? [Most people answer public opinion polls honestly.]',\n",
        "                      ]\n",
        "                  ]\n",
        "\n",
        "ownQ = df.iloc[:,76:110]\n",
        "ownQ[\"id\"] = df[\"What is your participant number?\"]"
      ],
      "execution_count": 0,
      "outputs": []
    },
    {
      "cell_type": "code",
      "metadata": {
        "id": "uVb3aF1sYz2G",
        "colab_type": "code",
        "colab": {}
      },
      "source": [
        "ownQ.replace(to_replace=\"A1\", value=1, inplace=True)\n",
        "ownQ.replace(to_replace=\"A2\", value=2, inplace=True)\n",
        "ownQ.replace(to_replace=\"A3\", value=3, inplace=True)\n",
        "ownQ.replace(to_replace=\"A4\", value=4, inplace=True)\n",
        "ownQ.replace(to_replace=\"A5\", value=5, inplace=True)\n",
        "ownQ.replace(to_replace=\"A6\", value=6, inplace=True)\n",
        "ownQ.replace(to_replace=\"A7\", value=7, inplace=True)\n",
        "ownQ.replace(to_replace=\"A8\", value=8, inplace=True)\n",
        "ownQ.replace(to_replace=\"A9\", value=9, inplace=True)\n",
        "ownQ.replace(to_replace=\"A02\", value=1, inplace=True)\n",
        "ownQ.replace(to_replace=\"A03\", value=2, inplace=True)\n",
        "ownQ.replace(to_replace=\"A04\", value=3, inplace=True)\n",
        "ownQ.replace(to_replace=\"A05\", value=4, inplace=True)\n",
        "ownQ.replace(to_replace=\"A06\", value=5, inplace=True)\n",
        "ownQ.replace(to_replace=\"A07\", value=6, inplace=True)\n",
        "ownQ.replace(to_replace=\"A08\", value=7, inplace=True)\n",
        "ownQ.replace(to_replace=\"A09\", value=8, inplace=True)\n",
        "ownQ.replace(to_replace=\"A10\", value=9, inplace=True)\n",
        "\n",
        "ownQ[\"A_conte\"] = (ownQ.iloc[:,0] + ownQ.iloc[:,2] + ownQ.iloc[:,6] + ownQ.iloc[:,7]) / 4\n",
        "ownQ[\"A_speec\"] = (ownQ.iloc[:,3] + ownQ.iloc[:,9] + ownQ.iloc[:,10]) / 3\n",
        "ownQ[\"A_coope\"] = (ownQ.iloc[:,4] + ownQ.iloc[:,11] ) / 2\n",
        "ownQ[\"A_socia\"] = (ownQ.iloc[:,1] + ownQ.iloc[:,5] + ownQ.iloc[:,8] + ownQ.iloc[:,12]) / 4\n",
        "\n",
        "ownQ[\"A_conte\"] = ownQ[\"A_conte\"] / 9\n",
        "ownQ[\"A_speec\"] = ownQ[\"A_speec\"] / 9\n",
        "ownQ[\"A_coope\"] = ownQ[\"A_coope\"] / 9\n",
        "ownQ[\"A_socia\"] = ownQ[\"A_socia\"] / 9\n",
        "\n",
        "ownQ[\"B_conte\"] = (ownQ.iloc[:,13] + ownQ.iloc[:,15] + ownQ.iloc[:,19] + ownQ.iloc[:,20]) / 4\n",
        "ownQ[\"B_speec\"] = (ownQ.iloc[:,16] + ownQ.iloc[:,22] + ownQ.iloc[:,23]) / 3\n",
        "ownQ[\"B_coope\"] = (ownQ.iloc[:,17] + ownQ.iloc[:,24] ) / 2\n",
        "ownQ[\"B_socia\"] = (ownQ.iloc[:,14] + ownQ.iloc[:,18] + ownQ.iloc[:,21] + ownQ.iloc[:,25]) / 4\n",
        "\n",
        "ownQ[\"B_conte\"] = ownQ[\"B_conte\"] / 9\n",
        "ownQ[\"B_speec\"] = ownQ[\"B_speec\"] / 9\n",
        "ownQ[\"B_coope\"] = ownQ[\"B_coope\"] / 9\n",
        "ownQ[\"B_socia\"] = ownQ[\"B_socia\"] / 9\n",
        "\n",
        "ownQ[\"A_trust\"] = (ownQ.iloc[:,26] + ownQ.iloc[:,27] + ownQ.iloc[:,28] + ownQ.iloc[:,29]) / 4\n",
        "ownQ[\"A_trust\"] = ownQ[\"A_trust\"] / 9\n",
        "ownQ[\"B_trust\"] = (ownQ.iloc[:,30] + ownQ.iloc[:,31] + ownQ.iloc[:,32] + ownQ.iloc[:,33]) / 4\n",
        "ownQ[\"B_trust\"] = ownQ[\"B_trust\"] / 9"
      ],
      "execution_count": 0,
      "outputs": []
    },
    {
      "cell_type": "code",
      "metadata": {
        "id": "OKriFz2KYGZh",
        "colab_type": "code",
        "colab": {}
      },
      "source": [
        "for i in range(1,pn+1):\n",
        "  f = pd.read_csv(\"/content/participant_\"+str(i)+\".csv\")\n",
        "  pf = pf.append({ \n",
        "      \"s0a\" : f[\"robot_a\"][0]\n",
        "      ,\"s0b\" : f[\"robot_b\"][0]\n",
        "      ,\"s1a\" : f[\"robot_a\"][1]\n",
        "      ,\"s1b\" : f[\"robot_b\"][1]\n",
        "      ,\"s2a\" : f[\"robot_a\"][2]\n",
        "      ,\"s2b\" : f[\"robot_b\"][2]\n",
        "      ,\"s3a\" : f[\"robot_a\"][3]\n",
        "      ,\"s3b\" : f[\"robot_b\"][3]\n",
        "      ,\"s4a\" : f[\"robot_a\"][4]\n",
        "      ,\"s4b\" : f[\"robot_b\"][4]\n",
        "      }, ignore_index=True)\n",
        "\n",
        "A = pf.loc[:, [\"s0a\",\"s1a\",\"s2a\",\"s3a\",\"s4a\"]]\n",
        "B = pf.loc[:, [\"s0b\",\"s1b\",\"s2b\",\"s3b\",\"s4b\"]]\n",
        "pf[\"A/B\"] = \"N\"\n",
        "pf[\"id\"] = 0\n",
        "for i in range(0,pf.shape[0]):\n",
        "  pf[\"id\"][i] = i+1\n",
        "  if ((i%2)==0):\n",
        "    pf[\"A/B\"][i] = \"B\" \n",
        "  else:\n",
        "    pf[\"A/B\"][i] = \"A\"\n",
        "    pass\n",
        "\n",
        "for i in remove_ids:\n",
        "  pf = pf.drop(pf[pf[\"id\"] == i].index)\n",
        "\n",
        "pf = pf.reset_index()"
      ],
      "execution_count": 0,
      "outputs": []
    },
    {
      "cell_type": "code",
      "metadata": {
        "id": "liRZhj6CZEPv",
        "colab_type": "code",
        "colab": {}
      },
      "source": [
        "pf['tays1'] = None\n",
        "pf['tays2'] = None\n",
        "pf['tays3'] = None\n",
        "pf['tays4'] = None\n",
        "pf['tsum'] = None\n",
        "\n",
        "for i in range(0,pf.shape[0]):\n",
        "  if (pf['s1a'][i] + pf['s1b'][i]) == 0 :\n",
        "    pf['tays1'][i] = 0\n",
        "  else:\n",
        "    pf['tays1'][i] = (pf['s1b'][i]-pf['s1a'][i]) / float(pf['s1a'][i]+pf['s1b'][i])\n",
        "  if pf['s2a'][i]+pf['s2b'][i] == 0 :\n",
        "    pf['tays2'][i] = 0\n",
        "  else:\n",
        "    pf['tays2'][i] = (pf['s2b'][i]-pf['s2a'][i])/ float(pf['s2a'][i]+pf['s2b'][i])\n",
        "  if pf['s3a'][i]+pf['s3b'][i] == 0 :\n",
        "    pf['tays3'][i] = 0\n",
        "  else:\n",
        "    pf['tays3'][i] = (pf['s3b'][i] - pf['s3a'][i])/ float(pf['s3a'][i]+pf['s3b'][i])\n",
        "  if pf['s4a'][i]+pf['s4b'][i] == 0 :\n",
        "    pf['tays4'][i] = 0\n",
        "  else:\n",
        "    pf['tays4'][i] = (pf['s4b'][i]-pf['s4a'][i])/ float(pf['s4a'][i]+pf['s4b'][i])\n",
        "  pf['tsum'][i] = (pf['tays1'][i] + pf['tays2'][i] + pf['tays3'][i] + pf['tays4'][i])"
      ],
      "execution_count": 0,
      "outputs": []
    },
    {
      "cell_type": "code",
      "metadata": {
        "id": "4JHukgKbh2LK",
        "colab_type": "code",
        "colab": {}
      },
      "source": [
        "pf['total_cube'] = 0\n",
        "pf['cubes_s1'] = 0\n",
        "pf['cubes_s2'] = 0\n",
        "pf['cubes_s3'] = 0\n",
        "pf['cubes_s4'] = 0\n",
        "\n",
        "for i in range(0,pf.shape[0]):\n",
        "    pf['total_cube'][i] = pf['s1a'][i] + pf['s1b'][i] + pf['s2a'][i] + pf['s2b'][i] + pf['s3a'][i] + pf['s3b'][i] + pf['s4a'][i] + pf['s4b'][i]\n",
        "    pf['cubes_s1'][i] = pf['s1a'][i] + pf['s1b'][i]\n",
        "    pf['cubes_s2'][i] = pf['s2a'][i] + pf['s2b'][i]\n",
        "    pf['cubes_s3'][i] = pf['s3a'][i] + pf['s3b'][i]\n",
        "    pf['cubes_s4'][i] = pf['s4a'][i] + pf['s4b'][i]\n",
        "\n",
        "df2 = bfis.iloc[:pn,15:20]\n",
        "df3 = pf.iloc[:pn,16:23]\n",
        "pc = pd.concat([df2, df3], axis=1)"
      ],
      "execution_count": 0,
      "outputs": []
    },
    {
      "cell_type": "markdown",
      "metadata": {
        "id": "yIDrdOejZW4p",
        "colab_type": "text"
      },
      "source": [
        "# Finding alternating participants\n"
      ]
    },
    {
      "cell_type": "code",
      "metadata": {
        "id": "nDVsUcXqZqWP",
        "colab_type": "code",
        "colab": {}
      },
      "source": [
        "# changes where possibilities are equal distribution, more to B, more to A\n",
        "c12 = np.sign(pf[\"tays1\"]) != np.sign(pf[\"tays2\"])\n",
        "c23 = np.sign(pf[\"tays2\"]) != np.sign(pf[\"tays3\"])\n",
        "c34 = np.sign(pf[\"tays3\"]) != np.sign(pf[\"tays4\"])\n",
        "\n",
        "# 1 for change in that scene 0 for no change\n",
        "mc12 = (int(c) for c in c12)\n",
        "mc23 = (int(c) for c in c23)\n",
        "mc34 = (int(c) for c in c34)\n",
        "\n",
        "# creating dataframe with change in each scene transition and total number of changes for each participant\n",
        "mind_changes = pd.DataFrame({\"1->2\": mc12, \"2->3\": mc23, \"3->4\": mc34})\n",
        "mind_changes[\"number\"] = [mind_changes[\"1->2\"][i] + mind_changes[\"2->3\"][i] + mind_changes[\"3->4\"][i] for i in range(mind_changes.shape[0])]\n"
      ],
      "execution_count": 0,
      "outputs": []
    },
    {
      "cell_type": "code",
      "metadata": {
        "id": "Her-JKzTZ_sV",
        "colab_type": "code",
        "outputId": "2ea28b86-0f37-41d7-b88b-00850f213643",
        "colab": {
          "base_uri": "https://localhost:8080/",
          "height": 318
        }
      },
      "source": [
        "# Barplot changes per scene\n",
        "\n",
        "mind_changes = mind_changes.rename(columns = {\"1->2\": \"1 to 2\", \"2->3\": \"2 to 3\", \"3->4\":\"3 to 4\"})\n",
        "sums = mind_changes.iloc[:, :3].sum(axis=0)\n",
        "ax = sums.plot.bar(rot=0)\n",
        "# ax.set_xlim(right=45)\n",
        "ax.set_ylabel(\"Number of participants\")\n",
        "ax.set_xlabel(\"Scene\")\n",
        "ax.set_title(\"Number of participants that changed robot preference per scene\")"
      ],
      "execution_count": 0,
      "outputs": [
        {
          "output_type": "execute_result",
          "data": {
            "text/plain": [
              "Text(0.5, 1.0, 'Number of participants that changed robot preference per scene')"
            ]
          },
          "metadata": {
            "tags": []
          },
          "execution_count": 75
        },
        {
          "output_type": "display_data",
          "data": {
            "image/png": "[encoded data removed]",
            "text/plain": [
              "<Figure size 432x288 with 1 Axes>"
            ]
          },
          "metadata": {
            "tags": []
          }
        }
      ]
    },
    {
      "cell_type": "code",
      "metadata": {
        "id": "86yrBCG6afxa",
        "colab_type": "code",
        "outputId": "9f52efca-7a6b-49cb-c2e2-a4eee8a92e04",
        "colab": {
          "base_uri": "https://localhost:8080/",
          "height": 318
        }
      },
      "source": [
        "# Histogram amount of changes per participant\n",
        "ax = mind_changes[\"number\"].plot.hist(bins=[0, 1, 2, 3, 4], align = \"left\", rwidth=0.5)\n",
        "ax.set_xticks([0, 1, 2, 3])\n",
        "ax.set_xlabel(\"Number of preference changes\")\n",
        "ax.set_ylabel(\"Number of participants\")\n",
        "ax.set_title(\"Number of participants that changed robot a certain amount of times\")"
      ],
      "execution_count": 0,
      "outputs": [
        {
          "output_type": "execute_result",
          "data": {
            "text/plain": [
              "Text(0.5, 1.0, 'Number of participants that changed robot a certain amount of times')"
            ]
          },
          "metadata": {
            "tags": []
          },
          "execution_count": 76
        },
        {
          "output_type": "display_data",
          "data": {
            "image/png": "[encoded data removed]",
            "text/plain": [
              "<Figure size 432x288 with 1 Axes>"
            ]
          },
          "metadata": {
            "tags": []
          }
        }
      ]
    },
    {
      "cell_type": "code",
      "metadata": {
        "id": "x40wXrn7aHV0",
        "colab_type": "code",
        "colab": {}
      },
      "source": [
        "# Creating list of alternating participants\n",
        "rand_part = []\n",
        "\n",
        "for i in range(c12.shape[0]):\n",
        "  if c12[i] == True and c23[i] == True and c34[i] == True:\n",
        "    rand_part.append(pf[\"id\"][i])"
      ],
      "execution_count": 0,
      "outputs": []
    },
    {
      "cell_type": "markdown",
      "metadata": {
        "id": "8JXhpWAObstr",
        "colab_type": "text"
      },
      "source": [
        "# Coherence between trust from questionnaire and cube allocation"
      ]
    },
    {
      "cell_type": "markdown",
      "metadata": {
        "id": "7sULb_wpb1Th",
        "colab_type": "text"
      },
      "source": [
        "## Excluding alternating participants"
      ]
    },
    {
      "cell_type": "code",
      "metadata": {
        "id": "CuLE1NNmb0Tb",
        "colab_type": "code",
        "outputId": "0659fe5b-edda-481d-c80f-2def5d8bc2af",
        "colab": {
          "base_uri": "https://localhost:8080/",
          "height": 69
        }
      },
      "source": [
        "# New dataset excluding participants that behaved randomly rand_part_s changed twice consecutive, rand_part trice\n",
        "no_rnd_pf = pf\n",
        "no_rnd_ownQ = ownQ\n",
        "for i in rand_part:\n",
        "  no_rnd_pf = no_rnd_pf.drop(no_rnd_pf[no_rnd_pf[\"id\"] == i].index)\n",
        "  no_rnd_ownQ = no_rnd_ownQ.drop(no_rnd_ownQ[no_rnd_ownQ[\"id\"] == i].index)\n",
        "\n",
        "print(\"Alternating participants: \" + str(rand_part))\n",
        "\n",
        "no_rnd_pf = no_rnd_pf.reset_index()\n",
        "no_rnd_ownQ = no_rnd_ownQ.reset_index()\n",
        "\n",
        "print(no_rnd_pf.shape[0])\n",
        "print(no_rnd_ownQ.shape[0])\n",
        "\n",
        "if not (no_rnd_pf.shape[0] == no_rnd_ownQ.shape[0]):\n",
        "  raise NameError(\"Data frame sizes do not correspond\")"
      ],
      "execution_count": 0,
      "outputs": [
        {
          "output_type": "stream",
          "text": [
            "Alternating participants: [2, 5, 8, 9, 10, 13, 21, 24, 26, 37, 40, 43, 44, 46, 48]\n",
            "30\n",
            "30\n"
          ],
          "name": "stdout"
        }
      ]
    },
    {
      "cell_type": "markdown",
      "metadata": {
        "id": "snpdigf-gN3C",
        "colab_type": "text"
      },
      "source": [
        "## Correlation trust and metric\n"
      ]
    },
    {
      "cell_type": "code",
      "metadata": {
        "id": "uAr284FrdG6I",
        "colab_type": "code",
        "outputId": "1fbd250b-59ad-45c5-9392-cb6429bff59b",
        "colab": {
          "base_uri": "https://localhost:8080/",
          "height": 339
        }
      },
      "source": [
        "rttsn = pd.DataFrame(columns=(\"trust\", \"tays\", \"id\", \"tc\"))\n",
        "upt = pd.DataFrame({\"Scene 1\", \"Scene 2\", \"Scene 3\", \"Scene 4\"})\n",
        "\n",
        "for i in range (0,no_rnd_pf.shape[0]):\n",
        "  tays = (no_rnd_pf[\"tays1\"][i] + no_rnd_pf[\"tays3\"][i] + no_rnd_pf[\"tays4\"][i]+ no_rnd_pf[\"tays2\"][i])/4\n",
        "  rt = no_rnd_ownQ['B_trust'][i] - no_rnd_ownQ['A_trust'][i]\n",
        "  cubes = no_rnd_pf[\"total_cube\"][i]\n",
        "  pn = no_rnd_pf[\"id\"][i]\n",
        "  if cubes >= 12:\n",
        "    upt = upt.append({\"Scene 1\": no_rnd_pf[\"tays1\"][i], \"Scene 2\": no_rnd_pf[\"tays2\"][i], \"Scene 3\" : no_rnd_pf[\"tays3\"][i], \"Scene 4\": no_rnd_pf[\"tays4\"][i]}, ignore_index=True)\n",
        "    rttsn = rttsn.append({\"trust\": rt, \"tays\": tays, \"id\": pn,\"tc\": cubes}, ignore_index=True)\n",
        "\n",
        "rttsn.plot.scatter(\"tays\", \"trust\")\n",
        "\n",
        "print(\"Spearman correlation metric and relative trust\", stats.spearmanr(rttsn['tays'], rttsn['trust']))"
      ],
      "execution_count": 0,
      "outputs": [
        {
          "output_type": "stream",
          "text": [
            "'c' argument looks like a single numeric RGB or RGBA sequence, which should be avoided as value-mapping will have precedence in case its length matches with 'x' & 'y'.  Please use a 2-D array with a single row if you really want to specify the same RGB or RGBA value for all points.\n"
          ],
          "name": "stderr"
        },
        {
          "output_type": "stream",
          "text": [
            "Spearman correlation metric and relative trust SpearmanrResult(correlation=0.40225542925799507, pvalue=0.03383226389921356)\n"
          ],
          "name": "stdout"
        },
        {
          "output_type": "display_data",
          "data": {
            "image/png": "[encoded data removed]",
            "text/plain": [
              "<Figure size 432x288 with 1 Axes>"
            ]
          },
          "metadata": {
            "tags": []
          }
        }
      ]
    },
    {
      "cell_type": "code",
      "metadata": {
        "id": "vn3eXUcsffuj",
        "colab_type": "code",
        "outputId": "05dae172-f772-45c8-d7b8-df5667c5b49a",
        "colab": {
          "base_uri": "https://localhost:8080/",
          "height": 648
        }
      },
      "source": [
        "# Regression plot for correlation\n",
        "\n",
        "ax = sns.regplot(\"tays\", \"trust\", data=rttsn, truncate=False)\n",
        "ax.figure.set_size_inches(12, 10)\n",
        "# ax.set_title(\"Correlation of relative trust and allocation metric\")\n",
        "ax.set_xlabel(\"Average Allocation Metric\")\n",
        "ax.set_ylabel(\"Relative Trust\")\n",
        "ax.set_xlim(left=-0.7, right=0.7)\n",
        "ax.set_ylim(bottom=-0.7, top=0.7)\n",
        "# ax.text(x=-1, y=-1, s=\"Spearman correlation of 0.40 with p-value 0.034\")"
      ],
      "execution_count": 0,
      "outputs": [
        {
          "output_type": "execute_result",
          "data": {
            "text/plain": [
              "(-0.7, 0.7)"
            ]
          },
          "metadata": {
            "tags": []
          },
          "execution_count": 80
        },
        {
          "output_type": "display_data",
          "data": {
            "image/png": "[encoded data removed]",
            "text/plain": [
              "<Figure size 864x720 with 1 Axes>"
            ]
          },
          "metadata": {
            "tags": []
          }
        }
      ]
    }
  ]
}