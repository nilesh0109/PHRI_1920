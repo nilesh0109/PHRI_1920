{
 "cells": [
  {
   "cell_type": "markdown",
   "metadata": {},
   "source": [
    "### Investigate if participants allocate more cubes for an NVC-Robot."
   ]
  },
  {
   "cell_type": "code",
   "execution_count": 8,
   "metadata": {},
   "outputs": [],
   "source": [
    "import pandas as pd\n",
    "import numpy as np\n",
    "from pathlib import Path\n",
    "import os\n",
    "import re\n",
    "import matplotlib.pyplot as plt\n",
    "import seaborn as sns\n",
    "\n",
    "DATA_FOLDER = \"/data/cubes/\"\n",
    "DATA_PATH = os.path.abspath(os.getcwd()) + DATA_FOLDER"
   ]
  },
  {
   "cell_type": "code",
   "execution_count": 9,
   "metadata": {},
   "outputs": [],
   "source": [
    "# Iterate over files and find csv files that have allocation of cubes for each participant\n",
    "dfs = []\n",
    "\n",
    "for filename in os.listdir(FILES):\n",
    "    if filename.endswith(\".csv\"): \n",
    "        participant_id = int(re.search(r'\\d+', filename).group())\n",
    "        temp = pd.read_csv(DATA_PATH + filename)\n",
    "        temp[\"scene\"] = temp[\"scene\"].str[-1:]\n",
    "        temp[\"scene\"] = temp[\"scene\"].astype('int')\n",
    "        temp[\"participant\"] = participant_id\n",
    "        nvc = \"A\"\n",
    "        if int(participant_id) % 2 == 0:\n",
    "            nvc = \"B\"\n",
    "    \n",
    "        temp[\"NVC\"] = nvc\n",
    "        dfs.append(temp)\n",
    "\n",
    "\n",
    "raw_data = pd.concat(dfs, axis=0, ignore_index=True)"
   ]
  },
  {
   "cell_type": "code",
   "execution_count": 10,
   "metadata": {},
   "outputs": [
    {
     "data": {
      "text/html": [
       "<div>\n",
       "<style scoped>\n",
       "    .dataframe tbody tr th:only-of-type {\n",
       "        vertical-align: middle;\n",
       "    }\n",
       "\n",
       "    .dataframe tbody tr th {\n",
       "        vertical-align: top;\n",
       "    }\n",
       "\n",
       "    .dataframe thead th {\n",
       "        text-align: right;\n",
       "    }\n",
       "</style>\n",
       "<table border=\"1\" class=\"dataframe\">\n",
       "  <thead>\n",
       "    <tr style=\"text-align: right;\">\n",
       "      <th></th>\n",
       "      <th>scene</th>\n",
       "      <th>robot_a</th>\n",
       "      <th>robot_b</th>\n",
       "      <th>participant</th>\n",
       "      <th>NVC</th>\n",
       "    </tr>\n",
       "  </thead>\n",
       "  <tbody>\n",
       "    <tr>\n",
       "      <th>0</th>\n",
       "      <td>0</td>\n",
       "      <td>2</td>\n",
       "      <td>2</td>\n",
       "      <td>3</td>\n",
       "      <td>A</td>\n",
       "    </tr>\n",
       "    <tr>\n",
       "      <th>1</th>\n",
       "      <td>1</td>\n",
       "      <td>1</td>\n",
       "      <td>2</td>\n",
       "      <td>3</td>\n",
       "      <td>A</td>\n",
       "    </tr>\n",
       "    <tr>\n",
       "      <th>2</th>\n",
       "      <td>2</td>\n",
       "      <td>3</td>\n",
       "      <td>3</td>\n",
       "      <td>3</td>\n",
       "      <td>A</td>\n",
       "    </tr>\n",
       "    <tr>\n",
       "      <th>3</th>\n",
       "      <td>3</td>\n",
       "      <td>4</td>\n",
       "      <td>3</td>\n",
       "      <td>3</td>\n",
       "      <td>A</td>\n",
       "    </tr>\n",
       "    <tr>\n",
       "      <th>4</th>\n",
       "      <td>4</td>\n",
       "      <td>4</td>\n",
       "      <td>3</td>\n",
       "      <td>3</td>\n",
       "      <td>A</td>\n",
       "    </tr>\n",
       "  </tbody>\n",
       "</table>\n",
       "</div>"
      ],
      "text/plain": [
       "   scene  robot_a  robot_b  participant NVC\n",
       "0      0        2        2            3   A\n",
       "1      1        1        2            3   A\n",
       "2      2        3        3            3   A\n",
       "3      3        4        3            3   A\n",
       "4      4        4        3            3   A"
      ]
     },
     "execution_count": 10,
     "metadata": {},
     "output_type": "execute_result"
    }
   ],
   "source": [
    "raw_data.head()"
   ]
  },
  {
   "cell_type": "code",
   "execution_count": null,
   "metadata": {},
   "outputs": [],
   "source": [
    "# Only from scene 2 to 4\n",
    "filtered_data = raw_data[raw_data[\"scene\"] > 1]\n",
    "filtered_data.head()"
   ]
  },
  {
   "cell_type": "code",
   "execution_count": null,
   "metadata": {},
   "outputs": [],
   "source": [
    "# Find the total amount of cubes that participants allocated\n",
    "cubes_per_participant = filtered_data.groupby(\"participant\").sum()\n",
    "cubes_per_participant = cubes_per_participant.drop(columns=['scene'])\n",
    "cubes_per_participant['total_cubes'] = cubes_per_participant['robot_a'] + cubes_per_participant['robot_b'] \n",
    "cubes_per_participant.head()"
   ]
  },
  {
   "cell_type": "code",
   "execution_count": null,
   "metadata": {},
   "outputs": [],
   "source": [
    "plt.scatter(cubes_per_participant.index, cubes_per_participant[\"total_cubes\"], label=\"participant\")\n",
    "plt.title(\"The distribution of cubes for each participant. Only from scene 2 to 4\")\n",
    "plt.xlabel(\"Participant ID\")\n",
    "plt.ylabel(\"Distributed cubes\")\n",
    "plt.xticks(range(1, len(dfs) + 1))"
   ]
  },
  {
   "cell_type": "code",
   "execution_count": null,
   "metadata": {},
   "outputs": [],
   "source": [
    "plt.scatter(cubes_per_participant.index, cubes_per_participant[\"robot_a\"], label=\"A\")\n",
    "plt.scatter(cubes_per_participant.index, cubes_per_participant[\"robot_b\"], label=\"B\")\n",
    "plt.title(\"The distribution of cubes for each participant and robot. Only from scene 2 to 4\")\n",
    "plt.xlabel(\"Participant ID\")\n",
    "plt.ylabel(\"Distributed cubes\")\n",
    "plt.xticks(range(1, len(dfs) + 1))\n",
    "plt.legend()"
   ]
  },
  {
   "cell_type": "code",
   "execution_count": null,
   "metadata": {},
   "outputs": [],
   "source": [
    "scene2_data = raw_data[raw_data[\"scene\"] == 2]\n",
    "scene2_data"
   ]
  },
  {
   "cell_type": "code",
   "execution_count": null,
   "metadata": {},
   "outputs": [],
   "source": [
    "# Only scene 2 data merged with total number of cubes\n",
    "cubes_per_participant = cubes_per_participant.reset_index()\n",
    "eval_data = pd.merge(scene2_data, cubes_per_participant, on='participant')\n",
    "eval_data = eval_data.drop(columns=['robot_a_y', 'robot_b_y'])\n",
    "eval_data"
   ]
  },
  {
   "cell_type": "code",
   "execution_count": null,
   "metadata": {},
   "outputs": [],
   "source": [
    "# Only scene 2 data merged with total number of cubes. Extended with NVC or non-NVC.\n",
    "eval_data['robot_a_significance'] = eval_data['robot_a_x'] / eval_data['total_cubes'] \n",
    "eval_data['robot_b_significance'] = eval_data['robot_b_x'] / eval_data['total_cubes']\n",
    "eval_data['NVC_A'] = eval_data['NVC'] == \"A\"\n",
    "eval_data['NVC_B'] = eval_data['NVC'] == \"B\"\n",
    "\n",
    "eval_data"
   ]
  },
  {
   "cell_type": "code",
   "execution_count": null,
   "metadata": {},
   "outputs": [],
   "source": [
    "plt.scatter(eval_data[\"participant\"], eval_data[\"robot_a_significance\"], label=\"A\")\n",
    "plt.scatter(eval_data[\"participant\"], eval_data[\"robot_b_significance\"], label=\"B\")\n",
    "plt.title(\"The significance of cubes for each participant and robot. Only scene 2\")\n",
    "plt.xlabel(\"Participant ID\")\n",
    "plt.ylabel(\"Significance\")\n",
    "plt.xticks(range(1, len(dfs) + 1))\n",
    "plt.legend()"
   ]
  },
  {
   "cell_type": "code",
   "execution_count": null,
   "metadata": {},
   "outputs": [],
   "source": [
    "fig, ax = plt.subplots()\n",
    "\n",
    "colors = {True:'red', False:'blue'}\n",
    "ax.scatter(eval_data['participant'], eval_data['robot_a_significance'], label=eval_data['NVC_A'], c=eval_data['NVC_A'].apply(lambda x: colors[x]))\n",
    "ax.scatter(eval_data['participant'], eval_data['robot_b_significance'], label=eval_data['NVC_B'], c=eval_data['NVC_B'].apply(lambda x: colors[x]))\n",
    "ax.set_xlabel(\"Participant\")\n",
    "ax.set_ylabel(\"Significance\")\n",
    "\n",
    "ax.set_title(\"Robot preference values: red is NVC, and blue is non-NVC\")"
   ]
  },
  {
   "cell_type": "code",
   "execution_count": null,
   "metadata": {},
   "outputs": [],
   "source": []
  },
  {
   "cell_type": "code",
   "execution_count": null,
   "metadata": {},
   "outputs": [],
   "source": []
  },
  {
   "cell_type": "code",
   "execution_count": null,
   "metadata": {},
   "outputs": [],
   "source": []
  }
 ],
 "metadata": {
  "kernelspec": {
   "display_name": "Python 3",
   "language": "python",
   "name": "python3"
  },
  "language_info": {
   "codemirror_mode": {
    "name": "ipython",
    "version": 3
   },
   "file_extension": ".py",
   "mimetype": "text/x-python",
   "name": "python",
   "nbconvert_exporter": "python",
   "pygments_lexer": "ipython3",
   "version": "3.7.3"
  }
 },
 "nbformat": 4,
 "nbformat_minor": 2
}
