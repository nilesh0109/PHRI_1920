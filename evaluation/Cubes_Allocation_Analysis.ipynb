{
  "nbformat": 4,
  "nbformat_minor": 0,
  "metadata": {
    "colab": {
      "name": "Cubes Allocation Analysis",
      "provenance": [],
      "collapsed_sections": [
        "apzl3rw0bzsU",
        "VH6kddnsSf9C",
        "_5EMJ303gOdL",
        "v2J-kn2ug-aD",
        "K3P0roD2wfA2",
        "gu5LMHtZf7je",
        "GiUlwlXUy488",
        "1Fiv3Ver-uQr",
        "5OuvLqHny_j2",
        "_QAEkuZMk765",
        "nEn4PODG9pIL",
        "_CzSfPMW2QdI"
      ],
      "toc_visible": true
    },
    "kernelspec": {
      "name": "python3",
      "display_name": "Python 3"
    }
  },
  "cells": [
    {
      "cell_type": "markdown",
      "metadata": {
        "id": "mobssWC8kBC6",
        "colab_type": "text"
      },
      "source": [
        "# Setups \n"
      ]
    },
    {
      "cell_type": "code",
      "metadata": {
        "id": "f7ybgWtsj0B-",
        "colab_type": "code",
        "colab": {}
      },
      "source": [
        "import pandas as pd\n",
        "import scipy.stats as stats\n",
        "import numpy as np\n",
        "import matplotlib.pyplot as plt\n",
        "import seaborn as sns\n",
        "from sklearn.preprocessing import StandardScaler\n",
        "import warnings\n",
        "warnings.filterwarnings('ignore')\n",
        "sns.set(style='darkgrid')\n",
        "remove_ids = [2, 5, 6, 8, 9, 10, 13, 21, 24, 26, 32, 37, 40, 43, 44, 46, 48]\n",
        "# [1, 4, 11, 12, 18, 39, 52, 25,26,34,40,42,46,50, 43, 44, 45, 47, 48, 49, 51, 52]\n",
        "\n",
        "pn = 53"
      ],
      "execution_count": 0,
      "outputs": []
    },
    {
      "cell_type": "code",
      "metadata": {
        "id": "Xlz_Io8xssmk",
        "colab_type": "code",
        "outputId": "56c0e851-1750-4cc8-9ebd-edbff7e1ca5a",
        "colab": {
          "base_uri": "https://localhost:8080/",
          "height": 51
        }
      },
      "source": [
        "less_cubes_participant = np.array([ 3.,  7., 15., 16., 17., 19., 20., 22., 23., 25., 27., 29., 30.,\n",
        "       31., 33., 34., 35., 36., 38., 41., 42., 45., 47., 50., 51., 52.]).astype(int)\n",
        "\n",
        "less_cubes_participant"
      ],
      "execution_count": 0,
      "outputs": [
        {
          "output_type": "execute_result",
          "data": {
            "text/plain": [
              "array([ 3,  7, 15, 16, 17, 19, 20, 22, 23, 25, 27, 29, 30, 31, 33, 34, 35,\n",
              "       36, 38, 41, 42, 45, 47, 50, 51, 52])"
            ]
          },
          "metadata": {
            "tags": []
          },
          "execution_count": 2
        }
      ]
    },
    {
      "cell_type": "code",
      "metadata": {
        "id": "ZAhkZR3k144r",
        "colab_type": "code",
        "outputId": "bf4f8bd6-e81b-4429-ef30-18980a40833b",
        "colab": {
          "base_uri": "https://localhost:8080/",
          "height": 122
        }
      },
      "source": [
        "from google.colab import drive\n",
        "drive.mount('/content/drive')"
      ],
      "execution_count": 0,
      "outputs": [
        {
          "output_type": "stream",
          "text": [
            "Go to this URL in a browser: https://accounts.google.com/o/oauth2/auth?client_id=947318989803-6bn6qk8qdgf4n4g3pfee6491hc0brc4i.apps.googleusercontent.com&redirect_uri=urn%3aietf%3awg%3aoauth%3a2.0%3aoob&response_type=code&scope=email%20https%3a%2f%2fwww.googleapis.com%2fauth%2fdocs.test%20https%3a%2f%2fwww.googleapis.com%2fauth%2fdrive%20https%3a%2f%2fwww.googleapis.com%2fauth%2fdrive.photos.readonly%20https%3a%2f%2fwww.googleapis.com%2fauth%2fpeopleapi.readonly\n",
            "\n",
            "Enter your authorization code:\n",
            "··········\n",
            "Mounted at /content/drive\n"
          ],
          "name": "stdout"
        }
      ]
    },
    {
      "cell_type": "code",
      "metadata": {
        "id": "-2kohAMEqBHn",
        "colab_type": "code",
        "colab": {}
      },
      "source": [
        "df =  pd.read_csv(\"/content/drive/My Drive/PHRIExpData/results-survey128918.csv\")\n",
        "pf = pd.DataFrame(columns=[\"s0a\",\"s0b\",\"s1a\",\"s1b\",\"s2a\",\"s2b\",\"s3a\",\"s3b\",\"s4a\",\"s4b\"])\n",
        "\n",
        "# Hook/link with participant number and cube counts from scene_2\n",
        "# \n",
        "\n",
        "# exp = pd.read_csv(\"/content/drive/My Drive/PHRIExpData/choices.csv\")[1:]"
      ],
      "execution_count": 0,
      "outputs": []
    },
    {
      "cell_type": "markdown",
      "metadata": {
        "id": "7ExN9sHxBOf9",
        "colab_type": "text"
      },
      "source": [
        "Dropping Biased participants from questionnaire data\n"
      ]
    },
    {
      "cell_type": "code",
      "metadata": {
        "id": "b8cbWZ0-BRHC",
        "colab_type": "code",
        "outputId": "4c6f812c-e38c-4250-ab47-4c652c9180b1",
        "colab": {
          "base_uri": "https://localhost:8080/",
          "height": 34
        }
      },
      "source": [
        "print(df.shape[0])\n",
        "for i in remove_ids:\n",
        "  df = df.drop(df[df[\"What is your participant number?\"] == i].index)\n",
        "df = df.reset_index()\n",
        "# participant 49 put a weird ID\n",
        "df[\"What is your participant number?\"][42] = 49"
      ],
      "execution_count": 0,
      "outputs": [
        {
          "output_type": "stream",
          "text": [
            "53\n"
          ],
          "name": "stdout"
        }
      ]
    },
    {
      "cell_type": "markdown",
      "metadata": {
        "id": "ly5guGt8tOoT",
        "colab_type": "text"
      },
      "source": [
        "Dropping irrelevant columns and dividing the rest into sections for pre-questionaire {bfis, risk_propensity, trust_propensity} and post-questionaire {godspeed, ownQ, openQ}."
      ]
    },
    {
      "cell_type": "code",
      "metadata": {
        "id": "tSDq-QECr7Nc",
        "colab_type": "code",
        "colab": {}
      },
      "source": [
        "df = df.drop(columns=['Response ID', 'Date submitted', 'Last page', 'Start language','Date last action'])\n",
        "bfis = df.loc[ : , [\n",
        "                      'Do you agree or disagree with the following statements? [Do you worry a lot?]',\n",
        "                      'Do you agree or disagree with the following statements? [Do you get nervous easily?]',\n",
        "                      'Do you agree or disagree with the following statements? [Do you remain calm in tense situations?]',\n",
        "                      'Do you agree or disagree with the following statements? [Are you talkative?]',\n",
        "                      'Do you agree or disagree with the following statements? [Are you outgoing, sociable?]',\n",
        "                      'Do you agree or disagree with the following statements? [Are you reserved?]',\n",
        "                      'Do you agree or disagree with the following statements? [Are you original? / Do you come up with new ideas?]',\n",
        "                      'Do you agree or disagree with the following statements? [Do you value artistic, aesthetic experiences?]',\n",
        "                      'Do you agree or disagree with the following statements? [Do you have an active imagination?]',\n",
        "                      'Do you agree or disagree with the following statements? [Are you sometimes rude to others?]',\n",
        "                      'Do you agree or disagree with the following statements? [Do you have a forgiving nature?]',\n",
        "                      'Do you agree or disagree with the following statements? [Are you considerate and kind to almost everyone?]',\n",
        "                      'Do you agree or disagree with the following statements? [Do you do a thorough job?]',\n",
        "                      'Do you agree or disagree with the following statements? [Do you tend to be lazy?]',\n",
        "                      'Do you agree or disagree with the following statements? [Do you do things efficiently?]',\n",
        "                      ]\n",
        "                ]\n",
        "risk_propensity = df.loc[ : , [\n",
        "                      'Do you agree or disagree with the following statements? [Safety first]', \n",
        "                      'Do you agree or disagree with the following statements? [I do not take risks with my health]',\n",
        "                      'Do you agree or disagree with the following statements? [I prefer to avoid risks]',\n",
        "                      'Do you agree or disagree with the following statements? [I take risks regularly]',\n",
        "                      'Do you agree or disagree with the following statements? [I really dislike not knowing what is going to happen]',\n",
        "                      ]\n",
        "                  ]\n",
        "trust_propensity = df.loc[ : , [\n",
        "                      'Do you agree or disagree with the following statements? [One should be very cautious with strangers.]',\n",
        "                      'Do you agree or disagree with the following statements? [Most experts tell the truth about the limits of their knowledge.]',\n",
        "                      'Do you agree or disagree with the following statements? [Most people can be counted on to do what they say they will do.]',\n",
        "                      'Do you agree or disagree with the following statements? [Most people answer public opinion polls honestly.]',\n",
        "                      'What is your participant number?'\n",
        "                      ]\n",
        "                  ]\n",
        "# post questionaire\n",
        "godspeed = df.iloc[:,36:76]\n",
        "godspeed[\"id\"] = df[\"What is your participant number?\"]\n",
        "ownQ = df.iloc[:,76:110]\n",
        "ownQ[\"id\"] = df[\"What is your participant number?\"]\n",
        "openQ = df.iloc[:,110:113]\n",
        "openQ[\"id\"] = df[\"What is your participant number?\"]\n"
      ],
      "execution_count": 0,
      "outputs": []
    },
    {
      "cell_type": "markdown",
      "metadata": {
        "id": "1l-nuhcsAfQd",
        "colab_type": "text"
      },
      "source": [
        "Dropping participants that were biased"
      ]
    },
    {
      "cell_type": "markdown",
      "metadata": {
        "id": "JXwQILO7tyV4",
        "colab_type": "text"
      },
      "source": [
        "Creating dataframe for participant's cube count data"
      ]
    },
    {
      "cell_type": "code",
      "metadata": {
        "id": "jFPg6uwWtwca",
        "colab_type": "code",
        "outputId": "7c5eda77-d96c-4eff-b0c6-79743fc3de4f",
        "colab": {
          "base_uri": "https://localhost:8080/",
          "height": 51
        }
      },
      "source": [
        "for i in range(1,pn+1):\n",
        "  f = pd.read_csv(\"/content/drive/My Drive/PHRIExpData/participant_\"+str(i)+\".csv\")\n",
        "  pf = pf.append({ \n",
        "      \"s0a\" : f[\"robot_a\"][0]\n",
        "      ,\"s0b\" : f[\"robot_b\"][0]\n",
        "      ,\"s1a\" : f[\"robot_a\"][1]\n",
        "      ,\"s1b\" : f[\"robot_b\"][1]\n",
        "      ,\"s2a\" : f[\"robot_a\"][2]\n",
        "      ,\"s2b\" : f[\"robot_b\"][2]\n",
        "      ,\"s3a\" : f[\"robot_a\"][3]\n",
        "      ,\"s3b\" : f[\"robot_b\"][3]\n",
        "      ,\"s4a\" : f[\"robot_a\"][4]\n",
        "      ,\"s4b\" : f[\"robot_b\"][4]\n",
        "      }, ignore_index=True)\n",
        "\n",
        "A = pf.loc[:, [\"s0a\",\"s1a\",\"s2a\",\"s3a\",\"s4a\"]]\n",
        "B = pf.loc[:, [\"s0b\",\"s1b\",\"s2b\",\"s3b\",\"s4b\"]]\n",
        "pf[\"A/B\"] = \"N\"\n",
        "pf[\"id\"] = 0\n",
        "for i in range(0,pf.shape[0]):\n",
        "  pf[\"id\"][i] = i+1\n",
        "  if ((i%2)==0):\n",
        "    pf[\"A/B\"][i] = \"B\" \n",
        "  else:\n",
        "    pf[\"A/B\"][i] = \"A\"\n",
        "    pass\n",
        "\n",
        "print(pf.shape[0])\n",
        "\n",
        "for i in remove_ids:\n",
        "  pf = pf.drop(pf[pf[\"id\"] == i].index)\n",
        "\n",
        "pf = pf.reset_index()\n"
      ],
      "execution_count": 0,
      "outputs": [
        {
          "output_type": "stream",
          "text": [
            "53\n",
            "36\n"
          ],
          "name": "stdout"
        }
      ]
    },
    {
      "cell_type": "markdown",
      "metadata": {
        "id": "L5xiNaOibJp-",
        "colab_type": "text"
      },
      "source": [
        "# Data Preprocessing"
      ]
    },
    {
      "cell_type": "markdown",
      "metadata": {
        "id": "94ERX88fIv_W",
        "colab_type": "text"
      },
      "source": [
        "## Risk Propensity"
      ]
    },
    {
      "cell_type": "markdown",
      "metadata": {
        "id": "qs-l-vLyuInD",
        "colab_type": "text"
      },
      "source": [
        "Data cleaning and inverting the response of the negative questions. and replacing keys. "
      ]
    },
    {
      "cell_type": "code",
      "metadata": {
        "id": "mcdqIcznbT91",
        "colab_type": "code",
        "outputId": "309a1cf8-39dd-49e8-f04d-37e742cacf20",
        "colab": {
          "base_uri": "https://localhost:8080/",
          "height": 187
        }
      },
      "source": [
        "# risk propensity\n",
        "# paper says 1-4 are inverted, but 1-3 and 5 makes more sense...\n",
        "inverted_keys = [\n",
        "                   \"Do you agree or disagree with the following statements? [Safety first]\",\n",
        "                   \"Do you agree or disagree with the following statements? [I do not take risks with my health]\",\n",
        "                   \"Do you agree or disagree with the following statements? [I prefer to avoid risks]\",\n",
        "                   \"Do you agree or disagree with the following statements? [I really dislike not knowing what is going to happen]\"\n",
        "]\n",
        "for key, values in risk_propensity.items():\n",
        "  print(key)\n",
        "  if key not in inverted_keys:\n",
        "    # normal scale\n",
        "    converted_values = [int(value[1:]) for value in values]\n",
        "  else:\n",
        "    # inverted scales\n",
        "    converted_values = [8-int(value[1:]) for value in values]\n",
        "  print(converted_values)\n",
        "  risk_propensity[key] = converted_values\n",
        "risk_propensity_scores = np.sum(risk_propensity.values, axis=1) / 5.0"
      ],
      "execution_count": 0,
      "outputs": [
        {
          "output_type": "stream",
          "text": [
            "Do you agree or disagree with the following statements? [Safety first]\n",
            "[3, 3, 1, 1, 3, 6, 3, 4, 2, 2, 2, 2, 4, 1, 4, 5, 5, 2, 1, 1, 6, 4, 2, 1, 2, 2, 3, 2, 4, 3, 2, 1, 3, 3, 2, 3]\n",
            "Do you agree or disagree with the following statements? [I do not take risks with my health]\n",
            "[5, 1, 1, 2, 3, 5, 2, 2, 3, 2, 4, 5, 1, 2, 5, 3, 5, 2, 3, 1, 6, 3, 1, 2, 3, 2, 4, 2, 6, 3, 3, 2, 3, 3, 3, 3]\n",
            "Do you agree or disagree with the following statements? [I prefer to avoid risks]\n",
            "[5, 2, 1, 4, 6, 4, 3, 6, 2, 5, 3, 4, 1, 2, 4, 3, 5, 4, 2, 1, 6, 2, 1, 3, 2, 2, 3, 2, 5, 7, 2, 4, 4, 4, 3, 3]\n",
            "Do you agree or disagree with the following statements? [I take risks regularly]\n",
            "[3, 3, 3, 4, 5, 2, 3, 4, 2, 5, 2, 4, 1, 2, 5, 3, 4, 5, 6, 1, 6, 2, 4, 2, 3, 1, 2, 2, 4, 5, 2, 2, 4, 3, 2, 3]\n",
            "Do you agree or disagree with the following statements? [I really dislike not knowing what is going to happen]\n",
            "[4, 4, 1, 4, 4, 1, 3, 3, 2, 3, 1, 6, 1, 3, 1, 2, 6, 4, 6, 3, 6, 3, 2, 3, 2, 2, 3, 5, 5, 7, 5, 4, 2, 5, 3, 4]\n"
          ],
          "name": "stdout"
        }
      ]
    },
    {
      "cell_type": "markdown",
      "metadata": {
        "id": "YiCQpHEBufm2",
        "colab_type": "text"
      },
      "source": [
        "Risk propensity mean and standard deviation calculations "
      ]
    },
    {
      "cell_type": "markdown",
      "metadata": {
        "id": "bKVugpd-ul2V",
        "colab_type": "text"
      },
      "source": [
        "Risk propensity mean for each individual participant was calculated and normalized (scale of 1-7)"
      ]
    },
    {
      "cell_type": "code",
      "metadata": {
        "id": "6RYOhR2NJWJX",
        "colab_type": "code",
        "colab": {}
      },
      "source": [
        "# graph mean and sd over all participants and then match that to the amount of cubes people have distributed.\n",
        "# wether or not their propensity to take risks is related to the amount of cubes they gave away\n",
        "risk_propensity['risk_mean'] = risk_propensity.mean(axis=1)\n",
        "risk_propensity['risk_mean'] = risk_propensity['risk_mean'] / 7.0"
      ],
      "execution_count": 0,
      "outputs": []
    },
    {
      "cell_type": "markdown",
      "metadata": {
        "id": "gu7zpvTNN2l2",
        "colab_type": "text"
      },
      "source": [
        "##Trsut Propensity"
      ]
    },
    {
      "cell_type": "markdown",
      "metadata": {
        "id": "zwmsTLVZvt82",
        "colab_type": "text"
      },
      "source": [
        "Trust propensity data (trust questions) keys are replaced. (A1 - A5) For negative questions the responses are inverted, and new column {trust_mean} was added and calculated as average and nomarlized value responses to the trust questions."
      ]
    },
    {
      "cell_type": "code",
      "metadata": {
        "id": "_WrTZIJkvQ-a",
        "colab_type": "code",
        "colab": {}
      },
      "source": [
        "trust_propensity.replace(to_replace=\"A1\", value=1, inplace=True)\n",
        "trust_propensity.replace(to_replace=\"A2\", value=2, inplace=True)\n",
        "trust_propensity.replace(to_replace=\"A3\", value=3, inplace=True)\n",
        "trust_propensity.replace(to_replace=\"A4\", value=4, inplace=True)\n",
        "trust_propensity.replace(to_replace=\"A5\", value=5, inplace=True)\n",
        "trust_propensity['Do you agree or disagree with the following statements? [One should be very cautious with strangers.]'] = abs(\n",
        "    6 - trust_propensity['Do you agree or disagree with the following statements? [One should be very cautious with strangers.]'])\n",
        "trust_propensity['trust_mean'] = trust_propensity.mean(axis=1)\n",
        "trust_propensity['trust_mean'] = trust_propensity['trust_mean'] / 7.0"
      ],
      "execution_count": 0,
      "outputs": []
    },
    {
      "cell_type": "code",
      "metadata": {
        "id": "daYGSGLh8JDC",
        "colab_type": "code",
        "outputId": "a8ca76f2-d661-4af8-ddbb-3f97b7dfef13",
        "colab": {
          "base_uri": "https://localhost:8080/",
          "height": 306
        }
      },
      "source": [
        "trust_propensity.rename(columns={\"What is your participant number?\": \"participant\"}, inplace=True)\n",
        "trust_propensity.head()"
      ],
      "execution_count": 0,
      "outputs": [
        {
          "output_type": "execute_result",
          "data": {
            "text/html": [
              "<div>\n",
              "<style scoped>\n",
              "    .dataframe tbody tr th:only-of-type {\n",
              "        vertical-align: middle;\n",
              "    }\n",
              "\n",
              "    .dataframe tbody tr th {\n",
              "        vertical-align: top;\n",
              "    }\n",
              "\n",
              "    .dataframe thead th {\n",
              "        text-align: right;\n",
              "    }\n",
              "</style>\n",
              "<table border=\"1\" class=\"dataframe\">\n",
              "  <thead>\n",
              "    <tr style=\"text-align: right;\">\n",
              "      <th></th>\n",
              "      <th>Do you agree or disagree with the following statements? [One should be very cautious with strangers.]</th>\n",
              "      <th>Do you agree or disagree with the following statements? [Most experts tell the truth about the limits of their knowledge.]</th>\n",
              "      <th>Do you agree or disagree with the following statements? [Most people can be counted on to do what they say they will do.]</th>\n",
              "      <th>Do you agree or disagree with the following statements? [Most people answer public opinion polls honestly.]</th>\n",
              "      <th>participant</th>\n",
              "      <th>trust_mean</th>\n",
              "    </tr>\n",
              "  </thead>\n",
              "  <tbody>\n",
              "    <tr>\n",
              "      <th>0</th>\n",
              "      <td>2</td>\n",
              "      <td>4</td>\n",
              "      <td>3</td>\n",
              "      <td>2</td>\n",
              "      <td>1</td>\n",
              "      <td>0.342857</td>\n",
              "    </tr>\n",
              "    <tr>\n",
              "      <th>1</th>\n",
              "      <td>4</td>\n",
              "      <td>4</td>\n",
              "      <td>4</td>\n",
              "      <td>2</td>\n",
              "      <td>3</td>\n",
              "      <td>0.485714</td>\n",
              "    </tr>\n",
              "    <tr>\n",
              "      <th>2</th>\n",
              "      <td>2</td>\n",
              "      <td>3</td>\n",
              "      <td>4</td>\n",
              "      <td>2</td>\n",
              "      <td>4</td>\n",
              "      <td>0.428571</td>\n",
              "    </tr>\n",
              "    <tr>\n",
              "      <th>3</th>\n",
              "      <td>4</td>\n",
              "      <td>2</td>\n",
              "      <td>3</td>\n",
              "      <td>3</td>\n",
              "      <td>7</td>\n",
              "      <td>0.542857</td>\n",
              "    </tr>\n",
              "    <tr>\n",
              "      <th>4</th>\n",
              "      <td>3</td>\n",
              "      <td>3</td>\n",
              "      <td>3</td>\n",
              "      <td>3</td>\n",
              "      <td>11</td>\n",
              "      <td>0.657143</td>\n",
              "    </tr>\n",
              "  </tbody>\n",
              "</table>\n",
              "</div>"
            ],
            "text/plain": [
              "   Do you agree or disagree with the following statements? [One should be very cautious with strangers.]  ...  trust_mean\n",
              "0                                                  2                                                      ...    0.342857\n",
              "1                                                  4                                                      ...    0.485714\n",
              "2                                                  2                                                      ...    0.428571\n",
              "3                                                  4                                                      ...    0.542857\n",
              "4                                                  3                                                      ...    0.657143\n",
              "\n",
              "[5 rows x 6 columns]"
            ]
          },
          "metadata": {
            "tags": []
          },
          "execution_count": 14
        }
      ]
    },
    {
      "cell_type": "markdown",
      "metadata": {
        "id": "auGq-QB8N5yP",
        "colab_type": "text"
      },
      "source": [
        "## BFIS"
      ]
    },
    {
      "cell_type": "markdown",
      "metadata": {
        "id": "c-mZWv9twnhy",
        "colab_type": "text"
      },
      "source": [
        "BFI-S personality questionare keys are replaced. (A1 - A7) For negative questions the responses are inverted. New columns were added and calculated as each category of the bfis questionaire. (averaged and nomalized)"
      ]
    },
    {
      "cell_type": "code",
      "metadata": {
        "id": "nJ6ySjRoBM1U",
        "colab_type": "code",
        "colab": {}
      },
      "source": [
        "bfis.replace(to_replace=\"A1\", value=1, inplace=True)\n",
        "bfis.replace(to_replace=\"A2\", value=2, inplace=True)\n",
        "bfis.replace(to_replace=\"A3\", value=3, inplace=True)\n",
        "bfis.replace(to_replace=\"A4\", value=4, inplace=True)\n",
        "bfis.replace(to_replace=\"A5\", value=5, inplace=True)\n",
        "bfis.replace(to_replace=\"A6\", value=6, inplace=True)\n",
        "bfis.replace(to_replace=\"A7\", value=7, inplace=True)\n",
        "\n",
        "bfis['Do you agree or disagree with the following statements? [Do you remain calm in tense situations?]'] = abs(\n",
        "    8 - bfis['Do you agree or disagree with the following statements? [Do you remain calm in tense situations?]'])\n",
        "\n",
        "bfis['neurot'] = (bfis['Do you agree or disagree with the following statements? [Do you worry a lot?]'] + \n",
        "                   bfis['Do you agree or disagree with the following statements? [Do you get nervous easily?]'] +\n",
        "                   bfis['Do you agree or disagree with the following statements? [Do you remain calm in tense situations?]'])/3\n",
        "bfis['neurot'] = bfis['neurot'] #/ 7.0\n",
        "\n",
        "bfis['Do you agree or disagree with the following statements? [Are you reserved?]'] = abs(\n",
        "    8 - bfis['Do you agree or disagree with the following statements? [Are you reserved?]'])\n",
        "\n",
        "bfis['extro'] = (bfis['Do you agree or disagree with the following statements? [Are you talkative?]'] + \n",
        "                   bfis['Do you agree or disagree with the following statements? [Are you outgoing, sociable?]'] +\n",
        "                   bfis['Do you agree or disagree with the following statements? [Are you reserved?]'])/3\n",
        "bfis['extro'] = bfis['extro'] #/ 7.0\n",
        "\n",
        "bfis['openn'] = (bfis['Do you agree or disagree with the following statements? [Are you original? / Do you come up with new ideas?]'] + \n",
        "                   bfis['Do you agree or disagree with the following statements? [Do you value artistic, aesthetic experiences?]'] +\n",
        "                   bfis['Do you agree or disagree with the following statements? [Do you have an active imagination?]'])/3\n",
        "bfis['openn'] = bfis['openn'] #/ 7.0\n",
        "\n",
        "bfis['Do you agree or disagree with the following statements? [Are you sometimes rude to others?]'] = abs(\n",
        "    8 - bfis['Do you agree or disagree with the following statements? [Are you sometimes rude to others?]'])\n",
        "\n",
        "bfis['agree'] = (bfis['Do you agree or disagree with the following statements? [Are you sometimes rude to others?]'] + \n",
        "                   bfis['Do you agree or disagree with the following statements? [Do you have a forgiving nature?]'] +\n",
        "                   bfis['Do you agree or disagree with the following statements? [Are you considerate and kind to almost everyone?]'])/3\n",
        "bfis['agree'] = bfis['agree'] #/ 7.0\n",
        "\n",
        "bfis['Do you agree or disagree with the following statements? [Do you tend to be lazy?]'] = abs(\n",
        "    8 - bfis['Do you agree or disagree with the following statements? [Do you tend to be lazy?]'])\n",
        "\n",
        "bfis['consc'] = (bfis['Do you agree or disagree with the following statements? [Do you do a thorough job?]'] + \n",
        "                   bfis['Do you agree or disagree with the following statements? [Do you tend to be lazy?]'] +\n",
        "                   bfis['Do you agree or disagree with the following statements? [Do you do things efficiently?]'])/3\n",
        "bfis['consc'] = bfis['consc'] #/ 7.0\n"
      ],
      "execution_count": 0,
      "outputs": []
    },
    {
      "cell_type": "markdown",
      "metadata": {
        "id": "ka6bY5QwOJ-J",
        "colab_type": "text"
      },
      "source": [
        "## Godspeed"
      ]
    },
    {
      "cell_type": "markdown",
      "metadata": {
        "id": "_Js79u2zw92e",
        "colab_type": "text"
      },
      "source": [
        "GODSPEED questionare keys are replaced. (A1 - A9) For negative questions the responses are inverted. New columns were added and calculated as each category of the GODSPEED questionaire for each robot. (averaged and normalized)"
      ]
    },
    {
      "cell_type": "code",
      "metadata": {
        "id": "kTcYkhHKEjL3",
        "colab_type": "code",
        "colab": {}
      },
      "source": [
        "godspeed.replace(to_replace=\"A1\", value=1, inplace=True)\n",
        "godspeed.replace(to_replace=\"A2\", value=2, inplace=True)\n",
        "godspeed.replace(to_replace=\"A3\", value=3, inplace=True)\n",
        "godspeed.replace(to_replace=\"A4\", value=4, inplace=True)\n",
        "godspeed.replace(to_replace=\"A5\", value=5, inplace=True)\n",
        "godspeed.replace(to_replace=\"A6\", value=6, inplace=True)\n",
        "godspeed.replace(to_replace=\"A7\", value=7, inplace=True)\n",
        "godspeed.replace(to_replace=\"A8\", value=8, inplace=True)\n",
        "godspeed.replace(to_replace=\"A9\", value=9, inplace=True)\n",
        "# A\n",
        "godspeed[\"A_antro\"] = (godspeed.iloc[:,0]\n",
        "                       + godspeed.iloc[:,1]\n",
        "                       + godspeed.iloc[:,2]\n",
        "                       + godspeed.iloc[:,3]\n",
        "                       + godspeed.iloc[:,4])/5\n",
        "godspeed[\"A_antro\"] = godspeed[\"A_antro\"] / 9\n",
        "\n",
        "godspeed[\"A_anima\"] = (godspeed.iloc[:,5]\n",
        "                       + godspeed.iloc[:,6]\n",
        "                       + godspeed.iloc[:,7]\n",
        "                       + godspeed.iloc[:,8]\n",
        "                       + godspeed.iloc[:,9])/5\n",
        "godspeed[\"A_anima\"] = godspeed[\"A_anima\"] / 9\n",
        "\n",
        "godspeed[\"A_likab\"] = (godspeed.iloc[:,10]\n",
        "                       + godspeed.iloc[:,11]\n",
        "                       + godspeed.iloc[:,12]\n",
        "                       + godspeed.iloc[:,13]\n",
        "                       + godspeed.iloc[:,14])/5\n",
        "godspeed[\"A_likab\"] = godspeed[\"A_likab\"] / 9\n",
        "\n",
        "godspeed[\"A_intel\"] = (godspeed.iloc[:,15]\n",
        "                       + godspeed.iloc[:,16]\n",
        "                       + godspeed.iloc[:,17]\n",
        "                       + godspeed.iloc[:,18]\n",
        "                       + godspeed.iloc[:,19])/5\n",
        "godspeed[\"A_intel\"] = godspeed[\"A_intel\"] / 9\n",
        "# B\n",
        "godspeed[\"B_antro\"] = (godspeed.iloc[:,20]\n",
        "                       + godspeed.iloc[:,21]\n",
        "                       + godspeed.iloc[:,22]\n",
        "                       + godspeed.iloc[:,23]\n",
        "                       + godspeed.iloc[:,24])/5\n",
        "godspeed[\"B_antro\"] = godspeed[\"B_antro\"] / 9\n",
        "\n",
        "godspeed[\"B_anima\"] = (godspeed.iloc[:,25]\n",
        "                       + godspeed.iloc[:,26]\n",
        "                       + godspeed.iloc[:,27]\n",
        "                       + godspeed.iloc[:,28]\n",
        "                       + godspeed.iloc[:,29])/5\n",
        "godspeed[\"B_anima\"] = godspeed[\"B_anima\"] / 9\n",
        "\n",
        "godspeed[\"B_likab\"] = (godspeed.iloc[:,30]\n",
        "                       + godspeed.iloc[:,31]\n",
        "                       + godspeed.iloc[:,32]\n",
        "                       + godspeed.iloc[:,33]\n",
        "                       + godspeed.iloc[:,34])/5\n",
        "godspeed[\"B_likab\"] = godspeed[\"B_likab\"] / 9\n",
        "\n",
        "godspeed[\"B_intel\"] = (godspeed.iloc[:,35]\n",
        "                       + godspeed.iloc[:,36]\n",
        "                       + godspeed.iloc[:,37]\n",
        "                       + godspeed.iloc[:,38]\n",
        "                       + godspeed.iloc[:,39])/5\n",
        "godspeed[\"B_intel\"] = godspeed[\"B_intel\"] / 9"
      ],
      "execution_count": 0,
      "outputs": []
    },
    {
      "cell_type": "markdown",
      "metadata": {
        "id": "MyWON4nKOQhv",
        "colab_type": "text"
      },
      "source": [
        "## Our own questionnaire"
      ]
    },
    {
      "cell_type": "markdown",
      "metadata": {
        "id": "n3jRs-bKyCQB",
        "colab_type": "text"
      },
      "source": [
        "Our own added questions, the keys were replaced. New columns are added for each robot to calculate for content, speech, cooperation and sociability of the robot. {A_conte, A_speec, A_coope ,A_socia and respectively for B} Another pair of columns relate to perceived trust for A and B for each participant. {A_trust, B_trust} the columns are all normalized."
      ]
    },
    {
      "cell_type": "code",
      "metadata": {
        "id": "S7qTwb_7HPAU",
        "colab_type": "code",
        "colab": {}
      },
      "source": [
        "ownQ.replace(to_replace=\"A1\", value=1, inplace=True)\n",
        "ownQ.replace(to_replace=\"A2\", value=2, inplace=True)\n",
        "ownQ.replace(to_replace=\"A3\", value=3, inplace=True)\n",
        "ownQ.replace(to_replace=\"A4\", value=4, inplace=True)\n",
        "ownQ.replace(to_replace=\"A5\", value=5, inplace=True)\n",
        "ownQ.replace(to_replace=\"A6\", value=6, inplace=True)\n",
        "ownQ.replace(to_replace=\"A7\", value=7, inplace=True)\n",
        "ownQ.replace(to_replace=\"A8\", value=8, inplace=True)\n",
        "ownQ.replace(to_replace=\"A9\", value=9, inplace=True)\n",
        "ownQ.replace(to_replace=\"A02\", value=1, inplace=True)\n",
        "ownQ.replace(to_replace=\"A03\", value=2, inplace=True)\n",
        "ownQ.replace(to_replace=\"A04\", value=3, inplace=True)\n",
        "ownQ.replace(to_replace=\"A05\", value=4, inplace=True)\n",
        "ownQ.replace(to_replace=\"A06\", value=5, inplace=True)\n",
        "ownQ.replace(to_replace=\"A07\", value=6, inplace=True)\n",
        "ownQ.replace(to_replace=\"A08\", value=7, inplace=True)\n",
        "ownQ.replace(to_replace=\"A09\", value=8, inplace=True)\n",
        "ownQ.replace(to_replace=\"A10\", value=9, inplace=True)\n",
        "\n",
        "ownQ[\"A_conte\"] = (ownQ.iloc[:,0] + ownQ.iloc[:,2] + ownQ.iloc[:,6] + ownQ.iloc[:,7]) / 4\n",
        "ownQ[\"A_speec\"] = (ownQ.iloc[:,3] + ownQ.iloc[:,9] + ownQ.iloc[:,10]) / 3\n",
        "ownQ[\"A_coope\"] = (ownQ.iloc[:,4] + ownQ.iloc[:,11] ) / 2\n",
        "ownQ[\"A_socia\"] = (ownQ.iloc[:,1] + ownQ.iloc[:,5] + ownQ.iloc[:,8] + ownQ.iloc[:,12]) / 4\n",
        "\n",
        "ownQ[\"A_conte\"] = ownQ[\"A_conte\"] / 9\n",
        "ownQ[\"A_speec\"] = ownQ[\"A_speec\"] / 9\n",
        "ownQ[\"A_coope\"] = ownQ[\"A_coope\"] / 9\n",
        "ownQ[\"A_socia\"] = ownQ[\"A_socia\"] / 9\n",
        "\n",
        "ownQ[\"B_conte\"] = (ownQ.iloc[:,13] + ownQ.iloc[:,15] + ownQ.iloc[:,19] + ownQ.iloc[:,20]) / 4\n",
        "ownQ[\"B_speec\"] = (ownQ.iloc[:,16] + ownQ.iloc[:,22] + ownQ.iloc[:,23]) / 3\n",
        "ownQ[\"B_coope\"] = (ownQ.iloc[:,17] + ownQ.iloc[:,24] ) / 2\n",
        "ownQ[\"B_socia\"] = (ownQ.iloc[:,14] + ownQ.iloc[:,18] + ownQ.iloc[:,21] + ownQ.iloc[:,25]) / 4\n",
        "\n",
        "ownQ[\"B_conte\"] = ownQ[\"B_conte\"] / 9\n",
        "ownQ[\"B_speec\"] = ownQ[\"B_speec\"] / 9\n",
        "ownQ[\"B_coope\"] = ownQ[\"B_coope\"] / 9\n",
        "ownQ[\"B_socia\"] = ownQ[\"B_socia\"] / 9\n"
      ],
      "execution_count": 0,
      "outputs": []
    },
    {
      "cell_type": "code",
      "metadata": {
        "id": "WGKYnVdFohyl",
        "colab_type": "code",
        "outputId": "7ce82c76-4495-4742-ffae-b644773b6a21",
        "colab": {
          "base_uri": "https://localhost:8080/",
          "height": 34
        }
      },
      "source": [
        "\n",
        "from sklearn.preprocessing import MinMaxScaler\n",
        "scaler = StandardScaler()\n",
        "all_trust_values = []\n",
        "\n",
        "for idx in range(26, 34):\n",
        "  all_trust_values.extend(ownQ.iloc[:,idx].values)\n",
        "\n",
        "\n",
        "all_trust_values = np.array(all_trust_values).reshape(len(all_trust_values), 1)\n",
        "scaler.fit(all_trust_values)\n",
        "print(scaler.mean_, scaler.var_)\n",
        "\n",
        "A_trust_raw_mean = (ownQ.iloc[:,26] + ownQ.iloc[:,27] + ownQ.iloc[:,28] + ownQ.iloc[:,29]) / 4\n",
        "B_trust_raw_mean = (ownQ.iloc[:,30] + ownQ.iloc[:,31] + ownQ.iloc[:,32] + ownQ.iloc[:,33]) / 4\n",
        "ownQ[\"A_trust\"] = scaler.transform([A_trust_raw_mean])[0]\n",
        "ownQ[\"B_trust\"] = scaler.transform([B_trust_raw_mean])[0]\n",
        "ownQ[\"rel_trust\"] = ownQ[\"B_trust\"] - ownQ[\"A_trust\"]"
      ],
      "execution_count": 0,
      "outputs": [
        {
          "output_type": "stream",
          "text": [
            "[6.06597222] [3.235231]\n"
          ],
          "name": "stdout"
        }
      ]
    },
    {
      "cell_type": "code",
      "metadata": {
        "id": "wq9YpVXkdpEK",
        "colab_type": "code",
        "outputId": "b573059d-a621-4d0d-acdf-cde014f0b666",
        "colab": {
          "base_uri": "https://localhost:8080/",
          "height": 235
        }
      },
      "source": [
        "!pip install --upgrade --quiet gspread\n",
        "from google.colab import auth\n",
        "from oauth2client.client import GoogleCredentials\n",
        "import gspread\n",
        "\n",
        "# Google Drive Authentication for access to shared GDrive Folder\n",
        "auth.authenticate_user()\n",
        "gc = gspread.authorize(GoogleCredentials.get_application_default())\n",
        "\n",
        "# Load the Data from the GDocs Spreadsheet\n",
        "choices_data = gc.open('choices').sheet1\n",
        "rows = choices_data.get_all_values()\n",
        "\n",
        "# Drop the incomplete entries\n",
        "incomplete = [\"0\", # Annika\n",
        "              \"1\", # did not understand the game mechanics\n",
        "              \"13\"]# recording started too late -> maybe can the fetched from logs\n",
        "\n",
        "# Convert the object into a Pandas dataframe\n",
        "choices = pd.DataFrame.from_records(rows[1:], columns=rows[0], \n",
        "                                    index=\"participant_id\").drop(incomplete)\n",
        "choices.head()"
      ],
      "execution_count": 0,
      "outputs": [
        {
          "output_type": "execute_result",
          "data": {
            "text/html": [
              "<div>\n",
              "<style scoped>\n",
              "    .dataframe tbody tr th:only-of-type {\n",
              "        vertical-align: middle;\n",
              "    }\n",
              "\n",
              "    .dataframe tbody tr th {\n",
              "        vertical-align: top;\n",
              "    }\n",
              "\n",
              "    .dataframe thead th {\n",
              "        text-align: right;\n",
              "    }\n",
              "</style>\n",
              "<table border=\"1\" class=\"dataframe\">\n",
              "  <thead>\n",
              "    <tr style=\"text-align: right;\">\n",
              "      <th></th>\n",
              "      <th>experimenter</th>\n",
              "      <th>nvc</th>\n",
              "      <th>red</th>\n",
              "      <th>s0</th>\n",
              "      <th>q0</th>\n",
              "      <th>a0</th>\n",
              "      <th>s1</th>\n",
              "      <th>q1</th>\n",
              "      <th>a1</th>\n",
              "      <th>s2</th>\n",
              "      <th>q2</th>\n",
              "      <th>a2</th>\n",
              "      <th>s3</th>\n",
              "      <th>q3</th>\n",
              "      <th>a3</th>\n",
              "      <th>s4</th>\n",
              "      <th>q4</th>\n",
              "      <th>a4</th>\n",
              "    </tr>\n",
              "    <tr>\n",
              "      <th>participant_id</th>\n",
              "      <th></th>\n",
              "      <th></th>\n",
              "      <th></th>\n",
              "      <th></th>\n",
              "      <th></th>\n",
              "      <th></th>\n",
              "      <th></th>\n",
              "      <th></th>\n",
              "      <th></th>\n",
              "      <th></th>\n",
              "      <th></th>\n",
              "      <th></th>\n",
              "      <th></th>\n",
              "      <th></th>\n",
              "      <th></th>\n",
              "      <th></th>\n",
              "      <th></th>\n",
              "      <th></th>\n",
              "    </tr>\n",
              "  </thead>\n",
              "  <tbody>\n",
              "    <tr>\n",
              "      <th>2</th>\n",
              "      <td>Matt</td>\n",
              "      <td>A</td>\n",
              "      <td>A</td>\n",
              "      <td>A</td>\n",
              "      <td>0</td>\n",
              "      <td>A</td>\n",
              "      <td>A</td>\n",
              "      <td>1</td>\n",
              "      <td>B</td>\n",
              "      <td>A</td>\n",
              "      <td>2</td>\n",
              "      <td>B</td>\n",
              "      <td>A</td>\n",
              "      <td>1</td>\n",
              "      <td>A</td>\n",
              "      <td>A</td>\n",
              "      <td>1</td>\n",
              "      <td>B</td>\n",
              "    </tr>\n",
              "    <tr>\n",
              "      <th>3</th>\n",
              "      <td>Matt</td>\n",
              "      <td>B</td>\n",
              "      <td>A</td>\n",
              "      <td>B</td>\n",
              "      <td>0</td>\n",
              "      <td>B</td>\n",
              "      <td>A</td>\n",
              "      <td>2</td>\n",
              "      <td>B</td>\n",
              "      <td>A</td>\n",
              "      <td>1</td>\n",
              "      <td>A</td>\n",
              "      <td>B</td>\n",
              "      <td>2</td>\n",
              "      <td>A</td>\n",
              "      <td>A</td>\n",
              "      <td>1</td>\n",
              "      <td>A</td>\n",
              "    </tr>\n",
              "    <tr>\n",
              "      <th>4</th>\n",
              "      <td>Shahd</td>\n",
              "      <td>A</td>\n",
              "      <td>A</td>\n",
              "      <td>A</td>\n",
              "      <td>2</td>\n",
              "      <td>B</td>\n",
              "      <td>A</td>\n",
              "      <td>0</td>\n",
              "      <td>B</td>\n",
              "      <td>A</td>\n",
              "      <td>2</td>\n",
              "      <td>A</td>\n",
              "      <td>A</td>\n",
              "      <td>1</td>\n",
              "      <td>A</td>\n",
              "      <td>A</td>\n",
              "      <td>0</td>\n",
              "      <td>B</td>\n",
              "    </tr>\n",
              "    <tr>\n",
              "      <th>5</th>\n",
              "      <td>Shahd</td>\n",
              "      <td>B</td>\n",
              "      <td>A</td>\n",
              "      <td>A</td>\n",
              "      <td>0</td>\n",
              "      <td>B</td>\n",
              "      <td>A</td>\n",
              "      <td>1</td>\n",
              "      <td>A</td>\n",
              "      <td>A</td>\n",
              "      <td>2</td>\n",
              "      <td>A</td>\n",
              "      <td>B</td>\n",
              "      <td>0</td>\n",
              "      <td>B</td>\n",
              "      <td>A</td>\n",
              "      <td>1</td>\n",
              "      <td>B</td>\n",
              "    </tr>\n",
              "    <tr>\n",
              "      <th>6</th>\n",
              "      <td>Shahd</td>\n",
              "      <td>A</td>\n",
              "      <td>A</td>\n",
              "      <td>B</td>\n",
              "      <td>1</td>\n",
              "      <td>A</td>\n",
              "      <td>B</td>\n",
              "      <td>0</td>\n",
              "      <td>A</td>\n",
              "      <td>B</td>\n",
              "      <td>2</td>\n",
              "      <td>A</td>\n",
              "      <td>A</td>\n",
              "      <td>1</td>\n",
              "      <td>B</td>\n",
              "      <td>B</td>\n",
              "      <td>2</td>\n",
              "      <td>A</td>\n",
              "    </tr>\n",
              "  </tbody>\n",
              "</table>\n",
              "</div>"
            ],
            "text/plain": [
              "               experimenter nvc red s0 q0 a0 s1 q1  ... q2 a2 s3 q3 a3 s4 q4 a4\n",
              "participant_id                                      ...                        \n",
              "2                      Matt   A   A  A  0  A  A  1  ...  2  B  A  1  A  A  1  B\n",
              "3                      Matt   B   A  B  0  B  A  2  ...  1  A  B  2  A  A  1  A\n",
              "4                     Shahd   A   A  A  2  B  A  0  ...  2  A  A  1  A  A  0  B\n",
              "5                     Shahd   B   A  A  0  B  A  1  ...  2  A  B  0  B  A  1  B\n",
              "6                     Shahd   A   A  B  1  A  B  0  ...  2  A  A  1  B  B  2  A\n",
              "\n",
              "[5 rows x 18 columns]"
            ]
          },
          "metadata": {
            "tags": []
          },
          "execution_count": 22
        }
      ]
    },
    {
      "cell_type": "code",
      "metadata": {
        "id": "ZTX2G3e1lADE",
        "colab_type": "code",
        "outputId": "284c39e4-98c6-482a-b79a-db99aed9bd89",
        "colab": {
          "base_uri": "https://localhost:8080/",
          "height": 204
        }
      },
      "source": [
        "# Iterate over files and find csv files that have allocation of cubes for each participant\n",
        "dfs = []\n",
        "from pathlib import Path\n",
        "import re\n",
        "head_switch_participant = 27\n",
        "\n",
        "for path in Path(\"/content/drive/My Drive/PHRIExpData/\").rglob('participant_*.csv'): \n",
        "      participant_id = int(re.search(r'\\d+', path.name).group())\n",
        "      if participant_id in remove_ids:\n",
        "          continue\n",
        "      temp = pd.read_csv(path)\n",
        "      temp[\"scene\"] = temp[\"scene\"].str[-1:]\n",
        "      temp[\"scene\"] = temp[\"scene\"].astype('int')\n",
        "      temp[\"participant\"] = participant_id\n",
        "      temp[\"NVC_A\"] = False\n",
        "      temp[\"NVC_B\"] = False\n",
        "      \n",
        "      if int(participant_id) % 2 == 0:\n",
        "          nvc = \"A\"\n",
        "          temp[\"NVC_A\"] = True\n",
        "      else:\n",
        "          nvc = \"B\"\n",
        "          temp[\"NVC_B\"] = True\n",
        "\n",
        "      temp[\"NVC\"] = nvc\n",
        "      temp[\"allocation_metric\"] = (temp[\"robot_b\"] - temp[\"robot_a\"]) / (temp[\"robot_a\"] + temp[\"robot_b\"])\n",
        "      temp[\"allocation_A\"] = temp[\"robot_a\"] / (temp[\"robot_a\"] + temp[\"robot_b\"])\n",
        "      temp[\"allocation_B\"] = temp[\"robot_b\"] / (temp[\"robot_a\"] + temp[\"robot_b\"])\n",
        "\n",
        "      \n",
        "      if participant_id < head_switch_participant: \n",
        "        temp[\"head_group\"] = 0 \n",
        "      else:\n",
        "        temp[\"head_group\"] = 1\n",
        "        \n",
        "      dfs.append(temp)\n",
        "\n",
        "\n",
        "raw_data = pd.concat(dfs, axis=0, ignore_index=True)\n",
        "raw_data[\"allocation_metric\"].fillna(0.0, inplace=True) # handle 0/0\n",
        "raw_data[\"allocation_A\"].fillna(0.0, inplace=True) # handle 0/0\n",
        "raw_data[\"allocation_B\"].fillna(0.0, inplace=True) # handle 0/0\n",
        "\n",
        "raw_data.head()\n"
      ],
      "execution_count": 0,
      "outputs": [
        {
          "output_type": "execute_result",
          "data": {
            "text/html": [
              "<div>\n",
              "<style scoped>\n",
              "    .dataframe tbody tr th:only-of-type {\n",
              "        vertical-align: middle;\n",
              "    }\n",
              "\n",
              "    .dataframe tbody tr th {\n",
              "        vertical-align: top;\n",
              "    }\n",
              "\n",
              "    .dataframe thead th {\n",
              "        text-align: right;\n",
              "    }\n",
              "</style>\n",
              "<table border=\"1\" class=\"dataframe\">\n",
              "  <thead>\n",
              "    <tr style=\"text-align: right;\">\n",
              "      <th></th>\n",
              "      <th>scene</th>\n",
              "      <th>robot_a</th>\n",
              "      <th>robot_b</th>\n",
              "      <th>participant</th>\n",
              "      <th>NVC_A</th>\n",
              "      <th>NVC_B</th>\n",
              "      <th>NVC</th>\n",
              "      <th>allocation_metric</th>\n",
              "      <th>allocation_A</th>\n",
              "      <th>allocation_B</th>\n",
              "      <th>head_group</th>\n",
              "    </tr>\n",
              "  </thead>\n",
              "  <tbody>\n",
              "    <tr>\n",
              "      <th>0</th>\n",
              "      <td>0</td>\n",
              "      <td>0</td>\n",
              "      <td>0</td>\n",
              "      <td>18</td>\n",
              "      <td>True</td>\n",
              "      <td>False</td>\n",
              "      <td>A</td>\n",
              "      <td>0.0</td>\n",
              "      <td>0.0</td>\n",
              "      <td>0.0</td>\n",
              "      <td>0</td>\n",
              "    </tr>\n",
              "    <tr>\n",
              "      <th>1</th>\n",
              "      <td>1</td>\n",
              "      <td>2</td>\n",
              "      <td>0</td>\n",
              "      <td>18</td>\n",
              "      <td>True</td>\n",
              "      <td>False</td>\n",
              "      <td>A</td>\n",
              "      <td>-1.0</td>\n",
              "      <td>1.0</td>\n",
              "      <td>0.0</td>\n",
              "      <td>0</td>\n",
              "    </tr>\n",
              "    <tr>\n",
              "      <th>2</th>\n",
              "      <td>2</td>\n",
              "      <td>0</td>\n",
              "      <td>2</td>\n",
              "      <td>18</td>\n",
              "      <td>True</td>\n",
              "      <td>False</td>\n",
              "      <td>A</td>\n",
              "      <td>1.0</td>\n",
              "      <td>0.0</td>\n",
              "      <td>1.0</td>\n",
              "      <td>0</td>\n",
              "    </tr>\n",
              "    <tr>\n",
              "      <th>3</th>\n",
              "      <td>3</td>\n",
              "      <td>2</td>\n",
              "      <td>0</td>\n",
              "      <td>18</td>\n",
              "      <td>True</td>\n",
              "      <td>False</td>\n",
              "      <td>A</td>\n",
              "      <td>-1.0</td>\n",
              "      <td>1.0</td>\n",
              "      <td>0.0</td>\n",
              "      <td>0</td>\n",
              "    </tr>\n",
              "    <tr>\n",
              "      <th>4</th>\n",
              "      <td>4</td>\n",
              "      <td>4</td>\n",
              "      <td>0</td>\n",
              "      <td>18</td>\n",
              "      <td>True</td>\n",
              "      <td>False</td>\n",
              "      <td>A</td>\n",
              "      <td>-1.0</td>\n",
              "      <td>1.0</td>\n",
              "      <td>0.0</td>\n",
              "      <td>0</td>\n",
              "    </tr>\n",
              "  </tbody>\n",
              "</table>\n",
              "</div>"
            ],
            "text/plain": [
              "   scene  robot_a  robot_b  ...  allocation_A  allocation_B  head_group\n",
              "0      0        0        0  ...           0.0           0.0           0\n",
              "1      1        2        0  ...           1.0           0.0           0\n",
              "2      2        0        2  ...           0.0           1.0           0\n",
              "3      3        2        0  ...           1.0           0.0           0\n",
              "4      4        4        0  ...           1.0           0.0           0\n",
              "\n",
              "[5 rows x 11 columns]"
            ]
          },
          "metadata": {
            "tags": []
          },
          "execution_count": 23
        }
      ]
    },
    {
      "cell_type": "code",
      "metadata": {
        "id": "aR8K3REfeZBJ",
        "colab_type": "code",
        "colab": {}
      },
      "source": [
        "group_0 = choices.groupby('q1').get_group('0').index.values\n",
        "group_1 = choices.groupby('q1').get_group('1').index.values\n",
        "group_2 = choices.groupby('q1').get_group('2').index.values\n",
        "\n",
        "ownQ.rename(columns={\"id\": \"participant\"}, inplace=True)\n",
        "df_allocation_trust = raw_data.merge(ownQ[[\"participant\", \"A_trust\", \"B_trust\", \"rel_trust\"]], on='participant', how='outer')\n",
        "df_allocation_trust.dropna(inplace=True)\n",
        "df_allocation_trust = df_allocation_trust[df_allocation_trust[\"participant\"].isin(less_cubes_participant)]\n"
      ],
      "execution_count": 0,
      "outputs": []
    },
    {
      "cell_type": "code",
      "metadata": {
        "id": "cikr55vmXtUU",
        "colab_type": "code",
        "outputId": "d80c12c9-fe25-43a5-e8e7-315dd514af22",
        "colab": {
          "base_uri": "https://localhost:8080/",
          "height": 224
        }
      },
      "source": [
        "df_allocation_trust.head()"
      ],
      "execution_count": 0,
      "outputs": [
        {
          "output_type": "execute_result",
          "data": {
            "text/html": [
              "<div>\n",
              "<style scoped>\n",
              "    .dataframe tbody tr th:only-of-type {\n",
              "        vertical-align: middle;\n",
              "    }\n",
              "\n",
              "    .dataframe tbody tr th {\n",
              "        vertical-align: top;\n",
              "    }\n",
              "\n",
              "    .dataframe thead th {\n",
              "        text-align: right;\n",
              "    }\n",
              "</style>\n",
              "<table border=\"1\" class=\"dataframe\">\n",
              "  <thead>\n",
              "    <tr style=\"text-align: right;\">\n",
              "      <th></th>\n",
              "      <th>scene</th>\n",
              "      <th>robot_a</th>\n",
              "      <th>robot_b</th>\n",
              "      <th>participant</th>\n",
              "      <th>NVC_A</th>\n",
              "      <th>NVC_B</th>\n",
              "      <th>NVC</th>\n",
              "      <th>allocation_metric</th>\n",
              "      <th>allocation_A</th>\n",
              "      <th>allocation_B</th>\n",
              "      <th>head_group</th>\n",
              "      <th>A_trust</th>\n",
              "      <th>B_trust</th>\n",
              "      <th>rel_trust</th>\n",
              "    </tr>\n",
              "  </thead>\n",
              "  <tbody>\n",
              "    <tr>\n",
              "      <th>20</th>\n",
              "      <td>0</td>\n",
              "      <td>2</td>\n",
              "      <td>2</td>\n",
              "      <td>35</td>\n",
              "      <td>False</td>\n",
              "      <td>True</td>\n",
              "      <td>B</td>\n",
              "      <td>0.000000</td>\n",
              "      <td>0.500000</td>\n",
              "      <td>0.500000</td>\n",
              "      <td>1</td>\n",
              "      <td>1.214243</td>\n",
              "      <td>1.214243</td>\n",
              "      <td>0.0</td>\n",
              "    </tr>\n",
              "    <tr>\n",
              "      <th>21</th>\n",
              "      <td>1</td>\n",
              "      <td>3</td>\n",
              "      <td>1</td>\n",
              "      <td>35</td>\n",
              "      <td>False</td>\n",
              "      <td>True</td>\n",
              "      <td>B</td>\n",
              "      <td>-0.500000</td>\n",
              "      <td>0.750000</td>\n",
              "      <td>0.250000</td>\n",
              "      <td>1</td>\n",
              "      <td>1.214243</td>\n",
              "      <td>1.214243</td>\n",
              "      <td>0.0</td>\n",
              "    </tr>\n",
              "    <tr>\n",
              "      <th>22</th>\n",
              "      <td>2</td>\n",
              "      <td>2</td>\n",
              "      <td>3</td>\n",
              "      <td>35</td>\n",
              "      <td>False</td>\n",
              "      <td>True</td>\n",
              "      <td>B</td>\n",
              "      <td>0.200000</td>\n",
              "      <td>0.400000</td>\n",
              "      <td>0.600000</td>\n",
              "      <td>1</td>\n",
              "      <td>1.214243</td>\n",
              "      <td>1.214243</td>\n",
              "      <td>0.0</td>\n",
              "    </tr>\n",
              "    <tr>\n",
              "      <th>23</th>\n",
              "      <td>3</td>\n",
              "      <td>2</td>\n",
              "      <td>4</td>\n",
              "      <td>35</td>\n",
              "      <td>False</td>\n",
              "      <td>True</td>\n",
              "      <td>B</td>\n",
              "      <td>0.333333</td>\n",
              "      <td>0.333333</td>\n",
              "      <td>0.666667</td>\n",
              "      <td>1</td>\n",
              "      <td>1.214243</td>\n",
              "      <td>1.214243</td>\n",
              "      <td>0.0</td>\n",
              "    </tr>\n",
              "    <tr>\n",
              "      <th>24</th>\n",
              "      <td>4</td>\n",
              "      <td>0</td>\n",
              "      <td>6</td>\n",
              "      <td>35</td>\n",
              "      <td>False</td>\n",
              "      <td>True</td>\n",
              "      <td>B</td>\n",
              "      <td>1.000000</td>\n",
              "      <td>0.000000</td>\n",
              "      <td>1.000000</td>\n",
              "      <td>1</td>\n",
              "      <td>1.214243</td>\n",
              "      <td>1.214243</td>\n",
              "      <td>0.0</td>\n",
              "    </tr>\n",
              "  </tbody>\n",
              "</table>\n",
              "</div>"
            ],
            "text/plain": [
              "    scene  robot_a  robot_b  ...   A_trust   B_trust  rel_trust\n",
              "20      0        2        2  ...  1.214243  1.214243        0.0\n",
              "21      1        3        1  ...  1.214243  1.214243        0.0\n",
              "22      2        2        3  ...  1.214243  1.214243        0.0\n",
              "23      3        2        4  ...  1.214243  1.214243        0.0\n",
              "24      4        0        6  ...  1.214243  1.214243        0.0\n",
              "\n",
              "[5 rows x 14 columns]"
            ]
          },
          "metadata": {
            "tags": []
          },
          "execution_count": 25
        }
      ]
    },
    {
      "cell_type": "markdown",
      "metadata": {
        "id": "zYPZyPh4lR3r",
        "colab_type": "text"
      },
      "source": [
        "# Confound Variable: Does face color affect cubes allocation?"
      ]
    },
    {
      "cell_type": "code",
      "metadata": {
        "id": "aB5KeKjOoOd-",
        "colab_type": "code",
        "outputId": "2b816153-78e0-4f62-fd63-9be1b24858b7",
        "colab": {
          "base_uri": "https://localhost:8080/",
          "height": 187
        }
      },
      "source": [
        "\n",
        "swap_heads_id = 26\n",
        "\n",
        "def separate_red_yellow_eyes_data(data):\n",
        "    red_eye_on_A = data[data['participant'] <= swap_heads_id]\n",
        "    yellow_eye_on_A = data[data['participant'] > swap_heads_id]\n",
        "    \n",
        "    return red_eye_on_A, yellow_eye_on_A\n",
        "\n",
        "def separate_data_scene_wise(data):\n",
        "    data_1 = data[(data[\"scene\"] == 1)]\n",
        "    data_2 = data[(data[\"scene\"] == 2)]\n",
        "    data_3 = data[(data[\"scene\"] == 3)]\n",
        "    data_4 = data[(data[\"scene\"] == 4)]\n",
        "    \n",
        "    return data_1, data_2, data_3, data_4\n",
        "\n",
        "df_nvc_a = df_allocation_trust[df_allocation_trust[\"NVC\"] == 'A']\n",
        "df_nvc_b = df_allocation_trust[df_allocation_trust[\"NVC\"] == 'B']\n",
        "\n",
        "df_nvc_a_rr, df_nvc_a_rl = separate_red_yellow_eyes_data(df_nvc_a)\n",
        "df_nvc_b_rr, df_nvc_b_rl = separate_red_yellow_eyes_data(df_nvc_b) \n",
        "\n",
        "df_nvc_a_rr_scene_1, df_nvc_a_rr_scene_2, df_nvc_a_rr_scene_3, df_nvc_a_rr_scene_4 = separate_data_scene_wise(df_nvc_a_rr)\n",
        "df_nvc_a_rl_scene_1, df_nvc_a_rl_scene_2, df_nvc_a_rl_scene_3, df_nvc_a_rl_scene_4 = separate_data_scene_wise(df_nvc_a_rl)\n",
        "df_nvc_b_rr_scene_1, df_nvc_b_rr_scene_2, df_nvc_b_rr_scene_3, df_nvc_b_rr_scene_4 = separate_data_scene_wise(df_nvc_b_rr)\n",
        "df_nvc_b_rl_scene_1, df_nvc_b_rl_scene_2, df_nvc_b_rl_scene_3, df_nvc_b_rl_scene_4 = separate_data_scene_wise(df_nvc_b_rl)\n",
        "\n",
        "print(\"WHEN A IS NVC, RR vs RL\")\n",
        "print(f'Scene 1: {stats.ranksums(df_nvc_a_rr_scene_1[\"allocation_metric\"], df_nvc_a_rl_scene_1[\"allocation_metric\"])}')\n",
        "print(f'Scene 2: {stats.ranksums(df_nvc_a_rr_scene_1[\"allocation_metric\"], df_nvc_a_rl_scene_2[\"allocation_metric\"])}')\n",
        "print(f'Scene 3: {stats.ranksums(df_nvc_a_rr_scene_1[\"allocation_metric\"], df_nvc_a_rl_scene_3[\"allocation_metric\"])}')\n",
        "print(f'Scene 4: {stats.ranksums(df_nvc_a_rr_scene_1[\"allocation_metric\"], df_nvc_a_rl_scene_4[\"allocation_metric\"])}')\n",
        "\n",
        "print(\"WHEN B IS NVC, RR vs RL\")\n",
        "print(f'Scene 1: {stats.ranksums(df_nvc_b_rr_scene_1[\"allocation_metric\"], df_nvc_b_rl_scene_1[\"allocation_metric\"])}')\n",
        "print(f'Scene 2: {stats.ranksums(df_nvc_b_rr_scene_1[\"allocation_metric\"], df_nvc_b_rl_scene_2[\"allocation_metric\"])}')\n",
        "print(f'Scene 3: {stats.ranksums(df_nvc_b_rr_scene_1[\"allocation_metric\"], df_nvc_b_rl_scene_3[\"allocation_metric\"])}')\n",
        "print(f'Scene 4: {stats.ranksums(df_nvc_b_rr_scene_1[\"allocation_metric\"], df_nvc_b_rl_scene_4[\"allocation_metric\"])}')"
      ],
      "execution_count": 0,
      "outputs": [
        {
          "output_type": "stream",
          "text": [
            "WHEN A IS NVC, RR vs RL\n",
            "Scene 1: RanksumsResult(statistic=1.1396057645963795, pvalue=0.2544505826463366)\n",
            "Scene 2: RanksumsResult(statistic=-0.11396057645963795, pvalue=0.9092690452142217)\n",
            "Scene 3: RanksumsResult(statistic=-1.0256451881367414, pvalue=0.3050588592616783)\n",
            "Scene 4: RanksumsResult(statistic=-0.3418817293789138, pvalue=0.7324398999038725)\n",
            "WHEN B IS NVC, RR vs RL\n",
            "Scene 1: RanksumsResult(statistic=0.6880329612324521, pvalue=0.49143202491054605)\n",
            "Scene 2: RanksumsResult(statistic=1.3231403100624077, pvalue=0.18578872162135962)\n",
            "Scene 3: RanksumsResult(statistic=1.2172890852574152, pvalue=0.2234942456079536)\n",
            "Scene 4: RanksumsResult(statistic=-0.4234048992199705, pvalue=0.67199987100962)\n"
          ],
          "name": "stdout"
        }
      ]
    },
    {
      "cell_type": "markdown",
      "metadata": {
        "id": "LD6D8fWzlcxn",
        "colab_type": "text"
      },
      "source": [
        "# Mean allocation metric per scenes"
      ]
    },
    {
      "cell_type": "code",
      "metadata": {
        "id": "mLIv2AqPZ1lE",
        "colab_type": "code",
        "colab": {}
      },
      "source": [
        "from scipy.stats import pearsonr, spearmanr\n",
        "import random"
      ],
      "execution_count": 0,
      "outputs": []
    },
    {
      "cell_type": "code",
      "metadata": {
        "id": "Okq4wgxQAYGo",
        "colab_type": "code",
        "outputId": "1db0b49f-2760-46cf-e4a8-31170b5475da",
        "colab": {
          "base_uri": "https://localhost:8080/",
          "height": 302
        }
      },
      "source": [
        "scenes = range(1,5)\n",
        "mean_scene_a_nvc = df_allocation_trust[df_allocation_trust[\"NVC_A\"]].groupby(\"scene\").mean()[\"allocation_metric\"]\n",
        "mean_scene_b_nvc = df_allocation_trust[df_allocation_trust[\"NVC_B\"]].groupby(\"scene\").mean()[\"allocation_metric\"]\n",
        "mean_all = df_allocation_trust.groupby(\"scene\").mean()[\"allocation_metric\"]\n",
        "diff_a = mean_scene_a_nvc.diff()\n",
        "diff_b = mean_scene_b_nvc.diff()\n",
        "diff_all = mean_all.diff()\n",
        "\n",
        "# plt.plot([1,2,3,4], diff_a[1:], label=\"A-NVC\")\n",
        "# plt.plot([1,2,3,4], diff_b[1:], label=\"B-NVC\")\n",
        "plt.plot([0,1,2,3,4], mean_scene_a_nvc, label=\"A-NVC\")\n",
        "plt.plot([0,1,2,3,4], mean_scene_b_nvc, label=\"B-NVC\")\n",
        "plt.ylabel(\"allocation metric\")\n",
        "plt.xlabel(\"scenes\")\n",
        "plt.xticks([0, 1,2,3,4])\n",
        "plt.legend()"
      ],
      "execution_count": 0,
      "outputs": [
        {
          "output_type": "execute_result",
          "data": {
            "text/plain": [
              "<matplotlib.legend.Legend at 0x7fc3e7638fd0>"
            ]
          },
          "metadata": {
            "tags": []
          },
          "execution_count": 75
        },
        {
          "output_type": "display_data",
          "data": {
            "image/png": "[encoded data removed]",
            "text/plain": [
              "<Figure size 432x288 with 1 Axes>"
            ]
          },
          "metadata": {
            "tags": []
          }
        }
      ]
    },
    {
      "cell_type": "markdown",
      "metadata": {
        "id": "wVdcETgOvMga",
        "colab_type": "text"
      },
      "source": [
        "# Testing hypothesis H1: Does NVC have impact on cubes allocation"
      ]
    },
    {
      "cell_type": "code",
      "metadata": {
        "id": "ewefb-ThuXj0",
        "colab_type": "code",
        "outputId": "f6a1321b-01a3-4d77-ae3c-3064eeb49a7d",
        "colab": {
          "base_uri": "https://localhost:8080/",
          "height": 34
        }
      },
      "source": [
        "df\n",
        "t = stats.ranksums(df_nvc_a[\"allocation_metric\"], df_nvc_b[\"allocation_metric\"])\n",
        "print(f'pval: {t.pvalue /2.0}, t-stats: {t.statistic}')"
      ],
      "execution_count": 0,
      "outputs": [
        {
          "output_type": "stream",
          "text": [
            "pval: 0.014362429397227532, t-stats: -2.187242048283129\n"
          ],
          "name": "stdout"
        }
      ]
    }
  ]
}